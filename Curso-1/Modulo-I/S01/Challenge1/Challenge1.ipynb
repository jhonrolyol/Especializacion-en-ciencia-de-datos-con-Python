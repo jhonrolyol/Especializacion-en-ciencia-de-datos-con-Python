{
 "cells": [
  {
   "cell_type": "markdown",
   "id": "f600122a-b0ee-481f-a1aa-226d316042eb",
   "metadata": {},
   "source": [
    "# <font color = cyan> Challenge 1"
   ]
  },
  {
   "cell_type": "markdown",
   "id": "2485e432-6c85-450a-84f7-df8ee6dbfb0b",
   "metadata": {},
   "source": [
    "## <font color = cyan> Ejercicio 1\n",
    "En este primer ejercicio voy replicar lo siguiente: instalar, importar y usar \n",
    "la libreria pandas."
   ]
  },
  {
   "cell_type": "code",
   "execution_count": 10,
   "id": "af258574-f293-4975-bd49-ffaaf2b9a982",
   "metadata": {},
   "outputs": [
    {
     "name": "stdout",
     "output_type": "stream",
     "text": [
      "Collecting pandas\n",
      "  Downloading pandas-1.5.3-cp39-cp39-win_amd64.whl (10.9 MB)\n",
      "     ---------------------------------------- 10.9/10.9 MB 1.7 MB/s eta 0:00:00\n",
      "Collecting numpy>=1.20.3\n",
      "  Downloading numpy-1.24.1-cp39-cp39-win_amd64.whl (14.9 MB)\n",
      "     ---------------------------------------- 14.9/14.9 MB 1.7 MB/s eta 0:00:00\n",
      "Requirement already satisfied: pytz>=2020.1 in c:\\users\\pc\\.conda\\envs\\especializationdatasciencepytho\\lib\\site-packages (from pandas) (2022.7)\n",
      "Requirement already satisfied: python-dateutil>=2.8.1 in c:\\users\\pc\\.conda\\envs\\especializationdatasciencepytho\\lib\\site-packages (from pandas) (2.8.2)\n",
      "Requirement already satisfied: six>=1.5 in c:\\users\\pc\\.conda\\envs\\especializationdatasciencepytho\\lib\\site-packages (from python-dateutil>=2.8.1->pandas) (1.16.0)\n",
      "Installing collected packages: numpy, pandas\n",
      "Successfully installed numpy-1.24.1 pandas-1.5.3\n"
     ]
    }
   ],
   "source": [
    "# Instalamos la libreria pandas\n",
    "!pip install pandas"
   ]
  },
  {
   "cell_type": "code",
   "execution_count": 11,
   "id": "7b2cbff4-4fa2-4b14-bb01-47b9b4b2288e",
   "metadata": {},
   "outputs": [],
   "source": [
    "# Una vez instalado la libreria lo importamos\n",
    "import pandas as pd"
   ]
  },
  {
   "cell_type": "code",
   "execution_count": 12,
   "id": "61ab2be8-8b3c-4f7f-bd96-04a95c238b96",
   "metadata": {},
   "outputs": [
    {
     "data": {
      "text/html": [
       "<div>\n",
       "<style scoped>\n",
       "    .dataframe tbody tr th:only-of-type {\n",
       "        vertical-align: middle;\n",
       "    }\n",
       "\n",
       "    .dataframe tbody tr th {\n",
       "        vertical-align: top;\n",
       "    }\n",
       "\n",
       "    .dataframe thead th {\n",
       "        text-align: right;\n",
       "    }\n",
       "</style>\n",
       "<table border=\"1\" class=\"dataframe\">\n",
       "  <thead>\n",
       "    <tr style=\"text-align: right;\">\n",
       "      <th></th>\n",
       "      <th>Nombre</th>\n",
       "      <th>Edad</th>\n",
       "      <th>Sexo</th>\n",
       "      <th>Talla</th>\n",
       "      <th>Nacionalidad</th>\n",
       "    </tr>\n",
       "  </thead>\n",
       "  <tbody>\n",
       "    <tr>\n",
       "      <th>0</th>\n",
       "      <td>Luis</td>\n",
       "      <td>25</td>\n",
       "      <td>Masculino</td>\n",
       "      <td>1.76</td>\n",
       "      <td>Perú</td>\n",
       "    </tr>\n",
       "    <tr>\n",
       "      <th>1</th>\n",
       "      <td>Maria</td>\n",
       "      <td>21</td>\n",
       "      <td>Femenino</td>\n",
       "      <td>1.57</td>\n",
       "      <td>Colombia</td>\n",
       "    </tr>\n",
       "    <tr>\n",
       "      <th>2</th>\n",
       "      <td>Dario</td>\n",
       "      <td>31</td>\n",
       "      <td>Masculino</td>\n",
       "      <td>1.79</td>\n",
       "      <td>Perú</td>\n",
       "    </tr>\n",
       "    <tr>\n",
       "      <th>3</th>\n",
       "      <td>Carlos</td>\n",
       "      <td>28</td>\n",
       "      <td>Masculino</td>\n",
       "      <td>1.72</td>\n",
       "      <td>Bolivia</td>\n",
       "    </tr>\n",
       "    <tr>\n",
       "      <th>4</th>\n",
       "      <td>Diana</td>\n",
       "      <td>23</td>\n",
       "      <td>Femenino</td>\n",
       "      <td>1.70</td>\n",
       "      <td>Perú</td>\n",
       "    </tr>\n",
       "  </tbody>\n",
       "</table>\n",
       "</div>"
      ],
      "text/plain": [
       "   Nombre  Edad        Sexo  Talla Nacionalidad\n",
       "0    Luis    25   Masculino   1.76         Perú\n",
       "1   Maria    21    Femenino   1.57     Colombia\n",
       "2   Dario    31   Masculino   1.79         Perú\n",
       "3  Carlos    28   Masculino   1.72      Bolivia\n",
       "4   Diana    23    Femenino   1.70         Perú"
      ]
     },
     "execution_count": 12,
     "metadata": {},
     "output_type": "execute_result"
    }
   ],
   "source": [
    "# Ahora voy usar la libreria pandas para importar la data \"Data1.csv\"\n",
    "Path = 'C:/Users/PC/DataAnalitica/Fundamentos de la Ciencia de Datos y Estadística/Módulo 1 - Introducción a Python/Sesión 1'\n",
    "df = pd.read_csv(Path + '/Challenge1/Data1.csv', sep = ';')\n",
    "df"
   ]
  },
  {
   "cell_type": "markdown",
   "id": "98ba4fc5-a311-4d20-85ab-ef16a8447f3b",
   "metadata": {},
   "source": [
    "## <font color = cyan>Ejercicio 2\n",
    "En este segundo ejercicio voy replicar los tipos de datos: int, float, str, boolean"
   ]
  },
  {
   "cell_type": "code",
   "execution_count": 13,
   "id": "4e65dcaa-51b7-4432-89a5-5e1384cf1f72",
   "metadata": {},
   "outputs": [
    {
     "data": {
      "text/plain": [
       "int"
      ]
     },
     "execution_count": 13,
     "metadata": {},
     "output_type": "execute_result"
    }
   ],
   "source": [
    "# Un tipo de dato entero\n",
    "A = int(20)\n",
    "type(A)"
   ]
  },
  {
   "cell_type": "code",
   "execution_count": 14,
   "id": "233e7fc9-ab08-4cd7-8dc8-b6fc09c8b357",
   "metadata": {},
   "outputs": [
    {
     "data": {
      "text/plain": [
       "float"
      ]
     },
     "execution_count": 14,
     "metadata": {},
     "output_type": "execute_result"
    }
   ],
   "source": [
    "# Un tipo de dato float\n",
    "B = 20.2345\n",
    "type(B)"
   ]
  },
  {
   "cell_type": "code",
   "execution_count": 15,
   "id": "f342cbec-0ff3-4b8f-96f2-04747bc223bb",
   "metadata": {},
   "outputs": [
    {
     "data": {
      "text/plain": [
       "str"
      ]
     },
     "execution_count": 15,
     "metadata": {},
     "output_type": "execute_result"
    }
   ],
   "source": [
    "# Un tipo de dato string\n",
    "C = 'Este es un string'\n",
    "type(C)"
   ]
  },
  {
   "cell_type": "code",
   "execution_count": 16,
   "id": "a5ab9dff-272f-4f0a-bba8-a4a8515d789a",
   "metadata": {},
   "outputs": [
    {
     "data": {
      "text/plain": [
       "bool"
      ]
     },
     "execution_count": 16,
     "metadata": {},
     "output_type": "execute_result"
    }
   ],
   "source": [
    "# Un tipo de dato booleano\n",
    "D = True \n",
    "type(D)"
   ]
  },
  {
   "cell_type": "markdown",
   "id": "2b861ae2-686f-4aa9-938e-62bd7e2d8bdd",
   "metadata": {},
   "source": [
    "## <font color = cyan> Ejercicio 3\n",
    "En este tercer ejemplo voy desarrollar algunas operaciones aritméticas: \n",
    "suma, resta, multiplicación, división real, división entera y módulo (residuo de una división)"
   ]
  },
  {
   "cell_type": "code",
   "execution_count": 17,
   "id": "1578dda4-8785-48e5-a745-f0d390e0b946",
   "metadata": {},
   "outputs": [],
   "source": [
    "# Para poder realizar las operaciones mencionadas anteriormente, ingresamos tres números\n",
    "x = 120\n",
    "y = 300\n",
    "z = 400"
   ]
  },
  {
   "cell_type": "code",
   "execution_count": 18,
   "id": "17ccdd6b-3e66-401e-8e29-df99b80aca0e",
   "metadata": {},
   "outputs": [
    {
     "name": "stdout",
     "output_type": "stream",
     "text": [
      "La suma es:  820\n"
     ]
    }
   ],
   "source": [
    "# Suma\n",
    "Suma = x + y + z \n",
    "print(\"La suma es: \", Suma)"
   ]
  },
  {
   "cell_type": "code",
   "execution_count": 19,
   "id": "25d7b8df-9f85-42d3-8c6c-60ae10e84b7c",
   "metadata": {},
   "outputs": [
    {
     "name": "stdout",
     "output_type": "stream",
     "text": [
      "La resta es -20\n"
     ]
    }
   ],
   "source": [
    "# Resta\n",
    "Resta = z - (x + y)\n",
    "print(f\"La resta es {Resta}\")"
   ]
  },
  {
   "cell_type": "code",
   "execution_count": 20,
   "id": "eddcf234-5b4d-4515-86d3-f3fec9dc78f7",
   "metadata": {},
   "outputs": [
    {
     "name": "stdout",
     "output_type": "stream",
     "text": [
      "La multiplicación es 14400000\n"
     ]
    }
   ],
   "source": [
    "# Multiplicación\n",
    "Multiplicación = x*y*z\n",
    "print(\"La multiplicación es {}\". format(Multiplicación))"
   ]
  },
  {
   "cell_type": "code",
   "execution_count": 21,
   "id": "86834b6f-5b14-4f9f-9e9c-f537a3074763",
   "metadata": {},
   "outputs": [
    {
     "name": "stdout",
     "output_type": "stream",
     "text": [
      "La división real es 1.05\n"
     ]
    }
   ],
   "source": [
    "# División real\n",
    "DivisiónReal = (x + y)/z\n",
    "print(\"La división real es\", DivisiónReal)"
   ]
  },
  {
   "cell_type": "code",
   "execution_count": 22,
   "id": "1b77df24-4d6e-4f19-92bf-80d29bbb219a",
   "metadata": {},
   "outputs": [
    {
     "name": "stdout",
     "output_type": "stream",
     "text": [
      "La división entera es  3\n"
     ]
    }
   ],
   "source": [
    "# División entera\n",
    "DivisiónEntera = (10*x + y)//z\n",
    "print(\"La división entera es \", DivisiónEntera)"
   ]
  },
  {
   "cell_type": "code",
   "execution_count": 23,
   "id": "6e88ed3e-4fb7-4735-a2c3-116ee36e624c",
   "metadata": {},
   "outputs": [
    {
     "name": "stdout",
     "output_type": "stream",
     "text": [
      "El módulo es  20\n"
     ]
    }
   ],
   "source": [
    "# Módulo (es el resudio o resto de una división)\n",
    "Módulo = (x + y)%z\n",
    "print(\"El módulo es \", Módulo)"
   ]
  },
  {
   "cell_type": "markdown",
   "id": "3b63ce9f-7f9a-4758-8b98-4ede12416d6f",
   "metadata": {},
   "source": [
    "## <font color = cyan> Ejercicio 4\n",
    "En este cuarto ejemplo voy desarrollar las operaciones de relación: Igual que, diferente que, menor que, mayor que, menor igual que o mayor o igual que:"
   ]
  },
  {
   "cell_type": "code",
   "execution_count": 30,
   "id": "b06d3e05-80ea-449a-9194-a7625da4ddab",
   "metadata": {},
   "outputs": [
    {
     "name": "stdout",
     "output_type": "stream",
     "text": [
      "False\n",
      "True\n"
     ]
    }
   ],
   "source": [
    "# Operación de igualdad\n",
    "100 == 200\n",
    "print(100 == 200)\n",
    "20 == 20\n",
    "print(20 == 20)"
   ]
  },
  {
   "cell_type": "code",
   "execution_count": 31,
   "id": "0bf444b7-8def-4ce6-aaf6-9d4dc6dde2a5",
   "metadata": {},
   "outputs": [
    {
     "name": "stdout",
     "output_type": "stream",
     "text": [
      "True\n",
      "False\n"
     ]
    }
   ],
   "source": [
    "# Operación de diferente\n",
    "400 != 100\n",
    "print(400 != 100)\n",
    "500 != 500\n",
    "print(500 != 500)"
   ]
  },
  {
   "cell_type": "code",
   "execution_count": 32,
   "id": "fe02415a-28e0-4081-9f32-36df24ee6e6f",
   "metadata": {},
   "outputs": [
    {
     "name": "stdout",
     "output_type": "stream",
     "text": [
      "True\n"
     ]
    }
   ],
   "source": [
    "# Operación de menor que (menor estricto que)\n",
    "a1 = 12\n",
    "a2 = 24\n",
    "a1 < a2\n",
    "print(a1 < a2)"
   ]
  },
  {
   "cell_type": "code",
   "execution_count": 33,
   "id": "68420883-dc75-432e-a548-b950bf367cf6",
   "metadata": {},
   "outputs": [
    {
     "name": "stdout",
     "output_type": "stream",
     "text": [
      "True\n"
     ]
    }
   ],
   "source": [
    "# Operación de mayor que (mayor estricto que)\n",
    "b1 = 30\n",
    "b2 = 24\n",
    "b1 > b2\n",
    "print(b1 > b2)"
   ]
  },
  {
   "cell_type": "code",
   "execution_count": 34,
   "id": "a811d506-4f74-4cc1-b632-5ffd01e4f147",
   "metadata": {},
   "outputs": [
    {
     "name": "stdout",
     "output_type": "stream",
     "text": [
      "True\n"
     ]
    }
   ],
   "source": [
    "# Operación de menor o igual que\n",
    "c1 = 30\n",
    "c2 = 30\n",
    "c1 <= c2\n",
    "print(c1 <= c2)"
   ]
  },
  {
   "cell_type": "code",
   "execution_count": 35,
   "id": "5a09d616-8b48-4f13-8caf-8702eb40c18c",
   "metadata": {},
   "outputs": [
    {
     "name": "stdout",
     "output_type": "stream",
     "text": [
      "True\n"
     ]
    }
   ],
   "source": [
    "# Operación de mayor o igual que\n",
    "d1 = 50\n",
    "d2 = 50\n",
    "d1 >= d2\n",
    "print(d1 >= d2)"
   ]
  },
  {
   "cell_type": "markdown",
   "id": "4ede2646-07b9-4bb0-a15f-3e649ed0cb26",
   "metadata": {},
   "source": [
    "## <font color = cyan> Ejercicio 5\n",
    "En este quinto ejemplo voy imprimir un ***hola mundo*** de diversas formas."
   ]
  },
  {
   "cell_type": "code",
   "execution_count": 36,
   "id": "abba2d28-2199-4367-aa2e-37d68701e574",
   "metadata": {},
   "outputs": [
    {
     "data": {
      "text/plain": [
       "'Hola mundo'"
      ]
     },
     "execution_count": 36,
     "metadata": {},
     "output_type": "execute_result"
    }
   ],
   "source": [
    "# Usando una comilla simple\n",
    "'Hola mundo'"
   ]
  },
  {
   "cell_type": "code",
   "execution_count": 37,
   "id": "d6e69852-a722-41f3-a238-820274eb679a",
   "metadata": {},
   "outputs": [
    {
     "data": {
      "text/plain": [
       "'Hola mundo'"
      ]
     },
     "execution_count": 37,
     "metadata": {},
     "output_type": "execute_result"
    }
   ],
   "source": [
    "# Usando un doble comilla\n",
    "\"Hola mundo\""
   ]
  },
  {
   "cell_type": "code",
   "execution_count": 38,
   "id": "7ccaabfd-10e5-499f-92c7-94ffc5fcd525",
   "metadata": {},
   "outputs": [
    {
     "data": {
      "text/plain": [
       "'Hola mundo'"
      ]
     },
     "execution_count": 38,
     "metadata": {},
     "output_type": "execute_result"
    }
   ],
   "source": [
    "# Usando una triple comilla\n",
    "\"\"\"Hola mundo\"\"\""
   ]
  },
  {
   "cell_type": "code",
   "execution_count": 39,
   "id": "0cf072cf-cf59-47b3-8e3a-0b77159d5955",
   "metadata": {},
   "outputs": [],
   "source": [
    "# Almacenando en una variable\n",
    "Saludo = 'mundo'"
   ]
  },
  {
   "cell_type": "code",
   "execution_count": 40,
   "id": "c0998065-87d4-4eab-96d6-19e27eda5506",
   "metadata": {},
   "outputs": [
    {
     "name": "stdout",
     "output_type": "stream",
     "text": [
      "Hola mundo\n"
     ]
    }
   ],
   "source": [
    "# Forma 1\n",
    "print(\"Hola\", Saludo)"
   ]
  },
  {
   "cell_type": "code",
   "execution_count": 41,
   "id": "876daa76-be11-4225-a49b-84b9de2d4a92",
   "metadata": {},
   "outputs": [
    {
     "name": "stdout",
     "output_type": "stream",
     "text": [
      "Hola mundo\n"
     ]
    }
   ],
   "source": [
    "# Forma 2\n",
    "print(f\"Hola {Saludo}\")"
   ]
  },
  {
   "cell_type": "code",
   "execution_count": 42,
   "id": "62fa948f-521c-4151-ad93-ab942b02bba9",
   "metadata": {},
   "outputs": [
    {
     "name": "stdout",
     "output_type": "stream",
     "text": [
      "Hola mundo\n"
     ]
    }
   ],
   "source": [
    "# Forma 3\n",
    "print(\"Hola {}\".format(Saludo))"
   ]
  }
 ],
 "metadata": {
  "kernelspec": {
   "display_name": "Python 3 (ipykernel)",
   "language": "python",
   "name": "python3"
  },
  "language_info": {
   "codemirror_mode": {
    "name": "ipython",
    "version": 3
   },
   "file_extension": ".py",
   "mimetype": "text/x-python",
   "name": "python",
   "nbconvert_exporter": "python",
   "pygments_lexer": "ipython3",
   "version": "3.9.16"
  }
 },
 "nbformat": 4,
 "nbformat_minor": 5
}
