{
 "cells": [
  {
   "cell_type": "markdown",
   "id": "f785a015",
   "metadata": {},
   "source": [
    "## Problema 1"
   ]
  },
  {
   "cell_type": "markdown",
   "id": "d8272a24",
   "metadata": {},
   "source": [
    "Crear un Data Frame con columnas Nombre, Edad, Peso, sueldo de 10 personas, y poner en un vector los sueldos de todas la personas"
   ]
  },
  {
   "cell_type": "code",
   "execution_count": 1,
   "id": "2e4f3301",
   "metadata": {},
   "outputs": [],
   "source": [
    "import pandas as pd\n",
    "\n",
    "Datos = {\n",
    "    \"Nombre\": [\"Luis\", \"Maria\", \"Carla\", \"Pedro\", \"Lucia\", \"Marcelo\", \"Pavel\", \"Martha\", \"Carolina\", \"Tania\"],\n",
    "    \"Edad\": [25,31,26,19,27,34,41,21,43,28],\n",
    "    \"Peso\": [67,72,80,75,69,70,81,69,67,79],\n",
    "    \"Sueldo\":[2500, 3200, 5000, 3000, 2700, 1800, 2100, 3500, 4200, 3100],\n",
    "}\n",
    "Datos = pd.DataFrame(Datos)"
   ]
  },
  {
   "cell_type": "code",
   "execution_count": 2,
   "id": "40d7087d-9dbd-49f8-bd32-dbe5de82026a",
   "metadata": {},
   "outputs": [
    {
     "data": {
      "text/html": [
       "<div>\n",
       "<style scoped>\n",
       "    .dataframe tbody tr th:only-of-type {\n",
       "        vertical-align: middle;\n",
       "    }\n",
       "\n",
       "    .dataframe tbody tr th {\n",
       "        vertical-align: top;\n",
       "    }\n",
       "\n",
       "    .dataframe thead th {\n",
       "        text-align: right;\n",
       "    }\n",
       "</style>\n",
       "<table border=\"1\" class=\"dataframe\">\n",
       "  <thead>\n",
       "    <tr style=\"text-align: right;\">\n",
       "      <th></th>\n",
       "      <th>Nombre</th>\n",
       "      <th>Edad</th>\n",
       "      <th>Peso</th>\n",
       "      <th>Sueldo</th>\n",
       "    </tr>\n",
       "  </thead>\n",
       "  <tbody>\n",
       "    <tr>\n",
       "      <th>0</th>\n",
       "      <td>Luis</td>\n",
       "      <td>25</td>\n",
       "      <td>67</td>\n",
       "      <td>2500</td>\n",
       "    </tr>\n",
       "    <tr>\n",
       "      <th>1</th>\n",
       "      <td>Maria</td>\n",
       "      <td>31</td>\n",
       "      <td>72</td>\n",
       "      <td>3200</td>\n",
       "    </tr>\n",
       "    <tr>\n",
       "      <th>2</th>\n",
       "      <td>Carla</td>\n",
       "      <td>26</td>\n",
       "      <td>80</td>\n",
       "      <td>5000</td>\n",
       "    </tr>\n",
       "    <tr>\n",
       "      <th>3</th>\n",
       "      <td>Pedro</td>\n",
       "      <td>19</td>\n",
       "      <td>75</td>\n",
       "      <td>3000</td>\n",
       "    </tr>\n",
       "    <tr>\n",
       "      <th>4</th>\n",
       "      <td>Lucia</td>\n",
       "      <td>27</td>\n",
       "      <td>69</td>\n",
       "      <td>2700</td>\n",
       "    </tr>\n",
       "    <tr>\n",
       "      <th>5</th>\n",
       "      <td>Marcelo</td>\n",
       "      <td>34</td>\n",
       "      <td>70</td>\n",
       "      <td>1800</td>\n",
       "    </tr>\n",
       "    <tr>\n",
       "      <th>6</th>\n",
       "      <td>Pavel</td>\n",
       "      <td>41</td>\n",
       "      <td>81</td>\n",
       "      <td>2100</td>\n",
       "    </tr>\n",
       "    <tr>\n",
       "      <th>7</th>\n",
       "      <td>Martha</td>\n",
       "      <td>21</td>\n",
       "      <td>69</td>\n",
       "      <td>3500</td>\n",
       "    </tr>\n",
       "    <tr>\n",
       "      <th>8</th>\n",
       "      <td>Carolina</td>\n",
       "      <td>43</td>\n",
       "      <td>67</td>\n",
       "      <td>4200</td>\n",
       "    </tr>\n",
       "    <tr>\n",
       "      <th>9</th>\n",
       "      <td>Tania</td>\n",
       "      <td>28</td>\n",
       "      <td>79</td>\n",
       "      <td>3100</td>\n",
       "    </tr>\n",
       "  </tbody>\n",
       "</table>\n",
       "</div>"
      ],
      "text/plain": [
       "     Nombre  Edad  Peso  Sueldo\n",
       "0      Luis    25    67    2500\n",
       "1     Maria    31    72    3200\n",
       "2     Carla    26    80    5000\n",
       "3     Pedro    19    75    3000\n",
       "4     Lucia    27    69    2700\n",
       "5   Marcelo    34    70    1800\n",
       "6     Pavel    41    81    2100\n",
       "7    Martha    21    69    3500\n",
       "8  Carolina    43    67    4200\n",
       "9     Tania    28    79    3100"
      ]
     },
     "execution_count": 2,
     "metadata": {},
     "output_type": "execute_result"
    }
   ],
   "source": [
    "Datos"
   ]
  },
  {
   "cell_type": "markdown",
   "id": "d9a812a6",
   "metadata": {},
   "source": [
    "## Problema 2"
   ]
  },
  {
   "cell_type": "markdown",
   "id": "ccf5d346",
   "metadata": {},
   "source": [
    "Crear una función con parámetros r y h, para hallar el volumen de un cilindro "
   ]
  },
  {
   "cell_type": "code",
   "execution_count": 20,
   "id": "ed4d2a0b",
   "metadata": {},
   "outputs": [],
   "source": [
    "# Definamos una función\n",
    "import numpy as np\n",
    "def VolumenCilindro(r,h):\n",
    "    '''\n",
    "    Esta función calcula el volumen\n",
    "    de un cilindro.\n",
    "    '''\n",
    "    v = np.pi*r**2*h\n",
    "    return v"
   ]
  },
  {
   "cell_type": "code",
   "execution_count": 21,
   "id": "62902dc2-54c9-42c9-a2f7-41797bb34505",
   "metadata": {},
   "outputs": [
    {
     "data": {
      "text/plain": [
       "141.3716694115407"
      ]
     },
     "execution_count": 21,
     "metadata": {},
     "output_type": "execute_result"
    }
   ],
   "source": [
    "VolumenCilindro(3,5)"
   ]
  },
  {
   "cell_type": "markdown",
   "id": "53716cda",
   "metadata": {},
   "source": [
    "## Problema 3"
   ]
  },
  {
   "cell_type": "markdown",
   "id": "b8d66085",
   "metadata": {},
   "source": [
    "Crear una función para encontrar los n-ésimos términos de una serie de Fibonacci"
   ]
  },
  {
   "cell_type": "code",
   "execution_count": 17,
   "id": "49c00b8a",
   "metadata": {},
   "outputs": [],
   "source": [
    "# Definimos la función\n",
    "def fibonacci(n):\n",
    "    '''\n",
    "    Esta función busca el n-ésimo término \n",
    "    de una serie de Fibonacci\n",
    "    Por ejemplo:\n",
    "        1, 1, 2, 3, 5, 8, 13, 21, 34, ...\n",
    "        Termino 1: 1\n",
    "        Termino 2: 1\n",
    "        Termino 3: 2\n",
    "        Termino 4: 3\n",
    "        .\n",
    "        .\n",
    "        .\n",
    "    '''\n",
    "    if (n<0):\n",
    "        print('--------------------------')\n",
    "        print(\"Ingresa un número positivo\")\n",
    "        print('--------------------------')\n",
    "    elif (n==0):\n",
    "        return (0)\n",
    "    elif (n==1 or n==2):\n",
    "        return (1)\n",
    "    else:\n",
    "        return (fibonacci(n-1) + \n",
    "                fibonacci(n-2))"
   ]
  },
  {
   "cell_type": "code",
   "execution_count": 22,
   "id": "b6279b30-1844-4c20-b6aa-89eb61cd1e1d",
   "metadata": {},
   "outputs": [
    {
     "data": {
      "text/plain": [
       "3"
      ]
     },
     "execution_count": 22,
     "metadata": {},
     "output_type": "execute_result"
    }
   ],
   "source": [
    "fibonacci(4)"
   ]
  },
  {
   "cell_type": "markdown",
   "id": "3ce1d642",
   "metadata": {},
   "source": [
    "## Problema 4"
   ]
  },
  {
   "cell_type": "markdown",
   "id": "97c642bb",
   "metadata": {},
   "source": [
    "Crear dos vectores de orden 10 y aplicar las propiedades mostradas en clase "
   ]
  },
  {
   "cell_type": "code",
   "execution_count": 23,
   "id": "6a0c7d93",
   "metadata": {},
   "outputs": [],
   "source": [
    "# Creamos dos vectores\n",
    "Vector1 = np.array([1,2,3,4,5,6,7,8,9,10])\n",
    "Vector2 = np.array([2,4,6,8,10,12,14,16,18,20])"
   ]
  },
  {
   "cell_type": "code",
   "execution_count": 24,
   "id": "c05e898d-3a77-4091-b81c-f8b57de62d33",
   "metadata": {},
   "outputs": [
    {
     "data": {
      "text/plain": [
       "array([ 1,  2,  3,  4,  5,  6,  7,  8,  9, 10])"
      ]
     },
     "execution_count": 24,
     "metadata": {},
     "output_type": "execute_result"
    }
   ],
   "source": [
    "Vector1"
   ]
  },
  {
   "cell_type": "code",
   "execution_count": 25,
   "id": "65542833-548e-4d3e-a990-517359f2511b",
   "metadata": {},
   "outputs": [
    {
     "data": {
      "text/plain": [
       "array([ 2,  4,  6,  8, 10, 12, 14, 16, 18, 20])"
      ]
     },
     "execution_count": 25,
     "metadata": {},
     "output_type": "execute_result"
    }
   ],
   "source": [
    "Vector2"
   ]
  },
  {
   "cell_type": "code",
   "execution_count": 27,
   "id": "6c7058e3-040e-4c14-9ae1-c0b00b4c6f8d",
   "metadata": {},
   "outputs": [
    {
     "data": {
      "text/plain": [
       "array([ 3,  6,  9, 12, 15, 18, 21, 24, 27, 30])"
      ]
     },
     "execution_count": 27,
     "metadata": {},
     "output_type": "execute_result"
    }
   ],
   "source": [
    "# Suma de vectores\n",
    "SumaVectores = Vector1 + Vector2\n",
    "SumaVectores"
   ]
  },
  {
   "cell_type": "code",
   "execution_count": 28,
   "id": "e3df787e-9a82-4b59-9e6a-8629ded0f62b",
   "metadata": {},
   "outputs": [
    {
     "data": {
      "text/plain": [
       "array([  2,   8,  18,  32,  50,  72,  98, 128, 162, 200])"
      ]
     },
     "execution_count": 28,
     "metadata": {},
     "output_type": "execute_result"
    }
   ],
   "source": [
    "# Multiplicación de vectores\n",
    "MultVectores = Vector1*Vector2\n",
    "MultVectores"
   ]
  },
  {
   "cell_type": "markdown",
   "id": "f6f5cd58",
   "metadata": {},
   "source": [
    "## Problema 5"
   ]
  },
  {
   "cell_type": "markdown",
   "id": "65a775af",
   "metadata": {},
   "source": [
    "Craer un Data Frame con 4 oraciones parecidas al ejemplo aplicativo de PLN y vectorizar"
   ]
  },
  {
   "cell_type": "code",
   "execution_count": 78,
   "id": "fc684c2b-2530-45f1-a2dc-fc775ef7d928",
   "metadata": {},
   "outputs": [],
   "source": [
    "# Importamos las librerias\n",
    "import pandas as pd\n",
    "from sklearn.feature_extraction.text import  CountVectorizer\n",
    "from sklearn.feature_extraction.text import  TfidfVectorizer"
   ]
  },
  {
   "cell_type": "code",
   "execution_count": 80,
   "id": "3601717c-7634-43ef-8338-379c71981985",
   "metadata": {},
   "outputs": [
    {
     "data": {
      "text/html": [
       "<div>\n",
       "<style scoped>\n",
       "    .dataframe tbody tr th:only-of-type {\n",
       "        vertical-align: middle;\n",
       "    }\n",
       "\n",
       "    .dataframe tbody tr th {\n",
       "        vertical-align: top;\n",
       "    }\n",
       "\n",
       "    .dataframe thead th {\n",
       "        text-align: right;\n",
       "    }\n",
       "</style>\n",
       "<table border=\"1\" class=\"dataframe\">\n",
       "  <thead>\n",
       "    <tr style=\"text-align: right;\">\n",
       "      <th></th>\n",
       "      <th>Descripción</th>\n",
       "    </tr>\n",
       "  </thead>\n",
       "  <tbody>\n",
       "    <tr>\n",
       "      <th>0</th>\n",
       "      <td>Mi casa es verde</td>\n",
       "    </tr>\n",
       "    <tr>\n",
       "      <th>1</th>\n",
       "      <td>Verde es la montaña</td>\n",
       "    </tr>\n",
       "    <tr>\n",
       "      <th>2</th>\n",
       "      <td>La montania es alta</td>\n",
       "    </tr>\n",
       "    <tr>\n",
       "      <th>3</th>\n",
       "      <td>Alta es la casa de la montania</td>\n",
       "    </tr>\n",
       "  </tbody>\n",
       "</table>\n",
       "</div>"
      ],
      "text/plain": [
       "                      Descripción\n",
       "0                Mi casa es verde\n",
       "1             Verde es la montaña\n",
       "2             La montania es alta\n",
       "3  Alta es la casa de la montania"
      ]
     },
     "execution_count": 80,
     "metadata": {},
     "output_type": "execute_result"
    }
   ],
   "source": [
    "Datos = pd.DataFrame({\n",
    "    \"Descripción\": [\"Mi casa es verde\", \n",
    "                  \"Verde es la montaña\", \n",
    "                  \"La montaña es alta\",\n",
    "                  \"Alta es la casa de la montaña\"]\n",
    "})\n",
    "Oraciones"
   ]
  },
  {
   "cell_type": "code",
   "execution_count": 85,
   "id": "1ccc26ac-2ad7-4e6a-83f1-b70ae30c0533",
   "metadata": {},
   "outputs": [
    {
     "data": {
      "text/html": [
       "<div>\n",
       "<style scoped>\n",
       "    .dataframe tbody tr th:only-of-type {\n",
       "        vertical-align: middle;\n",
       "    }\n",
       "\n",
       "    .dataframe tbody tr th {\n",
       "        vertical-align: top;\n",
       "    }\n",
       "\n",
       "    .dataframe thead th {\n",
       "        text-align: right;\n",
       "    }\n",
       "</style>\n",
       "<table border=\"1\" class=\"dataframe\">\n",
       "  <thead>\n",
       "    <tr style=\"text-align: right;\">\n",
       "      <th></th>\n",
       "      <th>Descripción</th>\n",
       "    </tr>\n",
       "  </thead>\n",
       "  <tbody>\n",
       "    <tr>\n",
       "      <th>0</th>\n",
       "      <td>Casa Verde</td>\n",
       "    </tr>\n",
       "    <tr>\n",
       "      <th>1</th>\n",
       "      <td>Verde Montaña</td>\n",
       "    </tr>\n",
       "    <tr>\n",
       "      <th>2</th>\n",
       "      <td>Montaña Alta</td>\n",
       "    </tr>\n",
       "    <tr>\n",
       "      <th>3</th>\n",
       "      <td>Alta Casa Montaña</td>\n",
       "    </tr>\n",
       "  </tbody>\n",
       "</table>\n",
       "</div>"
      ],
      "text/plain": [
       "         Descripción\n",
       "0         Casa Verde\n",
       "1      Verde Montaña\n",
       "2       Montaña Alta\n",
       "3  Alta Casa Montaña"
      ]
     },
     "execution_count": 85,
     "metadata": {},
     "output_type": "execute_result"
    }
   ],
   "source": [
    "Palabras = pd.DataFrame({\n",
    "    \"Descripción\": [\"Casa Verde\", \"Verde Montaña\",  \"Montaña Alta\", \"Alta Casa Montaña\"]})\n",
    "Palabras"
   ]
  },
  {
   "cell_type": "code",
   "execution_count": 86,
   "id": "606ffbb6-f1cb-4e37-ac2c-5b72fdb9adda",
   "metadata": {},
   "outputs": [],
   "source": [
    "Contador = CountVectorizer()\n",
    "Vectorizador = TfidfVectorizer()"
   ]
  },
  {
   "cell_type": "code",
   "execution_count": 87,
   "id": "44bb659f-7fe1-4e05-bf7c-433017b8fd26",
   "metadata": {},
   "outputs": [],
   "source": [
    "Cantidades = Contador.fit_transform(Palabras.Descripción)\n",
    "Valores = Vectorizador.fit_transform(Palabras.Descripción)"
   ]
  },
  {
   "cell_type": "code",
   "execution_count": 92,
   "id": "c1917b09-cc3c-4ffb-a264-c1a19279a6a2",
   "metadata": {},
   "outputs": [
    {
     "name": "stdout",
     "output_type": "stream",
     "text": [
      "Palabras\n",
      "Cantiades\n",
      "  (0, 1)\t1\n",
      "  (0, 3)\t1\n",
      "  (1, 3)\t1\n",
      "  (1, 2)\t1\n",
      "  (2, 2)\t1\n",
      "  (2, 0)\t1\n",
      "  (3, 1)\t1\n",
      "  (3, 2)\t1\n",
      "  (3, 0)\t1\n",
      "Valores\n",
      "  (0, 3)\t0.7071067811865475\n",
      "  (0, 1)\t0.7071067811865475\n",
      "  (1, 2)\t0.6292275146695526\n",
      "  (1, 3)\t0.7772211620785797\n",
      "  (2, 0)\t0.7772211620785797\n",
      "  (2, 2)\t0.6292275146695526\n",
      "  (3, 0)\t0.6136667440107333\n",
      "  (3, 2)\t0.4968161174826459\n",
      "  (3, 1)\t0.6136667440107333\n"
     ]
    }
   ],
   "source": [
    "print('Palabras')\n",
    "#print(Vectorizador.get_feature_names())\n",
    "print('Cantiades')\n",
    "print(Cantidades)\n",
    "print('Valores')\n",
    "print(Valores)"
   ]
  },
  {
   "cell_type": "markdown",
   "id": "bdf4c139",
   "metadata": {},
   "source": [
    "## Problema 6"
   ]
  },
  {
   "cell_type": "markdown",
   "id": "eb133ae3",
   "metadata": {},
   "source": [
    "Crear dos matrices de cualquier orden y aplicar las propiedades de producto de un escalar con un  vector"
   ]
  },
  {
   "cell_type": "code",
   "execution_count": 32,
   "id": "9c995317",
   "metadata": {},
   "outputs": [
    {
     "name": "stdout",
     "output_type": "stream",
     "text": [
      "----------------------\n",
      "RESULTADO:\n",
      " \n",
      "D =\n",
      " [[ 16  20]\n",
      " [ 26  30]\n",
      " [ 46 110]]\n",
      "----------------------\n"
     ]
    }
   ],
   "source": [
    "# Importar libreria\n",
    "import numpy as np\n",
    "# Crear dos matrices\n",
    "A = np.array([[1, 2], [4, 5], [12, 43]]) # matriz de orden 3x3\n",
    "B = np.array([[7, 8], [9, 10], [11, 12]]) # matriz de orden 3x3\n",
    "\n",
    "k = 2 # Escalar \"k=2\"\n",
    "D = k * A + k * B\n",
    "print('----------------------')\n",
    "print('RESULTADO:')\n",
    "print(' ')\n",
    "print(\"D =\\n\", D)\n",
    "print('----------------------')"
   ]
  },
  {
   "cell_type": "markdown",
   "id": "b2d0bbff",
   "metadata": {},
   "source": [
    "## Problema 7"
   ]
  },
  {
   "cell_type": "markdown",
   "id": "8bc23c6e",
   "metadata": {},
   "source": [
    "Hallar la norma Euclidiana y de Manhattan de un vector que usted cree conveniente"
   ]
  },
  {
   "cell_type": "markdown",
   "id": "085a5c0d-1538-443b-b369-b7cee1afcc0b",
   "metadata": {},
   "source": [
    "* Norma Euclidiana\n",
    "\n",
    "$$||x||=\\sqrt{ \\sum_{i=1}^{n} x_{i}^{2}}=\\sqrt{ X^{T}X }$$"
   ]
  },
  {
   "cell_type": "code",
   "execution_count": 19,
   "id": "a7a76c8c-83fb-4cf7-a981-fc0beab56c23",
   "metadata": {},
   "outputs": [],
   "source": [
    "import numpy as np\n",
    "NE = np.array([3,4,5])"
   ]
  },
  {
   "cell_type": "code",
   "execution_count": 20,
   "id": "42702de9-d7f0-496b-81a5-5e3b22f79d9d",
   "metadata": {},
   "outputs": [
    {
     "data": {
      "text/plain": [
       "7.0710678118654755"
      ]
     },
     "execution_count": 20,
     "metadata": {},
     "output_type": "execute_result"
    }
   ],
   "source": [
    "np.linalg.norm(NE,2)"
   ]
  },
  {
   "cell_type": "markdown",
   "id": "00223e82-5de3-47b8-8153-4c9f2b22b213",
   "metadata": {},
   "source": [
    "* Norma de Manhattan\n",
    "\n",
    "$$||x||=\\sum_{i=1}^{n} |x_{i}|$$"
   ]
  },
  {
   "cell_type": "code",
   "execution_count": 21,
   "id": "ab2b38a4-21da-4699-bf8b-e4465462b5db",
   "metadata": {},
   "outputs": [],
   "source": [
    "import numpy as np\n",
    "NM = np.array([3,4,5,6])"
   ]
  },
  {
   "cell_type": "code",
   "execution_count": 23,
   "id": "cc3f5279-98d5-49a9-82c2-0eb3e4ffa91f",
   "metadata": {},
   "outputs": [
    {
     "data": {
      "text/plain": [
       "18.0"
      ]
     },
     "execution_count": 23,
     "metadata": {},
     "output_type": "execute_result"
    }
   ],
   "source": [
    "np.linalg.norm(NM, 1)"
   ]
  },
  {
   "cell_type": "markdown",
   "id": "d63a605d",
   "metadata": {},
   "source": [
    "## Problema 8"
   ]
  },
  {
   "cell_type": "markdown",
   "id": "ddafffc4",
   "metadata": {},
   "source": [
    "Probar si  son ortogonales dos vectores que usted crea conveniente"
   ]
  },
  {
   "cell_type": "code",
   "execution_count": 18,
   "id": "64d7befd",
   "metadata": {},
   "outputs": [],
   "source": [
    "import numpy as np\n",
    "u = np.array([3,5])\n",
    "v = np.array([6,8])"
   ]
  },
  {
   "cell_type": "markdown",
   "id": "258b97a3-b9dc-449e-a9e2-1d08405146b7",
   "metadata": {},
   "source": [
    "El coseno del ángulo que forman dos vectores es igual al producto escalar entre los dos vectores dividido por el producto de los módulos de los dos vectores.\n",
    "\n",
    "$$\\cos(\\alpha)= x = \\dfrac{\\vec{u}\\cdot\\vec{v}}{|\\vec{u}|\\cdot|\\vec{v}|}$$"
   ]
  },
  {
   "cell_type": "code",
   "execution_count": 19,
   "id": "7e61d16e-a119-47f8-bd0c-d675c52fe11e",
   "metadata": {},
   "outputs": [
    {
     "name": "stdout",
     "output_type": "stream",
     "text": [
      "El valor de x es: 0.9946917938265513\n"
     ]
    }
   ],
   "source": [
    "x = (u @ v) / (np.linalg.norm(u, 2) * np.linalg.norm(v,2))\n",
    "x\n",
    "print(f\"El valor de x es: {coseno_alpha}\")"
   ]
  },
  {
   "cell_type": "markdown",
   "id": "e43568b8-d2e0-407d-8cee-97c9d289784b",
   "metadata": {},
   "source": [
    "* Arco coseno\n",
    "$$\\alpha=\\arccos(x)$$"
   ]
  },
  {
   "cell_type": "code",
   "execution_count": 20,
   "id": "9ededae5-9854-4f3c-9209-0dd7e12e7b08",
   "metadata": {},
   "outputs": [
    {
     "name": "stdout",
     "output_type": "stream",
     "text": [
      "El valor de alfa es: 0.10308160852270018\n"
     ]
    }
   ],
   "source": [
    "# \"Alpha\" es un ángulo trigonométrico en grados sexagesimales \n",
    "Alpha= np.arccos(x)\n",
    "Alpha\n",
    "print(f\"El valor de alfa es: {coseno_alpha_invesa}\")"
   ]
  },
  {
   "cell_type": "markdown",
   "id": "2bbaedbd-e8ea-4df8-8540-d94fa9c0dae5",
   "metadata": {},
   "source": [
    "* Conversión a radianes\n",
    "$$\\alpha^{°}*\\frac{180}{\\pi}$$"
   ]
  },
  {
   "cell_type": "code",
   "execution_count": 21,
   "id": "68b5b702-91f9-4210-b108-eab02e8be657",
   "metadata": {},
   "outputs": [
    {
     "data": {
      "text/plain": [
       "56.99164170255842"
      ]
     },
     "execution_count": 21,
     "metadata": {},
     "output_type": "execute_result"
    }
   ],
   "source": [
    "# \"Beta\" es un ángulo en radianes \n",
    "Beta = x * ((180)/np.pi)\n",
    "Beta"
   ]
  },
  {
   "cell_type": "markdown",
   "id": "bda4a35a-fbeb-4c76-a0ba-f558d462bfda",
   "metadata": {},
   "source": [
    "Por lo tanto, el vector $\"u\"$ y $\"v\"$ no son ortogonales, dado que el ángulo que forman entre ellos no es igual a $90°$ o $\\pi/2$."
   ]
  },
  {
   "cell_type": "markdown",
   "id": "1d794c89",
   "metadata": {},
   "source": [
    "## Problema 9"
   ]
  },
  {
   "cell_type": "markdown",
   "id": "b8e9a45c",
   "metadata": {},
   "source": [
    "Aplicar las propiedades de la  Multiplicación matriz-matriz para las matrices que usted crea conveniente"
   ]
  },
  {
   "cell_type": "code",
   "execution_count": 28,
   "id": "f8b94fd9",
   "metadata": {},
   "outputs": [],
   "source": [
    "import numpy as np\n",
    "# Creamos una matriz M de orden 3x3\n",
    "M = np.array([[1,4,7],\n",
    "              [2,5,3],\n",
    "              [4,6,9]])\n",
    "# Creamos una matriz N de orden 3x3\n",
    "N = np.array([[3,6,9],\n",
    "              [1,3,5],\n",
    "              [2,8,4]])"
   ]
  },
  {
   "cell_type": "code",
   "execution_count": 29,
   "id": "614678e4-5d76-48f3-b514-7c6d9568172f",
   "metadata": {},
   "outputs": [
    {
     "name": "stdout",
     "output_type": "stream",
     "text": [
      "Salida de la matriz M:\n",
      " [[1 4 7]\n",
      " [2 5 3]\n",
      " [4 6 9]]\n"
     ]
    }
   ],
   "source": [
    "print(f\"Salida de la matriz M:\\n {M}\")"
   ]
  },
  {
   "cell_type": "code",
   "execution_count": 30,
   "id": "66b8667f-a066-4045-97f8-c849ca233450",
   "metadata": {},
   "outputs": [
    {
     "name": "stdout",
     "output_type": "stream",
     "text": [
      "Salida de la matriz N:\n",
      " [[3 6 9]\n",
      " [1 3 5]\n",
      " [2 8 4]]\n"
     ]
    }
   ],
   "source": [
    "print(f\"Salida de la matriz N:\\n {N}\")"
   ]
  },
  {
   "cell_type": "code",
   "execution_count": 40,
   "id": "07175580-6908-41f1-98e1-59efa30d9ea4",
   "metadata": {},
   "outputs": [
    {
     "name": "stdout",
     "output_type": "stream",
     "text": [
      "El producto de MxN es: \n",
      " [[ 21  74  57]\n",
      " [ 17  51  55]\n",
      " [ 36 114 102]]\n"
     ]
    }
   ],
   "source": [
    "# Opción 1 de calcular el producto de matrices\n",
    "OP1 = M@N\n",
    "print(f\"El producto de MxN es: \\n {OP1}\")"
   ]
  },
  {
   "cell_type": "code",
   "execution_count": 38,
   "id": "657c6b9c-4375-4ff8-af4b-06ce4eb1c467",
   "metadata": {},
   "outputs": [
    {
     "name": "stdout",
     "output_type": "stream",
     "text": [
      "El producto de MxN es: \n",
      " [[ 21  74  57]\n",
      " [ 17  51  55]\n",
      " [ 36 114 102]]\n"
     ]
    }
   ],
   "source": [
    "# Opción 2 de calcular el producto de matrices\n",
    "OP2 = np.dot(M,N)\n",
    "print(f\"El producto de MxN es: \\n {OP2}\")"
   ]
  },
  {
   "cell_type": "markdown",
   "id": "c11a87f7",
   "metadata": {},
   "source": [
    "## Problema 10"
   ]
  },
  {
   "cell_type": "markdown",
   "id": "18cd9509",
   "metadata": {},
   "source": [
    "Hallar la inversa de una `matriz no singular` que usted crea conveniente de orden 10X10"
   ]
  },
  {
   "cell_type": "markdown",
   "id": "f994a117-e4d1-46c4-82ea-43daf6a70999",
   "metadata": {},
   "source": [
    "Recordemos un poco de teoría\n",
    "* Matriz no singular\n",
    "$$\n",
    "|A| \\neq 0\n",
    "$$\n",
    "* La inversa de una matriz no singular\n",
    "$$\n",
    "A^{-1} = \\dfrac{1}{|A|}Adj(A) = \\dfrac{1}{|A|}\\left(Cof(A)\\right){'}\n",
    "$$\n"
   ]
  },
  {
   "cell_type": "code",
   "execution_count": 45,
   "id": "5c3badc4-4ba5-43ef-9ee8-78c2ae2921c6",
   "metadata": {},
   "outputs": [],
   "source": [
    "import numpy as np\n",
    "# Creamos una matriz de orden 10 por 10\n",
    "A = np.array(\n",
    "    [\n",
    "        [1,4,5,7,8,2,6,4,0,4],\n",
    "        [9,6,0,1,8,1,0,4,8,2],\n",
    "        [7,4,5,7,2,2,1,4,8,4],\n",
    "        [2,4,6,2,9,7,0,0,6,4],\n",
    "        [3,9,5,7,8,2,0,4,0,4],\n",
    "        [5,4,5,9,8,1,0,9,8,3],\n",
    "        [8,4,3,7,5,2,7,4,8,4],\n",
    "        [1,4,5,7,6,2,0,4,8,4],\n",
    "        [7,4,1,7,8,5,9,4,1,6],\n",
    "        [0,6,0,6,3,9,0,4,8,4],\n",
    "    ]\n",
    ")"
   ]
  },
  {
   "cell_type": "code",
   "execution_count": 44,
   "id": "cec117dc-1884-40c7-b9ab-8174928f431d",
   "metadata": {},
   "outputs": [
    {
     "data": {
      "text/plain": [
       "array([[1, 4, 5, 7, 8, 2, 6, 4, 0, 4],\n",
       "       [9, 6, 0, 1, 8, 1, 0, 4, 8, 2],\n",
       "       [7, 4, 5, 7, 2, 2, 1, 4, 8, 4],\n",
       "       [2, 4, 6, 2, 9, 7, 0, 0, 6, 4],\n",
       "       [3, 9, 5, 7, 8, 2, 0, 4, 0, 4],\n",
       "       [5, 4, 5, 9, 8, 1, 0, 9, 8, 3],\n",
       "       [8, 4, 3, 7, 5, 2, 7, 4, 8, 4],\n",
       "       [1, 4, 5, 7, 6, 2, 0, 4, 8, 4],\n",
       "       [7, 4, 1, 7, 8, 5, 9, 4, 1, 6],\n",
       "       [0, 6, 0, 6, 3, 9, 0, 4, 8, 4]])"
      ]
     },
     "execution_count": 44,
     "metadata": {},
     "output_type": "execute_result"
    }
   ],
   "source": [
    "A"
   ]
  },
  {
   "cell_type": "code",
   "execution_count": 60,
   "id": "0d1c9453-4504-491f-a13a-1d57a3ac2627",
   "metadata": {},
   "outputs": [
    {
     "data": {
      "text/plain": [
       "['LinAlgError',\n",
       " '__all__',\n",
       " '__builtins__',\n",
       " '__cached__',\n",
       " '__doc__',\n",
       " '__file__',\n",
       " '__loader__',\n",
       " '__name__',\n",
       " '__package__',\n",
       " '__path__',\n",
       " '__spec__',\n",
       " '_umath_linalg',\n",
       " 'cholesky',\n",
       " 'cond',\n",
       " 'det',\n",
       " 'eig',\n",
       " 'eigh',\n",
       " 'eigvals',\n",
       " 'eigvalsh',\n",
       " 'inv',\n",
       " 'linalg',\n",
       " 'lstsq',\n",
       " 'matrix_power',\n",
       " 'matrix_rank',\n",
       " 'multi_dot',\n",
       " 'norm',\n",
       " 'pinv',\n",
       " 'qr',\n",
       " 'slogdet',\n",
       " 'solve',\n",
       " 'svd',\n",
       " 'tensorinv',\n",
       " 'tensorsolve',\n",
       " 'test']"
      ]
     },
     "execution_count": 60,
     "metadata": {},
     "output_type": "execute_result"
    }
   ],
   "source": [
    "# Veamos los métodos que nos proporciona la libreria \"NumPy\"\n",
    "dir(np)\n",
    "dir(np.linalg)"
   ]
  },
  {
   "cell_type": "code",
   "execution_count": 56,
   "id": "cf897a94-ffc5-4c86-93b8-1d1ba132e2ac",
   "metadata": {},
   "outputs": [
    {
     "data": {
      "text/plain": [
       "-55352599.99999995"
      ]
     },
     "execution_count": 56,
     "metadata": {},
     "output_type": "execute_result"
    }
   ],
   "source": [
    "# Calculamos el determinate de la matriz \"A\"\n",
    "detA = np.linalg.det(A)\n",
    "detA"
   ]
  },
  {
   "cell_type": "code",
   "execution_count": 57,
   "id": "25383887-2faa-4957-9d7b-bcd5717ce2ba",
   "metadata": {},
   "outputs": [
    {
     "name": "stdout",
     "output_type": "stream",
     "text": [
      "La inversa de la matriz no singular 'A' es: \n",
      " [[-0.20586328 -0.06648808 -0.01818075  0.06204081  0.08592623  0.08599126\n",
      "   0.09238908 -0.09123669  0.0674041  -0.05743094]\n",
      " [ 0.1933851   0.11153745  0.06435745 -0.06922746  0.04642167 -0.13173437\n",
      "   0.01174695 -0.06736291 -0.14521074  0.08152737]\n",
      " [ 0.30867536  0.05605778  0.2355549   0.04570589 -0.09897494 -0.03728678\n",
      "  -0.10895401 -0.16800035 -0.14721433  0.00675083]\n",
      " [-0.68475418 -0.38576659 -0.45455382  0.09851859  0.34895055  0.23732797\n",
      "   0.48577967  0.11750335  0.12918013 -0.09032703]\n",
      " [-0.24399497 -0.08203582 -0.26537839  0.08380889  0.10405437  0.10870817\n",
      "   0.14873     0.09150797  0.07647092 -0.07394746]\n",
      " [-0.06657082 -0.09159259 -0.03140145  0.11128149  0.02276027  0.10378266\n",
      "   0.0651564  -0.20064076 -0.0028076   0.07158558]\n",
      " [ 0.25919982  0.07078518  0.04757095 -0.03700928 -0.09933987 -0.08111489\n",
      "   0.04058548 -0.08654799 -0.09854092  0.04879583]\n",
      " [ 0.61123543  0.2872931   0.3995834  -0.14085066 -0.30871359 -0.05639482\n",
      "  -0.45218364 -0.18534143 -0.10019005  0.12520514]\n",
      " [ 0.00840112  0.03257993 -0.03066638 -0.00680474 -0.04849131 -0.03365912\n",
      "   0.06762161  0.082966   -0.05478796  0.01811001]\n",
      " [ 0.44179652  0.32650094  0.51673099 -0.20271658 -0.31661349 -0.34971944\n",
      "  -0.68749891  0.3270095   0.1827758  -0.00383263]]\n"
     ]
    }
   ],
   "source": [
    "# Calculamos la inversa de la matriz \"A\"\n",
    "InversaA = np.linalg.inv(A)\n",
    "InversaA\n",
    "print(f\"La inversa de la matriz no singular 'A' es: \\n {InversaA}\")"
   ]
  },
  {
   "cell_type": "markdown",
   "id": "50fb9f79",
   "metadata": {},
   "source": [
    "## Problema 11 "
   ]
  },
  {
   "cell_type": "markdown",
   "id": "560080d3",
   "metadata": {},
   "source": [
    "Crear una función que encuentre los n primeros números perfectos "
   ]
  },
  {
   "cell_type": "code",
   "execution_count": 17,
   "id": "7463f7df",
   "metadata": {},
   "outputs": [],
   "source": [
    "def NumeroPerfecto(x):\n",
    "    '''\n",
    "    Un número es perfecto si es igual a la suma de sus divisores excepto él mismo.\n",
    "    La función NumeroPerfecto toma como argumento \"x\" el número de números perfectos\n",
    "    que deseamos encontrar. Utiliza un ciclo while que continúa hasta que se hayan\n",
    "    encontrado \"x\" números perfectos. Para cada número, se encuentran sus divisores y\n",
    "    se suman. Si la suma de los divisores es igual al número, entonces es un número\n",
    "    perfecto y se agrega a la lista de números perfectos.\n",
    "    '''\n",
    "    NumeroPerfecto = []\n",
    "    Numero = 2\n",
    "    Contar = 0\n",
    "    while Contar < x:\n",
    "        Divisores = [i for i in range(1, Numero) if Numero % i == 0]\n",
    "        if sum(Divisores) == Numero:\n",
    "            NumeroPerfecto.append(Numero)\n",
    "            Contar += 1\n",
    "        Numero += 1\n",
    "    return NumeroPerfecto"
   ]
  },
  {
   "cell_type": "code",
   "execution_count": 18,
   "id": "07491481-19b2-4be1-8735-6667af493fcf",
   "metadata": {},
   "outputs": [
    {
     "name": "stdout",
     "output_type": "stream",
     "text": [
      "[6, 28, 496]\n"
     ]
    }
   ],
   "source": [
    "print(NumeroPerfecto(3))"
   ]
  },
  {
   "cell_type": "code",
   "execution_count": null,
   "id": "ca89853e-3677-4516-820b-d5b66f01ff72",
   "metadata": {},
   "outputs": [],
   "source": []
  }
 ],
 "metadata": {
  "kernelspec": {
   "display_name": "Python 3 (ipykernel)",
   "language": "python",
   "name": "python3"
  },
  "language_info": {
   "codemirror_mode": {
    "name": "ipython",
    "version": 3
   },
   "file_extension": ".py",
   "mimetype": "text/x-python",
   "name": "python",
   "nbconvert_exporter": "python",
   "pygments_lexer": "ipython3",
   "version": "3.9.16"
  }
 },
 "nbformat": 4,
 "nbformat_minor": 5
}
