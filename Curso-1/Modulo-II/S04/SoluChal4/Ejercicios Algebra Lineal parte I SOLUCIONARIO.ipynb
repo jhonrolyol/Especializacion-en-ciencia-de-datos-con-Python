{
 "cells": [
  {
   "cell_type": "code",
   "execution_count": 1,
   "id": "f4b433c2",
   "metadata": {},
   "outputs": [],
   "source": [
    "import pandas as pd\n",
    "import numpy as np"
   ]
  },
  {
   "cell_type": "markdown",
   "id": "f785a015",
   "metadata": {},
   "source": [
    "## Problema 1"
   ]
  },
  {
   "cell_type": "markdown",
   "id": "d8272a24",
   "metadata": {},
   "source": [
    "Crear un Data Frame con columnas Nombre, Edad, Peso, sueldo de 10 personas, y poner en un vector los sueldos de todas la personas"
   ]
  },
  {
   "cell_type": "code",
   "execution_count": 2,
   "id": "2e4f3301",
   "metadata": {},
   "outputs": [],
   "source": [
    "data=pd.DataFrame({'Nombre':['Pedro','Pepe','Rosa', 'Carmen', 'Julio', 'Carlos', 'Roberto', 'Luis', 'María', 'Martín'],\n",
    "                   'Edad':[20,18,25,26,30,30,45,50,50,36],\n",
    "                   'Peso':[70,65,68,75,80,81,90,75,71,86],\n",
    "                   'Sueldo':[2000,1800,3000,3200,3500,3100,4000,4500,4200,3600]\n",
    "                  })"
   ]
  },
  {
   "cell_type": "code",
   "execution_count": 3,
   "id": "efc95b47",
   "metadata": {},
   "outputs": [
    {
     "data": {
      "text/html": [
       "<div>\n",
       "<style scoped>\n",
       "    .dataframe tbody tr th:only-of-type {\n",
       "        vertical-align: middle;\n",
       "    }\n",
       "\n",
       "    .dataframe tbody tr th {\n",
       "        vertical-align: top;\n",
       "    }\n",
       "\n",
       "    .dataframe thead th {\n",
       "        text-align: right;\n",
       "    }\n",
       "</style>\n",
       "<table border=\"1\" class=\"dataframe\">\n",
       "  <thead>\n",
       "    <tr style=\"text-align: right;\">\n",
       "      <th></th>\n",
       "      <th>Nombre</th>\n",
       "      <th>Edad</th>\n",
       "      <th>Peso</th>\n",
       "      <th>Sueldo</th>\n",
       "    </tr>\n",
       "  </thead>\n",
       "  <tbody>\n",
       "    <tr>\n",
       "      <th>0</th>\n",
       "      <td>Pedro</td>\n",
       "      <td>20</td>\n",
       "      <td>70</td>\n",
       "      <td>2000</td>\n",
       "    </tr>\n",
       "    <tr>\n",
       "      <th>1</th>\n",
       "      <td>Pepe</td>\n",
       "      <td>18</td>\n",
       "      <td>65</td>\n",
       "      <td>1800</td>\n",
       "    </tr>\n",
       "    <tr>\n",
       "      <th>2</th>\n",
       "      <td>Rosa</td>\n",
       "      <td>25</td>\n",
       "      <td>68</td>\n",
       "      <td>3000</td>\n",
       "    </tr>\n",
       "    <tr>\n",
       "      <th>3</th>\n",
       "      <td>Carmen</td>\n",
       "      <td>26</td>\n",
       "      <td>75</td>\n",
       "      <td>3200</td>\n",
       "    </tr>\n",
       "    <tr>\n",
       "      <th>4</th>\n",
       "      <td>Julio</td>\n",
       "      <td>30</td>\n",
       "      <td>80</td>\n",
       "      <td>3500</td>\n",
       "    </tr>\n",
       "    <tr>\n",
       "      <th>5</th>\n",
       "      <td>Carlos</td>\n",
       "      <td>30</td>\n",
       "      <td>81</td>\n",
       "      <td>3100</td>\n",
       "    </tr>\n",
       "    <tr>\n",
       "      <th>6</th>\n",
       "      <td>Roberto</td>\n",
       "      <td>45</td>\n",
       "      <td>90</td>\n",
       "      <td>4000</td>\n",
       "    </tr>\n",
       "    <tr>\n",
       "      <th>7</th>\n",
       "      <td>Luis</td>\n",
       "      <td>50</td>\n",
       "      <td>75</td>\n",
       "      <td>4500</td>\n",
       "    </tr>\n",
       "    <tr>\n",
       "      <th>8</th>\n",
       "      <td>María</td>\n",
       "      <td>50</td>\n",
       "      <td>71</td>\n",
       "      <td>4200</td>\n",
       "    </tr>\n",
       "    <tr>\n",
       "      <th>9</th>\n",
       "      <td>Martín</td>\n",
       "      <td>36</td>\n",
       "      <td>86</td>\n",
       "      <td>3600</td>\n",
       "    </tr>\n",
       "  </tbody>\n",
       "</table>\n",
       "</div>"
      ],
      "text/plain": [
       "    Nombre  Edad  Peso  Sueldo\n",
       "0    Pedro    20    70    2000\n",
       "1     Pepe    18    65    1800\n",
       "2     Rosa    25    68    3000\n",
       "3   Carmen    26    75    3200\n",
       "4    Julio    30    80    3500\n",
       "5   Carlos    30    81    3100\n",
       "6  Roberto    45    90    4000\n",
       "7     Luis    50    75    4500\n",
       "8    María    50    71    4200\n",
       "9   Martín    36    86    3600"
      ]
     },
     "execution_count": 3,
     "metadata": {},
     "output_type": "execute_result"
    }
   ],
   "source": [
    "data"
   ]
  },
  {
   "cell_type": "code",
   "execution_count": 4,
   "id": "52cc67a2",
   "metadata": {},
   "outputs": [
    {
     "data": {
      "text/plain": [
       "array([[2000, 1800, 3000, 3200, 3500, 3100, 4000, 4500, 4200, 3600]],\n",
       "      dtype=int64)"
      ]
     },
     "execution_count": 4,
     "metadata": {},
     "output_type": "execute_result"
    }
   ],
   "source": [
    "suledos=np.array([data.Sueldo])\n",
    "suledos"
   ]
  },
  {
   "cell_type": "markdown",
   "id": "d9a812a6",
   "metadata": {},
   "source": [
    "## Problema 2"
   ]
  },
  {
   "cell_type": "markdown",
   "id": "ccf5d346",
   "metadata": {},
   "source": [
    "Crear una función con parámetros r y h, para hallar el volumen de un cilindro "
   ]
  },
  {
   "cell_type": "code",
   "execution_count": 2,
   "id": "ed4d2a0b",
   "metadata": {},
   "outputs": [],
   "source": [
    "def VolCilindro(r,h):\n",
    "    v=(np.pi)*(r**2)*h\n",
    "    return('El volumen es', v)"
   ]
  },
  {
   "cell_type": "code",
   "execution_count": 3,
   "id": "e68949f1",
   "metadata": {},
   "outputs": [
    {
     "data": {
      "text/plain": [
       "('El volumen es', 37.69911184307752)"
      ]
     },
     "execution_count": 3,
     "metadata": {},
     "output_type": "execute_result"
    }
   ],
   "source": [
    "VolCilindro(2,3)"
   ]
  },
  {
   "cell_type": "markdown",
   "id": "53716cda",
   "metadata": {},
   "source": [
    "## Problema 3"
   ]
  },
  {
   "cell_type": "markdown",
   "id": "b8d66085",
   "metadata": {},
   "source": [
    "Crear una función para encontrar los n-ésimos primeos términos de una serie de Fibonacci"
   ]
  },
  {
   "cell_type": "code",
   "execution_count": 7,
   "id": "49c00b8a",
   "metadata": {},
   "outputs": [],
   "source": [
    "def Fibonacci(n):\n",
    "    n2=1\n",
    "    n1=0\n",
    "    l=[n1,n2]\n",
    "    for i in range(0,n):\n",
    "        f=l[i]+l[(i+1)]\n",
    "        l.append(f)\n",
    "    return(l)"
   ]
  },
  {
   "cell_type": "code",
   "execution_count": 8,
   "id": "c91490c1-8055-4f44-946e-c490befce481",
   "metadata": {},
   "outputs": [
    {
     "data": {
      "text/plain": [
       "[0,\n",
       " 1,\n",
       " 1,\n",
       " 2,\n",
       " 3,\n",
       " 5,\n",
       " 8,\n",
       " 13,\n",
       " 21,\n",
       " 34,\n",
       " 55,\n",
       " 89,\n",
       " 144,\n",
       " 233,\n",
       " 377,\n",
       " 610,\n",
       " 987,\n",
       " 1597,\n",
       " 2584,\n",
       " 4181,\n",
       " 6765,\n",
       " 10946,\n",
       " 17711,\n",
       " 28657,\n",
       " 46368,\n",
       " 75025,\n",
       " 121393,\n",
       " 196418,\n",
       " 317811,\n",
       " 514229,\n",
       " 832040,\n",
       " 1346269,\n",
       " 2178309,\n",
       " 3524578,\n",
       " 5702887,\n",
       " 9227465,\n",
       " 14930352,\n",
       " 24157817,\n",
       " 39088169,\n",
       " 63245986,\n",
       " 102334155,\n",
       " 165580141,\n",
       " 267914296,\n",
       " 433494437,\n",
       " 701408733,\n",
       " 1134903170,\n",
       " 1836311903,\n",
       " 2971215073,\n",
       " 4807526976,\n",
       " 7778742049,\n",
       " 12586269025,\n",
       " 20365011074,\n",
       " 32951280099,\n",
       " 53316291173,\n",
       " 86267571272,\n",
       " 139583862445,\n",
       " 225851433717,\n",
       " 365435296162,\n",
       " 591286729879,\n",
       " 956722026041,\n",
       " 1548008755920,\n",
       " 2504730781961,\n",
       " 4052739537881,\n",
       " 6557470319842,\n",
       " 10610209857723,\n",
       " 17167680177565,\n",
       " 27777890035288,\n",
       " 44945570212853,\n",
       " 72723460248141,\n",
       " 117669030460994,\n",
       " 190392490709135,\n",
       " 308061521170129,\n",
       " 498454011879264,\n",
       " 806515533049393,\n",
       " 1304969544928657,\n",
       " 2111485077978050,\n",
       " 3416454622906707,\n",
       " 5527939700884757,\n",
       " 8944394323791464,\n",
       " 14472334024676221,\n",
       " 23416728348467685,\n",
       " 37889062373143906,\n",
       " 61305790721611591,\n",
       " 99194853094755497,\n",
       " 160500643816367088,\n",
       " 259695496911122585,\n",
       " 420196140727489673,\n",
       " 679891637638612258,\n",
       " 1100087778366101931,\n",
       " 1779979416004714189,\n",
       " 2880067194370816120,\n",
       " 4660046610375530309,\n",
       " 7540113804746346429,\n",
       " 12200160415121876738,\n",
       " 19740274219868223167,\n",
       " 31940434634990099905,\n",
       " 51680708854858323072,\n",
       " 83621143489848422977,\n",
       " 135301852344706746049,\n",
       " 218922995834555169026,\n",
       " 354224848179261915075,\n",
       " 573147844013817084101]"
      ]
     },
     "execution_count": 8,
     "metadata": {},
     "output_type": "execute_result"
    }
   ],
   "source": [
    "Fibonacci(100)"
   ]
  },
  {
   "cell_type": "markdown",
   "id": "3ce1d642",
   "metadata": {},
   "source": [
    "## Problema 4"
   ]
  },
  {
   "cell_type": "markdown",
   "id": "97c642bb",
   "metadata": {},
   "source": [
    "Crear dos vectores de orden 10 y aplicar las propiedades mostradas en clase "
   ]
  },
  {
   "cell_type": "code",
   "execution_count": 9,
   "id": "6a0c7d93",
   "metadata": {},
   "outputs": [
    {
     "data": {
      "text/plain": [
       "array([3, 4, 5, 5, 2, 4, 5, 5, 6, 9])"
      ]
     },
     "execution_count": 9,
     "metadata": {},
     "output_type": "execute_result"
    }
   ],
   "source": [
    "x=np.array([3,4,5,5,2,4,5,5,6,9])\n",
    "x"
   ]
  },
  {
   "cell_type": "code",
   "execution_count": 10,
   "id": "f6788e4b",
   "metadata": {},
   "outputs": [
    {
     "data": {
      "text/plain": [
       "array([2, 1, 4, 5, 5, 4, 5, 9, 6, 8])"
      ]
     },
     "execution_count": 10,
     "metadata": {},
     "output_type": "execute_result"
    }
   ],
   "source": [
    "y=np.array([2,1,4,5,5,4,5,9,6,8])\n",
    "y"
   ]
  },
  {
   "cell_type": "code",
   "execution_count": 11,
   "id": "1371ef52",
   "metadata": {},
   "outputs": [
    {
     "data": {
      "text/plain": [
       "array([9, 7, 8, 5, 5, 6, 5, 1, 2, 3])"
      ]
     },
     "execution_count": 11,
     "metadata": {},
     "output_type": "execute_result"
    }
   ],
   "source": [
    "z=np.array([9,7,8,5,5,6,5,1,2,3])\n",
    "z"
   ]
  },
  {
   "cell_type": "markdown",
   "id": "4220489c",
   "metadata": {},
   "source": [
    "#### Conmutativa"
   ]
  },
  {
   "cell_type": "code",
   "execution_count": 12,
   "id": "dfd45a0e",
   "metadata": {},
   "outputs": [
    {
     "data": {
      "text/plain": [
       "array([ 5,  5,  9, 10,  7,  8, 10, 14, 12, 17])"
      ]
     },
     "execution_count": 12,
     "metadata": {},
     "output_type": "execute_result"
    }
   ],
   "source": [
    "x+y"
   ]
  },
  {
   "cell_type": "code",
   "execution_count": 13,
   "id": "453ed316",
   "metadata": {},
   "outputs": [
    {
     "data": {
      "text/plain": [
       "array([ 5,  5,  9, 10,  7,  8, 10, 14, 12, 17])"
      ]
     },
     "execution_count": 13,
     "metadata": {},
     "output_type": "execute_result"
    }
   ],
   "source": [
    "y+x"
   ]
  },
  {
   "cell_type": "markdown",
   "id": "b4144ed2",
   "metadata": {},
   "source": [
    "#### Asociativa"
   ]
  },
  {
   "cell_type": "code",
   "execution_count": 14,
   "id": "48022208",
   "metadata": {},
   "outputs": [],
   "source": [
    "a1=x+y"
   ]
  },
  {
   "cell_type": "code",
   "execution_count": 15,
   "id": "1bc31770",
   "metadata": {},
   "outputs": [
    {
     "data": {
      "text/plain": [
       "array([14, 12, 17, 15, 12, 14, 15, 15, 14, 20])"
      ]
     },
     "execution_count": 15,
     "metadata": {},
     "output_type": "execute_result"
    }
   ],
   "source": [
    "a1+z"
   ]
  },
  {
   "cell_type": "code",
   "execution_count": 16,
   "id": "cc274909",
   "metadata": {},
   "outputs": [],
   "source": [
    "a2=y+z"
   ]
  },
  {
   "cell_type": "code",
   "execution_count": 17,
   "id": "4448664a",
   "metadata": {},
   "outputs": [
    {
     "data": {
      "text/plain": [
       "array([14, 12, 17, 15, 12, 14, 15, 15, 14, 20])"
      ]
     },
     "execution_count": 17,
     "metadata": {},
     "output_type": "execute_result"
    }
   ],
   "source": [
    "x+a2"
   ]
  },
  {
   "cell_type": "markdown",
   "id": "dbfbb1c8",
   "metadata": {},
   "source": [
    "#### Elemento neutro"
   ]
  },
  {
   "cell_type": "code",
   "execution_count": 18,
   "id": "94f6d720",
   "metadata": {},
   "outputs": [
    {
     "data": {
      "text/plain": [
       "array([0., 0., 0., 0., 0., 0., 0., 0., 0., 0.])"
      ]
     },
     "execution_count": 18,
     "metadata": {},
     "output_type": "execute_result"
    }
   ],
   "source": [
    "ceros=np.zeros(10)\n",
    "ceros"
   ]
  },
  {
   "cell_type": "code",
   "execution_count": 19,
   "id": "0ccf41a1",
   "metadata": {},
   "outputs": [
    {
     "data": {
      "text/plain": [
       "array([3., 4., 5., 5., 2., 4., 5., 5., 6., 9.])"
      ]
     },
     "execution_count": 19,
     "metadata": {},
     "output_type": "execute_result"
    }
   ],
   "source": [
    "x+ceros"
   ]
  },
  {
   "cell_type": "code",
   "execution_count": 20,
   "id": "8185ad68",
   "metadata": {},
   "outputs": [
    {
     "data": {
      "text/plain": [
       "array([3., 4., 5., 5., 2., 4., 5., 5., 6., 9.])"
      ]
     },
     "execution_count": 20,
     "metadata": {},
     "output_type": "execute_result"
    }
   ],
   "source": [
    "ceros+x"
   ]
  },
  {
   "cell_type": "code",
   "execution_count": 21,
   "id": "dd919dfa",
   "metadata": {},
   "outputs": [
    {
     "data": {
      "text/plain": [
       "array([3, 4, 5, 5, 2, 4, 5, 5, 6, 9])"
      ]
     },
     "execution_count": 21,
     "metadata": {},
     "output_type": "execute_result"
    }
   ],
   "source": [
    "x"
   ]
  },
  {
   "cell_type": "markdown",
   "id": "ad618719",
   "metadata": {},
   "source": [
    "#### Elemento inverso de la suma"
   ]
  },
  {
   "cell_type": "code",
   "execution_count": 22,
   "id": "2924f679",
   "metadata": {},
   "outputs": [
    {
     "data": {
      "text/plain": [
       "array([0, 0, 0, 0, 0, 0, 0, 0, 0, 0])"
      ]
     },
     "execution_count": 22,
     "metadata": {},
     "output_type": "execute_result"
    }
   ],
   "source": [
    "x+np.dot(-1,x)"
   ]
  },
  {
   "cell_type": "markdown",
   "id": "f6f5cd58",
   "metadata": {},
   "source": [
    "## Problema 5"
   ]
  },
  {
   "cell_type": "markdown",
   "id": "65a775af",
   "metadata": {},
   "source": [
    "Craer un Data Frame con 4 oraciones parecidas al ejemplo aplicativo de PLN y vectorizar"
   ]
  },
  {
   "cell_type": "code",
   "execution_count": 23,
   "id": "b8fcdca7",
   "metadata": {},
   "outputs": [],
   "source": [
    "from sklearn.feature_extraction.text import  CountVectorizer\n",
    "from sklearn.feature_extraction.text import  TfidfVectorizer"
   ]
  },
  {
   "cell_type": "code",
   "execution_count": 25,
   "id": "f1b8c474",
   "metadata": {},
   "outputs": [
    {
     "data": {
      "text/html": [
       "<div>\n",
       "<style scoped>\n",
       "    .dataframe tbody tr th:only-of-type {\n",
       "        vertical-align: middle;\n",
       "    }\n",
       "\n",
       "    .dataframe tbody tr th {\n",
       "        vertical-align: top;\n",
       "    }\n",
       "\n",
       "    .dataframe thead th {\n",
       "        text-align: right;\n",
       "    }\n",
       "</style>\n",
       "<table border=\"1\" class=\"dataframe\">\n",
       "  <thead>\n",
       "    <tr style=\"text-align: right;\">\n",
       "      <th></th>\n",
       "      <th>Descripción</th>\n",
       "    </tr>\n",
       "  </thead>\n",
       "  <tbody>\n",
       "    <tr>\n",
       "      <th>0</th>\n",
       "      <td>Mario escribió la Casa Verde</td>\n",
       "    </tr>\n",
       "    <tr>\n",
       "      <th>1</th>\n",
       "      <td>Gabriel escribió Cien Áños de Soledad</td>\n",
       "    </tr>\n",
       "    <tr>\n",
       "      <th>2</th>\n",
       "      <td>César escribió Los Herados Negros</td>\n",
       "    </tr>\n",
       "    <tr>\n",
       "      <th>3</th>\n",
       "      <td>Mario y Gabriel fueron amigos</td>\n",
       "    </tr>\n",
       "  </tbody>\n",
       "</table>\n",
       "</div>"
      ],
      "text/plain": [
       "                             Descripción\n",
       "0           Mario escribió la Casa Verde\n",
       "1  Gabriel escribió Cien Áños de Soledad\n",
       "2      César escribió Los Herados Negros\n",
       "3          Mario y Gabriel fueron amigos"
      ]
     },
     "execution_count": 25,
     "metadata": {},
     "output_type": "execute_result"
    }
   ],
   "source": [
    "datos=pd.DataFrame({'Descripción':['Mario escribió la Casa Verde',\n",
    "                                   'Gabriel escribió Cien Áños de Soledad',\n",
    "                                   'César escribió Los Herados Negros',\n",
    "                                   'Mario y Gabriel fueron amigos'\n",
    "                                  ]})\n",
    "datos"
   ]
  },
  {
   "cell_type": "code",
   "execution_count": 28,
   "id": "bf9a1d9d",
   "metadata": {},
   "outputs": [
    {
     "data": {
      "text/html": [
       "<div>\n",
       "<style scoped>\n",
       "    .dataframe tbody tr th:only-of-type {\n",
       "        vertical-align: middle;\n",
       "    }\n",
       "\n",
       "    .dataframe tbody tr th {\n",
       "        vertical-align: top;\n",
       "    }\n",
       "\n",
       "    .dataframe thead th {\n",
       "        text-align: right;\n",
       "    }\n",
       "</style>\n",
       "<table border=\"1\" class=\"dataframe\">\n",
       "  <thead>\n",
       "    <tr style=\"text-align: right;\">\n",
       "      <th></th>\n",
       "      <th>Descripción</th>\n",
       "    </tr>\n",
       "  </thead>\n",
       "  <tbody>\n",
       "    <tr>\n",
       "      <th>0</th>\n",
       "      <td>mario escribio Casa Verde</td>\n",
       "    </tr>\n",
       "    <tr>\n",
       "      <th>1</th>\n",
       "      <td>gabriel escribio cien años Soledad</td>\n",
       "    </tr>\n",
       "    <tr>\n",
       "      <th>2</th>\n",
       "      <td>cesar escribio heraldos negros</td>\n",
       "    </tr>\n",
       "    <tr>\n",
       "      <th>3</th>\n",
       "      <td>mario gabriel fueron amigos</td>\n",
       "    </tr>\n",
       "  </tbody>\n",
       "</table>\n",
       "</div>"
      ],
      "text/plain": [
       "                          Descripción\n",
       "0           mario escribio Casa Verde\n",
       "1  gabriel escribio cien años Soledad\n",
       "2      cesar escribio heraldos negros\n",
       "3         mario gabriel fueron amigos"
      ]
     },
     "execution_count": 28,
     "metadata": {},
     "output_type": "execute_result"
    }
   ],
   "source": [
    "palabras=pd.DataFrame({'Descripción':['mario escribio Casa Verde',\n",
    "                                   'gabriel escribio cien años Soledad',\n",
    "                                   'cesar escribio heraldos negros',\n",
    "                                   'mario gabriel fueron amigos'\n",
    "                                  ]})\n",
    "palabras"
   ]
  },
  {
   "cell_type": "markdown",
   "id": "c1aad08e",
   "metadata": {},
   "source": [
    "||amigos|años|casa|cesar|cien|escribio|fueron|gabriel|heraldos|mario|negros|soledad|verde|\n",
    "|-|-|-|-|-|-|-|-|-|-|-|-|-|-|\n",
    "|0|0|0|1|0|0|1|0|0|0|1|0|0|1|\n",
    "|1|0|1|0|0|1|1|0|1|0|0|0|1|0|\n",
    "|2|0|0|0|1|0|1|0|0|1|0|1|0|0|\n",
    "|3|1|0|0|0|0|0|1|1|0|1|0|0|0|"
   ]
  },
  {
   "cell_type": "code",
   "execution_count": 29,
   "id": "6727420d",
   "metadata": {},
   "outputs": [],
   "source": [
    "contador=CountVectorizer()\n",
    "vectorizador=TfidfVectorizer()\n"
   ]
  },
  {
   "cell_type": "code",
   "execution_count": 30,
   "id": "5762c160",
   "metadata": {},
   "outputs": [],
   "source": [
    "cantidad=contador.fit_transform(palabras.Descripción)\n",
    "valores=vectorizador.fit_transform(palabras.Descripción)"
   ]
  },
  {
   "cell_type": "code",
   "execution_count": 32,
   "id": "1da7e9eb",
   "metadata": {},
   "outputs": [
    {
     "name": "stdout",
     "output_type": "stream",
     "text": [
      "palalabras\n",
      "['amigos', 'años', 'casa', 'cesar', 'cien', 'escribio', 'fueron', 'gabriel', 'heraldos', 'mario', 'negros', 'soledad', 'verde']\n",
      "cantidad\n",
      "  (0, 9)\t1\n",
      "  (0, 5)\t1\n",
      "  (0, 2)\t1\n",
      "  (0, 12)\t1\n",
      "  (1, 5)\t1\n",
      "  (1, 7)\t1\n",
      "  (1, 4)\t1\n",
      "  (1, 1)\t1\n",
      "  (1, 11)\t1\n",
      "  (2, 5)\t1\n",
      "  (2, 3)\t1\n",
      "  (2, 8)\t1\n",
      "  (2, 10)\t1\n",
      "  (3, 9)\t1\n",
      "  (3, 7)\t1\n",
      "  (3, 6)\t1\n",
      "  (3, 0)\t1\n",
      "Puntuaciones\n",
      "  (0, 12)\t0.5745795256791941\n",
      "  (0, 2)\t0.5745795256791941\n",
      "  (0, 5)\t0.3667466683744504\n",
      "  (0, 9)\t0.4530050977381881\n",
      "  (1, 11)\t0.4981971092712959\n",
      "  (1, 1)\t0.4981971092712959\n",
      "  (1, 4)\t0.4981971092712959\n",
      "  (1, 7)\t0.3927843233041577\n",
      "  (1, 5)\t0.3179927614076589\n",
      "  (2, 10)\t0.5417361046803605\n",
      "  (2, 8)\t0.5417361046803605\n",
      "  (2, 3)\t0.5417361046803605\n",
      "  (2, 5)\t0.3457831381910465\n",
      "  (3, 0)\t0.5552826649411127\n",
      "  (3, 6)\t0.5552826649411127\n",
      "  (3, 7)\t0.43779123108611473\n",
      "  (3, 9)\t0.43779123108611473\n"
     ]
    }
   ],
   "source": [
    "print('palalabras')\n",
    "print(vectorizador.get_feature_names())\n",
    "print('cantidad')\n",
    "print(cantidad)\n",
    "print('Puntuaciones')\n",
    "print(valores)"
   ]
  },
  {
   "cell_type": "markdown",
   "id": "bdf4c139",
   "metadata": {},
   "source": [
    "## Problema 6"
   ]
  },
  {
   "cell_type": "markdown",
   "id": "eb133ae3",
   "metadata": {},
   "source": [
    "Crear dos matrices de cualquier orden y aplicar las propiedades de producto de un escalar con un  vector"
   ]
  },
  {
   "cell_type": "code",
   "execution_count": 33,
   "id": "9c995317",
   "metadata": {},
   "outputs": [
    {
     "data": {
      "text/plain": [
       "array([[1, 2, 3],\n",
       "       [3, 4, 3],\n",
       "       [3, 5, 3]])"
      ]
     },
     "execution_count": 33,
     "metadata": {},
     "output_type": "execute_result"
    }
   ],
   "source": [
    "x=np.array([[1,2,3],[3,4,3],[3,5,3]])\n",
    "x"
   ]
  },
  {
   "cell_type": "code",
   "execution_count": 34,
   "id": "67d643ea",
   "metadata": {},
   "outputs": [
    {
     "data": {
      "text/plain": [
       "array([[3, 2, 1],\n",
       "       [2, 2, 3],\n",
       "       [3, 6, 3]])"
      ]
     },
     "execution_count": 34,
     "metadata": {},
     "output_type": "execute_result"
    }
   ],
   "source": [
    "y=np.array([[3,2,1],[2,2,3],[3,6,3]])\n",
    "y"
   ]
  },
  {
   "cell_type": "code",
   "execution_count": 35,
   "id": "310ca7c8",
   "metadata": {},
   "outputs": [],
   "source": [
    "lam=3\n",
    "beta=5"
   ]
  },
  {
   "cell_type": "markdown",
   "id": "86500567",
   "metadata": {},
   "source": [
    "#### Asociativa"
   ]
  },
  {
   "cell_type": "code",
   "execution_count": 36,
   "id": "d8e1b634",
   "metadata": {},
   "outputs": [],
   "source": [
    "a=lam*beta"
   ]
  },
  {
   "cell_type": "code",
   "execution_count": 37,
   "id": "6e8df4c2",
   "metadata": {},
   "outputs": [
    {
     "data": {
      "text/plain": [
       "array([[15, 30, 45],\n",
       "       [45, 60, 45],\n",
       "       [45, 75, 45]])"
      ]
     },
     "execution_count": 37,
     "metadata": {},
     "output_type": "execute_result"
    }
   ],
   "source": [
    "a*x"
   ]
  },
  {
   "cell_type": "code",
   "execution_count": 38,
   "id": "6af417b1",
   "metadata": {},
   "outputs": [],
   "source": [
    "b=beta*x"
   ]
  },
  {
   "cell_type": "code",
   "execution_count": 39,
   "id": "70ac030f",
   "metadata": {},
   "outputs": [
    {
     "data": {
      "text/plain": [
       "array([[15, 30, 45],\n",
       "       [45, 60, 45],\n",
       "       [45, 75, 45]])"
      ]
     },
     "execution_count": 39,
     "metadata": {},
     "output_type": "execute_result"
    }
   ],
   "source": [
    "lam*b"
   ]
  },
  {
   "cell_type": "markdown",
   "id": "ffff2080",
   "metadata": {},
   "source": [
    "#### Distributiva por la izquierda"
   ]
  },
  {
   "cell_type": "code",
   "execution_count": 40,
   "id": "c06fa22f",
   "metadata": {},
   "outputs": [],
   "source": [
    "a=lam+beta"
   ]
  },
  {
   "cell_type": "code",
   "execution_count": 41,
   "id": "b39b60cc",
   "metadata": {},
   "outputs": [
    {
     "data": {
      "text/plain": [
       "array([[ 8, 16, 24],\n",
       "       [24, 32, 24],\n",
       "       [24, 40, 24]])"
      ]
     },
     "execution_count": 41,
     "metadata": {},
     "output_type": "execute_result"
    }
   ],
   "source": [
    "a*x"
   ]
  },
  {
   "cell_type": "code",
   "execution_count": 42,
   "id": "ec68be30",
   "metadata": {},
   "outputs": [
    {
     "data": {
      "text/plain": [
       "array([[ 8, 16, 24],\n",
       "       [24, 32, 24],\n",
       "       [24, 40, 24]])"
      ]
     },
     "execution_count": 42,
     "metadata": {},
     "output_type": "execute_result"
    }
   ],
   "source": [
    "lam*x+beta*x"
   ]
  },
  {
   "cell_type": "markdown",
   "id": "65826fd1",
   "metadata": {},
   "source": [
    "#### Distributiva por la derecha"
   ]
  },
  {
   "cell_type": "code",
   "execution_count": 43,
   "id": "7521ac6e",
   "metadata": {},
   "outputs": [],
   "source": [
    "a=lam+beta"
   ]
  },
  {
   "cell_type": "code",
   "execution_count": 44,
   "id": "a1cb6ef1",
   "metadata": {},
   "outputs": [
    {
     "data": {
      "text/plain": [
       "array([[ 8, 16, 24],\n",
       "       [24, 32, 24],\n",
       "       [24, 40, 24]])"
      ]
     },
     "execution_count": 44,
     "metadata": {},
     "output_type": "execute_result"
    }
   ],
   "source": [
    "x*a"
   ]
  },
  {
   "cell_type": "code",
   "execution_count": 45,
   "id": "cb8c0517",
   "metadata": {},
   "outputs": [
    {
     "data": {
      "text/plain": [
       "array([[ 8, 16, 24],\n",
       "       [24, 32, 24],\n",
       "       [24, 40, 24]])"
      ]
     },
     "execution_count": 45,
     "metadata": {},
     "output_type": "execute_result"
    }
   ],
   "source": [
    "lam*x+beta*x"
   ]
  },
  {
   "cell_type": "markdown",
   "id": "083352b0",
   "metadata": {},
   "source": [
    "#### distributiva por la derecha para la suma de vectores"
   ]
  },
  {
   "cell_type": "code",
   "execution_count": 46,
   "id": "faa3d149",
   "metadata": {},
   "outputs": [
    {
     "data": {
      "text/plain": [
       "array([[12, 12, 12],\n",
       "       [15, 18, 18],\n",
       "       [18, 33, 18]])"
      ]
     },
     "execution_count": 46,
     "metadata": {},
     "output_type": "execute_result"
    }
   ],
   "source": [
    "a=np.dot(lam,(x+y))\n",
    "a"
   ]
  },
  {
   "cell_type": "code",
   "execution_count": 47,
   "id": "96b4e396",
   "metadata": {},
   "outputs": [
    {
     "data": {
      "text/plain": [
       "array([[12, 12, 12],\n",
       "       [15, 18, 18],\n",
       "       [18, 33, 18]])"
      ]
     },
     "execution_count": 47,
     "metadata": {},
     "output_type": "execute_result"
    }
   ],
   "source": [
    "lam*x+lam*y"
   ]
  },
  {
   "cell_type": "markdown",
   "id": "b2d0bbff",
   "metadata": {},
   "source": [
    "## Problema 7"
   ]
  },
  {
   "cell_type": "markdown",
   "id": "8bc23c6e",
   "metadata": {},
   "source": [
    "Hallar la norma Euclidiana y de Manhattan de un vector que usted cree conveniente"
   ]
  },
  {
   "cell_type": "code",
   "execution_count": 48,
   "id": "e3c14358",
   "metadata": {},
   "outputs": [
    {
     "data": {
      "text/plain": [
       "array([2, 3, 4, 1, 5, 6, 2, 6, 7, 8, 9])"
      ]
     },
     "execution_count": 48,
     "metadata": {},
     "output_type": "execute_result"
    }
   ],
   "source": [
    "x=np.array([2,3,4,1,5,6,2,6,7,8,9])\n",
    "x"
   ]
  },
  {
   "cell_type": "markdown",
   "id": "1362e4b8",
   "metadata": {},
   "source": [
    "#### Norma Euclidiana"
   ]
  },
  {
   "cell_type": "code",
   "execution_count": 49,
   "id": "b062e083",
   "metadata": {},
   "outputs": [
    {
     "data": {
      "text/plain": [
       "18.027756377319946"
      ]
     },
     "execution_count": 49,
     "metadata": {},
     "output_type": "execute_result"
    }
   ],
   "source": [
    "np.linalg.norm(x,2)"
   ]
  },
  {
   "cell_type": "markdown",
   "id": "5ecebcb6",
   "metadata": {},
   "source": [
    "#### Norma de  Manhattan"
   ]
  },
  {
   "cell_type": "code",
   "execution_count": 50,
   "id": "a7116307",
   "metadata": {},
   "outputs": [
    {
     "data": {
      "text/plain": [
       "53.0"
      ]
     },
     "execution_count": 50,
     "metadata": {},
     "output_type": "execute_result"
    }
   ],
   "source": [
    "np.linalg.norm(x, 1)"
   ]
  },
  {
   "cell_type": "markdown",
   "id": "d63a605d",
   "metadata": {},
   "source": [
    "## Problema 8"
   ]
  },
  {
   "cell_type": "markdown",
   "id": "ddafffc4",
   "metadata": {},
   "source": [
    "Probar si  son ortogonales dos vectores que usted crea conveniente"
   ]
  },
  {
   "cell_type": "code",
   "execution_count": 51,
   "id": "64d7befd",
   "metadata": {},
   "outputs": [
    {
     "data": {
      "text/plain": [
       "array([[0.]])"
      ]
     },
     "execution_count": 51,
     "metadata": {},
     "output_type": "execute_result"
    }
   ],
   "source": [
    "x = np.array([[10],[0],[0]])\n",
    "y = np.array([[0],[10],[0]])\n",
    "\n",
    "cos_theta = (x.T@y)/(np.linalg.norm(x,2) * np.linalg.norm(y,2))\n",
    "cos_theta"
   ]
  },
  {
   "cell_type": "code",
   "execution_count": 52,
   "id": "512e5441",
   "metadata": {},
   "outputs": [
    {
     "data": {
      "text/plain": [
       "array([[90.]])"
      ]
     },
     "execution_count": 52,
     "metadata": {},
     "output_type": "execute_result"
    }
   ],
   "source": [
    "cos_inversa = np.arccos(cos_theta)\n",
    "ángulo = cos_inversa * ((180)/np.pi)\n",
    "ángulo"
   ]
  },
  {
   "cell_type": "code",
   "execution_count": null,
   "id": "472e4c18",
   "metadata": {},
   "outputs": [],
   "source": [
    "#sí son ortogonales"
   ]
  },
  {
   "cell_type": "markdown",
   "id": "1d794c89",
   "metadata": {},
   "source": [
    "## Problema 9"
   ]
  },
  {
   "cell_type": "markdown",
   "id": "b8e9a45c",
   "metadata": {},
   "source": [
    "Aplicar las propiedades de la  Multiplicación matriz-matriz para las matrices que usted crea conveniente"
   ]
  },
  {
   "cell_type": "code",
   "execution_count": 53,
   "id": "52af35b9",
   "metadata": {},
   "outputs": [
    {
     "data": {
      "text/plain": [
       "array([[2, 3, 4, 5],\n",
       "       [1, 2, 4, 6],\n",
       "       [8, 9, 5, 7]])"
      ]
     },
     "execution_count": 53,
     "metadata": {},
     "output_type": "execute_result"
    }
   ],
   "source": [
    "A=np.array([[2,3,4,5],[1,2,4,6],[8,9,5,7]])\n",
    "A"
   ]
  },
  {
   "cell_type": "code",
   "execution_count": 54,
   "id": "0a90edaf",
   "metadata": {},
   "outputs": [
    {
     "data": {
      "text/plain": [
       "array([[3, 1, 4, 6],\n",
       "       [9, 2, 4, 1],\n",
       "       [4, 5, 5, 6],\n",
       "       [1, 5, 2, 1]])"
      ]
     },
     "execution_count": 54,
     "metadata": {},
     "output_type": "execute_result"
    }
   ],
   "source": [
    "B=np.array([[3,1,4,6],[9,2,4,1],[4,5,5,6],[1,5,2,1]])\n",
    "B"
   ]
  },
  {
   "cell_type": "code",
   "execution_count": 55,
   "id": "ce888c58",
   "metadata": {},
   "outputs": [
    {
     "data": {
      "text/plain": [
       "array([[30,  1,  4,  6,  6,  7,  9],\n",
       "       [10,  2,  4,  1,  1,  2,  3],\n",
       "       [ 0,  5,  5,  6,  0,  1,  2],\n",
       "       [ 1,  0,  2,  1,  9,  8,  7]])"
      ]
     },
     "execution_count": 55,
     "metadata": {},
     "output_type": "execute_result"
    }
   ],
   "source": [
    "C=np.array([[30,1,4,6,6,7,9],[10,2,4,1,1,2,3],[0,5,5,6,0,1,2],[1,0,2,1,9,8,7]])\n",
    "C"
   ]
  },
  {
   "cell_type": "markdown",
   "id": "59bfbeb9",
   "metadata": {},
   "source": [
    "#### Asociativa"
   ]
  },
  {
   "cell_type": "code",
   "execution_count": 56,
   "id": "3a3257e8",
   "metadata": {},
   "outputs": [],
   "source": [
    "Z=A@B\n"
   ]
  },
  {
   "cell_type": "code",
   "execution_count": 57,
   "id": "7d32e8ef",
   "metadata": {},
   "outputs": [
    {
     "data": {
      "text/plain": [
       "array([[2194,  410,  766,  721,  773,  886, 1053],\n",
       "       [1878,  373,  688,  615,  655,  759,  906],\n",
       "       [4914,  839, 1595, 1614, 1724, 1955, 2318]])"
      ]
     },
     "execution_count": 57,
     "metadata": {},
     "output_type": "execute_result"
    }
   ],
   "source": [
    "Z@C"
   ]
  },
  {
   "cell_type": "code",
   "execution_count": 58,
   "id": "90cf087e",
   "metadata": {},
   "outputs": [],
   "source": [
    "W=B@C"
   ]
  },
  {
   "cell_type": "code",
   "execution_count": 59,
   "id": "35f3e3cb",
   "metadata": {},
   "outputs": [
    {
     "data": {
      "text/plain": [
       "array([[2194,  410,  766,  721,  773,  886, 1053],\n",
       "       [1878,  373,  688,  615,  655,  759,  906],\n",
       "       [4914,  839, 1595, 1614, 1724, 1955, 2318]])"
      ]
     },
     "execution_count": 59,
     "metadata": {},
     "output_type": "execute_result"
    }
   ],
   "source": [
    "A@W"
   ]
  },
  {
   "cell_type": "markdown",
   "id": "8b699721",
   "metadata": {},
   "source": [
    "#### Multipliación por un escalar"
   ]
  },
  {
   "cell_type": "code",
   "execution_count": 60,
   "id": "b397bce6",
   "metadata": {},
   "outputs": [],
   "source": [
    "lam=15"
   ]
  },
  {
   "cell_type": "code",
   "execution_count": 61,
   "id": "c0f46ade",
   "metadata": {},
   "outputs": [],
   "source": [
    "Z=A@B"
   ]
  },
  {
   "cell_type": "code",
   "execution_count": 62,
   "id": "9ed70c11",
   "metadata": {},
   "outputs": [
    {
     "data": {
      "text/plain": [
       "array([[ 810,  795,  750,  660],\n",
       "       [ 645,  825,  660,  570],\n",
       "       [1980, 1290, 1605, 1410]])"
      ]
     },
     "execution_count": 62,
     "metadata": {},
     "output_type": "execute_result"
    }
   ],
   "source": [
    "np.dot(lam,Z)"
   ]
  },
  {
   "cell_type": "code",
   "execution_count": 63,
   "id": "d0e9a4b6",
   "metadata": {},
   "outputs": [],
   "source": [
    "W=np.dot(lam,A)"
   ]
  },
  {
   "cell_type": "code",
   "execution_count": 64,
   "id": "a9f4fd7f",
   "metadata": {},
   "outputs": [
    {
     "data": {
      "text/plain": [
       "array([[ 810,  795,  750,  660],\n",
       "       [ 645,  825,  660,  570],\n",
       "       [1980, 1290, 1605, 1410]])"
      ]
     },
     "execution_count": 64,
     "metadata": {},
     "output_type": "execute_result"
    }
   ],
   "source": [
    "W@B"
   ]
  },
  {
   "cell_type": "markdown",
   "id": "a647c0e3",
   "metadata": {},
   "source": [
    "#### Distributiva"
   ]
  },
  {
   "cell_type": "code",
   "execution_count": 65,
   "id": "a5e15601",
   "metadata": {},
   "outputs": [
    {
     "data": {
      "text/plain": [
       "array([[30,  1,  4,  6],\n",
       "       [ 1,  1,  2,  3],\n",
       "       [ 6,  0,  1,  2],\n",
       "       [ 1,  0,  2,  1]])"
      ]
     },
     "execution_count": 65,
     "metadata": {},
     "output_type": "execute_result"
    }
   ],
   "source": [
    "C=np.array([[30,1,4,6],[1,1,2,3],[6,0,1,2],[1,0,2,1]])\n",
    "C"
   ]
  },
  {
   "cell_type": "code",
   "execution_count": 66,
   "id": "74fd790a",
   "metadata": {},
   "outputs": [],
   "source": [
    "W=B+C"
   ]
  },
  {
   "cell_type": "code",
   "execution_count": 67,
   "id": "e364ae9a",
   "metadata": {},
   "outputs": [
    {
     "data": {
      "text/plain": [
       "array([[146,  58,  78,  78],\n",
       "       [105,  58,  68,  64],\n",
       "       [418, 103, 176, 186]])"
      ]
     },
     "execution_count": 67,
     "metadata": {},
     "output_type": "execute_result"
    }
   ],
   "source": [
    "A@W"
   ]
  },
  {
   "cell_type": "code",
   "execution_count": 68,
   "id": "d2aa29b9",
   "metadata": {},
   "outputs": [
    {
     "data": {
      "text/plain": [
       "array([[146,  58,  78,  78],\n",
       "       [105,  58,  68,  64],\n",
       "       [418, 103, 176, 186]])"
      ]
     },
     "execution_count": 68,
     "metadata": {},
     "output_type": "execute_result"
    }
   ],
   "source": [
    "A@B+A@C"
   ]
  },
  {
   "cell_type": "markdown",
   "id": "5878ec8d",
   "metadata": {},
   "source": [
    "#### Transpuesta del producto"
   ]
  },
  {
   "cell_type": "code",
   "execution_count": 69,
   "id": "b2789b74",
   "metadata": {},
   "outputs": [
    {
     "data": {
      "text/plain": [
       "array([[ 54,  43, 132],\n",
       "       [ 53,  55,  86],\n",
       "       [ 50,  44, 107],\n",
       "       [ 44,  38,  94]])"
      ]
     },
     "execution_count": 69,
     "metadata": {},
     "output_type": "execute_result"
    }
   ],
   "source": [
    "np.transpose(A@B)"
   ]
  },
  {
   "cell_type": "code",
   "execution_count": 70,
   "id": "2010e08f",
   "metadata": {},
   "outputs": [
    {
     "data": {
      "text/plain": [
       "array([[ 54,  43, 132],\n",
       "       [ 53,  55,  86],\n",
       "       [ 50,  44, 107],\n",
       "       [ 44,  38,  94]])"
      ]
     },
     "execution_count": 70,
     "metadata": {},
     "output_type": "execute_result"
    }
   ],
   "source": [
    "np.transpose(B)@np.transpose(A)"
   ]
  },
  {
   "cell_type": "markdown",
   "id": "c11a87f7",
   "metadata": {},
   "source": [
    "## Problema 10"
   ]
  },
  {
   "cell_type": "markdown",
   "id": "18cd9509",
   "metadata": {},
   "source": [
    "Hallar la inversa de una matriz no singular que usted crea conveniente de orden 10X10"
   ]
  },
  {
   "cell_type": "code",
   "execution_count": 71,
   "id": "820e6add",
   "metadata": {},
   "outputs": [
    {
     "data": {
      "text/plain": [
       "array([ 1,  3,  5,  7,  9, 11, 13, 15, 17, 19])"
      ]
     },
     "execution_count": 71,
     "metadata": {},
     "output_type": "execute_result"
    }
   ],
   "source": [
    "A=np.arange(1,20,2)\n",
    "A"
   ]
  },
  {
   "cell_type": "code",
   "execution_count": 72,
   "id": "f3da5708",
   "metadata": {},
   "outputs": [],
   "source": [
    "mat=[]\n",
    "k=-300\n",
    "for i in range(0,10):\n",
    "    k=k+6\n",
    "    mat.append(np.linspace(k,100,10))"
   ]
  },
  {
   "cell_type": "code",
   "execution_count": 73,
   "id": "627f4100",
   "metadata": {},
   "outputs": [
    {
     "data": {
      "text/plain": [
       "[array([-294.        , -250.22222222, -206.44444444, -162.66666667,\n",
       "        -118.88888889,  -75.11111111,  -31.33333333,   12.44444444,\n",
       "          56.22222222,  100.        ]),\n",
       " array([-288.        , -244.88888889, -201.77777778, -158.66666667,\n",
       "        -115.55555556,  -72.44444444,  -29.33333333,   13.77777778,\n",
       "          56.88888889,  100.        ]),\n",
       " array([-282.        , -239.55555556, -197.11111111, -154.66666667,\n",
       "        -112.22222222,  -69.77777778,  -27.33333333,   15.11111111,\n",
       "          57.55555556,  100.        ]),\n",
       " array([-276.        , -234.22222222, -192.44444444, -150.66666667,\n",
       "        -108.88888889,  -67.11111111,  -25.33333333,   16.44444444,\n",
       "          58.22222222,  100.        ]),\n",
       " array([-270.        , -228.88888889, -187.77777778, -146.66666667,\n",
       "        -105.55555556,  -64.44444444,  -23.33333333,   17.77777778,\n",
       "          58.88888889,  100.        ]),\n",
       " array([-264.        , -223.55555556, -183.11111111, -142.66666667,\n",
       "        -102.22222222,  -61.77777778,  -21.33333333,   19.11111111,\n",
       "          59.55555556,  100.        ]),\n",
       " array([-258.        , -218.22222222, -178.44444444, -138.66666667,\n",
       "         -98.88888889,  -59.11111111,  -19.33333333,   20.44444444,\n",
       "          60.22222222,  100.        ]),\n",
       " array([-252.        , -212.88888889, -173.77777778, -134.66666667,\n",
       "         -95.55555556,  -56.44444444,  -17.33333333,   21.77777778,\n",
       "          60.88888889,  100.        ]),\n",
       " array([-246.        , -207.55555556, -169.11111111, -130.66666667,\n",
       "         -92.22222222,  -53.77777778,  -15.33333333,   23.11111111,\n",
       "          61.55555556,  100.        ]),\n",
       " array([-240.        , -202.22222222, -164.44444444, -126.66666667,\n",
       "         -88.88888889,  -51.11111111,  -13.33333333,   24.44444444,\n",
       "          62.22222222,  100.        ])]"
      ]
     },
     "execution_count": 73,
     "metadata": {},
     "output_type": "execute_result"
    }
   ],
   "source": [
    "mat"
   ]
  },
  {
   "cell_type": "code",
   "execution_count": 131,
   "id": "6bb80451",
   "metadata": {},
   "outputs": [],
   "source": [
    "#vemos que sea no singular"
   ]
  },
  {
   "cell_type": "code",
   "execution_count": 74,
   "id": "a8bd4ff2",
   "metadata": {},
   "outputs": [
    {
     "data": {
      "text/plain": [
       "1.5717859565655175e-107"
      ]
     },
     "execution_count": 74,
     "metadata": {},
     "output_type": "execute_result"
    }
   ],
   "source": [
    "np.linalg.det(mat)"
   ]
  },
  {
   "cell_type": "code",
   "execution_count": null,
   "id": "2a4c1f05",
   "metadata": {},
   "outputs": [],
   "source": [
    "#calculamos la inversa"
   ]
  },
  {
   "cell_type": "code",
   "execution_count": 75,
   "id": "3c56cfe0",
   "metadata": {},
   "outputs": [
    {
     "data": {
      "text/plain": [
       "array([[-4.88036306e+13,  3.07646517e+13,  4.10108744e+13,\n",
       "         9.13116007e+12, -2.52814613e+12, -4.40073602e+13,\n",
       "         3.11556743e+13, -3.00936293e+13,  6.64278754e+12,\n",
       "         6.72761819e+12],\n",
       "       [-6.92566718e+11, -4.61959468e+12, -2.39088332e+13,\n",
       "        -4.57821098e+12,  3.00818797e+12,  2.56125709e+13,\n",
       "         3.81142661e+13,  3.48129581e+12, -7.75657144e+11,\n",
       "        -3.56414581e+13],\n",
       "       [ 2.92252625e+13,  1.72831304e+13, -2.40911092e+13,\n",
       "        -2.07344876e+13, -2.01742635e+13,  3.23174283e+13,\n",
       "        -4.80560559e+13,  7.51397055e+12, -7.50588535e+12,\n",
       "         3.42220097e+13],\n",
       "       [ 3.51494108e+13, -4.09307581e+13,  1.12493887e+13,\n",
       "        -1.33468907e+13, -5.57388687e+12, -3.70412153e+11,\n",
       "        -1.10772596e+13,  4.79657079e+13, -2.09115629e+13,\n",
       "        -2.15373703e+12],\n",
       "       [ 6.30015997e+13, -4.26032063e+12, -1.96856195e+13,\n",
       "        -4.06934074e+13,  9.98971734e+12, -4.96792561e+13,\n",
       "        -2.41907861e+13,  2.49742933e+12,  6.53738855e+13,\n",
       "        -2.35324224e+12],\n",
       "       [-3.09267720e+13, -4.90671410e+13,  2.80593531e+13,\n",
       "         6.27295486e+13,  2.04201575e+13,  3.14259858e+13,\n",
       "        -4.32398059e+13,  2.26972254e+13, -4.53944508e+13,\n",
       "         3.29589939e+12],\n",
       "       [-3.85768496e+13,  1.29278695e+13, -2.76186303e+13,\n",
       "         4.58351737e+13,  1.82165434e+13,  3.42784418e+13,\n",
       "         2.48763549e+13, -6.58146083e+13, -9.10827169e+12,\n",
       "         4.98397662e+12],\n",
       "       [-1.80206666e+13,  4.11341302e+13, -6.22888257e+13,\n",
       "         4.34846519e+13, -1.88041738e+13,  4.93609562e+13,\n",
       "        -3.17320433e+13, -4.70104345e+12,  9.40208690e+12,\n",
       "        -7.83507242e+12],\n",
       "       [-1.02291223e+13, -1.88041738e+13,  1.16938456e+14,\n",
       "        -9.22579778e+13,  2.46804781e+13, -1.11698751e+14,\n",
       "         1.00288927e+14,  6.17011953e+12, -1.23402391e+13,\n",
       "        -2.74771637e+12],\n",
       "       [ 1.98733347e+13,  1.55722064e+13, -3.96650541e+13,\n",
       "         1.04304402e+13, -2.92346140e+13,  3.27603966e+13,\n",
       "        -3.61392715e+13,  1.02835326e+13,  1.46173070e+13,\n",
       "         1.50172221e+12]])"
      ]
     },
     "execution_count": 75,
     "metadata": {},
     "output_type": "execute_result"
    }
   ],
   "source": [
    "np.linalg.inv(mat)"
   ]
  },
  {
   "cell_type": "markdown",
   "id": "50fb9f79",
   "metadata": {},
   "source": [
    "## Problema 11 "
   ]
  },
  {
   "cell_type": "markdown",
   "id": "560080d3",
   "metadata": {},
   "source": [
    "Crear una función que encuentre los n primeros números perfectos "
   ]
  },
  {
   "cell_type": "code",
   "execution_count": 76,
   "id": "96c29fcd",
   "metadata": {},
   "outputs": [],
   "source": [
    "#creando una función de divisores menores que el numero\n",
    "def divisoresM(N):        \n",
    "    divisores=[]\n",
    "    for i in range(1,N):\n",
    "        if N%i==0:\n",
    "            divisores.append(i)\n",
    "    return(divisores)        \n",
    "        "
   ]
  },
  {
   "cell_type": "code",
   "execution_count": 77,
   "id": "e3db6637",
   "metadata": {},
   "outputs": [
    {
     "data": {
      "text/plain": [
       "[1, 23, 89]"
      ]
     },
     "execution_count": 77,
     "metadata": {},
     "output_type": "execute_result"
    }
   ],
   "source": [
    "divisoresM(2047)"
   ]
  },
  {
   "cell_type": "code",
   "execution_count": 78,
   "id": "99a23975",
   "metadata": {},
   "outputs": [
    {
     "name": "stdout",
     "output_type": "stream",
     "text": [
      "[6]\n",
      "[6, 28]\n",
      "[6, 28, 496]\n",
      "[6, 28, 496, 8128]\n"
     ]
    }
   ],
   "source": [
    "#hallando los primeros números perfectos entre 1 y 10000,\n",
    "#OJO, tener cuidado y no subir la cifra, por que el bucle se demorará un montón\n",
    "perfecto=[]\n",
    "for i in range(1,10000):\n",
    "    if sum(divisoresM(i))==i:\n",
    "        perfecto.append(i)\n",
    "        print(perfecto)\n",
    "    \n",
    "    "
   ]
  }
 ],
 "metadata": {
  "kernelspec": {
   "display_name": "Python 3",
   "language": "python",
   "name": "python3"
  },
  "language_info": {
   "codemirror_mode": {
    "name": "ipython",
    "version": 3
   },
   "file_extension": ".py",
   "mimetype": "text/x-python",
   "name": "python",
   "nbconvert_exporter": "python",
   "pygments_lexer": "ipython3",
   "version": "3.8.8"
  }
 },
 "nbformat": 4,
 "nbformat_minor": 5
}
