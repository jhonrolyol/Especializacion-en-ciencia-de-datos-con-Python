{
 "cells": [
  {
   "cell_type": "code",
   "execution_count": 4,
   "id": "ef477627",
   "metadata": {},
   "outputs": [],
   "source": [
    "import numpy as np\n",
    "import pandas as pd"
   ]
  },
  {
   "cell_type": "markdown",
   "id": "731239be",
   "metadata": {},
   "source": [
    "#### 1) Crear una matriz de una solo dimensión con numpy utilizando tupla"
   ]
  },
  {
   "cell_type": "code",
   "execution_count": 2,
   "id": "b6975b7b",
   "metadata": {},
   "outputs": [
    {
     "data": {
      "text/plain": [
       "array([2, 3, 6, 7, 9, 4, 6, 7, 1, 9])"
      ]
     },
     "execution_count": 2,
     "metadata": {},
     "output_type": "execute_result"
    }
   ],
   "source": [
    "x=np.array((2,3,6,7,9,4,6,7,1,9))\n",
    "x"
   ]
  },
  {
   "cell_type": "code",
   "execution_count": 3,
   "id": "37d35d1c",
   "metadata": {},
   "outputs": [
    {
     "data": {
      "text/plain": [
       "10"
      ]
     },
     "execution_count": 3,
     "metadata": {},
     "output_type": "execute_result"
    }
   ],
   "source": [
    "len(x)"
   ]
  },
  {
   "cell_type": "markdown",
   "id": "97232bbb",
   "metadata": {},
   "source": [
    "#### 2) Crear una matriz de 2-D  con numpy"
   ]
  },
  {
   "cell_type": "code",
   "execution_count": 4,
   "id": "2f101fab",
   "metadata": {},
   "outputs": [
    {
     "data": {
      "text/plain": [
       "array([[ 2,  3,  4,  5, 67],\n",
       "       [ 1,  3,  4,  6,  7]])"
      ]
     },
     "execution_count": 4,
     "metadata": {},
     "output_type": "execute_result"
    }
   ],
   "source": [
    "y=np.array([[2,3,4,5,67],[1,3,4,6,7]])\n",
    "y"
   ]
  },
  {
   "cell_type": "markdown",
   "id": "e6f60142",
   "metadata": {},
   "source": [
    "#### 3) Acceder a elementos de un arreglo 2-D en Numpy"
   ]
  },
  {
   "cell_type": "code",
   "execution_count": 5,
   "id": "c3d71207",
   "metadata": {},
   "outputs": [
    {
     "data": {
      "text/plain": [
       "array([[ 2,  3,  4,  5, 67],\n",
       "       [ 1,  3,  4,  6,  7]])"
      ]
     },
     "execution_count": 5,
     "metadata": {},
     "output_type": "execute_result"
    }
   ],
   "source": [
    "y=np.array([[2,3,4,5,67],[1,3,4,6,7]])\n",
    "y"
   ]
  },
  {
   "cell_type": "code",
   "execution_count": 6,
   "id": "3c834dbc",
   "metadata": {},
   "outputs": [
    {
     "data": {
      "text/plain": [
       "4"
      ]
     },
     "execution_count": 6,
     "metadata": {},
     "output_type": "execute_result"
    }
   ],
   "source": [
    "#Elemento de la fila 2 y columna 3\n",
    "y[1][2]"
   ]
  },
  {
   "cell_type": "code",
   "execution_count": 7,
   "id": "5b6037f3",
   "metadata": {},
   "outputs": [
    {
     "data": {
      "text/plain": [
       "67"
      ]
     },
     "execution_count": 7,
     "metadata": {},
     "output_type": "execute_result"
    }
   ],
   "source": [
    "#Elemento de la fila 1 y columna 5\n",
    "y[0][4]"
   ]
  },
  {
   "cell_type": "markdown",
   "id": "43b64822",
   "metadata": {},
   "source": [
    "#### 4) Obtener la forma de un arreglo Numpy "
   ]
  },
  {
   "cell_type": "code",
   "execution_count": 8,
   "id": "1e5c12d9",
   "metadata": {},
   "outputs": [
    {
     "data": {
      "text/plain": [
       "(2, 5)"
      ]
     },
     "execution_count": 8,
     "metadata": {},
     "output_type": "execute_result"
    }
   ],
   "source": [
    "y.shape"
   ]
  },
  {
   "cell_type": "markdown",
   "id": "56406dee",
   "metadata": {},
   "source": [
    "#### 5)  Crear una matriz de orden 2x6 con numpy y mostrar el elemento de la fila 2 y columna 3"
   ]
  },
  {
   "cell_type": "code",
   "execution_count": 9,
   "id": "91eb4534",
   "metadata": {},
   "outputs": [
    {
     "data": {
      "text/plain": [
       "array([[14,  7, 98,  1,  2,  9],\n",
       "       [ 7,  8,  9,  4,  6,  3]])"
      ]
     },
     "execution_count": 9,
     "metadata": {},
     "output_type": "execute_result"
    }
   ],
   "source": [
    "x=np.array([[14,7,98,1,2,9],[7,8,9,4,6,3]])\n",
    "x"
   ]
  },
  {
   "cell_type": "code",
   "execution_count": 10,
   "id": "3e2bf992",
   "metadata": {},
   "outputs": [
    {
     "data": {
      "text/plain": [
       "9"
      ]
     },
     "execution_count": 10,
     "metadata": {},
     "output_type": "execute_result"
    }
   ],
   "source": [
    "x[1][2]"
   ]
  },
  {
   "cell_type": "markdown",
   "id": "7738e119",
   "metadata": {},
   "source": [
    "#### 6) Mostrar mediante un ejemplo las diferencias entre una tupla y una lista "
   ]
  },
  {
   "cell_type": "code",
   "execution_count": 11,
   "id": "ca2a16a4",
   "metadata": {},
   "outputs": [],
   "source": [
    "#lista\n",
    "x=[2,4,6,8]\n",
    "\n",
    "#tupla\n",
    "y=(3,6,9)"
   ]
  },
  {
   "cell_type": "code",
   "execution_count": 12,
   "id": "e8c7ab6a",
   "metadata": {},
   "outputs": [],
   "source": [
    "#se puede modificar los elementos de una lista\n",
    "x[1]=20"
   ]
  },
  {
   "cell_type": "code",
   "execution_count": 13,
   "id": "76aec1ee",
   "metadata": {},
   "outputs": [
    {
     "data": {
      "text/plain": [
       "[2, 20, 6, 8]"
      ]
     },
     "execution_count": 13,
     "metadata": {},
     "output_type": "execute_result"
    }
   ],
   "source": [
    "x"
   ]
  },
  {
   "cell_type": "code",
   "execution_count": 14,
   "id": "d2301df3",
   "metadata": {},
   "outputs": [
    {
     "ename": "TypeError",
     "evalue": "'tuple' object does not support item assignment",
     "output_type": "error",
     "traceback": [
      "\u001b[1;31m---------------------------------------------------------------------------\u001b[0m",
      "\u001b[1;31mTypeError\u001b[0m                                 Traceback (most recent call last)",
      "\u001b[1;32m<ipython-input-14-a5c442e4c2a6>\u001b[0m in \u001b[0;36m<module>\u001b[1;34m\u001b[0m\n\u001b[0;32m      1\u001b[0m \u001b[1;31m#no se puede modificar los elementos de una tupla\u001b[0m\u001b[1;33m\u001b[0m\u001b[1;33m\u001b[0m\u001b[1;33m\u001b[0m\u001b[0m\n\u001b[1;32m----> 2\u001b[1;33m \u001b[0my\u001b[0m\u001b[1;33m[\u001b[0m\u001b[1;36m1\u001b[0m\u001b[1;33m]\u001b[0m\u001b[1;33m=\u001b[0m\u001b[1;36m20\u001b[0m\u001b[1;33m\u001b[0m\u001b[1;33m\u001b[0m\u001b[0m\n\u001b[0m",
      "\u001b[1;31mTypeError\u001b[0m: 'tuple' object does not support item assignment"
     ]
    }
   ],
   "source": [
    "#no se puede modificar los elementos de una tupla\n",
    "y[1]=20"
   ]
  },
  {
   "cell_type": "markdown",
   "id": "f618e1ed",
   "metadata": {},
   "source": [
    "#### 7) Crear dos matrices, una de 2x2 y la otra 3x2, reemplazar el elemento de la fila 1 y columna 2 de la primera matriz con el elemento de la fila 2 y columna 1 de la segunda matriz"
   ]
  },
  {
   "cell_type": "code",
   "execution_count": 15,
   "id": "90525348",
   "metadata": {},
   "outputs": [
    {
     "data": {
      "text/plain": [
       "array([[1, 3],\n",
       "       [6, 8]])"
      ]
     },
     "execution_count": 15,
     "metadata": {},
     "output_type": "execute_result"
    }
   ],
   "source": [
    "x=np.array([[1,3],[6,8]])\n",
    "x"
   ]
  },
  {
   "cell_type": "code",
   "execution_count": 16,
   "id": "0df92636",
   "metadata": {},
   "outputs": [
    {
     "data": {
      "text/plain": [
       "array([[1, 3],\n",
       "       [6, 8],\n",
       "       [9, 5]])"
      ]
     },
     "execution_count": 16,
     "metadata": {},
     "output_type": "execute_result"
    }
   ],
   "source": [
    "y=np.array([[1,3],[6,8],[9,5]])\n",
    "y"
   ]
  },
  {
   "cell_type": "code",
   "execution_count": 17,
   "id": "2d4e242b",
   "metadata": {},
   "outputs": [],
   "source": [
    "x[0][1]=y[1][0]"
   ]
  },
  {
   "cell_type": "code",
   "execution_count": 18,
   "id": "3343be9f",
   "metadata": {},
   "outputs": [
    {
     "data": {
      "text/plain": [
       "array([[1, 6],\n",
       "       [6, 8]])"
      ]
     },
     "execution_count": 18,
     "metadata": {},
     "output_type": "execute_result"
    }
   ],
   "source": [
    "x"
   ]
  },
  {
   "cell_type": "markdown",
   "id": "d69d8386",
   "metadata": {},
   "source": [
    "#### 8) Mover dos elementos de una matriz a otra del ejercicio anterior"
   ]
  },
  {
   "cell_type": "code",
   "execution_count": 19,
   "id": "f91993df",
   "metadata": {},
   "outputs": [
    {
     "data": {
      "text/plain": [
       "array([[1, 3],\n",
       "       [6, 8]])"
      ]
     },
     "execution_count": 19,
     "metadata": {},
     "output_type": "execute_result"
    }
   ],
   "source": [
    "x=np.array([[1,3],[6,8]])\n",
    "x"
   ]
  },
  {
   "cell_type": "code",
   "execution_count": 20,
   "id": "e4c2d080",
   "metadata": {},
   "outputs": [
    {
     "data": {
      "text/plain": [
       "array([[2, 4],\n",
       "       [7, 5],\n",
       "       [9, 5]])"
      ]
     },
     "execution_count": 20,
     "metadata": {},
     "output_type": "execute_result"
    }
   ],
   "source": [
    "y=np.array([[2,4],[7,5],[9,5]])\n",
    "y"
   ]
  },
  {
   "cell_type": "code",
   "execution_count": 21,
   "id": "4ec0a693",
   "metadata": {},
   "outputs": [],
   "source": [
    "x[0][0]=y[1][1]\n",
    "x[1][0]=y[2][0]"
   ]
  },
  {
   "cell_type": "code",
   "execution_count": 22,
   "id": "6a22d7a9",
   "metadata": {},
   "outputs": [
    {
     "data": {
      "text/plain": [
       "array([[5, 3],\n",
       "       [9, 8]])"
      ]
     },
     "execution_count": 22,
     "metadata": {},
     "output_type": "execute_result"
    }
   ],
   "source": [
    "x"
   ]
  },
  {
   "cell_type": "markdown",
   "id": "12715afe",
   "metadata": {},
   "source": [
    "#### 9) Intercambiar todos los elementos de las matrices del ejercio 7 si fuera posible"
   ]
  },
  {
   "cell_type": "code",
   "execution_count": 23,
   "id": "41739973",
   "metadata": {},
   "outputs": [
    {
     "data": {
      "text/plain": [
       "array([[1, 3],\n",
       "       [6, 8]])"
      ]
     },
     "execution_count": 23,
     "metadata": {},
     "output_type": "execute_result"
    }
   ],
   "source": [
    "x=np.array([[1,3],[6,8]])\n",
    "x"
   ]
  },
  {
   "cell_type": "code",
   "execution_count": 24,
   "id": "32d49d95",
   "metadata": {},
   "outputs": [
    {
     "data": {
      "text/plain": [
       "array([[2, 4],\n",
       "       [7, 5],\n",
       "       [9, 5]])"
      ]
     },
     "execution_count": 24,
     "metadata": {},
     "output_type": "execute_result"
    }
   ],
   "source": [
    "y=np.array([[2,4],[7,5],[9,5]])\n",
    "y"
   ]
  },
  {
   "cell_type": "code",
   "execution_count": 25,
   "id": "448fc5f1",
   "metadata": {},
   "outputs": [],
   "source": [
    "z=np.copy(x)\n",
    "x[0][0]=y[0][0]\n",
    "x[0][1]=y[0][1]\n",
    "x[1][0]=y[1][0]\n",
    "x[1][1]=y[1][1]\n",
    "\n",
    "y[0][0]=z[0][0]\n",
    "y[0][1]=z[0][1]\n",
    "y[1][0]=z[1][0]\n",
    "y[1][1]=z[1][1]\n"
   ]
  },
  {
   "cell_type": "code",
   "execution_count": 26,
   "id": "f2ebee76",
   "metadata": {},
   "outputs": [
    {
     "data": {
      "text/plain": [
       "array([[2, 4],\n",
       "       [7, 5]])"
      ]
     },
     "execution_count": 26,
     "metadata": {},
     "output_type": "execute_result"
    }
   ],
   "source": [
    "x"
   ]
  },
  {
   "cell_type": "code",
   "execution_count": 27,
   "id": "a5462a26",
   "metadata": {},
   "outputs": [
    {
     "data": {
      "text/plain": [
       "array([[1, 3],\n",
       "       [6, 8],\n",
       "       [9, 5]])"
      ]
     },
     "execution_count": 27,
     "metadata": {},
     "output_type": "execute_result"
    }
   ],
   "source": [
    "y"
   ]
  },
  {
   "cell_type": "markdown",
   "id": "7b4b4b4d",
   "metadata": {},
   "source": [
    "#### 10) Crear una matriz de 4x4 de tipo compleja y luego reemplazar el elemento de la fila 2 y columna 3 por un valor entero"
   ]
  },
  {
   "cell_type": "code",
   "execution_count": 5,
   "id": "ab16f758",
   "metadata": {},
   "outputs": [
    {
     "data": {
      "text/plain": [
       "array([[2.+0.j, 3.+0.j, 4.+0.j, 5.+0.j],\n",
       "       [0.+0.j, 5.+0.j, 7.+0.j, 9.+0.j],\n",
       "       [9.+0.j, 5.+0.j, 4.+0.j, 1.+0.j]])"
      ]
     },
     "execution_count": 5,
     "metadata": {},
     "output_type": "execute_result"
    }
   ],
   "source": [
    "x=np.array([[2,3,4,5],[0,5,7,9],[9,5,4,1]],dtype=complex)\n",
    "x"
   ]
  },
  {
   "cell_type": "code",
   "execution_count": 6,
   "id": "6f6e970a",
   "metadata": {},
   "outputs": [],
   "source": [
    "x[1][2]=2"
   ]
  },
  {
   "cell_type": "code",
   "execution_count": 7,
   "id": "a473c9ec",
   "metadata": {},
   "outputs": [
    {
     "data": {
      "text/plain": [
       "array([[2.+0.j, 3.+0.j, 4.+0.j, 5.+0.j],\n",
       "       [0.+0.j, 5.+0.j, 2.+0.j, 9.+0.j],\n",
       "       [9.+0.j, 5.+0.j, 4.+0.j, 1.+0.j]])"
      ]
     },
     "execution_count": 7,
     "metadata": {},
     "output_type": "execute_result"
    }
   ],
   "source": [
    "x"
   ]
  }
 ],
 "metadata": {
  "kernelspec": {
   "display_name": "Python 3",
   "language": "python",
   "name": "python3"
  },
  "language_info": {
   "codemirror_mode": {
    "name": "ipython",
    "version": 3
   },
   "file_extension": ".py",
   "mimetype": "text/x-python",
   "name": "python",
   "nbconvert_exporter": "python",
   "pygments_lexer": "ipython3",
   "version": "3.8.8"
  }
 },
 "nbformat": 4,
 "nbformat_minor": 5
}
