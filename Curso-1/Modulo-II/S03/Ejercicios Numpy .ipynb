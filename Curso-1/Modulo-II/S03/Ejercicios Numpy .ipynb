{
 "cells": [
  {
   "cell_type": "markdown",
   "id": "731239be",
   "metadata": {},
   "source": [
    "#### 1) Crear una matriz de una solo dimensión con numpy utilizando tupla"
   ]
  },
  {
   "cell_type": "code",
   "execution_count": 34,
   "id": "92bf8c7b",
   "metadata": {},
   "outputs": [
    {
     "name": "stdout",
     "output_type": "stream",
     "text": [
      "--------------------------------------------\n",
      "La matriz de 1-D con Numpy usando una tupla:\n",
      " \n",
      "[1 2 3 4 5]\n",
      " \n",
      "La dimensión de la matriz:  1\n",
      "--------------------------------------------\n"
     ]
    }
   ],
   "source": [
    "import numpy as np # Importamos la libreria \"numpy\" con el alias \"np\"\n",
    "matriz1d = np.array((1, 2, 3, 4, 5))\n",
    "dimension = matriz1d.ndim\n",
    "print('--------------------------------------------')\n",
    "print('La matriz de 1-D con Numpy usando una tupla:')\n",
    "print(' ')\n",
    "print(matriz1d)\n",
    "print(' ')\n",
    "print('La dimensión de la matriz: ', dimension)\n",
    "print('--------------------------------------------')"
   ]
  },
  {
   "cell_type": "markdown",
   "id": "97232bbb",
   "metadata": {},
   "source": [
    "#### 2) Crear una matriz de 2-D  con numpy"
   ]
  },
  {
   "cell_type": "code",
   "execution_count": 35,
   "id": "2f101fab",
   "metadata": {},
   "outputs": [
    {
     "name": "stdout",
     "output_type": "stream",
     "text": [
      "----------------------------\n",
      "La matriz de 2-D con Nunpy: \n",
      " \n",
      "[[1 2 3]\n",
      " [4 5 6]\n",
      " [7 8 9]]\n",
      " \n",
      "Dimensión de la matriz:  2\n",
      "----------------------------\n"
     ]
    }
   ],
   "source": [
    "matriz2d = np.array([[1, 2, 3], [4, 5, 6], [7, 8, 9]])\n",
    "dimension = matriz2d.ndim\n",
    "print('----------------------------')\n",
    "print('La matriz de 2-D con Nunpy: ')\n",
    "print(' ')\n",
    "print(matriz2d)\n",
    "print(' ')\n",
    "print('Dimensión de la matriz: ', dimension)\n",
    "print('----------------------------')"
   ]
  },
  {
   "cell_type": "markdown",
   "id": "e6f60142",
   "metadata": {},
   "source": [
    "#### 3) Acceder a elementos de un arreglo 2-D en Numpy"
   ]
  },
  {
   "cell_type": "code",
   "execution_count": 42,
   "id": "c3d71207",
   "metadata": {},
   "outputs": [
    {
     "name": "stdout",
     "output_type": "stream",
     "text": [
      "---------------------------------\n",
      "El elemento seleccionado es:  6\n",
      "---------------------------------\n"
     ]
    }
   ],
   "source": [
    "# Accedemos a un elemento individual\n",
    "matriz2d_31 = np.array([[1, 2, 3], [4, 5, 6], [7, 8, 9]])\n",
    "elemento = matriz2d_31[1][2] # Accediendo al elemento en la segunda fila y tercera columna\n",
    "print('---------------------------------')\n",
    "print('El elemento seleccionado es: ', elemento)\n",
    "print('---------------------------------')"
   ]
  },
  {
   "cell_type": "code",
   "execution_count": 38,
   "id": "e3748771-7973-49b3-a13d-4e81ba5e0f15",
   "metadata": {},
   "outputs": [
    {
     "name": "stdout",
     "output_type": "stream",
     "text": [
      "-----------------------------------------\n",
      "Segunda fila:  [4 5 6]\n",
      "Tercera columna:  [3 6 9]\n",
      "-----------------------------------------\n"
     ]
    }
   ],
   "source": [
    "# Tanbién podemos acceder a una fila o columna completa\n",
    "matriz2d_32 = np.array([[1, 2, 3], [4, 5, 6], [7, 8, 9]])\n",
    "segunda_fila = matriz2d_32[1, :] # Accediendo a la segunda fila\n",
    "tercera_columna = matriz2d_32[:, 2] # Accediendo a la tercera columna\n",
    "print('-----------------------------------------')\n",
    "print(\"Segunda fila: \", segunda_fila)\n",
    "print(\"Tercera columna: \", tercera_columna)\n",
    "print('-----------------------------------------')"
   ]
  },
  {
   "cell_type": "markdown",
   "id": "43b64822",
   "metadata": {},
   "source": [
    "#### 4) Obtener la forma de un arreglo Numpy "
   ]
  },
  {
   "cell_type": "code",
   "execution_count": 23,
   "id": "1e5c12d9",
   "metadata": {},
   "outputs": [
    {
     "name": "stdout",
     "output_type": "stream",
     "text": [
      "--------------------------------------------------\n",
      "El orden del arreglo es: \n",
      " (2, 3)\n",
      "--------------------------------------------------\n"
     ]
    }
   ],
   "source": [
    "import numpy as np\n",
    "Arreglo = np.array([[1, 2, 3], [4, 5, 6]])\n",
    "Tamanio = Arreglo.shape\n",
    "print('--------------------------------------------------')\n",
    "print('El orden del arreglo es: \\n', Tamanio)\n",
    "print('--------------------------------------------------')"
   ]
  },
  {
   "cell_type": "markdown",
   "id": "56406dee",
   "metadata": {},
   "source": [
    "#### 5)  Crear una matriz de orden 2x6 con numpy y mostrar el elemento de la fila 2 y columna 3"
   ]
  },
  {
   "cell_type": "code",
   "execution_count": 21,
   "id": "91eb4534",
   "metadata": {},
   "outputs": [
    {
     "name": "stdout",
     "output_type": "stream",
     "text": [
      "--------------------------------------------------\n",
      "Matriz de orden 2x6:\n",
      "\n",
      "[[ 1  2  3  4  5  6]\n",
      " [ 7  8  9 10 11 12]]\n",
      " \n",
      "El elemneto de la fila 2 y columna 3:\n",
      "  9\n",
      "--------------------------------------------------\n"
     ]
    }
   ],
   "source": [
    "import numpy as np\n",
    "Matriz = np.array([[1, 2, 3, 4, 5, 6], [7, 8, 9, 10, 11, 12]])\n",
    "Elemento23 = Matriz[1,2]\n",
    "print('--------------------------------------------------')\n",
    "print('Matriz de orden 2x6:\\n')\n",
    "print(Matriz)\n",
    "print(' ')\n",
    "print('El elemneto de la fila 2 y columna 3:\\n ', Elemento23)\n",
    "print('--------------------------------------------------')"
   ]
  },
  {
   "cell_type": "markdown",
   "id": "7738e119",
   "metadata": {},
   "source": [
    "#### 6) Mostrar mediante un ejemplo las diferencias entre una tupla y una lista "
   ]
  },
  {
   "cell_type": "code",
   "execution_count": 25,
   "id": "ca2a16a4",
   "metadata": {},
   "outputs": [
    {
     "ename": "TypeError",
     "evalue": "'tuple' object does not support item assignment",
     "output_type": "error",
     "traceback": [
      "\u001b[1;31m---------------------------------------------------------------------------\u001b[0m",
      "\u001b[1;31mTypeError\u001b[0m                                 Traceback (most recent call last)",
      "Cell \u001b[1;32mIn[25], line 7\u001b[0m\n\u001b[0;32m      4\u001b[0m mi_tupla \u001b[38;5;241m=\u001b[39m (\u001b[38;5;241m1\u001b[39m, \u001b[38;5;241m2\u001b[39m, \u001b[38;5;241m3\u001b[39m)\n\u001b[0;32m      6\u001b[0m \u001b[38;5;66;03m# Intento de modificación de una tupla (produce un error)\u001b[39;00m\n\u001b[1;32m----> 7\u001b[0m mi_tupla[\u001b[38;5;241m1\u001b[39m] \u001b[38;5;241m=\u001b[39m \u001b[38;5;241m4\u001b[39m\n",
      "\u001b[1;31mTypeError\u001b[0m: 'tuple' object does not support item assignment"
     ]
    }
   ],
   "source": [
    "# Mostramos las diferencias\n",
    "# TUPLA\n",
    "# Creación de una tupla\n",
    "mi_tupla = (1, 2, 3)\n",
    "\n",
    "# Intento de modificación de una tupla (produce un error)\n",
    "mi_tupla[1] = 4\n"
   ]
  },
  {
   "cell_type": "code",
   "execution_count": 27,
   "id": "8045579d-2c3c-4c55-8ec5-a96845b826b4",
   "metadata": {},
   "outputs": [
    {
     "name": "stdout",
     "output_type": "stream",
     "text": [
      "[1, 4, 3]\n"
     ]
    }
   ],
   "source": [
    "# LISTA\n",
    "# Creación de una lista\n",
    "mi_lista = [1, 2, 3]\n",
    "\n",
    "# Modificación de una lista\n",
    "mi_lista[1] = 4\n",
    "print(mi_lista)"
   ]
  },
  {
   "cell_type": "markdown",
   "id": "f618e1ed",
   "metadata": {},
   "source": [
    "#### 7) Crear dos matrices, una de 2x2 y la otra 3x2, reemplazar el elemento de la fila 1 y columna 2 de la primera matriz con el elemento de la fila 2 y columna 1 de la segunda matriz"
   ]
  },
  {
   "cell_type": "code",
   "execution_count": 65,
   "id": "90525348",
   "metadata": {},
   "outputs": [
    {
     "name": "stdout",
     "output_type": "stream",
     "text": [
      "[[2 5]\n",
      " [6 8]]\n"
     ]
    }
   ],
   "source": [
    "import numpy as np\n",
    "# Matriz de orden 2x2\n",
    "Matriz17 = np.array([[2, 4], [6, 8]])\n",
    "# Matriz de orden 3x2\n",
    "Matriz27 = np.array([[1, 3], [5, 7], [9, 11]])\n",
    "\n",
    "Matriz17[0, 1] = Matriz27[1, 0] # Remplazando\n",
    "\n",
    "print(Matriz17)"
   ]
  },
  {
   "cell_type": "markdown",
   "id": "d69d8386",
   "metadata": {},
   "source": [
    "#### 8) Mover dos elementos de una matriz a otra del ejercicio anterior"
   ]
  },
  {
   "cell_type": "code",
   "execution_count": 66,
   "id": "f91993df",
   "metadata": {},
   "outputs": [
    {
     "name": "stdout",
     "output_type": "stream",
     "text": [
      "---------------------------\n",
      "Matriz17:\n",
      "[[2 4]\n",
      " [6 8]]\n",
      "Matriz27:\n",
      "[[1 3]\n",
      " [2 7]\n",
      " [9 8]]\n",
      "---------------------------\n"
     ]
    }
   ],
   "source": [
    "# Moviendo dos elementos\n",
    "# Matriz de orden 2x2\n",
    "Matriz17 = np.array([[2, 4], \n",
    "                     [6, 8]])\n",
    "# Matriz de orden 3x2\n",
    "Matriz27 = np.array([[1, 3], \n",
    "                     [5, 7], \n",
    "                     [9, 11]])\n",
    "\n",
    "Matriz27[2,1] = Matriz17[1,1] \n",
    "Matriz27[1,0] = Matriz17[0,0] \n",
    "\n",
    "print('---------------------------')\n",
    "print('Matriz17:')\n",
    "print(Matriz17)\n",
    "print('Matriz27:')\n",
    "print(Matriz27)\n",
    "print('---------------------------')"
   ]
  },
  {
   "cell_type": "markdown",
   "id": "12715afe",
   "metadata": {},
   "source": [
    "#### 9) Intercambiar todos los elementos de las matrices del ejercio 7 si fuera posible"
   ]
  },
  {
   "cell_type": "code",
   "execution_count": 69,
   "id": "41739973",
   "metadata": {},
   "outputs": [
    {
     "name": "stdout",
     "output_type": "stream",
     "text": [
      "-------------------------------\n",
      "Matriz17: \n",
      "[[2 4]\n",
      " [6 8]]\n",
      "Matriz27: \n",
      "[[2 4]\n",
      " [6 8]\n",
      " [9 8]]\n",
      "-------------------------------\n"
     ]
    }
   ],
   "source": [
    "# Intercambiando todos elementos\n",
    "# Cambiamos todos los elementos de la matriz17 a la matriz27\n",
    "Matriz27[0,0] = Matriz17[0,0]\n",
    "Matriz27[0,1] = Matriz17[0,1]\n",
    "Matriz27[1,0] = Matriz17[1,0]\n",
    "Matriz27[1,1] = Matriz17[1,1]\n",
    "\n",
    "print('-------------------------------')\n",
    "print('Matriz17: ')\n",
    "print(Matriz17)\n",
    "print('Matriz27: ')\n",
    "print(Matriz27)\n",
    "print('-------------------------------')"
   ]
  },
  {
   "cell_type": "code",
   "execution_count": 70,
   "id": "2772d47d-0824-4389-879a-9b2c9cae3be5",
   "metadata": {},
   "outputs": [
    {
     "name": "stdout",
     "output_type": "stream",
     "text": [
      "-------------------------------\n",
      "Matriz27: \n",
      "[[2 4]\n",
      " [6 8]\n",
      " [9 8]]\n",
      "Matriz17: \n",
      "[[2 4]\n",
      " [6 8]]\n",
      "-------------------------------\n"
     ]
    }
   ],
   "source": [
    "# Cambiamos todos los elementos de la matriz27 a la matriz17\n",
    "Matriz17[0,0] = Matriz27[0,0] \n",
    "Matriz17[0,1] = Matriz27[0,1] \n",
    "Matriz17[1,0] = Matriz27[1,0] \n",
    "Matriz17[1,1] = Matriz27[1,1]\n",
    "\n",
    "print('-------------------------------')\n",
    "print('Matriz27: ')\n",
    "print(Matriz27)\n",
    "print('Matriz17: ')\n",
    "print(Matriz17)\n",
    "print('-------------------------------')"
   ]
  },
  {
   "cell_type": "markdown",
   "id": "7b4b4b4d",
   "metadata": {},
   "source": [
    "#### 10) Crear una matriz de 4x4 de tipo compleja y luego reeplazar el elemento de la fila 2 y columna 3 por un valor entero"
   ]
  },
  {
   "cell_type": "code",
   "execution_count": 90,
   "id": "ab16f758",
   "metadata": {},
   "outputs": [
    {
     "name": "stdout",
     "output_type": "stream",
     "text": [
      "------------------------------------------\n",
      "Antes: \n",
      "[[ 1. +2.j  2. +3.j  3. +4.j  4. +5.j]\n",
      " [ 5. +6.j  6. +7.j  7. +8.j  8. +9.j]\n",
      " [ 9.+10.j 10.+11.j 11.+12.j 12.+13.j]\n",
      " [13.+14.j 14.+15.j 15.+16.j 16.+17.j]]\n",
      "------------------------------------------\n",
      "Despues: \n",
      "[[ 1. +2.j  2. +3.j  3. +4.j  4. +5.j]\n",
      " [ 5. +6.j  6. +7.j 12. +0.j  8. +9.j]\n",
      " [ 9.+10.j 10.+11.j 11.+12.j 12.+13.j]\n",
      " [13.+14.j 14.+15.j 15.+16.j 16.+17.j]]\n",
      "------------------------------------------\n"
     ]
    }
   ],
   "source": [
    "import numpy as np\n",
    "# Matriz de números complejos\n",
    "MatrizComplejos = np.array([[1 + 2j, 2 + 3j, 3 + 4j, 4 + 5j],\n",
    "                   [5 + 6j, 6 + 7j, 7 + 8j, 8 + 9j],\n",
    "                   [9 + 10j, 10 + 11j, 11 + 12j, 12 + 13j],\n",
    "                   [13 + 14j, 14 + 15j, 15 + 16j, 16 + 17j]], dtype=complex)\n",
    "print('------------------------------------------')\n",
    "print('Antes: ')\n",
    "print(MatrizComplejos)\n",
    "MatrizComplejos [1, 2] = 12 # Reeplazando el elemento de la fila 2 y columna 3 por un valor entero de 12.\n",
    "print('------------------------------------------')\n",
    "print('Despues: ')\n",
    "print(MatrizComplejos)\n",
    "print('------------------------------------------')"
   ]
  },
  {
   "cell_type": "code",
   "execution_count": null,
   "id": "6f6e970a",
   "metadata": {},
   "outputs": [],
   "source": []
  }
 ],
 "metadata": {
  "kernelspec": {
   "display_name": "Python 3 (ipykernel)",
   "language": "python",
   "name": "python3"
  },
  "language_info": {
   "codemirror_mode": {
    "name": "ipython",
    "version": 3
   },
   "file_extension": ".py",
   "mimetype": "text/x-python",
   "name": "python",
   "nbconvert_exporter": "python",
   "pygments_lexer": "ipython3",
   "version": "3.9.16"
  }
 },
 "nbformat": 4,
 "nbformat_minor": 5
}
