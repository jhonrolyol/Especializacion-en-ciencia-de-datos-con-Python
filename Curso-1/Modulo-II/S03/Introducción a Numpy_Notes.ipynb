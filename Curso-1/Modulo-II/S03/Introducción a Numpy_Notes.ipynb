{
 "cells": [
  {
   "cell_type": "markdown",
   "id": "15da1f56",
   "metadata": {},
   "source": [
    "![Imagen](https://miro.medium.com/max/815/1*S9cur9wmGVv2bg7b6wlscg.jpeg)"
   ]
  },
  {
   "cell_type": "markdown",
   "id": "05f00f40",
   "metadata": {},
   "source": [
    "https://numpy.org/"
   ]
  },
  {
   "cell_type": "code",
   "execution_count": 3,
   "id": "a9b6e2bf",
   "metadata": {},
   "outputs": [
    {
     "name": "stdout",
     "output_type": "stream",
     "text": [
      "Requirement already satisfied: numpy in c:\\users\\pc\\.conda\\envs\\especializationdatasciencepytho\\lib\\site-packages (1.24.1)\n",
      "Note: you may need to restart the kernel to use updated packages.\n"
     ]
    }
   ],
   "source": [
    "pip install numpy"
   ]
  },
  {
   "cell_type": "code",
   "execution_count": 4,
   "id": "79d0483f",
   "metadata": {},
   "outputs": [
    {
     "name": "stdout",
     "output_type": "stream",
     "text": [
      "Requirement already satisfied: numpy in c:\\users\\pc\\.conda\\envs\\especializationdatasciencepytho\\lib\\site-packages (1.24.1)\n"
     ]
    }
   ],
   "source": [
    "!pip install numpy"
   ]
  },
  {
   "cell_type": "code",
   "execution_count": 5,
   "id": "ab54aef7",
   "metadata": {},
   "outputs": [],
   "source": [
    "#Importando la libería\n",
    "import numpy as np\n"
   ]
  },
  {
   "cell_type": "markdown",
   "id": "c12071bf",
   "metadata": {},
   "source": [
    "# 1) Introducccion\n",
    "\n",
    "**NumPy** es una librería de Python especializada en el cálculo numérico y el análisis de datos, especialmente para un gran volumen de datos.\n",
    "\n",
    "Incorpora una nueva clase de objetos llamados **arrays** que permite representar colecciones de datos de un mismo tipo en varias dimensiones, y funciones muy eficientes para su manipulación.\n",
    "\n",
    "+ un poderoso objeto de arreglo N-dimensional\n",
    "+ herramientas para integrar código en C/C++ y Fortran\n",
    "+ útiles capacidades de álgebra lineal, transformación de Fourier y números aleatorios\n",
    "\n"
   ]
  },
  {
   "cell_type": "markdown",
   "id": "77b60f68",
   "metadata": {},
   "source": [
    "# 2) Array\n",
    "\n",
    "son la forma principal de almacenar datos utilizando la biblioteca NumPy. Son similares a las listas normales en Python, pero tienen la ventaja de ser más rápidas (hasta 50 veces más) y tener más métodos integrados."
   ]
  },
  {
   "cell_type": "markdown",
   "id": "52b083ab",
   "metadata": {},
   "source": [
    "## 2.1 Creación de arrays\n",
    "* lista y tuplas de Python.\n",
    "* usando funciones que están dedicadas a generar matrices numpy, como `arange`, `linspace`, etc.\n",
    " \n",
    " "
   ]
  },
  {
   "cell_type": "markdown",
   "id": "9ec7623e",
   "metadata": {},
   "source": [
    "### 2.1.1 Creación de arrays utilizando lista y tuplas de Python.\n"
   ]
  },
  {
   "cell_type": "markdown",
   "id": "c50bf812",
   "metadata": {},
   "source": [
    "###  *¿Qué es una lista?* "
   ]
  },
  {
   "cell_type": "markdown",
   "id": "427598c9",
   "metadata": {},
   "source": [
    "#### Ejemplo 1\n"
   ]
  },
  {
   "cell_type": "markdown",
   "id": "1187f026",
   "metadata": {},
   "source": [
    "La lista se representa mediante corchetes  "
   ]
  },
  {
   "cell_type": "code",
   "execution_count": 6,
   "id": "d4177c58",
   "metadata": {},
   "outputs": [
    {
     "data": {
      "text/plain": [
       "[2, 4, 100, 59]"
      ]
     },
     "execution_count": 6,
     "metadata": {},
     "output_type": "execute_result"
    }
   ],
   "source": [
    "[2,4,100,59]"
   ]
  },
  {
   "cell_type": "code",
   "execution_count": 7,
   "id": "ec5f124d",
   "metadata": {},
   "outputs": [
    {
     "data": {
      "text/plain": [
       "[2, 4, 100, 59]"
      ]
     },
     "execution_count": 7,
     "metadata": {},
     "output_type": "execute_result"
    }
   ],
   "source": [
    "lista1=[2,4,100,59]\n",
    "lista1"
   ]
  },
  {
   "cell_type": "code",
   "execution_count": 8,
   "id": "0d775e39",
   "metadata": {},
   "outputs": [
    {
     "data": {
      "text/plain": [
       "['Data', 1, 2, 'Analítica']"
      ]
     },
     "execution_count": 8,
     "metadata": {},
     "output_type": "execute_result"
    }
   ],
   "source": [
    "lista2=['Data',1,2,'Analítica']\n",
    "lista2"
   ]
  },
  {
   "cell_type": "code",
   "execution_count": 159,
   "id": "dd3d64a7",
   "metadata": {},
   "outputs": [],
   "source": [
    "lista2[0]='analítica'"
   ]
  },
  {
   "cell_type": "code",
   "execution_count": 9,
   "id": "111172c4",
   "metadata": {},
   "outputs": [
    {
     "data": {
      "text/plain": [
       "['Data', 1, 2, 'Analítica']"
      ]
     },
     "execution_count": 9,
     "metadata": {},
     "output_type": "execute_result"
    }
   ],
   "source": [
    "lista2"
   ]
  },
  {
   "cell_type": "markdown",
   "id": "e57ea389",
   "metadata": {},
   "source": [
    "### ¿Qué es una tupla? "
   ]
  },
  {
   "cell_type": "markdown",
   "id": "79b62e8b",
   "metadata": {},
   "source": [
    "#### Ejemplo 2 "
   ]
  },
  {
   "cell_type": "markdown",
   "id": "f62f32fa",
   "metadata": {},
   "source": [
    "La tupla se representa mediante parentesis "
   ]
  },
  {
   "cell_type": "code",
   "execution_count": 11,
   "id": "21489a47",
   "metadata": {},
   "outputs": [
    {
     "data": {
      "text/plain": [
       "('Data', 1, 2, 'Analítica')"
      ]
     },
     "execution_count": 11,
     "metadata": {},
     "output_type": "execute_result"
    }
   ],
   "source": [
    "tupla1=('Data',1,2,'Analítica')\n",
    "tupla1"
   ]
  },
  {
   "cell_type": "code",
   "execution_count": 12,
   "id": "5cce7be3",
   "metadata": {},
   "outputs": [
    {
     "ename": "TypeError",
     "evalue": "'tuple' object does not support item assignment",
     "output_type": "error",
     "traceback": [
      "\u001b[1;31m---------------------------------------------------------------------------\u001b[0m",
      "\u001b[1;31mTypeError\u001b[0m                                 Traceback (most recent call last)",
      "Cell \u001b[1;32mIn[12], line 1\u001b[0m\n\u001b[1;32m----> 1\u001b[0m tupla1[\u001b[38;5;241m0\u001b[39m]\u001b[38;5;241m=\u001b[39m\u001b[38;5;124m'\u001b[39m\u001b[38;5;124manalítica\u001b[39m\u001b[38;5;124m'\u001b[39m\n",
      "\u001b[1;31mTypeError\u001b[0m: 'tuple' object does not support item assignment"
     ]
    }
   ],
   "source": [
    "tupla1[0]='analítica'"
   ]
  },
  {
   "cell_type": "markdown",
   "id": "49997ada",
   "metadata": {},
   "source": [
    "<p style=\"color:blue\"> OJO \n",
    "\n",
    "<p style=\"color:purple\"> las tuplas son más rápidas que las listas\n",
    "    \n",
    "<p style=\"color:purple\"> Las tuplas hacen que el código esté a salvo de cualquier modificación accidental. Si se necesita un dato en un programa que se supone que no debe cambiarse, entonces es mejor ponerlo en 'tuplas' que en 'lista'.\n",
    "    \n",
    "<p style=\"color:purple\">Las tuplas se pueden usar como claves de diccionario si contienen valores inmutables como cadenas, números u otra tupla. Las 'listas' nunca se pueden usar como claves de diccionario, ya que las 'listas' son mutables."
   ]
  },
  {
   "cell_type": "markdown",
   "id": "a65bb2a6",
   "metadata": {},
   "source": [
    "#### para crear un array se utilizará np.array \n"
   ]
  },
  {
   "cell_type": "markdown",
   "id": "a9562522",
   "metadata": {},
   "source": [
    "#### Ejemplo 3 "
   ]
  },
  {
   "cell_type": "markdown",
   "id": "62b19815",
   "metadata": {},
   "source": [
    "Un vector, utilizando una lista "
   ]
  },
  {
   "cell_type": "code",
   "execution_count": 13,
   "id": "7c34fe6b",
   "metadata": {},
   "outputs": [
    {
     "data": {
      "text/plain": [
       "array([ 2,  4,  6, 87])"
      ]
     },
     "execution_count": 13,
     "metadata": {},
     "output_type": "execute_result"
    }
   ],
   "source": [
    "vector1=np.array([2,4,6,87])\n",
    "vector1"
   ]
  },
  {
   "cell_type": "markdown",
   "id": "511f9a0f",
   "metadata": {},
   "source": [
    "#### Ejemplo 4 "
   ]
  },
  {
   "cell_type": "markdown",
   "id": "dd1fd506",
   "metadata": {},
   "source": [
    "Una matriz, utilizamos una listas dentro de otra lista"
   ]
  },
  {
   "cell_type": "code",
   "execution_count": 14,
   "id": "bbbbae2c",
   "metadata": {},
   "outputs": [
    {
     "data": {
      "text/plain": [
       "array([[1, 2, 3],\n",
       "       [5, 8, 5]])"
      ]
     },
     "execution_count": 14,
     "metadata": {},
     "output_type": "execute_result"
    }
   ],
   "source": [
    "matriz1=np.array([[1,2,3],[5,8,5]])\n",
    "matriz1"
   ]
  },
  {
   "cell_type": "markdown",
   "id": "eb89d76b",
   "metadata": {},
   "source": [
    "#### Ejemplo 5 "
   ]
  },
  {
   "cell_type": "markdown",
   "id": "f07c713f",
   "metadata": {},
   "source": [
    "Un vector, utilizando tuplas"
   ]
  },
  {
   "cell_type": "code",
   "execution_count": 15,
   "id": "87e7e36b",
   "metadata": {},
   "outputs": [
    {
     "data": {
      "text/plain": [
       "array([3, 7, 9])"
      ]
     },
     "execution_count": 15,
     "metadata": {},
     "output_type": "execute_result"
    }
   ],
   "source": [
    "vector2=np.array((3,7,9))\n",
    "vector2"
   ]
  },
  {
   "cell_type": "markdown",
   "id": "b3d9f7b7",
   "metadata": {},
   "source": [
    "###### Se observa que los vectores y matrices creadas anteriormente son del mismo tipo "
   ]
  },
  {
   "cell_type": "code",
   "execution_count": 16,
   "id": "e7fedba7",
   "metadata": {},
   "outputs": [
    {
     "data": {
      "text/plain": [
       "(numpy.ndarray, numpy.ndarray)"
      ]
     },
     "execution_count": 16,
     "metadata": {},
     "output_type": "execute_result"
    }
   ],
   "source": [
    "type(vector1),type(vector2)"
   ]
  },
  {
   "cell_type": "markdown",
   "id": "6276527c",
   "metadata": {},
   "source": [
    "##### Identificando las dimensiones  shape   y la cantidad de elementos size \n"
   ]
  },
  {
   "cell_type": "code",
   "execution_count": 14,
   "id": "4a35f758",
   "metadata": {},
   "outputs": [
    {
     "data": {
      "text/plain": [
       "(3,)"
      ]
     },
     "execution_count": 14,
     "metadata": {},
     "output_type": "execute_result"
    }
   ],
   "source": [
    "vector2.shape"
   ]
  },
  {
   "cell_type": "code",
   "execution_count": 40,
   "id": "2c00d54e",
   "metadata": {},
   "outputs": [
    {
     "data": {
      "text/plain": [
       "(3, 3)"
      ]
     },
     "execution_count": 40,
     "metadata": {},
     "output_type": "execute_result"
    }
   ],
   "source": [
    "matriz2.shape"
   ]
  },
  {
   "cell_type": "code",
   "execution_count": 14,
   "id": "8a847185",
   "metadata": {},
   "outputs": [
    {
     "data": {
      "text/plain": [
       "9"
      ]
     },
     "execution_count": 14,
     "metadata": {},
     "output_type": "execute_result"
    }
   ],
   "source": [
    "matriz2.size"
   ]
  },
  {
   "cell_type": "markdown",
   "id": "dd506db3",
   "metadata": {},
   "source": [
    "#### Diferencias entre lista y array "
   ]
  },
  {
   "cell_type": "markdown",
   "id": "8e409ef8",
   "metadata": {},
   "source": [
    "| Lista | Array |\n",
    "|:- |:-|\n",
    "| Puede consistir en elementos que pertenecen a diferentes tipos de datos | Solo consta de elementos que pertenecen al mismo tipo de datos |\n",
    "| No es necesario importar explícitamente un módulo para la declaración | Necesidad de importar explícitamente un módulo para la declaración | \n",
    "|No se pueden manejar directamente las operaciones aritméticas|Puede manejar directamente operaciones aritméticas|\n",
    "|Se puede anidar para contener diferentes tipos de elementos|Debe contener todos los elementos anidados del mismo tamaño|\n",
    "|Preferido para una secuencia más corta de elementos de datos|Preferido para una secuencia más larga de elementos de datos|\n",
    "|Una mayor flexibilidad permite una fácil modificación (adición, eliminación) de datos|Menos flexibilidad ya que la adición, la eliminación tiene que hacerse en cuanto a elementos|\n",
    "|La lista completa se puede imprimir sin ningún bucle explícito|Se debe formar un bucle para imprimir o acceder a los componentes de la matriz|\n",
    "|Consume mayor memoria para añadir elementos fácilmente|Comparativamente más compacto en tamaño de memoria|\n",
    "\n",
    "\n"
   ]
  },
  {
   "cell_type": "markdown",
   "id": "4839038c",
   "metadata": {},
   "source": [
    "##### Se puede especificar el tipo de dato del array indicando el argumento dtype"
   ]
  },
  {
   "cell_type": "code",
   "execution_count": 184,
   "id": "0a79518b",
   "metadata": {},
   "outputs": [],
   "source": [
    "matriz = np.array([[1, 2], [3, 4]], dtype=float)\n",
    "matriz"
   ]
  },
  {
   "cell_type": "markdown",
   "id": "ede8942b",
   "metadata": {},
   "source": [
    "#### Los tipos de datos más comunes\n",
    "int, float, complex, bool, object, etc."
   ]
  },
  {
   "cell_type": "markdown",
   "id": "fde7512d",
   "metadata": {},
   "source": [
    "#### Ejemplo 6 "
   ]
  },
  {
   "cell_type": "markdown",
   "id": "86fceb69",
   "metadata": {},
   "source": [
    "Cambiando el elemento de la fila uno y columna uno por el valor de 3"
   ]
  },
  {
   "cell_type": "code",
   "execution_count": 185,
   "id": "0f4ddcbb",
   "metadata": {},
   "outputs": [],
   "source": [
    "matriz[0,0]=3\n",
    "matriz"
   ]
  },
  {
   "cell_type": "markdown",
   "id": "80b85f13",
   "metadata": {},
   "source": [
    "#### Ejemplo 7 "
   ]
  },
  {
   "cell_type": "markdown",
   "id": "509c5d7d",
   "metadata": {},
   "source": [
    "Intercambio de un valor float por un complex"
   ]
  },
  {
   "cell_type": "code",
   "execution_count": 188,
   "id": "52519c1e",
   "metadata": {},
   "outputs": [],
   "source": [
    "# #¿ que sucede?\n",
    "# matriz[0,0]=2+3j\n",
    "# matriz"
   ]
  },
  {
   "cell_type": "code",
   "execution_count": null,
   "id": "b9bef91b",
   "metadata": {},
   "outputs": [],
   "source": []
  },
  {
   "cell_type": "code",
   "execution_count": 192,
   "id": "d2141e17",
   "metadata": {},
   "outputs": [],
   "source": [
    "matriz=np.array([[3,2],[4,6]],dtype=complex)\n",
    "matriz"
   ]
  },
  {
   "cell_type": "code",
   "execution_count": 193,
   "id": "d47a158a",
   "metadata": {},
   "outputs": [],
   "source": [
    "matriz[0,0]=2+3j\n",
    "matriz"
   ]
  },
  {
   "cell_type": "markdown",
   "id": "fa70307b",
   "metadata": {},
   "source": [
    "#### Se puede cambiar el tipo de datos\n"
   ]
  },
  {
   "cell_type": "markdown",
   "id": "a2bc7f48",
   "metadata": {},
   "source": [
    "#### Ejemplo 8 "
   ]
  },
  {
   "cell_type": "markdown",
   "id": "0a172e50",
   "metadata": {},
   "source": [
    "Intercambiando un entero por un complejo "
   ]
  },
  {
   "cell_type": "code",
   "execution_count": 25,
   "id": "0a29da7a",
   "metadata": {},
   "outputs": [
    {
     "data": {
      "text/plain": [
       "array([[1, 2, 3, 4],\n",
       "       [8, 1, 2, 5]])"
      ]
     },
     "execution_count": 25,
     "metadata": {},
     "output_type": "execute_result"
    }
   ],
   "source": [
    "matriz=np.array([[1,2,3,4],[8,1,2,5]])\n",
    "matriz"
   ]
  },
  {
   "cell_type": "code",
   "execution_count": 22,
   "id": "974f209b",
   "metadata": {},
   "outputs": [
    {
     "data": {
      "text/plain": [
       "array([[1.+0.j, 2.+0.j, 3.+0.j, 4.+0.j],\n",
       "       [8.+0.j, 1.+0.j, 2.+0.j, 5.+0.j]])"
      ]
     },
     "execution_count": 22,
     "metadata": {},
     "output_type": "execute_result"
    }
   ],
   "source": [
    "matriz.astype('complex')"
   ]
  },
  {
   "cell_type": "markdown",
   "id": "656d86e4",
   "metadata": {},
   "source": [
    "### 2.1.2 Creación de matrices utilizando funciones de numpy"
   ]
  },
  {
   "cell_type": "markdown",
   "id": "6ab6bd7b",
   "metadata": {},
   "source": [
    "#### np.arange(start, stop, step) step-->determina el tamaño de los pasos    "
   ]
  },
  {
   "cell_type": "markdown",
   "id": "e003ac9b",
   "metadata": {},
   "source": [
    "#### Ejemplo 9 "
   ]
  },
  {
   "cell_type": "markdown",
   "id": "936acfa1",
   "metadata": {},
   "source": [
    "Especificando todos los parámetros"
   ]
  },
  {
   "cell_type": "code",
   "execution_count": 23,
   "id": "5fb44010",
   "metadata": {},
   "outputs": [
    {
     "data": {
      "text/plain": [
       "array([ 2,  5,  8, 11])"
      ]
     },
     "execution_count": 23,
     "metadata": {},
     "output_type": "execute_result"
    }
   ],
   "source": [
    "np.arange(2,12,3)"
   ]
  },
  {
   "cell_type": "markdown",
   "id": "e1d94b6c",
   "metadata": {},
   "source": [
    "#### Ejemplo 10 "
   ]
  },
  {
   "cell_type": "markdown",
   "id": "9bbd6466",
   "metadata": {},
   "source": [
    "Especificando solo dos parámetros "
   ]
  },
  {
   "cell_type": "code",
   "execution_count": 24,
   "id": "3b55120f",
   "metadata": {},
   "outputs": [
    {
     "data": {
      "text/plain": [
       "array([2, 3, 4, 5, 6, 7, 8, 9])"
      ]
     },
     "execution_count": 24,
     "metadata": {},
     "output_type": "execute_result"
    }
   ],
   "source": [
    "np.arange(2,10)"
   ]
  },
  {
   "cell_type": "markdown",
   "id": "45c5fbf8",
   "metadata": {},
   "source": [
    "#### Ejemplo 11 "
   ]
  },
  {
   "cell_type": "markdown",
   "id": "e10af0d3",
   "metadata": {},
   "source": [
    "Especificando solo un parámetro"
   ]
  },
  {
   "cell_type": "code",
   "execution_count": 34,
   "id": "3d3b55ad",
   "metadata": {},
   "outputs": [
    {
     "data": {
      "text/plain": [
       "array([0, 1, 2, 3, 4, 5, 6, 7, 8, 9])"
      ]
     },
     "execution_count": 34,
     "metadata": {},
     "output_type": "execute_result"
    }
   ],
   "source": [
    "np.arange(10)"
   ]
  },
  {
   "cell_type": "markdown",
   "id": "0726b4b2",
   "metadata": {},
   "source": [
    "##### Ejemplo 12  "
   ]
  },
  {
   "cell_type": "markdown",
   "id": "0dd691db",
   "metadata": {},
   "source": [
    "Hallando los multiplos de 3 comprendidos entre 5 y 27"
   ]
  },
  {
   "cell_type": "code",
   "execution_count": null,
   "id": "bc8f3155-3db6-4702-b2d6-2af94eda2a15",
   "metadata": {},
   "outputs": [],
   "source": []
  },
  {
   "cell_type": "code",
   "execution_count": 196,
   "id": "aad932a3",
   "metadata": {},
   "outputs": [
    {
     "data": {
      "text/plain": [
       "array([ 6,  9, 12, 15, 18, 21, 24])"
      ]
     },
     "execution_count": 196,
     "metadata": {},
     "output_type": "execute_result"
    }
   ],
   "source": [
    "np.arange(6,27,3)"
   ]
  },
  {
   "cell_type": "markdown",
   "id": "3aefc9a4",
   "metadata": {},
   "source": [
    "#### np.linspace(start, stop, num) num-->especifica la cantidad de numeros\n"
   ]
  },
  {
   "cell_type": "markdown",
   "id": "22f322ef",
   "metadata": {},
   "source": [
    "#### Ejemplo 13 "
   ]
  },
  {
   "cell_type": "markdown",
   "id": "37883689",
   "metadata": {},
   "source": [
    "3 números que van desde 2 al 12 "
   ]
  },
  {
   "cell_type": "code",
   "execution_count": 9,
   "id": "cc117db2",
   "metadata": {},
   "outputs": [
    {
     "data": {
      "text/plain": [
       "array([ 2.,  7., 12.])"
      ]
     },
     "execution_count": 9,
     "metadata": {},
     "output_type": "execute_result"
    }
   ],
   "source": [
    "np.linspace(2,12,3)"
   ]
  },
  {
   "cell_type": "markdown",
   "id": "772a4dc1",
   "metadata": {},
   "source": [
    "#### np.logspace(start, stop, num, base) base---->especifica la base del logaritmo\n",
    "\n"
   ]
  },
  {
   "cell_type": "markdown",
   "id": "b0fc2e1a",
   "metadata": {},
   "source": [
    "#### Ejemplo 14 "
   ]
  },
  {
   "cell_type": "markdown",
   "id": "215d48e5",
   "metadata": {},
   "source": [
    "Un Array con números logaritmicos"
   ]
  },
  {
   "cell_type": "code",
   "execution_count": 43,
   "id": "6a7c8571",
   "metadata": {},
   "outputs": [
    {
     "data": {
      "text/plain": [
       "array([9.00000000e+00, 3.24252978e+01, 1.16822215e+02, 4.20888346e+02,\n",
       "       1.51638111e+03, 5.46323433e+03, 1.96830000e+04])"
      ]
     },
     "execution_count": 43,
     "metadata": {},
     "output_type": "execute_result"
    }
   ],
   "source": [
    "np.logspace(2,9,7,base=3)"
   ]
  },
  {
   "cell_type": "markdown",
   "id": "1e4423fe",
   "metadata": {},
   "source": [
    "$\\log_{a}(x)=y \\iff a^{y}=x$"
   ]
  },
  {
   "cell_type": "markdown",
   "id": "7f7c0f34",
   "metadata": {},
   "source": [
    "$\\log_{3}(x)=2 \\iff 3^{2}=9\\text{        ,            } \\log_{3}(x)=9 \\iff 3^{9}=19683$"
   ]
  },
  {
   "cell_type": "markdown",
   "id": "63b2d90d",
   "metadata": {},
   "source": [
    "##### generando valores aleatorios  "
   ]
  },
  {
   "cell_type": "code",
   "execution_count": 71,
   "id": "2e23da30",
   "metadata": {},
   "outputs": [],
   "source": [
    "import random"
   ]
  },
  {
   "cell_type": "markdown",
   "id": "5071e339",
   "metadata": {},
   "source": [
    "##### Ejemplo 15  "
   ]
  },
  {
   "cell_type": "markdown",
   "id": "064bb57b",
   "metadata": {},
   "source": [
    "Hallando valores aleatorios entre 0 y 1"
   ]
  },
  {
   "cell_type": "code",
   "execution_count": 129,
   "id": "520250b8",
   "metadata": {},
   "outputs": [
    {
     "data": {
      "text/plain": [
       "array([[0.22199317, 0.87073231, 0.20671916, 0.91861091],\n",
       "       [0.48841119, 0.61174386, 0.76590786, 0.51841799]])"
      ]
     },
     "execution_count": 129,
     "metadata": {},
     "output_type": "execute_result"
    }
   ],
   "source": [
    "np.random.seed(5) #estableciendo una semilla\n",
    "np.random.random([2,4]) #genera valores float entre 0 y 1"
   ]
  },
  {
   "cell_type": "markdown",
   "id": "492c4bf7",
   "metadata": {},
   "source": [
    "#### Ejemplo 16  "
   ]
  },
  {
   "cell_type": "markdown",
   "id": "68f4d3e2",
   "metadata": {},
   "source": [
    "Hallando valores aleatorios que provienen de una distribución normal estandar"
   ]
  },
  {
   "cell_type": "markdown",
   "id": "29884c62-a562-472b-98c4-51ac4defd880",
   "metadata": {},
   "source": [
    "https://numpy.org/doc/stable/reference/random/generated/numpy.random.randn.html"
   ]
  },
  {
   "cell_type": "code",
   "execution_count": 29,
   "id": "e4b99749",
   "metadata": {},
   "outputs": [
    {
     "data": {
      "text/plain": [
       "array([[ 0.47298583, -0.68142588,  0.2424395 , -1.70073563],\n",
       "       [ 0.75314283, -1.53472134,  0.00512708, -0.12022767]])"
      ]
     },
     "execution_count": 29,
     "metadata": {},
     "output_type": "execute_result"
    }
   ],
   "source": [
    "np.random.seed(12)\n",
    "np.random.randn(2, 4)"
   ]
  },
  {
   "cell_type": "markdown",
   "id": "04a7d931",
   "metadata": {},
   "source": [
    "#### matriz diagonal "
   ]
  },
  {
   "cell_type": "markdown",
   "id": "a3756abd",
   "metadata": {},
   "source": [
    "#### Ejemplo 17 "
   ]
  },
  {
   "cell_type": "markdown",
   "id": "23c2e237",
   "metadata": {},
   "source": [
    "matriz diagonal"
   ]
  },
  {
   "cell_type": "code",
   "execution_count": 133,
   "id": "72a5e23b",
   "metadata": {},
   "outputs": [
    {
     "data": {
      "text/plain": [
       "array([[2, 0, 0, 0, 0],\n",
       "       [0, 2, 0, 0, 0],\n",
       "       [0, 0, 6, 0, 0],\n",
       "       [0, 0, 0, 4, 0],\n",
       "       [0, 0, 0, 0, 4]])"
      ]
     },
     "execution_count": 133,
     "metadata": {},
     "output_type": "execute_result"
    }
   ],
   "source": [
    "diag_matrix = np.diag([2, 2, 6, 4, 4])\n",
    "diag_matrix"
   ]
  },
  {
   "cell_type": "markdown",
   "id": "681ed48a",
   "metadata": {},
   "source": [
    "##### matriz de ceros y unos "
   ]
  },
  {
   "cell_type": "markdown",
   "id": "ac461568",
   "metadata": {},
   "source": [
    "##### Ejemplo 18 "
   ]
  },
  {
   "cell_type": "markdown",
   "id": "476665f8",
   "metadata": {},
   "source": [
    "Matriz de ceros  "
   ]
  },
  {
   "cell_type": "code",
   "execution_count": 141,
   "id": "92c72406",
   "metadata": {},
   "outputs": [
    {
     "data": {
      "text/plain": [
       "array([[0., 0., 0., 0., 0.],\n",
       "       [0., 0., 0., 0., 0.],\n",
       "       [0., 0., 0., 0., 0.],\n",
       "       [0., 0., 0., 0., 0.],\n",
       "       [0., 0., 0., 0., 0.],\n",
       "       [0., 0., 0., 0., 0.],\n",
       "       [0., 0., 0., 0., 0.],\n",
       "       [0., 0., 0., 0., 0.],\n",
       "       [0., 0., 0., 0., 0.],\n",
       "       [0., 0., 0., 0., 0.]])"
      ]
     },
     "execution_count": 141,
     "metadata": {},
     "output_type": "execute_result"
    }
   ],
   "source": [
    "zeros_matrix = np.zeros((10, 5))\n",
    "zeros_matrix"
   ]
  },
  {
   "cell_type": "markdown",
   "id": "747c2ec7",
   "metadata": {},
   "source": [
    "#### Ejemplo de 19 "
   ]
  },
  {
   "cell_type": "markdown",
   "id": "7da880c3",
   "metadata": {},
   "source": [
    "Matriz de unos"
   ]
  },
  {
   "cell_type": "code",
   "execution_count": 151,
   "id": "ae3032a8",
   "metadata": {},
   "outputs": [
    {
     "data": {
      "text/plain": [
       "array([[1., 1., 1.],\n",
       "       [1., 1., 1.],\n",
       "       [1., 1., 1.],\n",
       "       [1., 1., 1.]])"
      ]
     },
     "execution_count": 151,
     "metadata": {},
     "output_type": "execute_result"
    }
   ],
   "source": [
    "ones_matrix=np.ones([4,3])\n",
    "ones_matrix"
   ]
  },
  {
   "cell_type": "markdown",
   "id": "17edbb23",
   "metadata": {},
   "source": [
    "## 2.2 Indexing y slicing "
   ]
  },
  {
   "cell_type": "markdown",
   "id": "e6e031f3",
   "metadata": {},
   "source": [
    "### 2.2.1 Indexing"
   ]
  },
  {
   "cell_type": "markdown",
   "id": "80dd3c0a",
   "metadata": {},
   "source": [
    "Para acceder a los elementos de un array se utiliza los corchetes  [  ]"
   ]
  },
  {
   "cell_type": "markdown",
   "id": "c8d0cdd8",
   "metadata": {},
   "source": [
    "<p style=\"color:blue\"> RECORDAR \n",
    "\n",
    " <p style=\"color:Purple\"> La indexación siempre comienza con 0. Por lo tanto, el primer elemento de una lista está presente en el índice 0, no en 1.\n",
    "     \n",
    " <p style=\"color:Purple;\"> la indexación negativa significa que el índice de -1 se refiere al último elemento, -2 al penúltimo elemento y así sucesivamente.\n",
    " \n",
    "     \n"
   ]
  },
  {
   "cell_type": "code",
   "execution_count": 32,
   "id": "faab3676",
   "metadata": {},
   "outputs": [],
   "source": [
    "vector=[2,6,9,89,13]"
   ]
  },
  {
   "cell_type": "code",
   "execution_count": 38,
   "id": "e607a412",
   "metadata": {},
   "outputs": [
    {
     "data": {
      "text/plain": [
       "array([[1, 3, 5, 9],\n",
       "       [2, 4, 6, 8],\n",
       "       [2, 3, 5, 7]])"
      ]
     },
     "execution_count": 38,
     "metadata": {},
     "output_type": "execute_result"
    }
   ],
   "source": [
    "matriz=np.array([[1,3,5,9],[2,4,6,8],[2,3,5,7]])\n",
    "matriz"
   ]
  },
  {
   "cell_type": "markdown",
   "id": "dc6ca139",
   "metadata": {},
   "source": [
    "#### Ejemplo 20 "
   ]
  },
  {
   "cell_type": "markdown",
   "id": "2388fec2",
   "metadata": {},
   "source": [
    "Encontrando el segundo elemento del vector  "
   ]
  },
  {
   "cell_type": "code",
   "execution_count": 31,
   "id": "c58a48ed",
   "metadata": {},
   "outputs": [
    {
     "data": {
      "text/plain": [
       "6"
      ]
     },
     "execution_count": 31,
     "metadata": {},
     "output_type": "execute_result"
    }
   ],
   "source": [
    "#un vector es de una sola dimensión, por lo tanto un index \n",
    "vector[1]"
   ]
  },
  {
   "cell_type": "markdown",
   "id": "77b18a95",
   "metadata": {},
   "source": [
    "#### Ejemplo 21 "
   ]
  },
  {
   "cell_type": "markdown",
   "id": "aa500f71",
   "metadata": {},
   "source": [
    "Encontrando el elemento de la fila 3 y columna 2 de la matriz"
   ]
  },
  {
   "cell_type": "code",
   "execution_count": 41,
   "id": "d9485632",
   "metadata": {},
   "outputs": [
    {
     "data": {
      "text/plain": [
       "3"
      ]
     },
     "execution_count": 41,
     "metadata": {},
     "output_type": "execute_result"
    }
   ],
   "source": [
    "#la matriz es de dos dimensiones, por lo tanto dos index  \n",
    "matriz[2,1]"
   ]
  },
  {
   "cell_type": "markdown",
   "id": "df30ecf8",
   "metadata": {},
   "source": [
    "#### Ejemplo 22 "
   ]
  },
  {
   "cell_type": "markdown",
   "id": "65e44db1",
   "metadata": {},
   "source": [
    "Econtrando toda una fila de una matriz"
   ]
  },
  {
   "cell_type": "code",
   "execution_count": 42,
   "id": "b8965462",
   "metadata": {},
   "outputs": [
    {
     "data": {
      "text/plain": [
       "array([2, 4, 6, 8])"
      ]
     },
     "execution_count": 42,
     "metadata": {},
     "output_type": "execute_result"
    }
   ],
   "source": [
    "matriz[1,:]"
   ]
  },
  {
   "cell_type": "markdown",
   "id": "e4149986",
   "metadata": {},
   "source": [
    "#### Ejemplo 23 "
   ]
  },
  {
   "cell_type": "markdown",
   "id": "86c91f9a",
   "metadata": {},
   "source": [
    "Encontrando toda una columna"
   ]
  },
  {
   "cell_type": "code",
   "execution_count": 43,
   "id": "43c15d77",
   "metadata": {},
   "outputs": [
    {
     "data": {
      "text/plain": [
       "array([5, 6, 5])"
      ]
     },
     "execution_count": 43,
     "metadata": {},
     "output_type": "execute_result"
    }
   ],
   "source": [
    "matriz[:,2]"
   ]
  },
  {
   "cell_type": "markdown",
   "id": "31dd1465",
   "metadata": {},
   "source": [
    "#### Ejemplo 24 "
   ]
  },
  {
   "cell_type": "markdown",
   "id": "d8b4d68b",
   "metadata": {},
   "source": [
    "Modificando el valor de un elemento de una matriz"
   ]
  },
  {
   "cell_type": "code",
   "execution_count": 44,
   "id": "eb7fbb18",
   "metadata": {},
   "outputs": [],
   "source": [
    "matriz[0,0]=30"
   ]
  },
  {
   "cell_type": "code",
   "execution_count": 45,
   "id": "d9e8f5c8",
   "metadata": {},
   "outputs": [
    {
     "data": {
      "text/plain": [
       "array([[30,  3,  5,  9],\n",
       "       [ 2,  4,  6,  8],\n",
       "       [ 2,  3,  5,  7]])"
      ]
     },
     "execution_count": 45,
     "metadata": {},
     "output_type": "execute_result"
    }
   ],
   "source": [
    "matriz"
   ]
  },
  {
   "cell_type": "markdown",
   "id": "10979fd7",
   "metadata": {},
   "source": [
    "#### Ejemplo 25   "
   ]
  },
  {
   "cell_type": "markdown",
   "id": "acf234b4",
   "metadata": {},
   "source": [
    "Modificando todos los elemntos de una fila de la matriz"
   ]
  },
  {
   "cell_type": "code",
   "execution_count": 46,
   "id": "6785cf8d",
   "metadata": {},
   "outputs": [],
   "source": [
    "matriz[2,:]=7"
   ]
  },
  {
   "cell_type": "code",
   "execution_count": 47,
   "id": "a55e908b",
   "metadata": {},
   "outputs": [
    {
     "data": {
      "text/plain": [
       "array([[30,  3,  5,  9],\n",
       "       [ 2,  4,  6,  8],\n",
       "       [ 7,  7,  7,  7]])"
      ]
     },
     "execution_count": 47,
     "metadata": {},
     "output_type": "execute_result"
    }
   ],
   "source": [
    "matriz"
   ]
  },
  {
   "cell_type": "markdown",
   "id": "739bda13",
   "metadata": {},
   "source": [
    "### 2.2.2 Index slicing"
   ]
  },
  {
   "cell_type": "markdown",
   "id": "5c5e7a38",
   "metadata": {},
   "source": [
    "`matriz[inicio:fin:paso]`"
   ]
  },
  {
   "cell_type": "markdown",
   "id": "cd828947",
   "metadata": {},
   "source": [
    "#### Ejemplo 25 "
   ]
  },
  {
   "cell_type": "code",
   "execution_count": 10,
   "id": "67128bad",
   "metadata": {},
   "outputs": [
    {
     "data": {
      "text/plain": [
       "array([ 2,  3,  5,  7, 11, 13])"
      ]
     },
     "execution_count": 10,
     "metadata": {},
     "output_type": "execute_result"
    }
   ],
   "source": [
    "x=np.array([2,3,5,7,11,13])\n",
    "x"
   ]
  },
  {
   "cell_type": "code",
   "execution_count": 17,
   "id": "bdc254c0",
   "metadata": {},
   "outputs": [
    {
     "data": {
      "text/plain": [
       "array([3])"
      ]
     },
     "execution_count": 17,
     "metadata": {},
     "output_type": "execute_result"
    }
   ],
   "source": [
    "x[1:2]"
   ]
  },
  {
   "cell_type": "code",
   "execution_count": 52,
   "id": "4ea5a57c",
   "metadata": {},
   "outputs": [
    {
     "data": {
      "text/plain": [
       "array([ 3,  5,  7, 11])"
      ]
     },
     "execution_count": 52,
     "metadata": {},
     "output_type": "execute_result"
    }
   ],
   "source": [
    "x[1:5]"
   ]
  },
  {
   "cell_type": "code",
   "execution_count": 54,
   "id": "a146c60a",
   "metadata": {},
   "outputs": [
    {
     "data": {
      "text/plain": [
       "array([ 2,  5, 11])"
      ]
     },
     "execution_count": 54,
     "metadata": {},
     "output_type": "execute_result"
    }
   ],
   "source": [
    "x[::2] "
   ]
  },
  {
   "cell_type": "markdown",
   "id": "3c7666f4",
   "metadata": {},
   "source": [
    "# Caso aplicativo Python Vs Numpy"
   ]
  },
  {
   "cell_type": "markdown",
   "id": "84b4843f",
   "metadata": {},
   "source": [
    "### Multiplicación de elementos uno a uno de dos vectores o listas "
   ]
  },
  {
   "cell_type": "code",
   "execution_count": 19,
   "id": "452d4def",
   "metadata": {},
   "outputs": [],
   "source": [
    "import numpy as np\n",
    "tamaño = 10000\n",
    "lista1 = np.arange(tamaño)\n",
    "lista2 = np.arange(tamaño)"
   ]
  },
  {
   "cell_type": "code",
   "execution_count": 21,
   "id": "3606f830-6be2-47bd-a0fa-4ad343bed2fb",
   "metadata": {},
   "outputs": [],
   "source": [
    "import time "
   ]
  },
  {
   "cell_type": "markdown",
   "id": "0b671174",
   "metadata": {},
   "source": [
    "### 1) Con una lista y for   "
   ]
  },
  {
   "cell_type": "code",
   "execution_count": 23,
   "id": "fa34aee1-32f3-45bf-995f-025b2985ba5e",
   "metadata": {},
   "outputs": [
    {
     "data": {
      "text/plain": [
       "1676676838.0584278"
      ]
     },
     "execution_count": 23,
     "metadata": {},
     "output_type": "execute_result"
    }
   ],
   "source": [
    "tiempo_inicial = time.time()\n",
    "tiempo_inicial"
   ]
  },
  {
   "cell_type": "code",
   "execution_count": 25,
   "id": "e65cc079",
   "metadata": {},
   "outputs": [
    {
     "name": "stdout",
     "output_type": "stream",
     "text": [
      "Se demora 0.005995512008666992 en segundos\n"
     ]
    }
   ],
   "source": [
    "tiempo_inicial = time.time()\n",
    "resultado1 = []\n",
    "for i in range(0,tamaño):\n",
    "    var1 = lista1[i]*lista2[i]\n",
    "    resultado1.append(var1)\n",
    "tiempo_final = time.time()\n",
    "t1 = tiempo_final - tiempo_inicial\n",
    "print('Se demora', t1, 'en segundos')"
   ]
  },
  {
   "cell_type": "markdown",
   "id": "c60f1dfb",
   "metadata": {},
   "source": [
    "### 2)  Con una lista y for en una linea"
   ]
  },
  {
   "cell_type": "code",
   "execution_count": 28,
   "id": "2c791bc1",
   "metadata": {},
   "outputs": [
    {
     "name": "stdout",
     "output_type": "stream",
     "text": [
      "Se demora 0.001998424530029297 en segundos\n"
     ]
    }
   ],
   "source": [
    "tiempo_inicial = time.time()\n",
    "resultado2 = [(a*b) for a,b in zip(lista1,lista2)]\n",
    "tiempo_final = time.time()\n",
    "t2 = tiempo_final - tiempo_inicial\n",
    "print('Se demora', t2, 'en segundos')"
   ]
  },
  {
   "cell_type": "code",
   "execution_count": 27,
   "id": "92679c16",
   "metadata": {},
   "outputs": [
    {
     "data": {
      "text/plain": [
       "[0,\n",
       " 1,\n",
       " 4,\n",
       " 9,\n",
       " 16,\n",
       " 25,\n",
       " 36,\n",
       " 49,\n",
       " 64,\n",
       " 81,\n",
       " 100,\n",
       " 121,\n",
       " 144,\n",
       " 169,\n",
       " 196,\n",
       " 225,\n",
       " 256,\n",
       " 289,\n",
       " 324,\n",
       " 361,\n",
       " 400,\n",
       " 441,\n",
       " 484,\n",
       " 529,\n",
       " 576,\n",
       " 625,\n",
       " 676,\n",
       " 729,\n",
       " 784,\n",
       " 841,\n",
       " 900,\n",
       " 961,\n",
       " 1024,\n",
       " 1089,\n",
       " 1156,\n",
       " 1225,\n",
       " 1296,\n",
       " 1369,\n",
       " 1444,\n",
       " 1521,\n",
       " 1600,\n",
       " 1681,\n",
       " 1764,\n",
       " 1849,\n",
       " 1936,\n",
       " 2025,\n",
       " 2116,\n",
       " 2209,\n",
       " 2304,\n",
       " 2401,\n",
       " 2500,\n",
       " 2601,\n",
       " 2704,\n",
       " 2809,\n",
       " 2916,\n",
       " 3025,\n",
       " 3136,\n",
       " 3249,\n",
       " 3364,\n",
       " 3481,\n",
       " 3600,\n",
       " 3721,\n",
       " 3844,\n",
       " 3969,\n",
       " 4096,\n",
       " 4225,\n",
       " 4356,\n",
       " 4489,\n",
       " 4624,\n",
       " 4761,\n",
       " 4900,\n",
       " 5041,\n",
       " 5184,\n",
       " 5329,\n",
       " 5476,\n",
       " 5625,\n",
       " 5776,\n",
       " 5929,\n",
       " 6084,\n",
       " 6241,\n",
       " 6400,\n",
       " 6561,\n",
       " 6724,\n",
       " 6889,\n",
       " 7056,\n",
       " 7225,\n",
       " 7396,\n",
       " 7569,\n",
       " 7744,\n",
       " 7921,\n",
       " 8100,\n",
       " 8281,\n",
       " 8464,\n",
       " 8649,\n",
       " 8836,\n",
       " 9025,\n",
       " 9216,\n",
       " 9409,\n",
       " 9604,\n",
       " 9801,\n",
       " 10000,\n",
       " 10201,\n",
       " 10404,\n",
       " 10609,\n",
       " 10816,\n",
       " 11025,\n",
       " 11236,\n",
       " 11449,\n",
       " 11664,\n",
       " 11881,\n",
       " 12100,\n",
       " 12321,\n",
       " 12544,\n",
       " 12769,\n",
       " 12996,\n",
       " 13225,\n",
       " 13456,\n",
       " 13689,\n",
       " 13924,\n",
       " 14161,\n",
       " 14400,\n",
       " 14641,\n",
       " 14884,\n",
       " 15129,\n",
       " 15376,\n",
       " 15625,\n",
       " 15876,\n",
       " 16129,\n",
       " 16384,\n",
       " 16641,\n",
       " 16900,\n",
       " 17161,\n",
       " 17424,\n",
       " 17689,\n",
       " 17956,\n",
       " 18225,\n",
       " 18496,\n",
       " 18769,\n",
       " 19044,\n",
       " 19321,\n",
       " 19600,\n",
       " 19881,\n",
       " 20164,\n",
       " 20449,\n",
       " 20736,\n",
       " 21025,\n",
       " 21316,\n",
       " 21609,\n",
       " 21904,\n",
       " 22201,\n",
       " 22500,\n",
       " 22801,\n",
       " 23104,\n",
       " 23409,\n",
       " 23716,\n",
       " 24025,\n",
       " 24336,\n",
       " 24649,\n",
       " 24964,\n",
       " 25281,\n",
       " 25600,\n",
       " 25921,\n",
       " 26244,\n",
       " 26569,\n",
       " 26896,\n",
       " 27225,\n",
       " 27556,\n",
       " 27889,\n",
       " 28224,\n",
       " 28561,\n",
       " 28900,\n",
       " 29241,\n",
       " 29584,\n",
       " 29929,\n",
       " 30276,\n",
       " 30625,\n",
       " 30976,\n",
       " 31329,\n",
       " 31684,\n",
       " 32041,\n",
       " 32400,\n",
       " 32761,\n",
       " 33124,\n",
       " 33489,\n",
       " 33856,\n",
       " 34225,\n",
       " 34596,\n",
       " 34969,\n",
       " 35344,\n",
       " 35721,\n",
       " 36100,\n",
       " 36481,\n",
       " 36864,\n",
       " 37249,\n",
       " 37636,\n",
       " 38025,\n",
       " 38416,\n",
       " 38809,\n",
       " 39204,\n",
       " 39601,\n",
       " 40000,\n",
       " 40401,\n",
       " 40804,\n",
       " 41209,\n",
       " 41616,\n",
       " 42025,\n",
       " 42436,\n",
       " 42849,\n",
       " 43264,\n",
       " 43681,\n",
       " 44100,\n",
       " 44521,\n",
       " 44944,\n",
       " 45369,\n",
       " 45796,\n",
       " 46225,\n",
       " 46656,\n",
       " 47089,\n",
       " 47524,\n",
       " 47961,\n",
       " 48400,\n",
       " 48841,\n",
       " 49284,\n",
       " 49729,\n",
       " 50176,\n",
       " 50625,\n",
       " 51076,\n",
       " 51529,\n",
       " 51984,\n",
       " 52441,\n",
       " 52900,\n",
       " 53361,\n",
       " 53824,\n",
       " 54289,\n",
       " 54756,\n",
       " 55225,\n",
       " 55696,\n",
       " 56169,\n",
       " 56644,\n",
       " 57121,\n",
       " 57600,\n",
       " 58081,\n",
       " 58564,\n",
       " 59049,\n",
       " 59536,\n",
       " 60025,\n",
       " 60516,\n",
       " 61009,\n",
       " 61504,\n",
       " 62001,\n",
       " 62500,\n",
       " 63001,\n",
       " 63504,\n",
       " 64009,\n",
       " 64516,\n",
       " 65025,\n",
       " 65536,\n",
       " 66049,\n",
       " 66564,\n",
       " 67081,\n",
       " 67600,\n",
       " 68121,\n",
       " 68644,\n",
       " 69169,\n",
       " 69696,\n",
       " 70225,\n",
       " 70756,\n",
       " 71289,\n",
       " 71824,\n",
       " 72361,\n",
       " 72900,\n",
       " 73441,\n",
       " 73984,\n",
       " 74529,\n",
       " 75076,\n",
       " 75625,\n",
       " 76176,\n",
       " 76729,\n",
       " 77284,\n",
       " 77841,\n",
       " 78400,\n",
       " 78961,\n",
       " 79524,\n",
       " 80089,\n",
       " 80656,\n",
       " 81225,\n",
       " 81796,\n",
       " 82369,\n",
       " 82944,\n",
       " 83521,\n",
       " 84100,\n",
       " 84681,\n",
       " 85264,\n",
       " 85849,\n",
       " 86436,\n",
       " 87025,\n",
       " 87616,\n",
       " 88209,\n",
       " 88804,\n",
       " 89401,\n",
       " 90000,\n",
       " 90601,\n",
       " 91204,\n",
       " 91809,\n",
       " 92416,\n",
       " 93025,\n",
       " 93636,\n",
       " 94249,\n",
       " 94864,\n",
       " 95481,\n",
       " 96100,\n",
       " 96721,\n",
       " 97344,\n",
       " 97969,\n",
       " 98596,\n",
       " 99225,\n",
       " 99856,\n",
       " 100489,\n",
       " 101124,\n",
       " 101761,\n",
       " 102400,\n",
       " 103041,\n",
       " 103684,\n",
       " 104329,\n",
       " 104976,\n",
       " 105625,\n",
       " 106276,\n",
       " 106929,\n",
       " 107584,\n",
       " 108241,\n",
       " 108900,\n",
       " 109561,\n",
       " 110224,\n",
       " 110889,\n",
       " 111556,\n",
       " 112225,\n",
       " 112896,\n",
       " 113569,\n",
       " 114244,\n",
       " 114921,\n",
       " 115600,\n",
       " 116281,\n",
       " 116964,\n",
       " 117649,\n",
       " 118336,\n",
       " 119025,\n",
       " 119716,\n",
       " 120409,\n",
       " 121104,\n",
       " 121801,\n",
       " 122500,\n",
       " 123201,\n",
       " 123904,\n",
       " 124609,\n",
       " 125316,\n",
       " 126025,\n",
       " 126736,\n",
       " 127449,\n",
       " 128164,\n",
       " 128881,\n",
       " 129600,\n",
       " 130321,\n",
       " 131044,\n",
       " 131769,\n",
       " 132496,\n",
       " 133225,\n",
       " 133956,\n",
       " 134689,\n",
       " 135424,\n",
       " 136161,\n",
       " 136900,\n",
       " 137641,\n",
       " 138384,\n",
       " 139129,\n",
       " 139876,\n",
       " 140625,\n",
       " 141376,\n",
       " 142129,\n",
       " 142884,\n",
       " 143641,\n",
       " 144400,\n",
       " 145161,\n",
       " 145924,\n",
       " 146689,\n",
       " 147456,\n",
       " 148225,\n",
       " 148996,\n",
       " 149769,\n",
       " 150544,\n",
       " 151321,\n",
       " 152100,\n",
       " 152881,\n",
       " 153664,\n",
       " 154449,\n",
       " 155236,\n",
       " 156025,\n",
       " 156816,\n",
       " 157609,\n",
       " 158404,\n",
       " 159201,\n",
       " 160000,\n",
       " 160801,\n",
       " 161604,\n",
       " 162409,\n",
       " 163216,\n",
       " 164025,\n",
       " 164836,\n",
       " 165649,\n",
       " 166464,\n",
       " 167281,\n",
       " 168100,\n",
       " 168921,\n",
       " 169744,\n",
       " 170569,\n",
       " 171396,\n",
       " 172225,\n",
       " 173056,\n",
       " 173889,\n",
       " 174724,\n",
       " 175561,\n",
       " 176400,\n",
       " 177241,\n",
       " 178084,\n",
       " 178929,\n",
       " 179776,\n",
       " 180625,\n",
       " 181476,\n",
       " 182329,\n",
       " 183184,\n",
       " 184041,\n",
       " 184900,\n",
       " 185761,\n",
       " 186624,\n",
       " 187489,\n",
       " 188356,\n",
       " 189225,\n",
       " 190096,\n",
       " 190969,\n",
       " 191844,\n",
       " 192721,\n",
       " 193600,\n",
       " 194481,\n",
       " 195364,\n",
       " 196249,\n",
       " 197136,\n",
       " 198025,\n",
       " 198916,\n",
       " 199809,\n",
       " 200704,\n",
       " 201601,\n",
       " 202500,\n",
       " 203401,\n",
       " 204304,\n",
       " 205209,\n",
       " 206116,\n",
       " 207025,\n",
       " 207936,\n",
       " 208849,\n",
       " 209764,\n",
       " 210681,\n",
       " 211600,\n",
       " 212521,\n",
       " 213444,\n",
       " 214369,\n",
       " 215296,\n",
       " 216225,\n",
       " 217156,\n",
       " 218089,\n",
       " 219024,\n",
       " 219961,\n",
       " 220900,\n",
       " 221841,\n",
       " 222784,\n",
       " 223729,\n",
       " 224676,\n",
       " 225625,\n",
       " 226576,\n",
       " 227529,\n",
       " 228484,\n",
       " 229441,\n",
       " 230400,\n",
       " 231361,\n",
       " 232324,\n",
       " 233289,\n",
       " 234256,\n",
       " 235225,\n",
       " 236196,\n",
       " 237169,\n",
       " 238144,\n",
       " 239121,\n",
       " 240100,\n",
       " 241081,\n",
       " 242064,\n",
       " 243049,\n",
       " 244036,\n",
       " 245025,\n",
       " 246016,\n",
       " 247009,\n",
       " 248004,\n",
       " 249001,\n",
       " 250000,\n",
       " 251001,\n",
       " 252004,\n",
       " 253009,\n",
       " 254016,\n",
       " 255025,\n",
       " 256036,\n",
       " 257049,\n",
       " 258064,\n",
       " 259081,\n",
       " 260100,\n",
       " 261121,\n",
       " 262144,\n",
       " 263169,\n",
       " 264196,\n",
       " 265225,\n",
       " 266256,\n",
       " 267289,\n",
       " 268324,\n",
       " 269361,\n",
       " 270400,\n",
       " 271441,\n",
       " 272484,\n",
       " 273529,\n",
       " 274576,\n",
       " 275625,\n",
       " 276676,\n",
       " 277729,\n",
       " 278784,\n",
       " 279841,\n",
       " 280900,\n",
       " 281961,\n",
       " 283024,\n",
       " 284089,\n",
       " 285156,\n",
       " 286225,\n",
       " 287296,\n",
       " 288369,\n",
       " 289444,\n",
       " 290521,\n",
       " 291600,\n",
       " 292681,\n",
       " 293764,\n",
       " 294849,\n",
       " 295936,\n",
       " 297025,\n",
       " 298116,\n",
       " 299209,\n",
       " 300304,\n",
       " 301401,\n",
       " 302500,\n",
       " 303601,\n",
       " 304704,\n",
       " 305809,\n",
       " 306916,\n",
       " 308025,\n",
       " 309136,\n",
       " 310249,\n",
       " 311364,\n",
       " 312481,\n",
       " 313600,\n",
       " 314721,\n",
       " 315844,\n",
       " 316969,\n",
       " 318096,\n",
       " 319225,\n",
       " 320356,\n",
       " 321489,\n",
       " 322624,\n",
       " 323761,\n",
       " 324900,\n",
       " 326041,\n",
       " 327184,\n",
       " 328329,\n",
       " 329476,\n",
       " 330625,\n",
       " 331776,\n",
       " 332929,\n",
       " 334084,\n",
       " 335241,\n",
       " 336400,\n",
       " 337561,\n",
       " 338724,\n",
       " 339889,\n",
       " 341056,\n",
       " 342225,\n",
       " 343396,\n",
       " 344569,\n",
       " 345744,\n",
       " 346921,\n",
       " 348100,\n",
       " 349281,\n",
       " 350464,\n",
       " 351649,\n",
       " 352836,\n",
       " 354025,\n",
       " 355216,\n",
       " 356409,\n",
       " 357604,\n",
       " 358801,\n",
       " 360000,\n",
       " 361201,\n",
       " 362404,\n",
       " 363609,\n",
       " 364816,\n",
       " 366025,\n",
       " 367236,\n",
       " 368449,\n",
       " 369664,\n",
       " 370881,\n",
       " 372100,\n",
       " 373321,\n",
       " 374544,\n",
       " 375769,\n",
       " 376996,\n",
       " 378225,\n",
       " 379456,\n",
       " 380689,\n",
       " 381924,\n",
       " 383161,\n",
       " 384400,\n",
       " 385641,\n",
       " 386884,\n",
       " 388129,\n",
       " 389376,\n",
       " 390625,\n",
       " 391876,\n",
       " 393129,\n",
       " 394384,\n",
       " 395641,\n",
       " 396900,\n",
       " 398161,\n",
       " 399424,\n",
       " 400689,\n",
       " 401956,\n",
       " 403225,\n",
       " 404496,\n",
       " 405769,\n",
       " 407044,\n",
       " 408321,\n",
       " 409600,\n",
       " 410881,\n",
       " 412164,\n",
       " 413449,\n",
       " 414736,\n",
       " 416025,\n",
       " 417316,\n",
       " 418609,\n",
       " 419904,\n",
       " 421201,\n",
       " 422500,\n",
       " 423801,\n",
       " 425104,\n",
       " 426409,\n",
       " 427716,\n",
       " 429025,\n",
       " 430336,\n",
       " 431649,\n",
       " 432964,\n",
       " 434281,\n",
       " 435600,\n",
       " 436921,\n",
       " 438244,\n",
       " 439569,\n",
       " 440896,\n",
       " 442225,\n",
       " 443556,\n",
       " 444889,\n",
       " 446224,\n",
       " 447561,\n",
       " 448900,\n",
       " 450241,\n",
       " 451584,\n",
       " 452929,\n",
       " 454276,\n",
       " 455625,\n",
       " 456976,\n",
       " 458329,\n",
       " 459684,\n",
       " 461041,\n",
       " 462400,\n",
       " 463761,\n",
       " 465124,\n",
       " 466489,\n",
       " 467856,\n",
       " 469225,\n",
       " 470596,\n",
       " 471969,\n",
       " 473344,\n",
       " 474721,\n",
       " 476100,\n",
       " 477481,\n",
       " 478864,\n",
       " 480249,\n",
       " 481636,\n",
       " 483025,\n",
       " 484416,\n",
       " 485809,\n",
       " 487204,\n",
       " 488601,\n",
       " 490000,\n",
       " 491401,\n",
       " 492804,\n",
       " 494209,\n",
       " 495616,\n",
       " 497025,\n",
       " 498436,\n",
       " 499849,\n",
       " 501264,\n",
       " 502681,\n",
       " 504100,\n",
       " 505521,\n",
       " 506944,\n",
       " 508369,\n",
       " 509796,\n",
       " 511225,\n",
       " 512656,\n",
       " 514089,\n",
       " 515524,\n",
       " 516961,\n",
       " 518400,\n",
       " 519841,\n",
       " 521284,\n",
       " 522729,\n",
       " 524176,\n",
       " 525625,\n",
       " 527076,\n",
       " 528529,\n",
       " 529984,\n",
       " 531441,\n",
       " 532900,\n",
       " 534361,\n",
       " 535824,\n",
       " 537289,\n",
       " 538756,\n",
       " 540225,\n",
       " 541696,\n",
       " 543169,\n",
       " 544644,\n",
       " 546121,\n",
       " 547600,\n",
       " 549081,\n",
       " 550564,\n",
       " 552049,\n",
       " 553536,\n",
       " 555025,\n",
       " 556516,\n",
       " 558009,\n",
       " 559504,\n",
       " 561001,\n",
       " 562500,\n",
       " 564001,\n",
       " 565504,\n",
       " 567009,\n",
       " 568516,\n",
       " 570025,\n",
       " 571536,\n",
       " 573049,\n",
       " 574564,\n",
       " 576081,\n",
       " 577600,\n",
       " 579121,\n",
       " 580644,\n",
       " 582169,\n",
       " 583696,\n",
       " 585225,\n",
       " 586756,\n",
       " 588289,\n",
       " 589824,\n",
       " 591361,\n",
       " 592900,\n",
       " 594441,\n",
       " 595984,\n",
       " 597529,\n",
       " 599076,\n",
       " 600625,\n",
       " 602176,\n",
       " 603729,\n",
       " 605284,\n",
       " 606841,\n",
       " 608400,\n",
       " 609961,\n",
       " 611524,\n",
       " 613089,\n",
       " 614656,\n",
       " 616225,\n",
       " 617796,\n",
       " 619369,\n",
       " 620944,\n",
       " 622521,\n",
       " 624100,\n",
       " 625681,\n",
       " 627264,\n",
       " 628849,\n",
       " 630436,\n",
       " 632025,\n",
       " 633616,\n",
       " 635209,\n",
       " 636804,\n",
       " 638401,\n",
       " 640000,\n",
       " 641601,\n",
       " 643204,\n",
       " 644809,\n",
       " 646416,\n",
       " 648025,\n",
       " 649636,\n",
       " 651249,\n",
       " 652864,\n",
       " 654481,\n",
       " 656100,\n",
       " 657721,\n",
       " 659344,\n",
       " 660969,\n",
       " 662596,\n",
       " 664225,\n",
       " 665856,\n",
       " 667489,\n",
       " 669124,\n",
       " 670761,\n",
       " 672400,\n",
       " 674041,\n",
       " 675684,\n",
       " 677329,\n",
       " 678976,\n",
       " 680625,\n",
       " 682276,\n",
       " 683929,\n",
       " 685584,\n",
       " 687241,\n",
       " 688900,\n",
       " 690561,\n",
       " 692224,\n",
       " 693889,\n",
       " 695556,\n",
       " 697225,\n",
       " 698896,\n",
       " 700569,\n",
       " 702244,\n",
       " 703921,\n",
       " 705600,\n",
       " 707281,\n",
       " 708964,\n",
       " 710649,\n",
       " 712336,\n",
       " 714025,\n",
       " 715716,\n",
       " 717409,\n",
       " 719104,\n",
       " 720801,\n",
       " 722500,\n",
       " 724201,\n",
       " 725904,\n",
       " 727609,\n",
       " 729316,\n",
       " 731025,\n",
       " 732736,\n",
       " 734449,\n",
       " 736164,\n",
       " 737881,\n",
       " 739600,\n",
       " 741321,\n",
       " 743044,\n",
       " 744769,\n",
       " 746496,\n",
       " 748225,\n",
       " 749956,\n",
       " 751689,\n",
       " 753424,\n",
       " 755161,\n",
       " 756900,\n",
       " 758641,\n",
       " 760384,\n",
       " 762129,\n",
       " 763876,\n",
       " 765625,\n",
       " 767376,\n",
       " 769129,\n",
       " 770884,\n",
       " 772641,\n",
       " 774400,\n",
       " 776161,\n",
       " 777924,\n",
       " 779689,\n",
       " 781456,\n",
       " 783225,\n",
       " 784996,\n",
       " 786769,\n",
       " 788544,\n",
       " 790321,\n",
       " 792100,\n",
       " 793881,\n",
       " 795664,\n",
       " 797449,\n",
       " 799236,\n",
       " 801025,\n",
       " 802816,\n",
       " 804609,\n",
       " 806404,\n",
       " 808201,\n",
       " 810000,\n",
       " 811801,\n",
       " 813604,\n",
       " 815409,\n",
       " 817216,\n",
       " 819025,\n",
       " 820836,\n",
       " 822649,\n",
       " 824464,\n",
       " 826281,\n",
       " 828100,\n",
       " 829921,\n",
       " 831744,\n",
       " 833569,\n",
       " 835396,\n",
       " 837225,\n",
       " 839056,\n",
       " 840889,\n",
       " 842724,\n",
       " 844561,\n",
       " 846400,\n",
       " 848241,\n",
       " 850084,\n",
       " 851929,\n",
       " 853776,\n",
       " 855625,\n",
       " 857476,\n",
       " 859329,\n",
       " 861184,\n",
       " 863041,\n",
       " 864900,\n",
       " 866761,\n",
       " 868624,\n",
       " 870489,\n",
       " 872356,\n",
       " 874225,\n",
       " 876096,\n",
       " 877969,\n",
       " 879844,\n",
       " 881721,\n",
       " 883600,\n",
       " 885481,\n",
       " 887364,\n",
       " 889249,\n",
       " 891136,\n",
       " 893025,\n",
       " 894916,\n",
       " 896809,\n",
       " 898704,\n",
       " 900601,\n",
       " 902500,\n",
       " 904401,\n",
       " 906304,\n",
       " 908209,\n",
       " 910116,\n",
       " 912025,\n",
       " 913936,\n",
       " 915849,\n",
       " 917764,\n",
       " 919681,\n",
       " 921600,\n",
       " 923521,\n",
       " 925444,\n",
       " 927369,\n",
       " 929296,\n",
       " 931225,\n",
       " 933156,\n",
       " 935089,\n",
       " 937024,\n",
       " 938961,\n",
       " 940900,\n",
       " 942841,\n",
       " 944784,\n",
       " 946729,\n",
       " 948676,\n",
       " 950625,\n",
       " 952576,\n",
       " 954529,\n",
       " 956484,\n",
       " 958441,\n",
       " 960400,\n",
       " 962361,\n",
       " 964324,\n",
       " 966289,\n",
       " 968256,\n",
       " 970225,\n",
       " 972196,\n",
       " 974169,\n",
       " 976144,\n",
       " 978121,\n",
       " 980100,\n",
       " 982081,\n",
       " 984064,\n",
       " 986049,\n",
       " 988036,\n",
       " 990025,\n",
       " 992016,\n",
       " 994009,\n",
       " 996004,\n",
       " 998001,\n",
       " ...]"
      ]
     },
     "execution_count": 27,
     "metadata": {},
     "output_type": "execute_result"
    }
   ],
   "source": [
    "resultado2"
   ]
  },
  {
   "cell_type": "markdown",
   "id": "f1419b71",
   "metadata": {},
   "source": [
    "### 3) Con np. array "
   ]
  },
  {
   "cell_type": "code",
   "execution_count": 35,
   "id": "fdec53b8",
   "metadata": {},
   "outputs": [
    {
     "data": {
      "text/plain": [
       "array([   0,    1,    2, ..., 9997, 9998, 9999])"
      ]
     },
     "execution_count": 35,
     "metadata": {},
     "output_type": "execute_result"
    }
   ],
   "source": [
    "vector1 = np.arange(tamaño)\n",
    "vector1"
   ]
  },
  {
   "cell_type": "code",
   "execution_count": 36,
   "id": "54c504d2",
   "metadata": {},
   "outputs": [
    {
     "data": {
      "text/plain": [
       "array([   0,    1,    2, ..., 9997, 9998, 9999])"
      ]
     },
     "execution_count": 36,
     "metadata": {},
     "output_type": "execute_result"
    }
   ],
   "source": [
    "vector2 = np.arange(tamaño)\n",
    "vector2"
   ]
  },
  {
   "cell_type": "code",
   "execution_count": 38,
   "id": "7b218d27",
   "metadata": {},
   "outputs": [
    {
     "name": "stdout",
     "output_type": "stream",
     "text": [
      "Se demora 0.0009982585906982422 en segundos\n"
     ]
    }
   ],
   "source": [
    "tiempo_inicial = time.time()\n",
    "resultado3 = vector1*vector2\n",
    "tiempo_final = time.time()\n",
    "t3 = tiempo_final - tiempo_inicial\n",
    "print('Se demora', t3, 'en segundos')"
   ]
  },
  {
   "cell_type": "code",
   "execution_count": null,
   "id": "b3313a22-91e0-48ae-83a7-433fe0ae3c6a",
   "metadata": {},
   "outputs": [],
   "source": []
  }
 ],
 "metadata": {
  "kernelspec": {
   "display_name": "Python 3 (ipykernel)",
   "language": "python",
   "name": "python3"
  },
  "language_info": {
   "codemirror_mode": {
    "name": "ipython",
    "version": 3
   },
   "file_extension": ".py",
   "mimetype": "text/x-python",
   "name": "python",
   "nbconvert_exporter": "python",
   "pygments_lexer": "ipython3",
   "version": "3.9.16"
  }
 },
 "nbformat": 4,
 "nbformat_minor": 5
}
