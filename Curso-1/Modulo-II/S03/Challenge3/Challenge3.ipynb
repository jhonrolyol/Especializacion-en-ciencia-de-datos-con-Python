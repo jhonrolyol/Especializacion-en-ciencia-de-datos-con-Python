{
 "cells": [
  {
   "cell_type": "markdown",
   "id": "d03f407a-2ed5-4481-a2f0-bfcd2ec0550c",
   "metadata": {},
   "source": [
    "# Ejercicio 1\n",
    "\n",
    "Creamos listas"
   ]
  },
  {
   "cell_type": "code",
   "execution_count": 1,
   "id": "6aa8d1bb-fc26-47c5-b747-92ab9efe1d39",
   "metadata": {},
   "outputs": [],
   "source": [
    "Lista1 = [2, 4, 6 ,8 , 10, 12, 14, 16, 18, 20]"
   ]
  },
  {
   "cell_type": "code",
   "execution_count": 2,
   "id": "2875fadd-4447-4a6b-90ff-bfb464595697",
   "metadata": {},
   "outputs": [
    {
     "data": {
      "text/plain": [
       "[2, 4, 6, 8, 10, 12, 14, 16, 18, 20]"
      ]
     },
     "execution_count": 2,
     "metadata": {},
     "output_type": "execute_result"
    }
   ],
   "source": [
    "Lista1"
   ]
  },
  {
   "cell_type": "code",
   "execution_count": 4,
   "id": "547034cb-a832-484c-896c-357185354f6f",
   "metadata": {},
   "outputs": [],
   "source": [
    "Lista2 = list([1,3,5,7,9,11,13,15,17,19])"
   ]
  },
  {
   "cell_type": "code",
   "execution_count": 5,
   "id": "1f4d7961-93b6-4c3d-88f9-1331092673e8",
   "metadata": {},
   "outputs": [
    {
     "data": {
      "text/plain": [
       "[1, 3, 5, 7, 9, 11, 13, 15, 17, 19]"
      ]
     },
     "execution_count": 5,
     "metadata": {},
     "output_type": "execute_result"
    }
   ],
   "source": [
    "Lista2"
   ]
  },
  {
   "cell_type": "code",
   "execution_count": 10,
   "id": "1a207b8b-add2-4966-a33e-cbc6f56f54f0",
   "metadata": {},
   "outputs": [
    {
     "data": {
      "text/plain": [
       "(2, 8, 14, 18)"
      ]
     },
     "execution_count": 10,
     "metadata": {},
     "output_type": "execute_result"
    }
   ],
   "source": [
    "Lista1[0], Lista1[3], Lista1[6], Lista1[8]"
   ]
  },
  {
   "cell_type": "code",
   "execution_count": 12,
   "id": "770242c7-c487-4c51-a40d-57e1d96a10dc",
   "metadata": {},
   "outputs": [
    {
     "data": {
      "text/plain": [
       "(3, 7, 13, 19)"
      ]
     },
     "execution_count": 12,
     "metadata": {},
     "output_type": "execute_result"
    }
   ],
   "source": [
    "Lista2[1], Lista2[3], Lista2[6], Lista2[9]"
   ]
  },
  {
   "cell_type": "code",
   "execution_count": 29,
   "id": "6a72bfa5-790c-4b64-97e0-7c817b31ea9b",
   "metadata": {},
   "outputs": [],
   "source": [
    "Lista1[0] = 100 # Remplazamos el elemento 2 por 100"
   ]
  },
  {
   "cell_type": "code",
   "execution_count": 30,
   "id": "0540f952-a601-4bff-89cf-f8b5bc559037",
   "metadata": {},
   "outputs": [
    {
     "data": {
      "text/plain": [
       "[100, 4, 6, 8, 10, 12, 14, 16, 18, 20]"
      ]
     },
     "execution_count": 30,
     "metadata": {},
     "output_type": "execute_result"
    }
   ],
   "source": [
    "Lista1 "
   ]
  },
  {
   "cell_type": "markdown",
   "id": "7ba2f965-a10d-498e-9d5c-65fe19fdfa01",
   "metadata": {},
   "source": [
    "# Ejercicio 2\n",
    "\n",
    "Creamos tuplas"
   ]
  },
  {
   "cell_type": "code",
   "execution_count": 13,
   "id": "5ff851cf-5159-45e2-a146-babf65ba142f",
   "metadata": {},
   "outputs": [],
   "source": [
    "Tupla1 = (2, 4, 6, 8, 10, 12, 14, 16, 18, 20)"
   ]
  },
  {
   "cell_type": "code",
   "execution_count": 14,
   "id": "b1bf2aca-6705-4bba-8b6a-6b748edfa425",
   "metadata": {},
   "outputs": [
    {
     "data": {
      "text/plain": [
       "(2, 4, 6, 8, 10, 12, 14, 16, 18, 20)"
      ]
     },
     "execution_count": 14,
     "metadata": {},
     "output_type": "execute_result"
    }
   ],
   "source": [
    "Tupla1"
   ]
  },
  {
   "cell_type": "code",
   "execution_count": 18,
   "id": "e7ef73c5-b3ad-415a-842e-6536187cf962",
   "metadata": {},
   "outputs": [],
   "source": [
    "Tupla2 = tuple((1,3,5,7,9,11,13,15,17,19))"
   ]
  },
  {
   "cell_type": "code",
   "execution_count": 20,
   "id": "2814587d-28cb-40bd-89d7-77547fd87962",
   "metadata": {},
   "outputs": [
    {
     "data": {
      "text/plain": [
       "(1, 3, 5, 7, 9, 11, 13, 15, 17, 19)"
      ]
     },
     "execution_count": 20,
     "metadata": {},
     "output_type": "execute_result"
    }
   ],
   "source": [
    "Tupla2"
   ]
  },
  {
   "cell_type": "code",
   "execution_count": 21,
   "id": "74ec19d0-8cb3-4db4-a7ba-071cab11303e",
   "metadata": {},
   "outputs": [
    {
     "data": {
      "text/plain": [
       "6"
      ]
     },
     "execution_count": 21,
     "metadata": {},
     "output_type": "execute_result"
    }
   ],
   "source": [
    "Tupla1[2]"
   ]
  },
  {
   "cell_type": "code",
   "execution_count": 22,
   "id": "64f049d4-0c65-4a25-a7ef-58574d8a7249",
   "metadata": {},
   "outputs": [
    {
     "data": {
      "text/plain": [
       "11"
      ]
     },
     "execution_count": 22,
     "metadata": {},
     "output_type": "execute_result"
    }
   ],
   "source": [
    "Tupla2[5]"
   ]
  },
  {
   "cell_type": "code",
   "execution_count": 26,
   "id": "8a25235a-a410-4785-b38f-544c8e5d4a8c",
   "metadata": {},
   "outputs": [
    {
     "ename": "TypeError",
     "evalue": "'tuple' object does not support item assignment",
     "output_type": "error",
     "traceback": [
      "\u001b[1;31m---------------------------------------------------------------------------\u001b[0m",
      "\u001b[1;31mTypeError\u001b[0m                                 Traceback (most recent call last)",
      "Cell \u001b[1;32mIn[26], line 1\u001b[0m\n\u001b[1;32m----> 1\u001b[0m Tupla1[\u001b[38;5;241m2\u001b[39m] \u001b[38;5;241m=\u001b[39m \u001b[38;5;241m33\u001b[39m\n",
      "\u001b[1;31mTypeError\u001b[0m: 'tuple' object does not support item assignment"
     ]
    }
   ],
   "source": [
    "Tupla1[2] = 33 # Genero un error porque las tuplas son inmutables"
   ]
  },
  {
   "cell_type": "markdown",
   "id": "02f9ea57-3a53-4eea-b512-80d4ffec9f72",
   "metadata": {},
   "source": [
    "# Ejercicio 3\n",
    "\n",
    "Utilizamos el array"
   ]
  },
  {
   "cell_type": "code",
   "execution_count": 58,
   "id": "4b72aa3c-6efe-4da4-b172-f133a2c8d3ec",
   "metadata": {},
   "outputs": [
    {
     "data": {
      "text/plain": [
       "array([[ 1,  2,  3,  4,  5],\n",
       "       [ 6,  7,  8,  9, 10],\n",
       "       [11, 12, 13, 14, 15]])"
      ]
     },
     "execution_count": 58,
     "metadata": {},
     "output_type": "execute_result"
    }
   ],
   "source": [
    "import numpy as np\n",
    "# Utilizamos listas\n",
    "Matriz1 = np.array(\n",
    "    [\n",
    "    [1,2,3,4,5],\n",
    "    [6,7,8,9,10],\n",
    "    [11,12,13,14,15]\n",
    "    ]\n",
    ")\n",
    "Matriz1"
   ]
  },
  {
   "cell_type": "code",
   "execution_count": 59,
   "id": "301ebb2d-a4de-4f2b-ad90-b30d307a5e25",
   "metadata": {},
   "outputs": [
    {
     "data": {
      "text/plain": [
       "numpy.ndarray"
      ]
     },
     "execution_count": 59,
     "metadata": {},
     "output_type": "execute_result"
    }
   ],
   "source": [
    "type(Matriz1)"
   ]
  },
  {
   "cell_type": "code",
   "execution_count": 60,
   "id": "edc2f16b-d982-4adc-8b0e-eefdff62fca8",
   "metadata": {},
   "outputs": [
    {
     "data": {
      "text/plain": [
       "(3, 5)"
      ]
     },
     "execution_count": 60,
     "metadata": {},
     "output_type": "execute_result"
    }
   ],
   "source": [
    "Matriz1.shape"
   ]
  },
  {
   "cell_type": "code",
   "execution_count": 61,
   "id": "137c35fe-98de-413b-88eb-c4d48ecbfaa6",
   "metadata": {},
   "outputs": [
    {
     "data": {
      "text/plain": [
       "15"
      ]
     },
     "execution_count": 61,
     "metadata": {},
     "output_type": "execute_result"
    }
   ],
   "source": [
    "Matriz1.size"
   ]
  },
  {
   "cell_type": "code",
   "execution_count": 68,
   "id": "179fd4ed-cffe-4d31-a011-141946a6990b",
   "metadata": {},
   "outputs": [
    {
     "data": {
      "text/plain": [
       "array([11, 12, 13, 14, 15])"
      ]
     },
     "execution_count": 68,
     "metadata": {},
     "output_type": "execute_result"
    }
   ],
   "source": [
    "Matriz1[2,:] # muestra la tercera fila y todas las columnas"
   ]
  },
  {
   "cell_type": "code",
   "execution_count": 70,
   "id": "447efb5c-95a7-4035-8dce-8ed1cb00ba00",
   "metadata": {},
   "outputs": [
    {
     "data": {
      "text/plain": [
       "array([ 4,  9, 14])"
      ]
     },
     "execution_count": 70,
     "metadata": {},
     "output_type": "execute_result"
    }
   ],
   "source": [
    "Matriz1[:,3] # muestra todas las filas de la columna 4"
   ]
  },
  {
   "cell_type": "code",
   "execution_count": 62,
   "id": "3091b14b-181e-4626-8638-e47f0133718b",
   "metadata": {},
   "outputs": [
    {
     "data": {
      "text/plain": [
       "array([[ 1,  2,  3,  4],\n",
       "       [ 6,  7,  8,  9],\n",
       "       [11, 12, 13, 14]])"
      ]
     },
     "execution_count": 62,
     "metadata": {},
     "output_type": "execute_result"
    }
   ],
   "source": [
    "# Utilizamos tuplas\n",
    "Matriz2 = np.array(\n",
    "    (\n",
    "    (1,2,3,4),\n",
    "    (6,7,8,9),\n",
    "    (11,12,13,14)\n",
    "    )\n",
    ")\n",
    "Matriz2"
   ]
  },
  {
   "cell_type": "code",
   "execution_count": 63,
   "id": "ed05ca77-f129-486d-84da-418b2fb799a6",
   "metadata": {},
   "outputs": [
    {
     "data": {
      "text/plain": [
       "numpy.ndarray"
      ]
     },
     "execution_count": 63,
     "metadata": {},
     "output_type": "execute_result"
    }
   ],
   "source": [
    "type(Matriz2)"
   ]
  },
  {
   "cell_type": "code",
   "execution_count": 64,
   "id": "77fae06d-f7ae-4816-b66c-3f527795fda4",
   "metadata": {},
   "outputs": [
    {
     "data": {
      "text/plain": [
       "(3, 4)"
      ]
     },
     "execution_count": 64,
     "metadata": {},
     "output_type": "execute_result"
    }
   ],
   "source": [
    "Matriz2.shape"
   ]
  },
  {
   "cell_type": "code",
   "execution_count": 65,
   "id": "cf390a9a-17ba-4a19-8850-c546f9d36e0b",
   "metadata": {},
   "outputs": [
    {
     "data": {
      "text/plain": [
       "12"
      ]
     },
     "execution_count": 65,
     "metadata": {},
     "output_type": "execute_result"
    }
   ],
   "source": [
    "Matriz2.size"
   ]
  },
  {
   "cell_type": "markdown",
   "id": "97225ad7-4516-4e90-a314-bb8ec907e4ad",
   "metadata": {},
   "source": [
    "# Ejercicio 4\n",
    "\n",
    "Indicando el tipo de dato del array"
   ]
  },
  {
   "cell_type": "code",
   "execution_count": 48,
   "id": "53f57527-e804-4515-867b-21b5bf726c6b",
   "metadata": {},
   "outputs": [
    {
     "data": {
      "text/plain": [
       "array([[2., 3., 5.],\n",
       "       [4., 7., 9.]])"
      ]
     },
     "execution_count": 48,
     "metadata": {},
     "output_type": "execute_result"
    }
   ],
   "source": [
    "Array1 = np.array([[2,3,5], [4,7,9]], dtype = float)\n",
    "Array1"
   ]
  },
  {
   "cell_type": "code",
   "execution_count": 50,
   "id": "07f3857b-0a51-4298-907e-9b2bc13c7ec7",
   "metadata": {},
   "outputs": [
    {
     "data": {
      "text/plain": [
       "array([[2, 3, 5],\n",
       "       [4, 7, 9]])"
      ]
     },
     "execution_count": 50,
     "metadata": {},
     "output_type": "execute_result"
    }
   ],
   "source": [
    "Array2 = np.array([[2.5,3,5.4], [4,7.5,9.1]], dtype = int)\n",
    "Array2"
   ]
  },
  {
   "cell_type": "markdown",
   "id": "b2484a58-683c-42d0-8a39-6e34781cf973",
   "metadata": {},
   "source": [
    "# Ejercicio 5\n",
    "\n",
    "Usando el `linspace`"
   ]
  },
  {
   "cell_type": "code",
   "execution_count": 52,
   "id": "6a60b93b-5c59-4952-9ff0-1f370e28ca2f",
   "metadata": {},
   "outputs": [],
   "source": [
    "import numpy as np"
   ]
  },
  {
   "cell_type": "code",
   "execution_count": null,
   "id": "dcaba97b-d489-4b35-ab06-26b50fd7d13b",
   "metadata": {},
   "outputs": [],
   "source": [
    "# Generar 10 números entre 1000 y 10,000"
   ]
  },
  {
   "cell_type": "code",
   "execution_count": 56,
   "id": "63d3adc9-3913-4112-9cca-8f024da30a71",
   "metadata": {},
   "outputs": [],
   "source": [
    "GenNum10 = np.linspace(1000,10000,10)"
   ]
  },
  {
   "cell_type": "code",
   "execution_count": 57,
   "id": "bbc849a3-df60-4d8b-9acd-7d843a93e8a7",
   "metadata": {},
   "outputs": [
    {
     "data": {
      "text/plain": [
       "array([ 1000.,  2000.,  3000.,  4000.,  5000.,  6000.,  7000.,  8000.,\n",
       "        9000., 10000.])"
      ]
     },
     "execution_count": 57,
     "metadata": {},
     "output_type": "execute_result"
    }
   ],
   "source": [
    "GenNum10"
   ]
  },
  {
   "cell_type": "code",
   "execution_count": null,
   "id": "ac1aa0d9-4b46-4de3-90a3-5aa9049bf852",
   "metadata": {},
   "outputs": [],
   "source": [
    "# La multiplicación de elementos uno a uno de dos vectores o listas"
   ]
  },
  {
   "cell_type": "code",
   "execution_count": null,
   "id": "aea372a4-feec-421e-8ad2-ffc286f984c4",
   "metadata": {},
   "outputs": [],
   "source": [
    "## Opción 1"
   ]
  },
  {
   "cell_type": "code",
   "execution_count": 73,
   "id": "750d9ea2-0106-4cbc-930c-461fafd4c241",
   "metadata": {},
   "outputs": [
    {
     "name": "stdout",
     "output_type": "stream",
     "text": [
      "[2, 6, 12, 20]\n"
     ]
    }
   ],
   "source": [
    "Vector1_op1 = [1, 2, 3, 4]\n",
    "Vector2_op1 = [2, 3, 4, 5]\n",
    "\n",
    "Resultado1 = [x * y for x, y in zip(Vector1_op1, Vector2_op1)]\n",
    "\n",
    "print(Resultado1)"
   ]
  },
  {
   "cell_type": "code",
   "execution_count": null,
   "id": "8eeae0be-63ad-4962-9b87-d989f5274c5b",
   "metadata": {},
   "outputs": [],
   "source": [
    "## opción 2"
   ]
  },
  {
   "cell_type": "code",
   "execution_count": 74,
   "id": "6bf5fca0-dc8f-4a61-9f43-d7fb481e2d82",
   "metadata": {},
   "outputs": [
    {
     "name": "stdout",
     "output_type": "stream",
     "text": [
      "[ 2  6 12 20]\n"
     ]
    }
   ],
   "source": [
    "import numpy as np\n",
    "\n",
    "Vector1_op2 = np.array([1, 2, 3, 4])\n",
    "Vector2_op2 = np.array([2, 3, 4, 5])\n",
    "\n",
    "Resultado2 = np.multiply(Vector1_op2, Vector2_op2)\n",
    "\n",
    "print(Resultado2)"
   ]
  },
  {
   "cell_type": "code",
   "execution_count": null,
   "id": "cb30f625-f079-42bc-ba1c-508383a959dc",
   "metadata": {},
   "outputs": [],
   "source": [
    "#------ RETO CUMPLIDO. "
   ]
  }
 ],
 "metadata": {
  "kernelspec": {
   "display_name": "Python 3 (ipykernel)",
   "language": "python",
   "name": "python3"
  },
  "language_info": {
   "codemirror_mode": {
    "name": "ipython",
    "version": 3
   },
   "file_extension": ".py",
   "mimetype": "text/x-python",
   "name": "python",
   "nbconvert_exporter": "python",
   "pygments_lexer": "ipython3",
   "version": "3.9.16"
  }
 },
 "nbformat": 4,
 "nbformat_minor": 5
}
