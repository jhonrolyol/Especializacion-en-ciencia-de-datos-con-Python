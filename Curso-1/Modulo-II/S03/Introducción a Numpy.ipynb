{
 "cells": [
  {
   "cell_type": "markdown",
   "id": "15da1f56",
   "metadata": {},
   "source": [
    "![Imagen](https://miro.medium.com/max/815/1*S9cur9wmGVv2bg7b6wlscg.jpeg)"
   ]
  },
  {
   "cell_type": "markdown",
   "id": "05f00f40",
   "metadata": {},
   "source": [
    "https://numpy.org/"
   ]
  },
  {
   "cell_type": "code",
   "execution_count": null,
   "id": "a9b6e2bf",
   "metadata": {},
   "outputs": [],
   "source": []
  },
  {
   "cell_type": "code",
   "execution_count": null,
   "id": "79d0483f",
   "metadata": {},
   "outputs": [],
   "source": []
  },
  {
   "cell_type": "code",
   "execution_count": 155,
   "id": "ab54aef7",
   "metadata": {},
   "outputs": [],
   "source": [
    "#Importando la libería\n",
    "import numpy as np\n"
   ]
  },
  {
   "cell_type": "markdown",
   "id": "c12071bf",
   "metadata": {},
   "source": [
    "# 1) Introducccion\n",
    "\n",
    "**NumPy** es una librería de Python especializada en el cálculo numérico y el análisis de datos, especialmente para un gran volumen de datos.\n",
    "\n",
    "Incorpora una nueva clase de objetos llamados **arrays** que permite representar colecciones de datos de un mismo tipo en varias dimensiones, y funciones muy eficientes para su manipulación.\n",
    "\n",
    "+ un poderoso objeto de arreglo N-dimensional\n",
    "+ herramientas para integrar código en C/C++ y Fortran\n",
    "+ útiles capacidades de álgebra lineal, transformación de Fourier y números aleatorios\n",
    "\n"
   ]
  },
  {
   "cell_type": "markdown",
   "id": "77b60f68",
   "metadata": {},
   "source": [
    "# 2) Array\n",
    "\n",
    "son la forma principal de almacenar datos utilizando la biblioteca NumPy. Son similares a las listas normales en Python, pero tienen la ventaja de ser más rápidas (hasta 50 veces más) y tener más métodos integrados."
   ]
  },
  {
   "cell_type": "markdown",
   "id": "52b083ab",
   "metadata": {},
   "source": [
    "## 2.1 Creación de arrays\n",
    "* lista y tuplas de Python.\n",
    "* usando funciones que están dedicadas a generar matrices numpy, como `arange`, `linspace`, etc.\n",
    " \n",
    " "
   ]
  },
  {
   "cell_type": "markdown",
   "id": "9ec7623e",
   "metadata": {},
   "source": [
    "### 2.1.1 Creación de arrays utilizando lista y tuplas de Python.\n"
   ]
  },
  {
   "cell_type": "markdown",
   "id": "c50bf812",
   "metadata": {},
   "source": [
    "###  *¿Qué es una lista?* "
   ]
  },
  {
   "cell_type": "markdown",
   "id": "427598c9",
   "metadata": {},
   "source": [
    "#### Ejemplo 1\n"
   ]
  },
  {
   "cell_type": "markdown",
   "id": "1187f026",
   "metadata": {},
   "source": [
    "La lista se representa mediante corchetes  "
   ]
  },
  {
   "cell_type": "code",
   "execution_count": 169,
   "id": "d4177c58",
   "metadata": {},
   "outputs": [],
   "source": [
    "[2,4,100,59]"
   ]
  },
  {
   "cell_type": "code",
   "execution_count": 170,
   "id": "ec5f124d",
   "metadata": {},
   "outputs": [],
   "source": [
    "lista1=[2,4,100,59]\n",
    "lista1"
   ]
  },
  {
   "cell_type": "code",
   "execution_count": 171,
   "id": "0d775e39",
   "metadata": {},
   "outputs": [],
   "source": [
    "lista2=['Data',1,2,'Analítica']\n",
    "lista2"
   ]
  },
  {
   "cell_type": "code",
   "execution_count": 159,
   "id": "dd3d64a7",
   "metadata": {},
   "outputs": [],
   "source": [
    "lista2[0]='analítica'"
   ]
  },
  {
   "cell_type": "code",
   "execution_count": 172,
   "id": "111172c4",
   "metadata": {},
   "outputs": [],
   "source": [
    "lista2"
   ]
  },
  {
   "cell_type": "markdown",
   "id": "e57ea389",
   "metadata": {},
   "source": [
    "### ¿Qué es una tupla? "
   ]
  },
  {
   "cell_type": "markdown",
   "id": "79b62e8b",
   "metadata": {},
   "source": [
    "#### Ejemplo 2 "
   ]
  },
  {
   "cell_type": "markdown",
   "id": "f62f32fa",
   "metadata": {},
   "source": [
    "La tupla se representa mediante parentesis "
   ]
  },
  {
   "cell_type": "code",
   "execution_count": 173,
   "id": "21489a47",
   "metadata": {},
   "outputs": [],
   "source": [
    "tupla1=('Data',1,2,'Analítica')\n",
    "tupla1"
   ]
  },
  {
   "cell_type": "code",
   "execution_count": 163,
   "id": "5cce7be3",
   "metadata": {},
   "outputs": [],
   "source": [
    "# tupla1[0]='analítica'"
   ]
  },
  {
   "cell_type": "code",
   "execution_count": null,
   "id": "d71ffb0c",
   "metadata": {},
   "outputs": [],
   "source": []
  },
  {
   "cell_type": "markdown",
   "id": "49997ada",
   "metadata": {},
   "source": [
    "<p style=\"color:blue\"> OJO \n",
    "\n",
    "<p style=\"color:purple\"> las tuplas son más rápidas que las listas\n",
    "    \n",
    "<p style=\"color:purple\"> Las tuplas hacen que el código esté a salvo de cualquier modificación accidental. Si se necesita un dato en un programa que se supone que no debe cambiarse, entonces es mejor ponerlo en 'tuplas' que en 'lista'.\n",
    "    \n",
    "<p style=\"color:purple\">Las tuplas se pueden usar como claves de diccionario si contienen valores inmutables como cadenas, números u otra tupla. Las 'listas' nunca se pueden usar como claves de diccionario, ya que las 'listas' son mutables."
   ]
  },
  {
   "cell_type": "markdown",
   "id": "a65bb2a6",
   "metadata": {},
   "source": [
    "#### para crear un array se utilizará np.array \n"
   ]
  },
  {
   "cell_type": "markdown",
   "id": "a9562522",
   "metadata": {},
   "source": [
    "#### Ejemplo 3 "
   ]
  },
  {
   "cell_type": "markdown",
   "id": "62b19815",
   "metadata": {},
   "source": [
    "Un vector, utilizando una lista "
   ]
  },
  {
   "cell_type": "code",
   "execution_count": 174,
   "id": "7c34fe6b",
   "metadata": {},
   "outputs": [],
   "source": [
    "vector1=np.array([2,4,6,87])\n",
    "vector1"
   ]
  },
  {
   "cell_type": "markdown",
   "id": "511f9a0f",
   "metadata": {},
   "source": [
    "#### Ejemplo 4 "
   ]
  },
  {
   "cell_type": "markdown",
   "id": "dd1fd506",
   "metadata": {},
   "source": [
    "Una matriz, utilizamos una listas dentro de otra lista"
   ]
  },
  {
   "cell_type": "code",
   "execution_count": 175,
   "id": "bbbbae2c",
   "metadata": {},
   "outputs": [],
   "source": [
    "matriz1=np.array([[1,2,3],[5,8,5]])\n",
    "matriz1"
   ]
  },
  {
   "cell_type": "markdown",
   "id": "eb89d76b",
   "metadata": {},
   "source": [
    "#### Ejemplo 5 "
   ]
  },
  {
   "cell_type": "markdown",
   "id": "f07c713f",
   "metadata": {},
   "source": [
    "Un vector, utilizando tuplas"
   ]
  },
  {
   "cell_type": "code",
   "execution_count": 168,
   "id": "87e7e36b",
   "metadata": {},
   "outputs": [],
   "source": [
    "vector2=np.array((3,7,9))\n",
    "vector2"
   ]
  },
  {
   "cell_type": "markdown",
   "id": "b3d9f7b7",
   "metadata": {},
   "source": [
    "###### Se observa que los vectores y matrices creadas anteriormente son del mismo tipo "
   ]
  },
  {
   "cell_type": "code",
   "execution_count": 167,
   "id": "e7fedba7",
   "metadata": {},
   "outputs": [],
   "source": [
    "type(vector1),type(vector2)"
   ]
  },
  {
   "cell_type": "markdown",
   "id": "6276527c",
   "metadata": {},
   "source": [
    "##### Identificando las dimensiones  shape   y la cantidad de elementos size \n"
   ]
  },
  {
   "cell_type": "code",
   "execution_count": 14,
   "id": "4a35f758",
   "metadata": {},
   "outputs": [
    {
     "data": {
      "text/plain": [
       "(3,)"
      ]
     },
     "execution_count": 14,
     "metadata": {},
     "output_type": "execute_result"
    }
   ],
   "source": [
    "vector2.shape"
   ]
  },
  {
   "cell_type": "code",
   "execution_count": 40,
   "id": "2c00d54e",
   "metadata": {},
   "outputs": [
    {
     "data": {
      "text/plain": [
       "(3, 3)"
      ]
     },
     "execution_count": 40,
     "metadata": {},
     "output_type": "execute_result"
    }
   ],
   "source": [
    "matriz2.shape"
   ]
  },
  {
   "cell_type": "code",
   "execution_count": 14,
   "id": "8a847185",
   "metadata": {},
   "outputs": [
    {
     "data": {
      "text/plain": [
       "9"
      ]
     },
     "execution_count": 14,
     "metadata": {},
     "output_type": "execute_result"
    }
   ],
   "source": [
    "matriz2.size"
   ]
  },
  {
   "cell_type": "markdown",
   "id": "dd506db3",
   "metadata": {},
   "source": [
    "#### Diferencias entre lista y array "
   ]
  },
  {
   "cell_type": "markdown",
   "id": "8e409ef8",
   "metadata": {},
   "source": [
    "| Lista | Array |\n",
    "|:- |:-|\n",
    "| Puede consistir en elementos que pertenecen a diferentes tipos de datos | Solo consta de elementos que pertenecen al mismo tipo de datos |\n",
    "| No es necesario importar explícitamente un módulo para la declaración | Necesidad de importar explícitamente un módulo para la declaración | \n",
    "|No se pueden manejar directamente las operaciones aritméticas|Puede manejar directamente operaciones aritméticas|\n",
    "|Se puede anidar para contener diferentes tipos de elementos|Debe contener todos los elementos anidados del mismo tamaño|\n",
    "|Preferido para una secuencia más corta de elementos de datos|Preferido para una secuencia más larga de elementos de datos|\n",
    "|Una mayor flexibilidad permite una fácil modificación (adición, eliminación) de datos|Menos flexibilidad ya que la adición, la eliminación tiene que hacerse en cuanto a elementos|\n",
    "|La lista completa se puede imprimir sin ningún bucle explícito|Se debe formar un bucle para imprimir o acceder a los componentes de la matriz|\n",
    "|Consume mayor memoria para añadir elementos fácilmente|Comparativamente más compacto en tamaño de memoria|\n",
    "\n",
    "\n"
   ]
  },
  {
   "cell_type": "markdown",
   "id": "4839038c",
   "metadata": {},
   "source": [
    "##### Se puede especificar el tipo de dato del array indicando el argumento dtype"
   ]
  },
  {
   "cell_type": "code",
   "execution_count": 184,
   "id": "0a79518b",
   "metadata": {},
   "outputs": [],
   "source": [
    "matriz = np.array([[1, 2], [3, 4]], dtype=float)\n",
    "matriz"
   ]
  },
  {
   "cell_type": "markdown",
   "id": "ede8942b",
   "metadata": {},
   "source": [
    "#### Los tipos de datos más comunes\n",
    "int, float, complex, bool, object, etc."
   ]
  },
  {
   "cell_type": "markdown",
   "id": "fde7512d",
   "metadata": {},
   "source": [
    "#### Ejemplo 6 "
   ]
  },
  {
   "cell_type": "markdown",
   "id": "86fceb69",
   "metadata": {},
   "source": [
    "Cambiando el elemento de la fila uno y columna uno por el valor de 3"
   ]
  },
  {
   "cell_type": "code",
   "execution_count": 185,
   "id": "0f4ddcbb",
   "metadata": {},
   "outputs": [],
   "source": [
    "matriz[0,0]=3\n",
    "matriz"
   ]
  },
  {
   "cell_type": "markdown",
   "id": "80b85f13",
   "metadata": {},
   "source": [
    "#### Ejemplo 7 "
   ]
  },
  {
   "cell_type": "markdown",
   "id": "509c5d7d",
   "metadata": {},
   "source": [
    "Intercambio de un valor float por un complex"
   ]
  },
  {
   "cell_type": "code",
   "execution_count": 188,
   "id": "52519c1e",
   "metadata": {},
   "outputs": [],
   "source": [
    "# #¿ que sucede?\n",
    "# matriz[0,0]=2+3j\n",
    "# matriz"
   ]
  },
  {
   "cell_type": "code",
   "execution_count": null,
   "id": "b9bef91b",
   "metadata": {},
   "outputs": [],
   "source": []
  },
  {
   "cell_type": "code",
   "execution_count": 192,
   "id": "d2141e17",
   "metadata": {},
   "outputs": [],
   "source": [
    "matriz=np.array([[3,2],[4,6]],dtype=complex)\n",
    "matriz"
   ]
  },
  {
   "cell_type": "code",
   "execution_count": 193,
   "id": "d47a158a",
   "metadata": {},
   "outputs": [],
   "source": [
    "matriz[0,0]=2+3j\n",
    "matriz"
   ]
  },
  {
   "cell_type": "markdown",
   "id": "fa70307b",
   "metadata": {},
   "source": [
    "#### Se puede cambiar el tipo de datos\n"
   ]
  },
  {
   "cell_type": "markdown",
   "id": "a2bc7f48",
   "metadata": {},
   "source": [
    "#### Ejemplo 8 "
   ]
  },
  {
   "cell_type": "markdown",
   "id": "0a172e50",
   "metadata": {},
   "source": [
    "Intercambiando un entero por un complejo "
   ]
  },
  {
   "cell_type": "code",
   "execution_count": 25,
   "id": "0a29da7a",
   "metadata": {},
   "outputs": [
    {
     "data": {
      "text/plain": [
       "array([[1, 2, 3, 4],\n",
       "       [8, 1, 2, 5]])"
      ]
     },
     "execution_count": 25,
     "metadata": {},
     "output_type": "execute_result"
    }
   ],
   "source": [
    "matriz=np.array([[1,2,3,4],[8,1,2,5]])\n",
    "matriz"
   ]
  },
  {
   "cell_type": "code",
   "execution_count": 22,
   "id": "974f209b",
   "metadata": {},
   "outputs": [
    {
     "data": {
      "text/plain": [
       "array([[1.+0.j, 2.+0.j, 3.+0.j, 4.+0.j],\n",
       "       [8.+0.j, 1.+0.j, 2.+0.j, 5.+0.j]])"
      ]
     },
     "execution_count": 22,
     "metadata": {},
     "output_type": "execute_result"
    }
   ],
   "source": [
    "matriz.astype('complex')"
   ]
  },
  {
   "cell_type": "markdown",
   "id": "656d86e4",
   "metadata": {},
   "source": [
    "### 2.1.2 Creación de matrices utilizando funciones de numpy"
   ]
  },
  {
   "cell_type": "markdown",
   "id": "6ab6bd7b",
   "metadata": {},
   "source": [
    "#### np.arange(start, stop, step) step-->determina el tamaño de los pasos    "
   ]
  },
  {
   "cell_type": "markdown",
   "id": "e003ac9b",
   "metadata": {},
   "source": [
    "#### Ejemplo 9 "
   ]
  },
  {
   "cell_type": "markdown",
   "id": "936acfa1",
   "metadata": {},
   "source": [
    "Especificando todos los parámetros"
   ]
  },
  {
   "cell_type": "code",
   "execution_count": 23,
   "id": "5fb44010",
   "metadata": {},
   "outputs": [
    {
     "data": {
      "text/plain": [
       "array([ 2,  5,  8, 11])"
      ]
     },
     "execution_count": 23,
     "metadata": {},
     "output_type": "execute_result"
    }
   ],
   "source": [
    "np.arange(2,12,3)"
   ]
  },
  {
   "cell_type": "markdown",
   "id": "e1d94b6c",
   "metadata": {},
   "source": [
    "#### Ejemplo 10 "
   ]
  },
  {
   "cell_type": "markdown",
   "id": "9bbd6466",
   "metadata": {},
   "source": [
    "Especificando solo dos parámetros "
   ]
  },
  {
   "cell_type": "code",
   "execution_count": 24,
   "id": "3b55120f",
   "metadata": {},
   "outputs": [
    {
     "data": {
      "text/plain": [
       "array([2, 3, 4, 5, 6, 7, 8, 9])"
      ]
     },
     "execution_count": 24,
     "metadata": {},
     "output_type": "execute_result"
    }
   ],
   "source": [
    "np.arange(2,10)"
   ]
  },
  {
   "cell_type": "markdown",
   "id": "45c5fbf8",
   "metadata": {},
   "source": [
    "#### Ejemplo 11 "
   ]
  },
  {
   "cell_type": "markdown",
   "id": "e10af0d3",
   "metadata": {},
   "source": [
    "Especificando solo un parámetro"
   ]
  },
  {
   "cell_type": "code",
   "execution_count": 34,
   "id": "3d3b55ad",
   "metadata": {},
   "outputs": [
    {
     "data": {
      "text/plain": [
       "array([0, 1, 2, 3, 4, 5, 6, 7, 8, 9])"
      ]
     },
     "execution_count": 34,
     "metadata": {},
     "output_type": "execute_result"
    }
   ],
   "source": [
    "np.arange(10)"
   ]
  },
  {
   "cell_type": "markdown",
   "id": "0726b4b2",
   "metadata": {},
   "source": [
    "##### Ejemplo 12  "
   ]
  },
  {
   "cell_type": "markdown",
   "id": "0dd691db",
   "metadata": {},
   "source": [
    "Hallando los multiplos de 3 comprendidos entre 5 y 27"
   ]
  },
  {
   "cell_type": "code",
   "execution_count": null,
   "id": "bc8f3155-3db6-4702-b2d6-2af94eda2a15",
   "metadata": {},
   "outputs": [],
   "source": []
  },
  {
   "cell_type": "code",
   "execution_count": 196,
   "id": "aad932a3",
   "metadata": {},
   "outputs": [
    {
     "data": {
      "text/plain": [
       "array([ 6,  9, 12, 15, 18, 21, 24])"
      ]
     },
     "execution_count": 196,
     "metadata": {},
     "output_type": "execute_result"
    }
   ],
   "source": [
    "np.arange(6,27,3)"
   ]
  },
  {
   "cell_type": "markdown",
   "id": "3aefc9a4",
   "metadata": {},
   "source": [
    "#### np.linspace(start, stop, num) num-->especifica la cantidad de numeros\n"
   ]
  },
  {
   "cell_type": "markdown",
   "id": "22f322ef",
   "metadata": {},
   "source": [
    "#### Ejemplo 13 "
   ]
  },
  {
   "cell_type": "markdown",
   "id": "37883689",
   "metadata": {},
   "source": [
    "3 números que van desde 2 al 12 "
   ]
  },
  {
   "cell_type": "code",
   "execution_count": 9,
   "id": "cc117db2",
   "metadata": {},
   "outputs": [
    {
     "data": {
      "text/plain": [
       "array([ 2.,  7., 12.])"
      ]
     },
     "execution_count": 9,
     "metadata": {},
     "output_type": "execute_result"
    }
   ],
   "source": [
    "np.linspace(2,12,3)"
   ]
  },
  {
   "cell_type": "markdown",
   "id": "772a4dc1",
   "metadata": {},
   "source": [
    "#### np.logspace(start, stop, num, base) base---->especifica la base del logaritmo\n",
    "\n"
   ]
  },
  {
   "cell_type": "markdown",
   "id": "b0fc2e1a",
   "metadata": {},
   "source": [
    "#### Ejemplo 14 "
   ]
  },
  {
   "cell_type": "markdown",
   "id": "215d48e5",
   "metadata": {},
   "source": [
    "Un Array con números logaritmicos"
   ]
  },
  {
   "cell_type": "code",
   "execution_count": 43,
   "id": "6a7c8571",
   "metadata": {},
   "outputs": [
    {
     "data": {
      "text/plain": [
       "array([9.00000000e+00, 3.24252978e+01, 1.16822215e+02, 4.20888346e+02,\n",
       "       1.51638111e+03, 5.46323433e+03, 1.96830000e+04])"
      ]
     },
     "execution_count": 43,
     "metadata": {},
     "output_type": "execute_result"
    }
   ],
   "source": [
    "np.logspace(2,9,7,base=3)"
   ]
  },
  {
   "cell_type": "markdown",
   "id": "1e4423fe",
   "metadata": {},
   "source": [
    "$\\log_{a}(x)=y \\iff a^{y}=x$"
   ]
  },
  {
   "cell_type": "markdown",
   "id": "7f7c0f34",
   "metadata": {},
   "source": [
    "$\\log_{3}(x)=2 \\iff 3^{2}=9\\text{        ,            } \\log_{3}(x)=9 \\iff 3^{9}=19683$"
   ]
  },
  {
   "cell_type": "markdown",
   "id": "63b2d90d",
   "metadata": {},
   "source": [
    "##### generando valores aleatorios  "
   ]
  },
  {
   "cell_type": "code",
   "execution_count": 71,
   "id": "2e23da30",
   "metadata": {},
   "outputs": [],
   "source": [
    "import random"
   ]
  },
  {
   "cell_type": "markdown",
   "id": "5071e339",
   "metadata": {},
   "source": [
    "##### Ejemplo 15  "
   ]
  },
  {
   "cell_type": "markdown",
   "id": "064bb57b",
   "metadata": {},
   "source": [
    "Hallando valores aleatorios entre 0 y 1"
   ]
  },
  {
   "cell_type": "code",
   "execution_count": 129,
   "id": "520250b8",
   "metadata": {},
   "outputs": [
    {
     "data": {
      "text/plain": [
       "array([[0.22199317, 0.87073231, 0.20671916, 0.91861091],\n",
       "       [0.48841119, 0.61174386, 0.76590786, 0.51841799]])"
      ]
     },
     "execution_count": 129,
     "metadata": {},
     "output_type": "execute_result"
    }
   ],
   "source": [
    "np.random.seed(5) #estableciendo una semilla\n",
    "np.random.random([2,4]) #genera valores float entre 0 y 1"
   ]
  },
  {
   "cell_type": "markdown",
   "id": "492c4bf7",
   "metadata": {},
   "source": [
    "#### Ejemplo 16  "
   ]
  },
  {
   "cell_type": "markdown",
   "id": "68f4d3e2",
   "metadata": {},
   "source": [
    "Hallando valores aleatorios que provienen de una distribución normal estandar"
   ]
  },
  {
   "cell_type": "markdown",
   "id": "29884c62-a562-472b-98c4-51ac4defd880",
   "metadata": {},
   "source": [
    "https://numpy.org/doc/stable/reference/random/generated/numpy.random.randn.html"
   ]
  },
  {
   "cell_type": "code",
   "execution_count": 29,
   "id": "e4b99749",
   "metadata": {},
   "outputs": [
    {
     "data": {
      "text/plain": [
       "array([[ 0.47298583, -0.68142588,  0.2424395 , -1.70073563],\n",
       "       [ 0.75314283, -1.53472134,  0.00512708, -0.12022767]])"
      ]
     },
     "execution_count": 29,
     "metadata": {},
     "output_type": "execute_result"
    }
   ],
   "source": [
    "np.random.seed(12)\n",
    "np.random.randn(2, 4)"
   ]
  },
  {
   "cell_type": "markdown",
   "id": "04a7d931",
   "metadata": {},
   "source": [
    "#### matriz diagonal "
   ]
  },
  {
   "cell_type": "markdown",
   "id": "a3756abd",
   "metadata": {},
   "source": [
    "#### Ejemplo 17 "
   ]
  },
  {
   "cell_type": "markdown",
   "id": "23c2e237",
   "metadata": {},
   "source": [
    "matriz diagonal"
   ]
  },
  {
   "cell_type": "code",
   "execution_count": 133,
   "id": "72a5e23b",
   "metadata": {},
   "outputs": [
    {
     "data": {
      "text/plain": [
       "array([[2, 0, 0, 0, 0],\n",
       "       [0, 2, 0, 0, 0],\n",
       "       [0, 0, 6, 0, 0],\n",
       "       [0, 0, 0, 4, 0],\n",
       "       [0, 0, 0, 0, 4]])"
      ]
     },
     "execution_count": 133,
     "metadata": {},
     "output_type": "execute_result"
    }
   ],
   "source": [
    "diag_matrix = np.diag([2, 2, 6, 4, 4])\n",
    "diag_matrix"
   ]
  },
  {
   "cell_type": "markdown",
   "id": "681ed48a",
   "metadata": {},
   "source": [
    "##### matriz de ceros y unos "
   ]
  },
  {
   "cell_type": "markdown",
   "id": "ac461568",
   "metadata": {},
   "source": [
    "##### Ejemplo 18 "
   ]
  },
  {
   "cell_type": "markdown",
   "id": "476665f8",
   "metadata": {},
   "source": [
    "Matriz de ceros  "
   ]
  },
  {
   "cell_type": "code",
   "execution_count": 141,
   "id": "92c72406",
   "metadata": {},
   "outputs": [
    {
     "data": {
      "text/plain": [
       "array([[0., 0., 0., 0., 0.],\n",
       "       [0., 0., 0., 0., 0.],\n",
       "       [0., 0., 0., 0., 0.],\n",
       "       [0., 0., 0., 0., 0.],\n",
       "       [0., 0., 0., 0., 0.],\n",
       "       [0., 0., 0., 0., 0.],\n",
       "       [0., 0., 0., 0., 0.],\n",
       "       [0., 0., 0., 0., 0.],\n",
       "       [0., 0., 0., 0., 0.],\n",
       "       [0., 0., 0., 0., 0.]])"
      ]
     },
     "execution_count": 141,
     "metadata": {},
     "output_type": "execute_result"
    }
   ],
   "source": [
    "zeros_matrix = np.zeros((10, 5))\n",
    "zeros_matrix"
   ]
  },
  {
   "cell_type": "markdown",
   "id": "747c2ec7",
   "metadata": {},
   "source": [
    "#### Ejemplo de 19 "
   ]
  },
  {
   "cell_type": "markdown",
   "id": "7da880c3",
   "metadata": {},
   "source": [
    "Matriz de unos"
   ]
  },
  {
   "cell_type": "code",
   "execution_count": 151,
   "id": "ae3032a8",
   "metadata": {},
   "outputs": [
    {
     "data": {
      "text/plain": [
       "array([[1., 1., 1.],\n",
       "       [1., 1., 1.],\n",
       "       [1., 1., 1.],\n",
       "       [1., 1., 1.]])"
      ]
     },
     "execution_count": 151,
     "metadata": {},
     "output_type": "execute_result"
    }
   ],
   "source": [
    "ones_matrix=np.ones([4,3])\n",
    "ones_matrix"
   ]
  },
  {
   "cell_type": "markdown",
   "id": "17edbb23",
   "metadata": {},
   "source": [
    "## 2.2 Indexing y slicing "
   ]
  },
  {
   "cell_type": "markdown",
   "id": "e6e031f3",
   "metadata": {},
   "source": [
    "### 2.2.1 Indexing"
   ]
  },
  {
   "cell_type": "markdown",
   "id": "80dd3c0a",
   "metadata": {},
   "source": [
    "Para acceder a los elementos de un array se utiliza los corchetes  [  ]"
   ]
  },
  {
   "cell_type": "markdown",
   "id": "c8d0cdd8",
   "metadata": {},
   "source": [
    "<p style=\"color:blue\"> RECORDAR \n",
    "\n",
    " <p style=\"color:Purple\"> La indexación siempre comienza con 0. Por lo tanto, el primer elemento de una lista está presente en el índice 0, no en 1.\n",
    "     \n",
    " <p style=\"color:Purple;\"> la indexación negativa significa que el índice de -1 se refiere al último elemento, -2 al penúltimo elemento y así sucesivamente.\n",
    " \n",
    "     \n"
   ]
  },
  {
   "cell_type": "code",
   "execution_count": 32,
   "id": "faab3676",
   "metadata": {},
   "outputs": [],
   "source": [
    "vector=[2,6,9,89,13]"
   ]
  },
  {
   "cell_type": "code",
   "execution_count": 38,
   "id": "e607a412",
   "metadata": {},
   "outputs": [
    {
     "data": {
      "text/plain": [
       "array([[1, 3, 5, 9],\n",
       "       [2, 4, 6, 8],\n",
       "       [2, 3, 5, 7]])"
      ]
     },
     "execution_count": 38,
     "metadata": {},
     "output_type": "execute_result"
    }
   ],
   "source": [
    "matriz=np.array([[1,3,5,9],[2,4,6,8],[2,3,5,7]])\n",
    "matriz"
   ]
  },
  {
   "cell_type": "markdown",
   "id": "dc6ca139",
   "metadata": {},
   "source": [
    "#### Ejemplo 20 "
   ]
  },
  {
   "cell_type": "markdown",
   "id": "2388fec2",
   "metadata": {},
   "source": [
    "Encontrando el segundo elemento del vector  "
   ]
  },
  {
   "cell_type": "code",
   "execution_count": 31,
   "id": "c58a48ed",
   "metadata": {},
   "outputs": [
    {
     "data": {
      "text/plain": [
       "6"
      ]
     },
     "execution_count": 31,
     "metadata": {},
     "output_type": "execute_result"
    }
   ],
   "source": [
    "#un vector es de una sola dimensión, por lo tanto un index \n",
    "vector[1]"
   ]
  },
  {
   "cell_type": "markdown",
   "id": "77b18a95",
   "metadata": {},
   "source": [
    "#### Ejemplo 21 "
   ]
  },
  {
   "cell_type": "markdown",
   "id": "aa500f71",
   "metadata": {},
   "source": [
    "Encontrando el elemento de la fila 3 y columna 2 de la matriz"
   ]
  },
  {
   "cell_type": "code",
   "execution_count": 41,
   "id": "d9485632",
   "metadata": {},
   "outputs": [
    {
     "data": {
      "text/plain": [
       "3"
      ]
     },
     "execution_count": 41,
     "metadata": {},
     "output_type": "execute_result"
    }
   ],
   "source": [
    "#la matriz es de dos dimensiones, por lo tanto dos index  \n",
    "matriz[2,1]"
   ]
  },
  {
   "cell_type": "markdown",
   "id": "df30ecf8",
   "metadata": {},
   "source": [
    "#### Ejemplo 22 "
   ]
  },
  {
   "cell_type": "markdown",
   "id": "65e44db1",
   "metadata": {},
   "source": [
    "Econtrando toda una fila de una matriz"
   ]
  },
  {
   "cell_type": "code",
   "execution_count": 42,
   "id": "b8965462",
   "metadata": {},
   "outputs": [
    {
     "data": {
      "text/plain": [
       "array([2, 4, 6, 8])"
      ]
     },
     "execution_count": 42,
     "metadata": {},
     "output_type": "execute_result"
    }
   ],
   "source": [
    "matriz[1,:]"
   ]
  },
  {
   "cell_type": "markdown",
   "id": "e4149986",
   "metadata": {},
   "source": [
    "#### Ejemplo 23 "
   ]
  },
  {
   "cell_type": "markdown",
   "id": "86c91f9a",
   "metadata": {},
   "source": [
    "Encontrando toda una columna"
   ]
  },
  {
   "cell_type": "code",
   "execution_count": 43,
   "id": "43c15d77",
   "metadata": {},
   "outputs": [
    {
     "data": {
      "text/plain": [
       "array([5, 6, 5])"
      ]
     },
     "execution_count": 43,
     "metadata": {},
     "output_type": "execute_result"
    }
   ],
   "source": [
    "matriz[:,2]"
   ]
  },
  {
   "cell_type": "markdown",
   "id": "31dd1465",
   "metadata": {},
   "source": [
    "#### Ejemplo 24 "
   ]
  },
  {
   "cell_type": "markdown",
   "id": "d8b4d68b",
   "metadata": {},
   "source": [
    "Modificando el valor de un elemento de una matriz"
   ]
  },
  {
   "cell_type": "code",
   "execution_count": 44,
   "id": "eb7fbb18",
   "metadata": {},
   "outputs": [],
   "source": [
    "matriz[0,0]=30"
   ]
  },
  {
   "cell_type": "code",
   "execution_count": 45,
   "id": "d9e8f5c8",
   "metadata": {},
   "outputs": [
    {
     "data": {
      "text/plain": [
       "array([[30,  3,  5,  9],\n",
       "       [ 2,  4,  6,  8],\n",
       "       [ 2,  3,  5,  7]])"
      ]
     },
     "execution_count": 45,
     "metadata": {},
     "output_type": "execute_result"
    }
   ],
   "source": [
    "matriz"
   ]
  },
  {
   "cell_type": "markdown",
   "id": "10979fd7",
   "metadata": {},
   "source": [
    "#### Ejemplo 25   "
   ]
  },
  {
   "cell_type": "markdown",
   "id": "acf234b4",
   "metadata": {},
   "source": [
    "Modificando todos los elemntos de una fila de la matriz"
   ]
  },
  {
   "cell_type": "code",
   "execution_count": 46,
   "id": "6785cf8d",
   "metadata": {},
   "outputs": [],
   "source": [
    "matriz[2,:]=7"
   ]
  },
  {
   "cell_type": "code",
   "execution_count": 47,
   "id": "a55e908b",
   "metadata": {},
   "outputs": [
    {
     "data": {
      "text/plain": [
       "array([[30,  3,  5,  9],\n",
       "       [ 2,  4,  6,  8],\n",
       "       [ 7,  7,  7,  7]])"
      ]
     },
     "execution_count": 47,
     "metadata": {},
     "output_type": "execute_result"
    }
   ],
   "source": [
    "matriz"
   ]
  },
  {
   "cell_type": "markdown",
   "id": "739bda13",
   "metadata": {},
   "source": [
    "### 2.2.2 Index slicing"
   ]
  },
  {
   "cell_type": "markdown",
   "id": "5c5e7a38",
   "metadata": {},
   "source": [
    "`matriz[inicio:fin:paso]`"
   ]
  },
  {
   "cell_type": "markdown",
   "id": "cd828947",
   "metadata": {},
   "source": [
    "#### Ejemplo 25 "
   ]
  },
  {
   "cell_type": "code",
   "execution_count": 10,
   "id": "67128bad",
   "metadata": {},
   "outputs": [
    {
     "data": {
      "text/plain": [
       "array([ 2,  3,  5,  7, 11, 13])"
      ]
     },
     "execution_count": 10,
     "metadata": {},
     "output_type": "execute_result"
    }
   ],
   "source": [
    "x=np.array([2,3,5,7,11,13])\n",
    "x"
   ]
  },
  {
   "cell_type": "code",
   "execution_count": 17,
   "id": "bdc254c0",
   "metadata": {},
   "outputs": [
    {
     "data": {
      "text/plain": [
       "array([3])"
      ]
     },
     "execution_count": 17,
     "metadata": {},
     "output_type": "execute_result"
    }
   ],
   "source": [
    "x[1:2]"
   ]
  },
  {
   "cell_type": "code",
   "execution_count": 52,
   "id": "4ea5a57c",
   "metadata": {},
   "outputs": [
    {
     "data": {
      "text/plain": [
       "array([ 3,  5,  7, 11])"
      ]
     },
     "execution_count": 52,
     "metadata": {},
     "output_type": "execute_result"
    }
   ],
   "source": [
    "x[1:5]"
   ]
  },
  {
   "cell_type": "code",
   "execution_count": 54,
   "id": "a146c60a",
   "metadata": {},
   "outputs": [
    {
     "data": {
      "text/plain": [
       "array([ 2,  5, 11])"
      ]
     },
     "execution_count": 54,
     "metadata": {},
     "output_type": "execute_result"
    }
   ],
   "source": [
    "x[::2] "
   ]
  },
  {
   "cell_type": "markdown",
   "id": "3c7666f4",
   "metadata": {},
   "source": [
    "# Caso aplicativo Python Vs Numpy"
   ]
  },
  {
   "cell_type": "markdown",
   "id": "84b4843f",
   "metadata": {},
   "source": [
    "### Multiplicación de elementos uno a uno de dos vectores o listas "
   ]
  },
  {
   "cell_type": "code",
   "execution_count": 2,
   "id": "452d4def",
   "metadata": {},
   "outputs": [],
   "source": [
    "import numpy as np\n",
    "tamaño = 10000\n",
    "lista1 = np.arange(tamaño)\n",
    "lista2 = np.arange(tamaño)"
   ]
  },
  {
   "cell_type": "code",
   "execution_count": 3,
   "id": "f0b06521-61c2-41ce-a45c-1f7e86919749",
   "metadata": {},
   "outputs": [],
   "source": [
    "import time "
   ]
  },
  {
   "cell_type": "markdown",
   "id": "0b671174",
   "metadata": {},
   "source": [
    "### 1) Con una lista y for   "
   ]
  },
  {
   "cell_type": "code",
   "execution_count": 4,
   "id": "532d0e10-0315-4dca-b6a8-f62129fe8939",
   "metadata": {},
   "outputs": [
    {
     "data": {
      "text/plain": [
       "1676678851.2272503"
      ]
     },
     "execution_count": 4,
     "metadata": {},
     "output_type": "execute_result"
    }
   ],
   "source": [
    "tiempo_inicial = time.time()\n",
    "tiempo_inicial"
   ]
  },
  {
   "cell_type": "code",
   "execution_count": 5,
   "id": "e65cc079",
   "metadata": {},
   "outputs": [
    {
     "name": "stdout",
     "output_type": "stream",
     "text": [
      "Se demora 0.0059969425201416016 en segundos\n"
     ]
    }
   ],
   "source": [
    "tiempo_inicial = time.time()\n",
    "resultado1 = []\n",
    "for i in range(0,tamaño):\n",
    "    var1 = lista1[i]*lista2[i]\n",
    "    resultado1.append(var1)\n",
    "tiempo_final = time.time()\n",
    "t1 = tiempo_final - tiempo_inicial\n",
    "print('Se demora', t1, 'en segundos')"
   ]
  },
  {
   "cell_type": "markdown",
   "id": "c60f1dfb",
   "metadata": {},
   "source": [
    "### 2)  Con una lista y for en una linea"
   ]
  },
  {
   "cell_type": "code",
   "execution_count": 6,
   "id": "2c791bc1",
   "metadata": {},
   "outputs": [
    {
     "name": "stdout",
     "output_type": "stream",
     "text": [
      "Se demora 0.002000093460083008 en segundos\n"
     ]
    }
   ],
   "source": [
    "tiempo_inicial = time.time()\n",
    "resultado2 = [(a*b) for a,b in zip(lista1,lista2)]\n",
    "tiempo_final = time.time()\n",
    "t2 = tiempo_final - tiempo_inicial\n",
    "print('Se demora', t2, 'en segundos')"
   ]
  },
  {
   "cell_type": "markdown",
   "id": "f1419b71",
   "metadata": {},
   "source": [
    "### 3) Con np. array "
   ]
  },
  {
   "cell_type": "code",
   "execution_count": 7,
   "id": "fdec53b8",
   "metadata": {},
   "outputs": [
    {
     "data": {
      "text/plain": [
       "array([   0,    1,    2, ..., 9997, 9998, 9999])"
      ]
     },
     "execution_count": 7,
     "metadata": {},
     "output_type": "execute_result"
    }
   ],
   "source": [
    "vector1 = np.arange(tamaño)\n",
    "vector1"
   ]
  },
  {
   "cell_type": "code",
   "execution_count": 8,
   "id": "54c504d2",
   "metadata": {},
   "outputs": [
    {
     "data": {
      "text/plain": [
       "array([   0,    1,    2, ..., 9997, 9998, 9999])"
      ]
     },
     "execution_count": 8,
     "metadata": {},
     "output_type": "execute_result"
    }
   ],
   "source": [
    "vector2 = np.arange(tamaño)\n",
    "vector2"
   ]
  },
  {
   "cell_type": "code",
   "execution_count": 9,
   "id": "7b218d27",
   "metadata": {},
   "outputs": [
    {
     "name": "stdout",
     "output_type": "stream",
     "text": [
      "Se demora 0.00099945068359375 en segundos\n"
     ]
    }
   ],
   "source": [
    "tiempo_inicial = time.time()\n",
    "resultado3 = vector1*vector2\n",
    "tiempo_final = time.time()\n",
    "t3 = tiempo_final - tiempo_inicial\n",
    "print('Se demora', t3, 'en segundos')"
   ]
  }
 ],
 "metadata": {
  "kernelspec": {
   "display_name": "Python 3 (ipykernel)",
   "language": "python",
   "name": "python3"
  },
  "language_info": {
   "codemirror_mode": {
    "name": "ipython",
    "version": 3
   },
   "file_extension": ".py",
   "mimetype": "text/x-python",
   "name": "python",
   "nbconvert_exporter": "python",
   "pygments_lexer": "ipython3",
   "version": "3.9.16"
  }
 },
 "nbformat": 4,
 "nbformat_minor": 5
}
