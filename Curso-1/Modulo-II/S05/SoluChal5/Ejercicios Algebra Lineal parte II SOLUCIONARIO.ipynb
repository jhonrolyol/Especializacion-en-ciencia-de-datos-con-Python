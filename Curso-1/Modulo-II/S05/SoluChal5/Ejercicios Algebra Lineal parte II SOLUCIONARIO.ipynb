{
 "cells": [
  {
   "cell_type": "code",
   "execution_count": 1,
   "id": "f4b433c2",
   "metadata": {},
   "outputs": [],
   "source": [
    "import pandas as pd\n",
    "import numpy as np"
   ]
  },
  {
   "cell_type": "markdown",
   "id": "f785a015",
   "metadata": {},
   "source": [
    "## Problema 1"
   ]
  },
  {
   "cell_type": "markdown",
   "id": "d8272a24",
   "metadata": {},
   "source": [
    "Crear una matriz de orden 3x3 y hallar el determiante con numpy, además aplicar el método de cofactores utilizando el jupyter como calculadora, es decir hacerlo celda por celda"
   ]
  },
  {
   "cell_type": "code",
   "execution_count": 2,
   "id": "2e4f3301",
   "metadata": {},
   "outputs": [
    {
     "data": {
      "text/plain": [
       "array([[ 3,  4,  2],\n",
       "       [-2,  3,  5],\n",
       "       [ 4,  2,  6]])"
      ]
     },
     "execution_count": 2,
     "metadata": {},
     "output_type": "execute_result"
    }
   ],
   "source": [
    "A = np.array([[3,4,2],[-2,3,5],[4,2,6]])\n",
    "A"
   ]
  },
  {
   "cell_type": "markdown",
   "id": "ad16d52f",
   "metadata": {},
   "source": [
    "#### utilizando np.linalg.det(A)"
   ]
  },
  {
   "cell_type": "code",
   "execution_count": 3,
   "id": "68b7aca6",
   "metadata": {},
   "outputs": [
    {
     "data": {
      "text/plain": [
       "119.99999999999997"
      ]
     },
     "execution_count": 3,
     "metadata": {},
     "output_type": "execute_result"
    }
   ],
   "source": [
    "np.linalg.det(A)"
   ]
  },
  {
   "cell_type": "markdown",
   "id": "c645c57f",
   "metadata": {},
   "source": [
    "#### utilizando las celdas como calculadora"
   ]
  },
  {
   "cell_type": "code",
   "execution_count": 4,
   "id": "329dbe83",
   "metadata": {},
   "outputs": [],
   "source": [
    "#creando una función para extraer la sub matriz eliminado las filas y\n",
    "#columnas correspondientes a los valores de la primera columna\n",
    "def menor(M, f):\n",
    "    vec=[]    \n",
    "    for i in range(0,len(M)):\n",
    "        if i!=f:\n",
    "            vec.append(i)\n",
    "            r=M[1:len(M),vec]\n",
    "    return(r)"
   ]
  },
  {
   "cell_type": "code",
   "execution_count": 5,
   "id": "75b0f715",
   "metadata": {},
   "outputs": [
    {
     "data": {
      "text/plain": [
       "array([[ 3,  4,  2],\n",
       "       [-2,  3,  5],\n",
       "       [ 4,  2,  6]])"
      ]
     },
     "execution_count": 5,
     "metadata": {},
     "output_type": "execute_result"
    }
   ],
   "source": [
    "A"
   ]
  },
  {
   "cell_type": "code",
   "execution_count": 6,
   "id": "dec64cd3",
   "metadata": {},
   "outputs": [
    {
     "data": {
      "text/plain": [
       "array([[3, 5],\n",
       "       [2, 6]])"
      ]
     },
     "execution_count": 6,
     "metadata": {},
     "output_type": "execute_result"
    }
   ],
   "source": [
    "menor(A,0)"
   ]
  },
  {
   "cell_type": "markdown",
   "id": "d3e78136",
   "metadata": {},
   "source": [
    "### creando una función para hallar el determinate de 2x2"
   ]
  },
  {
   "cell_type": "code",
   "execution_count": 7,
   "id": "df9d6b59",
   "metadata": {},
   "outputs": [],
   "source": [
    "def det22(n):\n",
    "    d=(n[0][0]*n[1][1])-(n[1][0]*n[0][1])\n",
    "    return(d)"
   ]
  },
  {
   "cell_type": "code",
   "execution_count": 8,
   "id": "80328376",
   "metadata": {},
   "outputs": [
    {
     "data": {
      "text/plain": [
       "8"
      ]
     },
     "execution_count": 8,
     "metadata": {},
     "output_type": "execute_result"
    }
   ],
   "source": [
    "det22(menor(A,0))"
   ]
  },
  {
   "cell_type": "markdown",
   "id": "93a32f99",
   "metadata": {},
   "source": [
    "#### hallando el determinante"
   ]
  },
  {
   "cell_type": "code",
   "execution_count": 9,
   "id": "718f495c",
   "metadata": {},
   "outputs": [
    {
     "data": {
      "text/plain": [
       "120"
      ]
     },
     "execution_count": 9,
     "metadata": {},
     "output_type": "execute_result"
    }
   ],
   "source": [
    "A[0][0]*det22(menor(A,0))-A[0][1]*det22(menor(A,1))+A[0][2]*det22(menor(A,2))"
   ]
  },
  {
   "cell_type": "markdown",
   "id": "d9a812a6",
   "metadata": {},
   "source": [
    "## Problema 2"
   ]
  },
  {
   "cell_type": "markdown",
   "id": "ccf5d346",
   "metadata": {},
   "source": [
    "Hacer una función que resuelva el problema anterior"
   ]
  },
  {
   "cell_type": "code",
   "execution_count": 10,
   "id": "1b9d49db",
   "metadata": {},
   "outputs": [
    {
     "data": {
      "text/plain": [
       "[[1, 4, 6, 7, 8],\n",
       " [6, 2, 3, 4, 7],\n",
       " [3, 2, 1, 7, 9],\n",
       " [8, 6, 2, 3, 2],\n",
       " [5, 7, 9, 8, 3]]"
      ]
     },
     "execution_count": 10,
     "metadata": {},
     "output_type": "execute_result"
    }
   ],
   "source": [
    "A=[[1,4,6,7,8],[6,2,3,4,7],[3,2,1,7,9],[8,6,2,3,2],[5,7,9,8,3]]\n",
    "A"
   ]
  },
  {
   "cell_type": "code",
   "execution_count": 11,
   "id": "7ec65f92",
   "metadata": {},
   "outputs": [],
   "source": [
    "#creado una funcion para hallar los cofacores \n",
    "def cofactor(m, i, j):\n",
    "    a=[]\n",
    "    for row in (m[: i] + m[i+1:]):\n",
    "        b=row[: j] + row[j+1:]\n",
    "        a.append(b)\n",
    "    return(a)    "
   ]
  },
  {
   "cell_type": "code",
   "execution_count": 12,
   "id": "c8211792",
   "metadata": {},
   "outputs": [],
   "source": [
    "#creando una función para hallar el determinante \n",
    "def deterCOFAC(mat):\n",
    "    if(len(mat) == 2):\n",
    "        value = mat[0][0] * mat[1][1] - mat[1][0] * mat[0][1]\n",
    "        return value    \n",
    "    Sum = 0    \n",
    "    for colum in range(len(mat)):        \n",
    "        signo = (-1) ** (colum)\n",
    "        sub_det = deterCOFAC(cofactor(mat, 0, colum))        \n",
    "        Sum += (signo * mat[0][colum] * sub_det)    \n",
    "    return Sum"
   ]
  },
  {
   "cell_type": "code",
   "execution_count": 13,
   "id": "95b51cdb",
   "metadata": {},
   "outputs": [
    {
     "data": {
      "text/plain": [
       "5238"
      ]
     },
     "execution_count": 13,
     "metadata": {},
     "output_type": "execute_result"
    }
   ],
   "source": [
    "deterCOFAC(A)"
   ]
  },
  {
   "cell_type": "code",
   "execution_count": 14,
   "id": "79818f0b",
   "metadata": {},
   "outputs": [
    {
     "data": {
      "text/plain": [
       "5237.999999999992"
      ]
     },
     "execution_count": 14,
     "metadata": {},
     "output_type": "execute_result"
    }
   ],
   "source": [
    "np.linalg.det(A)"
   ]
  },
  {
   "cell_type": "code",
   "execution_count": 15,
   "id": "78616530",
   "metadata": {},
   "outputs": [
    {
     "data": {
      "text/plain": [
       "[[3, 4, 2], [-2, 3, 5], [4, 2, 6]]"
      ]
     },
     "execution_count": 15,
     "metadata": {},
     "output_type": "execute_result"
    }
   ],
   "source": [
    "A =([[3,4,2],[-2,3,5],[4,2,6]])\n",
    "A"
   ]
  },
  {
   "cell_type": "code",
   "execution_count": 16,
   "id": "01fe6839",
   "metadata": {},
   "outputs": [
    {
     "data": {
      "text/plain": [
       "119.99999999999997"
      ]
     },
     "execution_count": 16,
     "metadata": {},
     "output_type": "execute_result"
    }
   ],
   "source": [
    "np.linalg.det(A)"
   ]
  },
  {
   "cell_type": "code",
   "execution_count": 17,
   "id": "8c3ad20f",
   "metadata": {},
   "outputs": [
    {
     "data": {
      "text/plain": [
       "120"
      ]
     },
     "execution_count": 17,
     "metadata": {},
     "output_type": "execute_result"
    }
   ],
   "source": [
    "deterCOFAC(A)"
   ]
  },
  {
   "cell_type": "markdown",
   "id": "53716cda",
   "metadata": {},
   "source": [
    "## Problema 3"
   ]
  },
  {
   "cell_type": "markdown",
   "id": "b8d66085",
   "metadata": {},
   "source": [
    "Hacer una función que resuelva el problema uno con el método de Sarrus "
   ]
  },
  {
   "cell_type": "code",
   "execution_count": 18,
   "id": "49c00b8a",
   "metadata": {},
   "outputs": [
    {
     "data": {
      "text/plain": [
       "[[3, 4, 2], [-2, 3, 5], [4, 2, 6]]"
      ]
     },
     "execution_count": 18,
     "metadata": {},
     "output_type": "execute_result"
    }
   ],
   "source": [
    "A =([[3,4,2],[-2,3,5],[4,2,6]])\n",
    "A"
   ]
  },
  {
   "cell_type": "code",
   "execution_count": 19,
   "id": "c0add186",
   "metadata": {},
   "outputs": [
    {
     "data": {
      "text/plain": [
       "119.99999999999997"
      ]
     },
     "execution_count": 19,
     "metadata": {},
     "output_type": "execute_result"
    }
   ],
   "source": [
    "#utilizando las funciones de python\n",
    "np.linalg.det(A)"
   ]
  },
  {
   "cell_type": "code",
   "execution_count": 20,
   "id": "ace5b5e7",
   "metadata": {},
   "outputs": [],
   "source": [
    "#creando una función\n",
    "def sarrus(A):\n",
    "    P=(A[0][0]*A[1][1]*A[2][2]+A[0][1]*A[1][2]*A[2][0]+A[1][0]*A[2][1]*A[0][2])-(A[2][0]*A[1][1]*A[0][2]+A[2][1]*A[1][2]*A[0][0]+A[1][0]*A[0][1]*A[2][2])\n",
    "    return(P)"
   ]
  },
  {
   "cell_type": "code",
   "execution_count": 21,
   "id": "e7d5af58",
   "metadata": {},
   "outputs": [
    {
     "data": {
      "text/plain": [
       "120"
      ]
     },
     "execution_count": 21,
     "metadata": {},
     "output_type": "execute_result"
    }
   ],
   "source": [
    "sarrus(A)"
   ]
  },
  {
   "cell_type": "markdown",
   "id": "3ce1d642",
   "metadata": {},
   "source": [
    "## Problema 4"
   ]
  },
  {
   "cell_type": "markdown",
   "id": "97c642bb",
   "metadata": {},
   "source": [
    "Replicar las 8 propiedades vistas en clase para los determinantes mediante un ejemplo "
   ]
  },
  {
   "cell_type": "markdown",
   "id": "67730127",
   "metadata": {},
   "source": [
    "\\begin{align}\n",
    "&\\text{1) } |A^{T}|=|A|\\\\\n",
    "&\\text{2) Si todos los elementos de una fila (o columna) son cero, entonces el determinante es cero.}\\\\\n",
    "&\\text{3) Si todos los elementos de una fila (o columna) son proporcionales (idénticos) a los elementos de alguna otra fila (o columna), entonces el determinante es cero.}\\\\\n",
    "&\\text{4) El intercambio de dos filas (o columnas) cualesquiera del determinante cambia su signo.}\\\\\n",
    "&\\text{5) si} B \\text{ es una Matriz formada sumando el múltiplo de cualquier fila a otra fila, entonces } det (X) = det (B)\\\\ \n",
    "&\\text{6) } \\begin{vmatrix}\n",
    "{\\lambda a_{11}\\quad\\cdots\\quad \\lambda a_{1n}}\\\\\n",
    "{a_{21}\\quad\\cdots\\quad a_{2n}}\\\\\n",
    "{\\vdots \\quad \\vdots}\\\\\n",
    "{a_{n1}\\quad\\cdots\\quad a_{nn}}\\\\\n",
    "\\end{vmatrix}=\n",
    "\\lambda \\begin{vmatrix}\n",
    "{a_{11}\\quad\\cdots\\quad a_{1n}}\\\\\n",
    "{a_{21}\\quad\\cdots\\quad a_{2n}}\\\\\n",
    "{\\vdots \\quad \\vdots}\\\\\n",
    "{a_{n1}\\quad\\cdots\\quad a_{nn}}\\\\\n",
    "\\end{vmatrix}, \\quad\n",
    "\\begin{vmatrix}\n",
    "{\\lambda a_{11}\\quad\\cdots\\quad  a_{1n}}\\\\\n",
    "{\\lambda a_{21}\\quad\\cdots\\quad a_{2n}}\\\\\n",
    "{\\vdots \\quad \\vdots}\\\\\n",
    "{\\lambda a_{n1}\\quad\\cdots\\quad a_{nn}}\\\\\n",
    "\\end{vmatrix}=\n",
    "\\lambda \\begin{vmatrix}\n",
    "{a_{11}\\quad\\cdots\\quad a_{1n}}\\\\\n",
    "{a_{21}\\quad\\cdots\\quad a_{2n}}\\\\\n",
    "{\\vdots \\quad \\vdots}\\\\\n",
    "{a_{n1}\\quad\\cdots\\quad a_{nn}}\\\\\n",
    "\\end{vmatrix}, \\quad\n",
    "\\begin{vmatrix}\n",
    "{\\lambda a_{11}\\quad\\cdots\\quad \\lambda a_{1n}}\\\\\n",
    "{\\lambda a_{21}\\quad\\cdots\\quad  \\lambda a_{2n}}\\\\\n",
    "{\\vdots \\quad \\vdots}\\\\\n",
    "{\\lambda a_{n1}\\quad\\cdots\\quad \\lambda a_{nn}}\\\\\n",
    "\\end{vmatrix}=\n",
    "\\lambda^{n} \\begin{vmatrix}\n",
    "{a_{11}\\quad\\cdots\\quad a_{1n}}\\\\\n",
    "{a_{21}\\quad\\cdots\\quad a_{2n}}\\\\\n",
    "{\\vdots \\quad \\vdots}\\\\\n",
    "{a_{n1}\\quad\\cdots\\quad a_{nn}}\\\\\n",
    "\\end{vmatrix} \\\\\n",
    "&\\text{7) } \\begin{vmatrix}\n",
    "{a_{11}+b_{11}\\quad\\cdots\\quad  a_{1n}}\\\\\n",
    "{a_{21}+b_{21}\\quad\\cdots\\quad a_{2n}}\\\\\n",
    "{\\vdots \\quad \\vdots}\\\\\n",
    "{a_{n1}+b_{n1}\\quad\\cdots\\quad a_{nn}}\\\\\n",
    "\\end{vmatrix}=\n",
    "\\begin{vmatrix}\n",
    "{a_{11}\\quad\\cdots\\quad  a_{1n}}\\\\\n",
    "{a_{21}\\quad\\cdots\\quad a_{2n}}\\\\\n",
    "{\\vdots \\quad \\vdots}\\\\\n",
    "{a_{n1}\\quad\\cdots\\quad a_{nn}}\\\\\n",
    "\\end{vmatrix}+\n",
    "\\begin{vmatrix}\n",
    "{b_{11}\\quad\\cdots\\quad  a_{1n}}\\\\\n",
    "{b_{21}\\quad\\cdots\\quad a_{2n}}\\\\\n",
    "{\\vdots \\quad \\vdots}\\\\\n",
    "{b_{n1}\\quad\\cdots\\quad a_{nn}}\\\\\n",
    "\\end{vmatrix}\\\\\n",
    "&\\text{8) } \\begin{vmatrix}\n",
    "{a_{11}\\quad 0 \\quad\\cdots\\quad  0}\\\\\n",
    "{a_{21}\\quad a_{22}\\quad\\cdots\\quad 0}\\\\\n",
    "{\\vdots \\quad \\vdots}\\\\\n",
    "{a_{n1}\\quad a_{n2}\\quad\\cdots\\quad a_{nn}}\\\\\n",
    "\\end{vmatrix}=\n",
    "\\begin{vmatrix}\n",
    "{a_{11} \\quad a_{12}\\quad\\cdots\\quad  a_{1n}}\\\\\n",
    "{0 \\quad a_{22} \\quad\\cdots\\quad a_{2n}}\\\\\n",
    "{\\vdots \\quad \\vdots}\\\\\n",
    "{0\\quad \\quad 0\\cdots\\quad a_{nn}}\\\\\n",
    "\\end{vmatrix}= a_{11}\\times a_{22}\\times \\cdots a_{nn}\n",
    "\\end{align}\n"
   ]
  },
  {
   "cell_type": "code",
   "execution_count": null,
   "id": "c228c403",
   "metadata": {},
   "outputs": [],
   "source": []
  },
  {
   "cell_type": "markdown",
   "id": "23020de1",
   "metadata": {},
   "source": [
    "#### solución 1"
   ]
  },
  {
   "cell_type": "code",
   "execution_count": 22,
   "id": "4fa2161f",
   "metadata": {},
   "outputs": [
    {
     "data": {
      "text/plain": [
       "[[3, 4, 2], [-2, 3, 5], [4, 2, 6]]"
      ]
     },
     "execution_count": 22,
     "metadata": {},
     "output_type": "execute_result"
    }
   ],
   "source": [
    "A =([[3,4,2],[-2,3,5],[4,2,6]])\n",
    "A"
   ]
  },
  {
   "cell_type": "code",
   "execution_count": 23,
   "id": "bb29b3d7",
   "metadata": {},
   "outputs": [
    {
     "data": {
      "text/plain": [
       "119.99999999999997"
      ]
     },
     "execution_count": 23,
     "metadata": {},
     "output_type": "execute_result"
    }
   ],
   "source": [
    "np.linalg.det(A)"
   ]
  },
  {
   "cell_type": "code",
   "execution_count": 24,
   "id": "97f756ac",
   "metadata": {},
   "outputs": [
    {
     "data": {
      "text/plain": [
       "array([[ 3, -2,  4],\n",
       "       [ 4,  3,  2],\n",
       "       [ 2,  5,  6]])"
      ]
     },
     "execution_count": 24,
     "metadata": {},
     "output_type": "execute_result"
    }
   ],
   "source": [
    "B=np.transpose(A)\n",
    "B"
   ]
  },
  {
   "cell_type": "code",
   "execution_count": 25,
   "id": "008de259",
   "metadata": {},
   "outputs": [
    {
     "data": {
      "text/plain": [
       "119.99999999999997"
      ]
     },
     "execution_count": 25,
     "metadata": {},
     "output_type": "execute_result"
    }
   ],
   "source": [
    "np.linalg.det(B)"
   ]
  },
  {
   "cell_type": "markdown",
   "id": "c114082a",
   "metadata": {},
   "source": [
    "#### solución 2"
   ]
  },
  {
   "cell_type": "code",
   "execution_count": 26,
   "id": "17cc1748",
   "metadata": {},
   "outputs": [
    {
     "data": {
      "text/plain": [
       "[[0, 0, 0], [-2, 3, 5], [4, 2, 6]]"
      ]
     },
     "execution_count": 26,
     "metadata": {},
     "output_type": "execute_result"
    }
   ],
   "source": [
    "A =([[0,0,0],[-2,3,5],[4,2,6]])\n",
    "A"
   ]
  },
  {
   "cell_type": "code",
   "execution_count": 27,
   "id": "1a779a2e",
   "metadata": {},
   "outputs": [
    {
     "data": {
      "text/plain": [
       "0.0"
      ]
     },
     "execution_count": 27,
     "metadata": {},
     "output_type": "execute_result"
    }
   ],
   "source": [
    "np.linalg.det(A)"
   ]
  },
  {
   "cell_type": "markdown",
   "id": "88425c18",
   "metadata": {},
   "source": [
    "#### solución 3"
   ]
  },
  {
   "cell_type": "code",
   "execution_count": 28,
   "id": "7b185ccd",
   "metadata": {},
   "outputs": [],
   "source": [
    "A =([[3,8,6],[4,9,8],[5,12,10]])"
   ]
  },
  {
   "cell_type": "code",
   "execution_count": 29,
   "id": "5cce1750",
   "metadata": {},
   "outputs": [
    {
     "data": {
      "text/plain": [
       "0.0"
      ]
     },
     "execution_count": 29,
     "metadata": {},
     "output_type": "execute_result"
    }
   ],
   "source": [
    "np.linalg.det(A)"
   ]
  },
  {
   "cell_type": "markdown",
   "id": "6c6c6380",
   "metadata": {},
   "source": [
    "#### solución 4"
   ]
  },
  {
   "cell_type": "code",
   "execution_count": 30,
   "id": "a2105e49",
   "metadata": {},
   "outputs": [
    {
     "data": {
      "text/plain": [
       "[[3, 4, 2], [-2, 3, 5], [4, 2, 6]]"
      ]
     },
     "execution_count": 30,
     "metadata": {},
     "output_type": "execute_result"
    }
   ],
   "source": [
    "A =([[3,4,2],[-2,3,5],[4,2,6]])\n",
    "A"
   ]
  },
  {
   "cell_type": "code",
   "execution_count": 31,
   "id": "f89d1eb5",
   "metadata": {},
   "outputs": [
    {
     "data": {
      "text/plain": [
       "119.99999999999997"
      ]
     },
     "execution_count": 31,
     "metadata": {},
     "output_type": "execute_result"
    }
   ],
   "source": [
    "np.linalg.det(A)"
   ]
  },
  {
   "cell_type": "code",
   "execution_count": 32,
   "id": "9aec6a0c",
   "metadata": {},
   "outputs": [
    {
     "data": {
      "text/plain": [
       "[[3, 4, 2], [4, 2, 6], [-2, 3, 5]]"
      ]
     },
     "execution_count": 32,
     "metadata": {},
     "output_type": "execute_result"
    }
   ],
   "source": [
    "A =([[3,4,2],[4,2,6],[-2,3,5]])\n",
    "A"
   ]
  },
  {
   "cell_type": "code",
   "execution_count": 33,
   "id": "d5819cc7",
   "metadata": {},
   "outputs": [
    {
     "data": {
      "text/plain": [
       "-119.99999999999997"
      ]
     },
     "execution_count": 33,
     "metadata": {},
     "output_type": "execute_result"
    }
   ],
   "source": [
    "np.linalg.det(A)"
   ]
  },
  {
   "cell_type": "code",
   "execution_count": 34,
   "id": "c15337a0",
   "metadata": {},
   "outputs": [
    {
     "data": {
      "text/plain": [
       "[[4, 2, 6], [3, 4, 2], [-2, 3, 5]]"
      ]
     },
     "execution_count": 34,
     "metadata": {},
     "output_type": "execute_result"
    }
   ],
   "source": [
    "A =([[4,2,6],[3,4,2],[-2,3,5]])\n",
    "A"
   ]
  },
  {
   "cell_type": "code",
   "execution_count": 35,
   "id": "78db877b",
   "metadata": {},
   "outputs": [
    {
     "data": {
      "text/plain": [
       "119.99999999999997"
      ]
     },
     "execution_count": 35,
     "metadata": {},
     "output_type": "execute_result"
    }
   ],
   "source": [
    "np.linalg.det(A)"
   ]
  },
  {
   "cell_type": "markdown",
   "id": "8220cb78",
   "metadata": {},
   "source": [
    "#### solución 5"
   ]
  },
  {
   "cell_type": "code",
   "execution_count": 36,
   "id": "a0ef349d",
   "metadata": {},
   "outputs": [
    {
     "data": {
      "text/plain": [
       "[[3, 4, 2], [-2, 3, 5], [4, 2, 6]]"
      ]
     },
     "execution_count": 36,
     "metadata": {},
     "output_type": "execute_result"
    }
   ],
   "source": [
    "A =([[3,4,2],[-2,3,5],[4,2,6]])\n",
    "A"
   ]
  },
  {
   "cell_type": "code",
   "execution_count": 37,
   "id": "7dc5bb23",
   "metadata": {},
   "outputs": [
    {
     "data": {
      "text/plain": [
       "119.99999999999997"
      ]
     },
     "execution_count": 37,
     "metadata": {},
     "output_type": "execute_result"
    }
   ],
   "source": [
    "np.linalg.det(A)"
   ]
  },
  {
   "cell_type": "code",
   "execution_count": 38,
   "id": "7fd96644",
   "metadata": {},
   "outputs": [
    {
     "data": {
      "text/plain": [
       "[[7, 6, 8], [-2, 3, 5], [4, 2, 6]]"
      ]
     },
     "execution_count": 38,
     "metadata": {},
     "output_type": "execute_result"
    }
   ],
   "source": [
    "B =([[7,6,8],[-2,3,5],[4,2,6]])\n",
    "B"
   ]
  },
  {
   "cell_type": "code",
   "execution_count": 39,
   "id": "7134af30",
   "metadata": {},
   "outputs": [
    {
     "data": {
      "text/plain": [
       "119.99999999999997"
      ]
     },
     "execution_count": 39,
     "metadata": {},
     "output_type": "execute_result"
    }
   ],
   "source": [
    "np.linalg.det(B)"
   ]
  },
  {
   "cell_type": "markdown",
   "id": "74d460a9",
   "metadata": {},
   "source": [
    "#### Solución 6"
   ]
  },
  {
   "cell_type": "code",
   "execution_count": 40,
   "id": "4ded2065",
   "metadata": {},
   "outputs": [
    {
     "data": {
      "text/plain": [
       "array([[ 3,  4,  2],\n",
       "       [-2,  3,  5],\n",
       "       [ 4,  2,  6]])"
      ]
     },
     "execution_count": 40,
     "metadata": {},
     "output_type": "execute_result"
    }
   ],
   "source": [
    "A = np.array([[3,4,2],[-2,3,5],[4,2,6]])\n",
    "A"
   ]
  },
  {
   "cell_type": "code",
   "execution_count": 41,
   "id": "534e956c",
   "metadata": {},
   "outputs": [
    {
     "data": {
      "text/plain": [
       "119.99999999999997"
      ]
     },
     "execution_count": 41,
     "metadata": {},
     "output_type": "execute_result"
    }
   ],
   "source": [
    "np.linalg.det(A)"
   ]
  },
  {
   "cell_type": "code",
   "execution_count": 42,
   "id": "cebc8599",
   "metadata": {},
   "outputs": [],
   "source": [
    "lanm=3"
   ]
  },
  {
   "cell_type": "code",
   "execution_count": 43,
   "id": "d3a91117",
   "metadata": {},
   "outputs": [],
   "source": [
    "A[0]=lanm*A[0]"
   ]
  },
  {
   "cell_type": "code",
   "execution_count": 44,
   "id": "9b11b9b5",
   "metadata": {},
   "outputs": [
    {
     "data": {
      "text/plain": [
       "array([[ 9, 12,  6],\n",
       "       [-2,  3,  5],\n",
       "       [ 4,  2,  6]])"
      ]
     },
     "execution_count": 44,
     "metadata": {},
     "output_type": "execute_result"
    }
   ],
   "source": [
    "A"
   ]
  },
  {
   "cell_type": "code",
   "execution_count": 45,
   "id": "cc46fe71",
   "metadata": {},
   "outputs": [
    {
     "data": {
      "text/plain": [
       "360.00000000000006"
      ]
     },
     "execution_count": 45,
     "metadata": {},
     "output_type": "execute_result"
    }
   ],
   "source": [
    "np.linalg.det(A)"
   ]
  },
  {
   "cell_type": "markdown",
   "id": "530d0cb9",
   "metadata": {},
   "source": [
    "#### Solución 7"
   ]
  },
  {
   "cell_type": "code",
   "execution_count": 46,
   "id": "96e0ca3e",
   "metadata": {},
   "outputs": [
    {
     "data": {
      "text/plain": [
       "array([[ 3,  4,  2],\n",
       "       [-2,  3,  5],\n",
       "       [ 4,  2,  6]])"
      ]
     },
     "execution_count": 46,
     "metadata": {},
     "output_type": "execute_result"
    }
   ],
   "source": [
    "A = np.array([[3,4,2],[-2,3,5],[4,2,6]])\n",
    "A"
   ]
  },
  {
   "cell_type": "code",
   "execution_count": 47,
   "id": "c5389bb6",
   "metadata": {},
   "outputs": [],
   "source": [
    "A[:,0]=A[:,0]+np.array([3,4,5])"
   ]
  },
  {
   "cell_type": "code",
   "execution_count": 48,
   "id": "7eb7a787",
   "metadata": {},
   "outputs": [
    {
     "data": {
      "text/plain": [
       "array([[6, 4, 2],\n",
       "       [2, 3, 5],\n",
       "       [9, 2, 6]])"
      ]
     },
     "execution_count": 48,
     "metadata": {},
     "output_type": "execute_result"
    }
   ],
   "source": [
    "A"
   ]
  },
  {
   "cell_type": "code",
   "execution_count": 49,
   "id": "7e5a2773",
   "metadata": {},
   "outputs": [
    {
     "data": {
      "text/plain": [
       "133.99999999999997"
      ]
     },
     "execution_count": 49,
     "metadata": {},
     "output_type": "execute_result"
    }
   ],
   "source": [
    "np.linalg.det(A)"
   ]
  },
  {
   "cell_type": "code",
   "execution_count": 50,
   "id": "29794064",
   "metadata": {},
   "outputs": [
    {
     "data": {
      "text/plain": [
       "array([[ 3,  4,  2],\n",
       "       [-2,  3,  5],\n",
       "       [ 4,  2,  6]])"
      ]
     },
     "execution_count": 50,
     "metadata": {},
     "output_type": "execute_result"
    }
   ],
   "source": [
    "A1=np.array([[3,4,2],[-2,3,5],[4,2,6]])\n",
    "A1"
   ]
  },
  {
   "cell_type": "code",
   "execution_count": 51,
   "id": "932ff7ae",
   "metadata": {},
   "outputs": [
    {
     "data": {
      "text/plain": [
       "119.99999999999997"
      ]
     },
     "execution_count": 51,
     "metadata": {},
     "output_type": "execute_result"
    }
   ],
   "source": [
    "d1=np.linalg.det(A1)\n",
    "d1"
   ]
  },
  {
   "cell_type": "code",
   "execution_count": 52,
   "id": "fde2f894",
   "metadata": {},
   "outputs": [
    {
     "data": {
      "text/plain": [
       "array([[3, 4, 2],\n",
       "       [4, 3, 5],\n",
       "       [5, 2, 6]])"
      ]
     },
     "execution_count": 52,
     "metadata": {},
     "output_type": "execute_result"
    }
   ],
   "source": [
    "A2=np.array([[3,4,2],[4,3,5],[5,2,6]])\n",
    "A2"
   ]
  },
  {
   "cell_type": "code",
   "execution_count": 53,
   "id": "56285570",
   "metadata": {},
   "outputs": [
    {
     "data": {
      "text/plain": [
       "13.999999999999996"
      ]
     },
     "execution_count": 53,
     "metadata": {},
     "output_type": "execute_result"
    }
   ],
   "source": [
    "d2=np.linalg.det(A2)\n",
    "d2"
   ]
  },
  {
   "cell_type": "code",
   "execution_count": 54,
   "id": "ba54da88",
   "metadata": {},
   "outputs": [
    {
     "data": {
      "text/plain": [
       "133.99999999999997"
      ]
     },
     "execution_count": 54,
     "metadata": {},
     "output_type": "execute_result"
    }
   ],
   "source": [
    "d1+d2"
   ]
  },
  {
   "cell_type": "markdown",
   "id": "9892a14d",
   "metadata": {},
   "source": [
    "#### solucion 8"
   ]
  },
  {
   "cell_type": "code",
   "execution_count": 55,
   "id": "2eade234",
   "metadata": {},
   "outputs": [
    {
     "data": {
      "text/plain": [
       "array([[3, 2, 1],\n",
       "       [0, 3, 5],\n",
       "       [0, 0, 6]])"
      ]
     },
     "execution_count": 55,
     "metadata": {},
     "output_type": "execute_result"
    }
   ],
   "source": [
    "A = np.array([[3,2,1],[0,3,5],[0,0,6]])\n",
    "A\n"
   ]
  },
  {
   "cell_type": "code",
   "execution_count": 56,
   "id": "b1608252",
   "metadata": {},
   "outputs": [
    {
     "data": {
      "text/plain": [
       "54.00000000000001"
      ]
     },
     "execution_count": 56,
     "metadata": {},
     "output_type": "execute_result"
    }
   ],
   "source": [
    "np.linalg.det(A)"
   ]
  },
  {
   "cell_type": "markdown",
   "id": "f6f5cd58",
   "metadata": {},
   "source": [
    "## Problema 5"
   ]
  },
  {
   "cell_type": "markdown",
   "id": "65a775af",
   "metadata": {},
   "source": [
    "Mejor el código descrito en clase para hallar el determinate de una matriz que contenga ceros en la matriz diagonal, utlizar condicionales"
   ]
  },
  {
   "cell_type": "code",
   "execution_count": 57,
   "id": "30798bdb",
   "metadata": {},
   "outputs": [],
   "source": [
    "vec=[]\n",
    "#A = np.array([[0,4,2],[-2,3,5],[4,2,6]],dtype=float)\n",
    "#A=np.array([[0,4,6,7],[6,2,3,4],[3,2,1,7],[8,6,2,3]],dtype=float)\n",
    "A=np.array([[0,4,6,7,8],[6,2,3,4,7],[3,2,1,7,9],[8,6,2,3,2],[5,7,9,8,3]],dtype=float) \n",
    "for i in range(0,(len(A)-1)):\n",
    "    if(A[i][i]==0.0):            #la condición si es que es igual a cero  \n",
    "        for k in range(i,len(A)):\n",
    "            if (A[k][k]!=0):\n",
    "                break\n",
    "        fil=np.copy(A[i,:])\n",
    "        A[i,:]=A[k,:]\n",
    "        A[k,:]=fil\n",
    "        vec.append(-1)\n",
    "        vec.append((A[i][i]))\n",
    "        A[i]=(1/A[i][i])*A[i]\n",
    "        for j in range((i+1),len(A)):\n",
    "            if(A[j][i]==0.0):  \n",
    "                for l in range(j,len(A)):\n",
    "                    if (A[l][l]!=0):\n",
    "                        break\n",
    "                fil2=np.copy(A[j,:])\n",
    "                A[j,:]=A[l,:]\n",
    "                A[l,:]=fil2\n",
    "                vec.append(-1)\n",
    "                if (A[j][i]*A[(i)][i])>0:\n",
    "                    A[j]=A[j][i]*A[(i)]-A[j]            \n",
    "                else:    \n",
    "                    A[j]=-A[j][i]*A[(i)]+A[j]            \n",
    "            else:                \n",
    "                if (A[j][i]*A[(i)][i])>0:\n",
    "                    A[j]=A[j][i]*A[(i)]-A[j]            \n",
    "                else:    \n",
    "                    A[j]=-A[j][i]*A[(i)]+A[j]            \n",
    "        \n",
    "    else:\n",
    "        vec.append((A[i][i]))\n",
    "        A[i]=(1/A[i][i])*A[i]\n",
    "        for j in range((i+1),len(A)):\n",
    "            if(A[j][i]==0.0):  \n",
    "                for l in range(j,len(A)):\n",
    "                    if (A[l][l]!=0):\n",
    "                        break\n",
    "                fil2=np.copy(A[j,:])\n",
    "                A[j,:]=A[l,:]\n",
    "                A[l,:]=fil2\n",
    "                vec.append(-1)\n",
    "                if (A[j][i]*A[(i)][i])>0:\n",
    "                    A[j]=A[j][i]*A[(i)]-A[j]            \n",
    "                else:    \n",
    "                    A[j]=-A[j][i]*A[(i)]+A[j]            \n",
    "            else:                \n",
    "                if (A[j][i]*A[(i)][i])>0:\n",
    "                    A[j]=A[j][i]*A[(i)]-A[j]            \n",
    "                else:    \n",
    "                    A[j]=-A[j][i]*A[(i)]+A[j]            \n",
    "vec.append((A[(len(A)-1)][(len(A)-1)])) \n",
    "det=np.prod(vec) "
   ]
  },
  {
   "cell_type": "code",
   "execution_count": 58,
   "id": "8b4bf4a2",
   "metadata": {},
   "outputs": [
    {
     "data": {
      "text/plain": [
       "6174.0"
      ]
     },
     "execution_count": 58,
     "metadata": {},
     "output_type": "execute_result"
    }
   ],
   "source": [
    "det"
   ]
  },
  {
   "cell_type": "code",
   "execution_count": 59,
   "id": "c679737c",
   "metadata": {},
   "outputs": [
    {
     "data": {
      "text/plain": [
       "array([[0., 4., 6., 7., 8.],\n",
       "       [6., 2., 3., 4., 7.],\n",
       "       [3., 2., 1., 7., 9.],\n",
       "       [8., 6., 2., 3., 2.],\n",
       "       [5., 7., 9., 8., 3.]])"
      ]
     },
     "execution_count": 59,
     "metadata": {},
     "output_type": "execute_result"
    }
   ],
   "source": [
    "A=np.array([[0,4,6,7,8],[6,2,3,4,7],[3,2,1,7,9],[8,6,2,3,2],[5,7,9,8,3]],dtype=float)\n",
    "A"
   ]
  },
  {
   "cell_type": "code",
   "execution_count": 60,
   "id": "a9787654",
   "metadata": {},
   "outputs": [
    {
     "data": {
      "text/plain": [
       "6173.999999999996"
      ]
     },
     "execution_count": 60,
     "metadata": {},
     "output_type": "execute_result"
    }
   ],
   "source": [
    "#con las funciones de python\n",
    "np.linalg.det(A)"
   ]
  },
  {
   "cell_type": "markdown",
   "id": "bdf4c139",
   "metadata": {},
   "source": [
    "## Problema 6"
   ]
  },
  {
   "cell_type": "markdown",
   "id": "eb133ae3",
   "metadata": {},
   "source": [
    "Craer una función para hallar la solución de un sistema de ecuaciones mediante el método de Cramer"
   ]
  },
  {
   "cell_type": "code",
   "execution_count": 61,
   "id": "9c995317",
   "metadata": {},
   "outputs": [],
   "source": [
    "A = np.array([[8, 3, -2], [-4, 7, 5], [3, 4, -12]])\n",
    "b = np.array([9, 15, 35])"
   ]
  },
  {
   "cell_type": "code",
   "execution_count": 62,
   "id": "ef45abf3",
   "metadata": {},
   "outputs": [
    {
     "data": {
      "text/plain": [
       "array([-0.58226371,  3.22870478, -1.98599767])"
      ]
     },
     "execution_count": 62,
     "metadata": {},
     "output_type": "execute_result"
    }
   ],
   "source": [
    "#Utilizando las funciones de python\n",
    "x = np.linalg.solve(A, b)\n",
    "x"
   ]
  },
  {
   "cell_type": "code",
   "execution_count": 63,
   "id": "768f317d",
   "metadata": {},
   "outputs": [],
   "source": [
    "#con el método de Cramer\n",
    "def CRAMER(A,b):\n",
    "    sol=[]\n",
    "    for i in range(0,len(b)):\n",
    "        B=np.copy(A)\n",
    "        B[:,i]=b\n",
    "        s=np.linalg.det(B)/np.linalg.det(A)\n",
    "        sol.append(s)\n",
    "    return(sol)    "
   ]
  },
  {
   "cell_type": "code",
   "execution_count": 64,
   "id": "1592f141",
   "metadata": {},
   "outputs": [
    {
     "data": {
      "text/plain": [
       "[-0.5822637106184368, 3.2287047841306897, -1.9859976662777132]"
      ]
     },
     "execution_count": 64,
     "metadata": {},
     "output_type": "execute_result"
    }
   ],
   "source": [
    "CRAMER(A,b)"
   ]
  },
  {
   "cell_type": "markdown",
   "id": "b2d0bbff",
   "metadata": {},
   "source": [
    "## Problema 7"
   ]
  },
  {
   "cell_type": "markdown",
   "id": "8bc23c6e",
   "metadata": {},
   "source": [
    "Craer un sistema de ecuaciones del orden que desee y verificar las siguientes propiedades"
   ]
  },
  {
   "cell_type": "markdown",
   "id": "005a1db1",
   "metadata": {},
   "source": [
    "\\begin{align}\n",
    "& \\text{ 1. Intercambia el orden de dos ecuaciones cualesquiera.}\\\\\n",
    "& \\text{ 2. Multiplica ambos lados de una ecuación por una constante distinta de cero.}\\\\\n",
    "& \\text{ 3. Suma un múltiplo distinto de cero de una ecuación a otra ecuación.}\n",
    "\\end{align}"
   ]
  },
  {
   "cell_type": "markdown",
   "id": "e7e30df2",
   "metadata": {},
   "source": [
    "#### 1)"
   ]
  },
  {
   "cell_type": "code",
   "execution_count": 65,
   "id": "93327578",
   "metadata": {},
   "outputs": [
    {
     "data": {
      "text/plain": [
       "array([-0.58226371,  3.22870478, -1.98599767])"
      ]
     },
     "execution_count": 65,
     "metadata": {},
     "output_type": "execute_result"
    }
   ],
   "source": [
    "#Utilizando las funciones de python\n",
    "\n",
    "A = np.array([[8, 3, -2], [-4, 7, 5], [3, 4, -12]])\n",
    "b = np.array([9, 15, 35])\n",
    "x = np.linalg.solve(A, b)\n",
    "x"
   ]
  },
  {
   "cell_type": "code",
   "execution_count": 66,
   "id": "69a5f38a",
   "metadata": {},
   "outputs": [],
   "source": [
    "# intercambiando las primera ecuación con la segunda ecuación"
   ]
  },
  {
   "cell_type": "code",
   "execution_count": 67,
   "id": "20ba09b8",
   "metadata": {},
   "outputs": [
    {
     "data": {
      "text/plain": [
       "array([-0.58226371,  3.22870478, -1.98599767])"
      ]
     },
     "execution_count": 67,
     "metadata": {},
     "output_type": "execute_result"
    }
   ],
   "source": [
    "A = np.array([[-4, 7, 5],[8, 3, -2], [3, 4, -12]])\n",
    "b = np.array([15, 9, 35])\n",
    "x = np.linalg.solve(A, b)\n",
    "x"
   ]
  },
  {
   "cell_type": "markdown",
   "id": "2eeada3a",
   "metadata": {},
   "source": [
    "#### 2)"
   ]
  },
  {
   "cell_type": "code",
   "execution_count": 68,
   "id": "8964deaf",
   "metadata": {},
   "outputs": [],
   "source": [
    "#multiplicando por 18 a la segunda ecuación"
   ]
  },
  {
   "cell_type": "code",
   "execution_count": 69,
   "id": "9a5e878d",
   "metadata": {},
   "outputs": [],
   "source": [
    "lam=18"
   ]
  },
  {
   "cell_type": "code",
   "execution_count": 70,
   "id": "d6687d5a",
   "metadata": {},
   "outputs": [
    {
     "data": {
      "text/plain": [
       "array([-0.58226371,  3.22870478, -1.98599767])"
      ]
     },
     "execution_count": 70,
     "metadata": {},
     "output_type": "execute_result"
    }
   ],
   "source": [
    "A = np.array([[8, 3, -2], np.dot(lam,[-4, 7, 5]), [3, 4, -12]])\n",
    "b = np.array([9, lam*15, 35])\n",
    "x = np.linalg.solve(A, b)\n",
    "x"
   ]
  },
  {
   "cell_type": "markdown",
   "id": "9b3ecd50",
   "metadata": {},
   "source": [
    "#### 3)"
   ]
  },
  {
   "cell_type": "code",
   "execution_count": 71,
   "id": "3bb7d277",
   "metadata": {},
   "outputs": [],
   "source": [
    "#Suma un múltiplo distinto de cero de una ecuación a otra ecuación"
   ]
  },
  {
   "cell_type": "code",
   "execution_count": 72,
   "id": "bce6f0da",
   "metadata": {},
   "outputs": [],
   "source": [
    "#sumado al la primera ecuacion 2 veces la tercera "
   ]
  },
  {
   "cell_type": "code",
   "execution_count": 73,
   "id": "97f58ed3",
   "metadata": {},
   "outputs": [
    {
     "data": {
      "text/plain": [
       "array([-0.58226371,  3.22870478, -1.98599767])"
      ]
     },
     "execution_count": 73,
     "metadata": {},
     "output_type": "execute_result"
    }
   ],
   "source": [
    "A = np.array([[8+2*3, 3+2*4, -2+2*(-12)], [-4, 7, 5], [3, 4, -12]])\n",
    "b = np.array([9+2*35, 15, 35])\n",
    "x = np.linalg.solve(A, b)\n",
    "x"
   ]
  },
  {
   "cell_type": "markdown",
   "id": "1d794c89",
   "metadata": {},
   "source": [
    "## Problema 8"
   ]
  },
  {
   "cell_type": "markdown",
   "id": "b8e9a45c",
   "metadata": {},
   "source": [
    "Craer una matriz de oderden 4X4 y hallar los valores propios y vectores propios, y comprobar que cumple la definición"
   ]
  },
  {
   "cell_type": "code",
   "execution_count": 74,
   "id": "cfe7fae9",
   "metadata": {},
   "outputs": [
    {
     "data": {
      "text/plain": [
       "array([[0., 4., 6., 7.],\n",
       "       [6., 2., 3., 4.],\n",
       "       [3., 2., 1., 7.],\n",
       "       [8., 6., 2., 3.]])"
      ]
     },
     "execution_count": 74,
     "metadata": {},
     "output_type": "execute_result"
    }
   ],
   "source": [
    "A=np.array([[0,4,6,7],[6,2,3,4],[3,2,1,7],[8,6,2,3]],dtype=float)\n",
    "A"
   ]
  },
  {
   "cell_type": "markdown",
   "id": "aa894120",
   "metadata": {},
   "source": [
    "#### Hallando los eigenvalores y eigenvectores"
   ]
  },
  {
   "cell_type": "code",
   "execution_count": 75,
   "id": "bb50b495",
   "metadata": {},
   "outputs": [],
   "source": [
    "w, v = np.linalg.eig(A)"
   ]
  },
  {
   "cell_type": "code",
   "execution_count": 76,
   "id": "8afd2ad2",
   "metadata": {},
   "outputs": [
    {
     "data": {
      "text/plain": [
       "array([16.39670648+0.j        , -4.33667148+0.j        ,\n",
       "       -3.0300175 +2.00258772j, -3.0300175 -2.00258772j])"
      ]
     },
     "execution_count": 76,
     "metadata": {},
     "output_type": "execute_result"
    }
   ],
   "source": [
    "# Eigen valores\n",
    "w"
   ]
  },
  {
   "cell_type": "code",
   "execution_count": 77,
   "id": "b172e0df",
   "metadata": {},
   "outputs": [
    {
     "data": {
      "text/plain": [
       "array([[-0.51653663+0.j        ,  0.67707337+0.j        ,\n",
       "        -0.38594904+0.16861566j, -0.38594904-0.16861566j],\n",
       "       [-0.46497328+0.j        , -0.55572464+0.j        ,\n",
       "         0.42501604+0.20881108j,  0.42501604-0.20881108j],\n",
       "       [-0.42479261+0.j        ,  0.31119514+0.j        ,\n",
       "        -0.59701774+0.j        , -0.59701774-0.j        ],\n",
       "       [-0.58012154+0.j        , -0.3686453 +0.j        ,\n",
       "         0.38768671-0.30272136j,  0.38768671+0.30272136j]])"
      ]
     },
     "execution_count": 77,
     "metadata": {},
     "output_type": "execute_result"
    }
   ],
   "source": [
    "#Eigen vectores \n",
    "v"
   ]
  },
  {
   "cell_type": "markdown",
   "id": "c6ab6cdc",
   "metadata": {},
   "source": [
    "#### comprobando"
   ]
  },
  {
   "cell_type": "markdown",
   "id": "81a87c53",
   "metadata": {},
   "source": [
    "$ A \\nu  $"
   ]
  },
  {
   "cell_type": "code",
   "execution_count": 78,
   "id": "50c24e7c",
   "metadata": {},
   "outputs": [
    {
     "data": {
      "text/plain": [
       "array([-8.46949954+0.j, -7.62403033+0.j, -6.96519981+0.j, -9.51208254+0.j])"
      ]
     },
     "execution_count": 78,
     "metadata": {},
     "output_type": "execute_result"
    }
   ],
   "source": [
    "np.dot(A,v[:,0])"
   ]
  },
  {
   "cell_type": "markdown",
   "id": "0763778a",
   "metadata": {},
   "source": [
    "$\\lambda \\nu$"
   ]
  },
  {
   "cell_type": "code",
   "execution_count": 79,
   "id": "ee1f26e6",
   "metadata": {},
   "outputs": [
    {
     "data": {
      "text/plain": [
       "array([-8.46949954+0.j, -7.62403033+0.j, -6.96519981+0.j, -9.51208254+0.j])"
      ]
     },
     "execution_count": 79,
     "metadata": {},
     "output_type": "execute_result"
    }
   ],
   "source": [
    "np.dot(w[0],v[:,0])"
   ]
  }
 ],
 "metadata": {
  "kernelspec": {
   "display_name": "Python 3",
   "language": "python",
   "name": "python3"
  },
  "language_info": {
   "codemirror_mode": {
    "name": "ipython",
    "version": 3
   },
   "file_extension": ".py",
   "mimetype": "text/x-python",
   "name": "python",
   "nbconvert_exporter": "python",
   "pygments_lexer": "ipython3",
   "version": "3.8.8"
  }
 },
 "nbformat": 4,
 "nbformat_minor": 5
}
