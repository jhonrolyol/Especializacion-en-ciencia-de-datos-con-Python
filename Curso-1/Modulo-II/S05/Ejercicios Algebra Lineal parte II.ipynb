{
 "cells": [
  {
   "cell_type": "code",
   "execution_count": 1,
   "id": "f4b433c2",
   "metadata": {},
   "outputs": [],
   "source": [
    "import pandas as pd"
   ]
  },
  {
   "cell_type": "markdown",
   "id": "f785a015",
   "metadata": {},
   "source": [
    "## Problema 1"
   ]
  },
  {
   "cell_type": "markdown",
   "id": "d8272a24",
   "metadata": {},
   "source": [
    "Crear una matriz de orden 3x3 y hallar el determiante con numpy, además aplicar el método de cofactores utilizando el jupyter como claculadora, es decir hacerlo celda por celda"
   ]
  },
  {
   "cell_type": "code",
   "execution_count": 71,
   "id": "2e4f3301",
   "metadata": {},
   "outputs": [
    {
     "name": "stdout",
     "output_type": "stream",
     "text": [
      "[[1 2 3]\n",
      " [4 5 6]\n",
      " [7 8 9]]\n"
     ]
    }
   ],
   "source": [
    "# Importar libreria\n",
    "import numpy as np\n",
    "# Creamos la matriz de orden 3x3\n",
    "matriz = np.array([[1, 2, 3], \n",
    "                   [4, 5, 6], \n",
    "                   [7, 8, 9]])\n",
    "# Imprimir la matriz.\n",
    "print(matriz)\n"
   ]
  },
  {
   "cell_type": "code",
   "execution_count": 72,
   "id": "193bd218-f3e5-41ac-8d21-e83d8951d722",
   "metadata": {},
   "outputs": [
    {
     "name": "stdout",
     "output_type": "stream",
     "text": [
      "6.66133814775094e-16\n"
     ]
    }
   ],
   "source": [
    "# Calcular el determinate.\n",
    "determinante = np.linalg.det(matriz)\n",
    "# Imprimir el determinante.\n",
    "print(determinante)"
   ]
  },
  {
   "cell_type": "markdown",
   "id": "d9a812a6",
   "metadata": {},
   "source": [
    "## Problema 2"
   ]
  },
  {
   "cell_type": "markdown",
   "id": "ccf5d346",
   "metadata": {},
   "source": [
    "Hacer una función que resuelva el problema anterior"
   ]
  },
  {
   "cell_type": "code",
   "execution_count": 79,
   "id": "bc934c5c-93e8-464a-bab9-0cf338fd199d",
   "metadata": {},
   "outputs": [],
   "source": [
    "import numpy as np"
   ]
  },
  {
   "cell_type": "code",
   "execution_count": 80,
   "id": "ed4d2a0b",
   "metadata": {},
   "outputs": [],
   "source": [
    " def determinante(matriz):\n",
    "    '''\n",
    "    Creamos una función para calcular el determinante de\n",
    "    una matriz de orden n.\n",
    "    '''\n",
    "    n = len(matriz)\n",
    "    \n",
    "    if n == 1:\n",
    "        return matriz[0][0]\n",
    "    \n",
    "    det = 0\n",
    "    \n",
    "    for j in range(n):\n",
    "        submatriz = []\n",
    "        for i in range(1, n):\n",
    "            fila = []\n",
    "            for k in range(n):\n",
    "                if k != j:\n",
    "                    fila.append(matriz[i][k])\n",
    "            submatriz.append(fila)\n",
    "        det += ((-1) ** j) * matriz[0][j] * determinante(submatriz)\n",
    "    \n",
    "    return det"
   ]
  },
  {
   "cell_type": "code",
   "execution_count": 81,
   "id": "f98cb0ce-f03a-4b9c-a081-68f81dada5d5",
   "metadata": {},
   "outputs": [],
   "source": [
    "def cofactores(matriz):\n",
    "    '''\n",
    "    Creamos una función para calcular la matriz de cofactores\n",
    "    de una matriz de orden n.\n",
    "    '''\n",
    "    n = len(matriz)\n",
    "    cofactores = np.zeros((n, n))\n",
    "    \n",
    "    for i in range(n):\n",
    "        for j in range(n):\n",
    "            submatriz = []\n",
    "            for p in range(n):\n",
    "                fila = []\n",
    "                for q in range(n):\n",
    "                    if p != i and q != j:\n",
    "                        fila.append(matriz[p][q])\n",
    "                if fila:\n",
    "                    submatriz.append(fila)\n",
    "            cofactores[i][j] = ((-1) ** (i + j)) * determinante(submatriz)\n",
    "    \n",
    "    return cofactores"
   ]
  },
  {
   "cell_type": "code",
   "execution_count": 82,
   "id": "ffce1acf-61c4-4483-bba6-20b4d4c1eac7",
   "metadata": {},
   "outputs": [
    {
     "name": "stdout",
     "output_type": "stream",
     "text": [
      "0.0\n"
     ]
    }
   ],
   "source": [
    "'''\n",
    "Para calcular el determinante usando el método de cofactores, simplemente\n",
    "multiplicamos los elementos de la primera fila de la matriz por sus respectivos\n",
    "cofactores y los sumamos.\n",
    "'''\n",
    "matriz = np.array([[1, 2, 3], \n",
    "                   [4, 5, 6], \n",
    "                   [7, 8, 9]])\n",
    "C = cofactores(matriz)\n",
    "determinante = 0\n",
    "\n",
    "for j in range(len(matriz)):\n",
    "    determinante += matriz[0][j] * C[0][j]\n",
    "    \n",
    "print(determinante)"
   ]
  },
  {
   "cell_type": "markdown",
   "id": "53716cda",
   "metadata": {},
   "source": [
    "## Problema 3"
   ]
  },
  {
   "cell_type": "markdown",
   "id": "b8d66085",
   "metadata": {},
   "source": [
    "Hacer una función que resuelva el problema uno con el método de Sarrus "
   ]
  },
  {
   "cell_type": "code",
   "execution_count": 83,
   "id": "49c00b8a",
   "metadata": {},
   "outputs": [],
   "source": [
    "'''\n",
    "Para hallar el determinante de una matriz de orden 3 por 3 usando el\n",
    "método de Sarrus en Python, se puede implementar una función que tome\n",
    "como entrada la matriz y devuelva su determinante. El método de Sarrus\n",
    "consiste en escribir la matriz de forma expandida, añadiendo las dos \n",
    "primeras columnas al final. A continuación, se suman los productos \n",
    "diagonales de izquierda a derecha y se restan los productos diagonales\n",
    "de derecha a izquierda. El resultado obtenido es el determinante de la matriz.\n",
    "A continuación, se muestra una posible implementación de esta función en Python:\n",
    "'''\n",
    "\n",
    "def determinante_sarrus(matriz):\n",
    "    if matriz.shape != (3, 3):\n",
    "        return \"La matriz debe ser de orden 3 por 3\"\n",
    "    expandida = np.hstack((matriz, matriz[:,:2]))\n",
    "    prod_diag_izq_der = expandida[0,0]*expandida[1,1]*expandida[2,2] + expandida[0,1]*expandida[1,2]*expandida[2,0] + expandida[0,2]*expandida[1,0]*expandida[2,1]\n",
    "    prod_diag_der_izq = expandida[0,2]*expandida[1,1]*expandida[2,0] + expandida[0,0]*expandida[1,2]*expandida[2,1] + expandida[0,1]*expandida[1,0]*expandida[2,2]\n",
    "    determinante = prod_diag_izq_der - prod_diag_der_izq\n",
    "    return determinante\n"
   ]
  },
  {
   "cell_type": "code",
   "execution_count": null,
   "id": "c91490c1-8055-4f44-946e-c490befce481",
   "metadata": {},
   "outputs": [],
   "source": [
    "'''\n",
    "Para utilizar esta función, se debe pasar la matriz como un objeto NumPy de la siguiente manera:\n",
    "'''"
   ]
  },
  {
   "cell_type": "code",
   "execution_count": 84,
   "id": "b490fa69-e51c-4f66-a0cf-3cb579289b6e",
   "metadata": {},
   "outputs": [
    {
     "name": "stdout",
     "output_type": "stream",
     "text": [
      "El determiante es: 0\n"
     ]
    }
   ],
   "source": [
    "import numpy as np\n",
    "\n",
    "matriz = np.array([[1, 2, 3], [4, 5, 6], [7, 8, 9]])\n",
    "determinante = determinante_sarrus(matriz)\n",
    "print(f\"El determiante es: {determinante}\")\n"
   ]
  },
  {
   "cell_type": "markdown",
   "id": "3ce1d642",
   "metadata": {},
   "source": [
    "## Problema 4"
   ]
  },
  {
   "cell_type": "markdown",
   "id": "97c642bb",
   "metadata": {},
   "source": [
    "Replicar las 8 propiedades vistas en clase para los determinantes mediante un ejemplo "
   ]
  },
  {
   "cell_type": "markdown",
   "id": "5a665afd-b052-48f7-86b9-0ccc47a1fb62",
   "metadata": {},
   "source": [
    "* Propiedad 1\n",
    "\n",
    "Si $A$ una matriz de orden 3x3\n",
    "\n",
    "$$\n",
    "A = \\left(\\begin{matrix}\n",
    "{a1 \\quad a2 \\quad a3}\\\\\n",
    "{b1 \\quad b2 \\quad b3}\\\\\n",
    "{c1 \\quad c2 \\quad c3}\\\\\n",
    "\\end{matrix}\\right)_{3\\times 3}\n",
    "$$\n",
    "La propiedad 1 nos dice que $|A| = |A^{T}|$, es decir\n",
    "$$\n",
    "\\begin{vmatrix}\n",
    "{a1 \\quad a2 \\quad a3}\\\\\n",
    "{b1 \\quad b2 \\quad b3}\\\\\n",
    "{c1 \\quad c2 \\quad c3}\\\\\n",
    "\\end{vmatrix} =\n",
    "\\begin{vmatrix}\n",
    "{a1 \\quad b1 \\quad c1}\\\\\n",
    "{a2 \\quad b2 \\quad c2}\\\\\n",
    "{a3 \\quad b3 \\quad c3}\\\\\n",
    "\\end{vmatrix}\n",
    "$$"
   ]
  },
  {
   "cell_type": "code",
   "execution_count": 18,
   "id": "41e7a30f-0ce7-432b-8c6d-ee0607cbdbfe",
   "metadata": {},
   "outputs": [],
   "source": [
    "# Importar la libreria NumPy\n",
    "import numpy as np"
   ]
  },
  {
   "cell_type": "code",
   "execution_count": 26,
   "id": "ee7d3080-55c4-49cb-8d4a-0ad2f3633377",
   "metadata": {},
   "outputs": [
    {
     "data": {
      "text/plain": [
       "array([[ 3, -2,  6],\n",
       "       [ 2,  1, -4],\n",
       "       [-3,  2,  7]])"
      ]
     },
     "execution_count": 26,
     "metadata": {},
     "output_type": "execute_result"
    }
   ],
   "source": [
    "# Creamos una matriz \"A1\" de orden 3x3 (3 filas y 3 columnas)\n",
    "A1 = np.array([\n",
    "    [3, -2, 6],\n",
    "    [2, 1, -4],\n",
    "    [-3, 2, 7]\n",
    "])\n",
    "A1"
   ]
  },
  {
   "cell_type": "code",
   "execution_count": 21,
   "id": "d6cfdbd3-db0c-42d4-91c5-83da71b8db67",
   "metadata": {},
   "outputs": [
    {
     "name": "stdout",
     "output_type": "stream",
     "text": [
      "La transpuesta de A1 es :\n",
      " [[ 3  2 -3]\n",
      " [-2  1  2]\n",
      " [ 6 -4  7]]\n"
     ]
    }
   ],
   "source": [
    "# Transpuesta de A1 (TA1)\n",
    "TA1 = A1.T\n",
    "print(f\"La transpuesta de A1 es :\\n {TA1}\")"
   ]
  },
  {
   "cell_type": "code",
   "execution_count": 22,
   "id": "362133c4-35f8-4cef-9212-32485421d959",
   "metadata": {},
   "outputs": [
    {
     "name": "stdout",
     "output_type": "stream",
     "text": [
      "El determinante de la transpuesta de A1 es: \n",
      " 90.99999999999997\n"
     ]
    }
   ],
   "source": [
    "# Determinante de la transpuesta de A1 (DTA1)\n",
    "DTA1 = np.linalg.det(TA1)\n",
    "print(f\"El determinante de la transpuesta de A1 es: \\n {DTA1}\")"
   ]
  },
  {
   "cell_type": "code",
   "execution_count": 23,
   "id": "d5cdde1f-ffac-4b24-b812-2407c026ce16",
   "metadata": {},
   "outputs": [
    {
     "name": "stdout",
     "output_type": "stream",
     "text": [
      "El determinate de A1 es: \n",
      " 90.99999999999997\n"
     ]
    }
   ],
   "source": [
    "# Determinante de A1 (DA1)\n",
    "DA1 = np.linalg.det(A1)\n",
    "print(f\"El determinate de A1 es: \\n {DA1}\")"
   ]
  },
  {
   "cell_type": "code",
   "execution_count": 40,
   "id": "ba9a7751-7651-45fa-b9da-d8dbc5df4f5c",
   "metadata": {},
   "outputs": [
    {
     "name": "stdout",
     "output_type": "stream",
     "text": [
      "El DTA1 = 90.99999999999997 y DA1 = 90.99999999999997 son iguales.\n"
     ]
    }
   ],
   "source": [
    "# La propiedad 1 se cumple. Por lo tanto, el \"DTA1\" y \"DA1\" son iguales.\n",
    "print(f\"El DTA1 = {DTA1} y DA1 = {DA1} son iguales.\")"
   ]
  },
  {
   "cell_type": "markdown",
   "id": "f210b133-95c6-4def-ad98-cc26a655098b",
   "metadata": {},
   "source": [
    "* Propiedad 2\n",
    "\n",
    "Si todos los elementos de una fila (o columna) son ceros, entonces el determinante es cero.\n",
    "\n",
    "$$\n",
    "\\begin{vmatrix}\n",
    "{a1 \\quad a2 \\quad a3}\\\\\n",
    "{0  \\quad 0  \\quad 0}\\\\\n",
    "{c1 \\quad c2 \\quad c3}\\\\\n",
    "\\end{vmatrix}\n",
    "= \n",
    "\\begin{vmatrix}\n",
    "{a1 \\quad 0 \\quad a3}\\\\\n",
    "{b1 \\quad 0 \\quad b3}\\\\\n",
    "{c1 \\quad 0 \\quad c3}\\\\\n",
    "\\end{vmatrix} = 0\n",
    "$$\n",
    "\n"
   ]
  },
  {
   "cell_type": "code",
   "execution_count": null,
   "id": "0a94c7b5-56c4-403c-88d0-0aa2be69c85a",
   "metadata": {},
   "outputs": [],
   "source": [
    "# Importar la libreria NumPy\n",
    "import numpy as np"
   ]
  },
  {
   "cell_type": "code",
   "execution_count": 32,
   "id": "538d41f6-63e3-44d3-88f0-e616acd58ff2",
   "metadata": {},
   "outputs": [
    {
     "data": {
      "text/plain": [
       "array([[ 0,  0,  0],\n",
       "       [ 2,  1, -4],\n",
       "       [-3,  2,  7]])"
      ]
     },
     "execution_count": 32,
     "metadata": {},
     "output_type": "execute_result"
    }
   ],
   "source": [
    "# Creamos una matriz \"A2_1\" de orden 3x3 (3 filas y 3 columnas)\n",
    "#---- Todos los elementos de la fila 1 son ceros.\n",
    "A2_1 = np.array([\n",
    "    [0, 0, 0],\n",
    "    [2, 1, -4],\n",
    "    [-3, 2, 7]\n",
    "])\n",
    "A2_1"
   ]
  },
  {
   "cell_type": "code",
   "execution_count": 37,
   "id": "70bf9ff5-5ff0-471c-a0ee-deac0aa7b991",
   "metadata": {},
   "outputs": [
    {
     "name": "stdout",
     "output_type": "stream",
     "text": [
      "El determiante de A2_1 es: \n",
      " 0.0\n"
     ]
    }
   ],
   "source": [
    "# Determinate de \"A2_1\"\n",
    "DA2_1 = np.linalg.det(A2_1)\n",
    "print(f\"El determiante de A2_1 es: \\n {DA2_1}\")"
   ]
  },
  {
   "cell_type": "code",
   "execution_count": 38,
   "id": "83a57702-7430-4f9d-8879-abb79cf352e8",
   "metadata": {},
   "outputs": [
    {
     "data": {
      "text/plain": [
       "array([[ 0, -2,  6],\n",
       "       [ 0,  1, -4],\n",
       "       [ 0,  2,  7]])"
      ]
     },
     "execution_count": 38,
     "metadata": {},
     "output_type": "execute_result"
    }
   ],
   "source": [
    "# Creamos una matriz \"A2_2\" de orden 3x3 (3 filas y 3 columnas)\n",
    "#---- Todos los elementos de la columna 1 son ceros.\n",
    "A2_2 = np.array([\n",
    "    [0, -2, 6],\n",
    "    [0, 1, -4],\n",
    "    [0, 2, 7]\n",
    "])\n",
    "A2_2"
   ]
  },
  {
   "cell_type": "code",
   "execution_count": 39,
   "id": "e8fb0269-0693-4cb5-b322-a638d9f0c340",
   "metadata": {},
   "outputs": [
    {
     "name": "stdout",
     "output_type": "stream",
     "text": [
      "El determiante de A2_2 es: \n",
      " 0.0\n"
     ]
    }
   ],
   "source": [
    "# Determinate de \"A2_2\"\n",
    "DA2_2 = np.linalg.det(A2_2)\n",
    "print(f\"El determiante de A2_2 es: \\n {DA2_2}\")"
   ]
  },
  {
   "cell_type": "code",
   "execution_count": 41,
   "id": "d66b6070-f042-4435-aacd-9ba4c97dddea",
   "metadata": {},
   "outputs": [
    {
     "name": "stdout",
     "output_type": "stream",
     "text": [
      "El determiante de A2_1 = 0.0 y A2_2 = 0.0\n"
     ]
    }
   ],
   "source": [
    "# La propiedad 2 se cumple. Por lo tanto, el determiante de \"A2_1\" y \"A2_2\" es cero.\n",
    "print(f\"El determiante de A2_1 = {DA2_1} y A2_2 = {DA2_2}\")"
   ]
  },
  {
   "cell_type": "markdown",
   "id": "72293f4c-7a42-461a-9dbe-f8351c9ea696",
   "metadata": {},
   "source": [
    "* Propiedad 3\n",
    "\n",
    "Si todos los elementos de una fila (o columna) son proporcionales (idénticos) a los elementos de alguna otra fila (o columna), entonces el determinante es cero.\n",
    "\n",
    "$$\n",
    "\\begin{vmatrix}\n",
    "{a1 \\quad ka2 \\quad a3}\\\\\n",
    "{b1 \\quad kb2 \\quad b3}\\\\\n",
    "{c1 \\quad kc2 \\quad c3}\\\\\n",
    "\\end{vmatrix} = 0\n",
    "$$"
   ]
  },
  {
   "cell_type": "code",
   "execution_count": 42,
   "id": "7b5300bf-18ce-4d5a-abbe-6613e7bf60a4",
   "metadata": {},
   "outputs": [],
   "source": [
    "# Importar la libreria NumPy\n",
    "import numpy as np"
   ]
  },
  {
   "cell_type": "code",
   "execution_count": 44,
   "id": "b0255545-1ed5-4e8a-934a-c9edacdf9c8b",
   "metadata": {},
   "outputs": [
    {
     "data": {
      "text/plain": [
       "array([[ 2,  0,  6],\n",
       "       [ 5,  1, 15],\n",
       "       [ 7,  2, 21]])"
      ]
     },
     "execution_count": 44,
     "metadata": {},
     "output_type": "execute_result"
    }
   ],
   "source": [
    "# Creamos una matriz \"A3\" de orden 3x3 (3 filas y 3 columnas)\n",
    "\n",
    "A3 = np.array([\n",
    "    [2, 0, 6],\n",
    "    [5, 1, 15],\n",
    "    [7, 2, 21]\n",
    "])\n",
    "A3"
   ]
  },
  {
   "cell_type": "code",
   "execution_count": 52,
   "id": "c084166d-d21d-403e-870a-507c980f07e0",
   "metadata": {},
   "outputs": [
    {
     "name": "stdout",
     "output_type": "stream",
     "text": [
      "El determiante de A3 es: \n",
      " -7.105427357600985e-15\n"
     ]
    }
   ],
   "source": [
    "# Determinate de \"A3\"\n",
    "DA3 = np.linalg.det(A3)\n",
    "#DA3 = round(DA3,2)\n",
    "print(f\"El determiante de A3 es: \\n {DA3}\")"
   ]
  },
  {
   "cell_type": "code",
   "execution_count": 53,
   "id": "52600122-5f3f-4070-aa95-42b6159873aa",
   "metadata": {},
   "outputs": [
    {
     "name": "stdout",
     "output_type": "stream",
     "text": [
      "El determiante de A3 es : -7.105427357600985e-15\n"
     ]
    }
   ],
   "source": [
    "# La propiedad 3 se cumple. Por lo tanto, el determinante de A3 es cero.\n",
    "print(f\"El determiante de A3 es : {DA3}\")"
   ]
  },
  {
   "cell_type": "markdown",
   "id": "4e3308e3-f69c-4821-ab59-a1b4465f7cb6",
   "metadata": {},
   "source": [
    "* Propiedad 4\n",
    "\n",
    "El intercambio de dos filas (o columnas) `cualesquiera` del determinante cambia su signo.\n",
    "\n",
    "* `Recomendación`\n",
    "\n",
    "Si se intercambian dos filas o dos columnas `continuas` en un determinante, \n",
    "el valor de este cambia de signo.\n",
    "\n",
    "$$\n",
    "\\begin{vmatrix}\n",
    "{a1 \\quad a2 \\quad a3}\\\\\n",
    "{b1 \\quad b2 \\quad b3}\\\\\n",
    "{c1 \\quad c2 \\quad c3}\\\\\n",
    "\\end{vmatrix}\n",
    "= -\n",
    "\\begin{vmatrix}\n",
    "{b1 \\quad b2 \\quad b3}\\\\\n",
    "{a1 \\quad a2 \\quad a3}\\\\\n",
    "{c1 \\quad c2 \\quad c3}\\\\\n",
    "\\end{vmatrix}\n",
    "$$\n"
   ]
  },
  {
   "cell_type": "code",
   "execution_count": 88,
   "id": "0d9fd981-a599-4ea2-ab18-3bba7a654194",
   "metadata": {},
   "outputs": [],
   "source": [
    "# Importar la libreria NumPy\n",
    "import numpy as np"
   ]
  },
  {
   "cell_type": "code",
   "execution_count": 89,
   "id": "98a1bc1a-519b-40e6-8fb3-8e815e14c24f",
   "metadata": {},
   "outputs": [
    {
     "data": {
      "text/plain": [
       "array([[ 2,  0,  3],\n",
       "       [ 5,  1,  5],\n",
       "       [ 7,  2, 11]])"
      ]
     },
     "execution_count": 89,
     "metadata": {},
     "output_type": "execute_result"
    }
   ],
   "source": [
    "# Creamos una matriz \"A4_sc\" de orden 3x3 (3 filas y 3 columnas)\n",
    "A4_sc = np.array([\n",
    "    [2, 0, 3],\n",
    "    [5, 1, 5],\n",
    "    [7, 2, 11]\n",
    "])\n",
    "A4_sc"
   ]
  },
  {
   "cell_type": "code",
   "execution_count": 90,
   "id": "213eb9f2-35fe-4f61-9c7e-f2b09b96395f",
   "metadata": {},
   "outputs": [
    {
     "name": "stdout",
     "output_type": "stream",
     "text": [
      "El determiante de A4 sin cambios es: \n",
      " 10.999999999999991\n"
     ]
    }
   ],
   "source": [
    "# Determinate de \"A4_sc\"\n",
    "DA4_sc = np.linalg.det(A4_sc)\n",
    "DA4_sc\n",
    "print(f\"El determiante de A4 sin cambios es: \\n {DA4_sc}\")"
   ]
  },
  {
   "cell_type": "code",
   "execution_count": 91,
   "id": "cc669345-8a84-4c4e-9f20-6df17b50e597",
   "metadata": {},
   "outputs": [],
   "source": [
    "# Intercambiar la fila 1 con la fila 2\n",
    "A4_sc[[0,1]] = A4_sc[[1,0]] # Cambio de las filas en la matriz \"A4\".\n",
    "A4_cc = A4_sc"
   ]
  },
  {
   "cell_type": "code",
   "execution_count": 92,
   "id": "c9c25f5f-895e-4f2e-b8eb-14888dd44c01",
   "metadata": {},
   "outputs": [
    {
     "name": "stdout",
     "output_type": "stream",
     "text": [
      "El determiante de A4 es: \n",
      " -10.999999999999991\n"
     ]
    }
   ],
   "source": [
    "# Entonces, el determinate de \"A4_cc\" con las filas intercambiadas es\n",
    "DA4_cc = np.linalg.det(A4_cc)\n",
    "print(f\"El determiante de A4 es: \\n {DA4_cc}\")"
   ]
  },
  {
   "cell_type": "code",
   "execution_count": 93,
   "id": "b25772d7-b6af-4c8e-b00f-e7aa28068803",
   "metadata": {},
   "outputs": [
    {
     "name": "stdout",
     "output_type": "stream",
     "text": [
      "El determiante de A4_sc = 10.999999999999991 y el A4_cc= -10.999999999999991\n"
     ]
    }
   ],
   "source": [
    "# La propiedad 4 se cumple. Por lo tanto, el determinante de A4_sc cambia de signo.\n",
    "print(f\"El determiante de A4_sc = {DA4_sc} y el A4_cc= {DA4_cc}\")"
   ]
  },
  {
   "cell_type": "markdown",
   "id": "e9975f7f-312b-4576-b260-0812725f046c",
   "metadata": {},
   "source": [
    "* Propiedad 5\n",
    "\n",
    "Si $B$ es una Matriz formada sumando el múltiplo de cualquier fila a otra fila, entonces\n",
    "\n",
    "$$\n",
    "det(X) = det(B)\n",
    "$$"
   ]
  },
  {
   "cell_type": "code",
   "execution_count": 94,
   "id": "321ce449-f462-4ce8-8880-4f369f5177e2",
   "metadata": {},
   "outputs": [],
   "source": [
    "# Importar la libreria NumPy\n",
    "import numpy as np"
   ]
  },
  {
   "cell_type": "code",
   "execution_count": 98,
   "id": "e3bd3c47-b29a-4560-a68a-2a0ea30d6f2b",
   "metadata": {},
   "outputs": [
    {
     "data": {
      "text/plain": [
       "array([[ 3,  0,  3],\n",
       "       [-2,  1,  5],\n",
       "       [ 8,  2, 11]])"
      ]
     },
     "execution_count": 98,
     "metadata": {},
     "output_type": "execute_result"
    }
   ],
   "source": [
    "# Creamos una matriz \"X\" de orden 3x3 (3 filas y 3 columnas)\n",
    "X = np.array([\n",
    "    [3, 0, 3],\n",
    "    [-2, 1, 5],\n",
    "    [8, 2, 11]\n",
    "])\n",
    "X"
   ]
  },
  {
   "cell_type": "code",
   "execution_count": 99,
   "id": "7ed232fa-02db-4001-b37a-95c82680551b",
   "metadata": {},
   "outputs": [
    {
     "name": "stdout",
     "output_type": "stream",
     "text": [
      "El determiante de X es: \n",
      " -32.999999999999986\n"
     ]
    }
   ],
   "source": [
    "# Determinate de \"X\" (DX)\n",
    "DX = np.linalg.det(X)\n",
    "print(f\"El determiante de X es: \\n {DX}\")"
   ]
  },
  {
   "cell_type": "code",
   "execution_count": 100,
   "id": "5e5515a6-77f4-4df7-a45d-ba30815a1bd6",
   "metadata": {},
   "outputs": [
    {
     "data": {
      "text/plain": [
       "array([[ 3,  6,  3],\n",
       "       [-2, -3,  5],\n",
       "       [ 8, 18, 11]])"
      ]
     },
     "execution_count": 100,
     "metadata": {},
     "output_type": "execute_result"
    }
   ],
   "source": [
    "# Creamos una matriz \"B\" de orden 3x3\n",
    "# ------ Sumando 2 veces de la primera columna a la segunda\n",
    "B = np.array([\n",
    "    [3, 6, 3],\n",
    "    [-2, -3, 5],\n",
    "    [8, 18, 11]\n",
    "])\n",
    "B"
   ]
  },
  {
   "cell_type": "code",
   "execution_count": 101,
   "id": "0f408908-f71e-4b4e-b572-b583b3771f56",
   "metadata": {},
   "outputs": [
    {
     "name": "stdout",
     "output_type": "stream",
     "text": [
      "El determiante de X es: \n",
      " -32.999999999999986\n"
     ]
    }
   ],
   "source": [
    "# Determinate de \"B\" (DB)\n",
    "DB = np.linalg.det(B)\n",
    "print(f\"El determiante de X es: \\n {DB}\")"
   ]
  },
  {
   "cell_type": "code",
   "execution_count": 106,
   "id": "9ac3d93b-2730-4ad3-82fd-9df6ef28a656",
   "metadata": {},
   "outputs": [
    {
     "name": "stdout",
     "output_type": "stream",
     "text": [
      "El determiante de X es igual a: -32.999999999999986\n",
      "El determiante de B es igual a: -32.999999999999986\n"
     ]
    }
   ],
   "source": [
    "# La propiedad 5 se cumple. Por lo tanto, el det(X) = det(B).\n",
    "print(f\"El determiante de X es igual a: {DX}\")\n",
    "print(f\"El determiante de B es igual a: {DB}\")"
   ]
  },
  {
   "cell_type": "markdown",
   "id": "9e51677f-4122-474f-b2d7-ff1000afb1e8",
   "metadata": {},
   "source": [
    "* Propiedad 6\n",
    "\n",
    "$$\n",
    "\\begin{vmatrix}\n",
    "{\\lambda a_{11}\\quad\\cdots\\quad \\lambda a_{1n}}\\\\\n",
    "{a_{21}\\quad\\cdots\\quad a_{2n}}\\\\\n",
    "{\\vdots \\quad \\vdots}\\\\\n",
    "{a_{n1}\\quad\\cdots\\quad a_{nn}}\\\\\n",
    "\\end{vmatrix}=\n",
    "\\lambda \\begin{vmatrix}\n",
    "{a_{11}\\quad\\cdots\\quad a_{1n}}\\\\\n",
    "{a_{21}\\quad\\cdots\\quad a_{2n}}\\\\\n",
    "{\\vdots \\quad \\vdots}\\\\\n",
    "{a_{n1}\\quad\\cdots\\quad a_{nn}}\\\\\n",
    "\\end{vmatrix}\n",
    "$$"
   ]
  },
  {
   "cell_type": "code",
   "execution_count": 124,
   "id": "78ed8fe4-d05c-4afa-98b4-c6846f49e2d3",
   "metadata": {},
   "outputs": [],
   "source": [
    "# Importar la libreria NumPy\n",
    "import numpy as np"
   ]
  },
  {
   "cell_type": "code",
   "execution_count": 125,
   "id": "925ea0a0-c13b-4f4c-a3ec-21ee438f6419",
   "metadata": {},
   "outputs": [
    {
     "data": {
      "text/plain": [
       "array([[ 4,  2,  3],\n",
       "       [ 2, -1,  5],\n",
       "       [ 3,  5, -4]])"
      ]
     },
     "execution_count": 125,
     "metadata": {},
     "output_type": "execute_result"
    }
   ],
   "source": [
    "# Creamos una matriz \"A6\" de orden 3x3 (3 filas y 3 columnas)\n",
    "A6 = np.array([\n",
    "    [4, 2, 3],\n",
    "    [2, -1, 5],\n",
    "    [3, 5, -4]\n",
    "])\n",
    "A6"
   ]
  },
  {
   "cell_type": "code",
   "execution_count": 126,
   "id": "703fa0b1-9c2d-4371-b1dd-7239d57db906",
   "metadata": {},
   "outputs": [
    {
     "name": "stdout",
     "output_type": "stream",
     "text": [
      "El determiante de A6 es: \n",
      " 0.9999999999999969\n"
     ]
    }
   ],
   "source": [
    "# Determinate de \"A6\" (DA6)\n",
    "DA6 = np.linalg.det(A6)\n",
    "print(f\"El determiante de A6 es: \\n {DA6}\")"
   ]
  },
  {
   "cell_type": "code",
   "execution_count": 127,
   "id": "a656f637-cb9e-43de-a3cd-8e644c586171",
   "metadata": {},
   "outputs": [
    {
     "data": {
      "text/plain": [
       "array([[12,  6,  9],\n",
       "       [ 2, -1,  5],\n",
       "       [ 3,  5, -4]])"
      ]
     },
     "execution_count": 127,
     "metadata": {},
     "output_type": "execute_result"
    }
   ],
   "source": [
    "# Multiplicamos a la primera fila por un lambda = 3\n",
    "A6[0] = A6[0]*3\n",
    "A6_clambda = A6\n",
    "A6_clambda "
   ]
  },
  {
   "cell_type": "code",
   "execution_count": 131,
   "id": "85b4bcce-7da0-418a-816b-f6d1b6bf6561",
   "metadata": {},
   "outputs": [
    {
     "name": "stdout",
     "output_type": "stream",
     "text": [
      "El determiante de A6_clambda es: \n",
      " 2.9999999999999902\n"
     ]
    }
   ],
   "source": [
    "# Determinate de \"A6_clambda\" (DA6_clambda)\n",
    "DA6_clambda = np.linalg.det(A6_clambda)\n",
    "print(f\"El determiante de A6_clambda es: \\n {DA6_clambda}\")"
   ]
  },
  {
   "cell_type": "code",
   "execution_count": 132,
   "id": "edf5125e-cf16-4d09-9b53-51bbef2d1bce",
   "metadata": {},
   "outputs": [
    {
     "data": {
      "text/plain": [
       "2.9999999999999907"
      ]
     },
     "execution_count": 132,
     "metadata": {},
     "output_type": "execute_result"
    }
   ],
   "source": [
    "# Determinante de a \"A6_clambda\" es igual a lambda por el DA6\n",
    "DA6_plambda = 3*DA6\n",
    "DA6_plambda"
   ]
  },
  {
   "cell_type": "code",
   "execution_count": 133,
   "id": "a4908494-5a37-4e45-8958-8b01c1282ac1",
   "metadata": {},
   "outputs": [
    {
     "name": "stdout",
     "output_type": "stream",
     "text": [
      "El determiante de 'DA6_clambda' = 2.9999999999999902 es igual a 'DA6_plambda' = 2.9999999999999907\n"
     ]
    }
   ],
   "source": [
    "# La propiedad 6 se cumple. Por lo tanto, el \"DA6_clambda\" es igual a lambda por el \"DA6\".\n",
    "print(f\"El determiante de 'DA6_clambda' = {DA6_clambda} es igual a 'DA6_plambda' = {DA6_plambda}\")"
   ]
  },
  {
   "cell_type": "markdown",
   "id": "c68a31eb-bc4e-47b3-bb5a-6f5bce45b59e",
   "metadata": {},
   "source": [
    "* Propiedad 7\n",
    "$$\n",
    "\\begin{vmatrix}\n",
    "{\\lambda a_{11}\\quad\\cdots\\quad  a_{1n}}\\\\\n",
    "{\\lambda a_{21}\\quad\\cdots\\quad a_{2n}}\\\\\n",
    "{\\vdots \\quad \\vdots}\\\\\n",
    "{\\lambda a_{n1}\\quad\\cdots\\quad a_{nn}}\\\\\n",
    "\\end{vmatrix}=\n",
    "\\lambda \\begin{vmatrix}\n",
    "{a_{11}\\quad\\cdots\\quad a_{1n}}\\\\\n",
    "{a_{21}\\quad\\cdots\\quad a_{2n}}\\\\\n",
    "{\\vdots \\quad \\vdots}\\\\\n",
    "{a_{n1}\\quad\\cdots\\quad a_{nn}}\\\\\n",
    "\\end{vmatrix}\n",
    "$$"
   ]
  },
  {
   "cell_type": "code",
   "execution_count": 136,
   "id": "fe164139-a011-4749-a59c-e6e2fda28117",
   "metadata": {},
   "outputs": [],
   "source": [
    "# Importar la libreria NumPy\n",
    "import numpy as np"
   ]
  },
  {
   "cell_type": "code",
   "execution_count": 158,
   "id": "0af26207-0549-42dc-915c-d814cb5ce938",
   "metadata": {},
   "outputs": [
    {
     "data": {
      "text/plain": [
       "array([[ 4,  2,  3],\n",
       "       [ 2, -1,  5],\n",
       "       [ 3,  5, -4]])"
      ]
     },
     "execution_count": 158,
     "metadata": {},
     "output_type": "execute_result"
    }
   ],
   "source": [
    "# Creamos una matriz \"A7\" de orden 3x3 (3 filas y 3 columnas)\n",
    "A7 = np.array([\n",
    "    [4, 2, 3],\n",
    "    [2, -1, 5],\n",
    "    [3, 5, -4]\n",
    "])\n",
    "A7"
   ]
  },
  {
   "cell_type": "code",
   "execution_count": 159,
   "id": "c712a8ce-f102-40d4-b7aa-fdf4a1b83817",
   "metadata": {},
   "outputs": [
    {
     "name": "stdout",
     "output_type": "stream",
     "text": [
      "El determiante de A7_colum es: \n",
      " 0.9999999999999969\n"
     ]
    }
   ],
   "source": [
    "# Determinate de \"A7\" (DA7)\n",
    "DA7 = np.linalg.det(A7)\n",
    "print(f\"El determiante de A7_colum es: \\n {DA7}\")"
   ]
  },
  {
   "cell_type": "code",
   "execution_count": 156,
   "id": "0a8967e0-9784-4583-aae3-8dd31be02330",
   "metadata": {},
   "outputs": [
    {
     "data": {
      "text/plain": [
       "array([[20,  2,  3],\n",
       "       [10, -1,  5],\n",
       "       [15,  5, -4]])"
      ]
     },
     "execution_count": 156,
     "metadata": {},
     "output_type": "execute_result"
    }
   ],
   "source": [
    "A7[0][0] = A7[0][0]*5\n",
    "A7[1][0] = A7[1][0]*5\n",
    "A7[2][0] = A7[2][0]*5\n",
    "A7_colum = A7\n",
    "A7_colum"
   ]
  },
  {
   "cell_type": "code",
   "execution_count": 157,
   "id": "27381f84-2c76-4ab6-aff1-fd033ddc8e0e",
   "metadata": {},
   "outputs": [
    {
     "name": "stdout",
     "output_type": "stream",
     "text": [
      "El determiante de A7_colum es: \n",
      " 4.9999999999999805\n"
     ]
    }
   ],
   "source": [
    "# Determinate de \"A7_colum\" (DA7_colum)\n",
    "DA7_colum = np.linalg.det(A7_colum)\n",
    "print(f\"El determiante de A7_colum es: \\n {DA7_colum}\")"
   ]
  },
  {
   "cell_type": "code",
   "execution_count": 164,
   "id": "ecf059ad-a646-420d-9278-dd6c683f68e4",
   "metadata": {},
   "outputs": [
    {
     "data": {
      "text/plain": [
       "4.999999999999984"
      ]
     },
     "execution_count": 164,
     "metadata": {},
     "output_type": "execute_result"
    }
   ],
   "source": [
    "# Lambda = 5 por el determinante de A7 \n",
    "DA7_lambda = 5*DA7\n",
    "DA7_lambda"
   ]
  },
  {
   "cell_type": "code",
   "execution_count": 165,
   "id": "de175bdb-26dc-4ea7-a3c4-e6faf8b44be0",
   "metadata": {},
   "outputs": [
    {
     "name": "stdout",
     "output_type": "stream",
     "text": [
      "El determiante de 'DA7_colum' = 4.9999999999999805 es igual a lambda por el 'DA7' = 4.999999999999984\n"
     ]
    }
   ],
   "source": [
    "# La propiedad 7 se cumple. Por lo tanto, el \"DA7_colum\" es igual a lambda por el \"DA7\".\n",
    "print(f\"El determiante de 'DA7_colum' = {DA7_colum} es igual a lambda por el 'DA7' = {DA7_lambda}\")"
   ]
  },
  {
   "cell_type": "markdown",
   "id": "a4baa44d-47a0-455d-96c6-6aff94c2928a",
   "metadata": {},
   "source": [
    "* Propiedad 8\n",
    "$$\n",
    "\\begin{vmatrix}\n",
    "{\\lambda a_{11}\\quad\\cdots\\quad \\lambda a_{1n}}\\\\\n",
    "{\\lambda a_{21}\\quad\\cdots\\quad  \\lambda a_{2n}}\\\\\n",
    "{\\vdots \\quad \\vdots}\\\\\n",
    "{\\lambda a_{n1}\\quad\\cdots\\quad \\lambda a_{nn}}\\\\\n",
    "\\end{vmatrix}=\n",
    "\\lambda^{n} \\begin{vmatrix}\n",
    "{a_{11}\\quad\\cdots\\quad a_{1n}}\\\\\n",
    "{a_{21}\\quad\\cdots\\quad a_{2n}}\\\\\n",
    "{\\vdots \\quad \\vdots}\\\\\n",
    "{a_{n1}\\quad\\cdots\\quad a_{nn}}\\\\\n",
    "\\end{vmatrix} \n",
    "$$\n"
   ]
  },
  {
   "cell_type": "code",
   "execution_count": null,
   "id": "20ba28ae-d3d4-47e2-b803-4289529b0546",
   "metadata": {},
   "outputs": [],
   "source": [
    "# Importar la libreria NumPy\n",
    "import numpy as np"
   ]
  },
  {
   "cell_type": "code",
   "execution_count": 178,
   "id": "c6eb21de-d951-48fc-9a55-a44cbd9985ce",
   "metadata": {},
   "outputs": [
    {
     "data": {
      "text/plain": [
       "array([[  5, -12,   3],\n",
       "       [  7,  -1,  11],\n",
       "       [ 13,   5,  -4]])"
      ]
     },
     "execution_count": 178,
     "metadata": {},
     "output_type": "execute_result"
    }
   ],
   "source": [
    "# Creamos una matriz \"A8\" de orden 3x3 (3 filas y 3 columnas)\n",
    "A8 = np.array([\n",
    "    [5, -12, 3],\n",
    "    [7, -1, 11],\n",
    "    [13, 5, -4]\n",
    "])\n",
    "A8"
   ]
  },
  {
   "cell_type": "code",
   "execution_count": 179,
   "id": "07b1e727-3368-473b-b522-85db943432be",
   "metadata": {},
   "outputs": [
    {
     "name": "stdout",
     "output_type": "stream",
     "text": [
      "El determiante de A8 es: \n",
      " -2162.999999999999\n"
     ]
    }
   ],
   "source": [
    "# Determinate de \"A8\" (DA8)\n",
    "DA8 = np.linalg.det(A8)\n",
    "print(f\"El determiante de A8 es: \\n {DA8}\")"
   ]
  },
  {
   "cell_type": "code",
   "execution_count": 180,
   "id": "834ff2c8-cdd3-4e08-b200-1405397e3316",
   "metadata": {},
   "outputs": [
    {
     "data": {
      "text/plain": [
       "array([[ 10, -24,   6],\n",
       "       [ 14,  -2,  22],\n",
       "       [ 26,  10,  -8]])"
      ]
     },
     "execution_count": 180,
     "metadata": {},
     "output_type": "execute_result"
    }
   ],
   "source": [
    "# Multiplicando a todos los elementos por lambda = 2\n",
    "A8[0] = A8[0]*2\n",
    "A8[1] = A8[1]*2\n",
    "A8[2] = A8[2]*2\n",
    "A8_1 = A8\n",
    "A8_1"
   ]
  },
  {
   "cell_type": "code",
   "execution_count": 183,
   "id": "9d11eddb-96d6-46df-b347-31bdad4ec86d",
   "metadata": {},
   "outputs": [
    {
     "data": {
      "text/plain": [
       "-17304.0"
      ]
     },
     "execution_count": 183,
     "metadata": {},
     "output_type": "execute_result"
    }
   ],
   "source": [
    "# Determinante de \"A8_1\" (DA8_1)\n",
    "DA8_1 = np.linalg.det(A8_1)\n",
    "DA8_1"
   ]
  },
  {
   "cell_type": "code",
   "execution_count": 186,
   "id": "d38b07d3-8730-43cf-a990-c44403c802f0",
   "metadata": {},
   "outputs": [
    {
     "data": {
      "text/plain": [
       "-17303.999999999993"
      ]
     },
     "execution_count": 186,
     "metadata": {},
     "output_type": "execute_result"
    }
   ],
   "source": [
    "# Lambda al cubo por \"DA8\"\n",
    "DA8_lambda = (2**3)*DA8\n",
    "DA8_lambda"
   ]
  },
  {
   "cell_type": "code",
   "execution_count": 187,
   "id": "4fda2e89-91fd-41bf-a1c9-15370c592064",
   "metadata": {},
   "outputs": [
    {
     "name": "stdout",
     "output_type": "stream",
     "text": [
      "El determiante de 'A8_1' = -17304.0 es igual a lambda = 2 por el 'DA8' = -17303.999999999993\n"
     ]
    }
   ],
   "source": [
    "# La propiedad 8 se cumple. Por lo tanto, el \"DA8_1\" es igual a lambda =  2 por el \"DA8\".\n",
    "print(f\"El determiante de 'A8_1' = {DA8_1} es igual a lambda = 2 por el 'DA8' = {DA8_lambda}\")"
   ]
  },
  {
   "cell_type": "markdown",
   "id": "f6f5cd58",
   "metadata": {},
   "source": [
    "## Problema 5"
   ]
  },
  {
   "cell_type": "markdown",
   "id": "65a775af",
   "metadata": {},
   "source": [
    "Mejore el código descrito en clase para hallar el determinate de una matriz que contenga ceros en la matriz diagonal, utlizar condicionales"
   ]
  },
  {
   "cell_type": "code",
   "execution_count": 29,
   "id": "89b50ffa-3ae1-47b7-8f54-9155e6f0af04",
   "metadata": {},
   "outputs": [
    {
     "data": {
      "text/plain": [
       "120"
      ]
     },
     "execution_count": 29,
     "metadata": {},
     "output_type": "execute_result"
    }
   ],
   "source": [
    "# Código a mejorar.\n",
    "# Importar libreria NumPy\n",
    "import numpy as np\n",
    "vec = []\n",
    "A = np.array([[3,4,2],\n",
    "              [-2,3,5],\n",
    "              [4,2,6]])\n",
    "for i in range(0,(len(A)-1)):\n",
    "    vec.append(A[i][i])\n",
    "    A[i]=(1/A[i][i])*A[i]\n",
    "    for j in range((i+1),len(A)):\n",
    "        if (A[j][i]*A[(i)][i])>0:\n",
    "            A[j]=A[j][i]*A[(i)]-A[j]            \n",
    "        else:    \n",
    "            A[j]=-A[j][i]*A[(i)]+A[j]           \n",
    "vec.append(A[(len(A)-1)][(len(A)-1)]) \n",
    "det=np.prod(vec)\n",
    "det"
   ]
  },
  {
   "cell_type": "code",
   "execution_count": 37,
   "id": "f47788e6-2db4-4972-acfe-f4ff17189e51",
   "metadata": {},
   "outputs": [
    {
     "name": "stdout",
     "output_type": "stream",
     "text": [
      "120.0\n"
     ]
    }
   ],
   "source": [
    "# Un intento de mejora en colaboración con un compañero externo.\n",
    "'''\n",
    "En resumen, este código implementa un algoritmo para calcular el determinante\n",
    "de una matriz cuadrada utilizando la eliminación gaussiana, que consiste en \n",
    "transformar la matriz original en una matriz triangular superior y luego multiplicar\n",
    "los elementos de la diagonal principal para obtener el determinante.\n",
    "'''\n",
    "# Importar libreria NumPy\n",
    "import numpy as np\n",
    "A = np.array([[3,4,2],\n",
    "              [-2,3,5],\n",
    "              [4,2,6]])\n",
    "# Tamaño de la matriz\n",
    "n = A.shape[0] \n",
    "# diagonal principal de la matriz\n",
    "vec = [A[i,i] for i in range(n)]  \n",
    "det = 1\n",
    "signo = 1\n",
    "for i, pivot in enumerate(vec[:-1]):\n",
    "    # encontrar el índice del elemento de mayor magnitud debajo del pivote.\n",
    "    k = i + 1 + np.argmax(np.abs(A[i+1:, i]))\n",
    "    # intercambiar las filas i y k si el elemento de mayor magnitud no está debajo del pivote.\n",
    "    if k != i+1:\n",
    "        A[[i+1, k]] = A[[k, i+1]]\n",
    "        signo *= -1\n",
    "    # realizar eliminación Gaussiana en la columna i.\n",
    "    A = A.astype(float)  # convertir la matriz a tipo de dato de punto flotante.\n",
    "    for j in range(i+1, n):\n",
    "        m = A[j,i] / A[i,i]\n",
    "        A[j, i+1:] -= m * A[i, i+1:]\n",
    "        A[j, i] = m\n",
    "det *= np.prod(np.diag(A))\n",
    "det *= signo\n",
    "print(det)  # salida: 120.0"
   ]
  },
  {
   "cell_type": "markdown",
   "id": "bdf4c139",
   "metadata": {},
   "source": [
    "## Problema 6"
   ]
  },
  {
   "cell_type": "markdown",
   "id": "eb133ae3",
   "metadata": {},
   "source": [
    "Crear una función para hallar la solución de un sistema de ecuaciones mediante el método de Cramer"
   ]
  },
  {
   "cell_type": "code",
   "execution_count": 68,
   "id": "9c995317",
   "metadata": {},
   "outputs": [],
   "source": [
    "# Primero importamos la libreria Numpy\n",
    "import numpy as np\n",
    "# Detalles de los parámetros que se usaran\n",
    "'''\n",
    "Donde:\n",
    "    - \"A\" será la matriz de coeficientes y\n",
    "    - \"b\" el vector de términos independientes.\n",
    "    - Además, la función para calcular la solución del\n",
    "      sistema de ecuaciones mediante el método\n",
    "      de Cramer se llamará \"MCramer\".\n",
    "    - \"dA\" es el determiante de \"A\".\n",
    "'''\n",
    "# Empecemos definiendo la función\n",
    "def MCramer(A,b):\n",
    "    n = len(b)\n",
    "    if (A.shape[0] != A.shape[1]) or (n != len(b)):\n",
    "        return \"A y b deben tener la misma cantidad de filas y A debe ser cuadrada\"\n",
    "    dA = np.linalg.det(A)\n",
    "    if (dA == 0):\n",
    "        return \"El sistema no tiene solución\"\n",
    "    Soluciones = []\n",
    "    for i in range(n):\n",
    "        matriz_i = A.copy()\n",
    "        matriz_i[:,i] = b\n",
    "        det_i = np.linalg.det(matriz_i)\n",
    "        Soluciones.append(det_i/dA)\n",
    "    return Soluciones"
   ]
  },
  {
   "cell_type": "markdown",
   "id": "f75d47a7-5c60-4bd2-8c5a-33ba395ea87b",
   "metadata": {},
   "source": [
    "Resolvamos el siguiente sistema de ecuaciones usando la función anteriormente creada.\n",
    "\n",
    "$$\n",
    "\\begin{align*}\n",
    "2x + 3y - z =& 8\\\\\n",
    "4x - y + 2z =& 3 \\\\\n",
    "x + y + 3z =& 14\n",
    "\\end{align*}\n",
    "$$"
   ]
  },
  {
   "cell_type": "code",
   "execution_count": 69,
   "id": "04e4dc57-4f36-4988-a121-8b6dfeb17185",
   "metadata": {},
   "outputs": [
    {
     "name": "stdout",
     "output_type": "stream",
     "text": [
      "Las soluciones del sistema son:\n",
      " [-1.6776703483224582e-16, 3.7999999999999967, 3.399999999999998]\n"
     ]
    }
   ],
   "source": [
    "# Usando la función \"MCramer\"\n",
    "A = np.array([[2, 3, -1], \n",
    "              [4, -1, 2], \n",
    "              [1, 1, 3]])\n",
    "b = np.array([8, 3, 14])\n",
    "Soluciones = MCramer(A, b)\n",
    "print(f\"Las soluciones del sistema son:\\n {Soluciones}\")"
   ]
  },
  {
   "cell_type": "markdown",
   "id": "b2d0bbff",
   "metadata": {},
   "source": [
    "## Problema 7"
   ]
  },
  {
   "cell_type": "markdown",
   "id": "8bc23c6e",
   "metadata": {},
   "source": [
    "Craer un sistema de ecuaciones del orden que desee y verificar las siguientes propiedades"
   ]
  },
  {
   "cell_type": "markdown",
   "id": "005a1db1",
   "metadata": {},
   "source": [
    "\\begin{align}\n",
    "& \\text{ 1. Intercambia el orden de dos ecuaciones cualesquiera.}\\\\\n",
    "& \\text{ 2. Multiplica ambos lados de una ecuación por una constante distinta de cero.}\\\\\n",
    "& \\text{ 3. Suma un múltiplo distinto de cero de una ecuación a otra ecuación.}\n",
    "\\end{align}"
   ]
  },
  {
   "cell_type": "code",
   "execution_count": null,
   "id": "4d5726ef-32eb-4506-a96d-4efdddd9920f",
   "metadata": {},
   "outputs": [],
   "source": [
    "# A continuación creamos un sistema de ecuaciones con 3 ecuaciones y tres incógnitas"
   ]
  },
  {
   "cell_type": "markdown",
   "id": "26b6ce5e-010c-4643-947e-e403f66eadbc",
   "metadata": {},
   "source": [
    "$$\n",
    "\\begin{align*}\n",
    "2x + 3y + z =& 5\\\\\n",
    "4x + y -3z =& 1 \\\\\n",
    "x-y + 2z =& 3\n",
    "\\end{align*}\n",
    "$$"
   ]
  },
  {
   "cell_type": "code",
   "execution_count": 27,
   "id": "cfefb18c-a3ce-4d34-b53d-df33345d814a",
   "metadata": {},
   "outputs": [],
   "source": [
    "# Importar la libreria NumPy\n",
    "import numpy as np"
   ]
  },
  {
   "cell_type": "code",
   "execution_count": 28,
   "id": "416d370a-c10c-4235-9fa6-7d5006a4afb5",
   "metadata": {},
   "outputs": [],
   "source": [
    "# Creamos la matriz de coeficientes (A)\n",
    "A = np.array([\n",
    "    [2,3,1],\n",
    "    [4,1,-3],\n",
    "    [1,-1,2]\n",
    "])"
   ]
  },
  {
   "cell_type": "code",
   "execution_count": 29,
   "id": "69c40d8d-c9ce-48ed-98fb-a07edebc5ce8",
   "metadata": {},
   "outputs": [],
   "source": [
    "# Creamos un vector de los términos independientes\n",
    "b = np.array(\n",
    "[5,1,3]\n",
    ")"
   ]
  },
  {
   "cell_type": "code",
   "execution_count": 30,
   "id": "b1894dee-dd32-4496-9fa9-693eec7786d5",
   "metadata": {},
   "outputs": [
    {
     "name": "stdout",
     "output_type": "stream",
     "text": [
      "Las soluciones del sistema son: [1.05 0.55 1.25]\n"
     ]
    }
   ],
   "source": [
    "# Resolvemos el sistema de ecuaciones usando la función \"solve()\", donde el primer \n",
    "# componente es la matriz \"A\" y el segundo es el vector \"b\".\n",
    "x = np.linalg.solve(A,b)\n",
    "# Ahora imprimiendo la solución del sistema:\n",
    "print(f\"Las soluciones del sistema son: {x}\")"
   ]
  },
  {
   "cell_type": "code",
   "execution_count": 23,
   "id": "c51349de-5fca-4624-88b6-eddcf6f92d31",
   "metadata": {},
   "outputs": [],
   "source": [
    "#------------------ 1. Intercambia el orden de dos ecuaciones cualesquiera ---------------------------#"
   ]
  },
  {
   "cell_type": "code",
   "execution_count": 37,
   "id": "fdeeac5c-3ab8-4718-b2ac-f860a1370ca3",
   "metadata": {},
   "outputs": [
    {
     "name": "stdout",
     "output_type": "stream",
     "text": [
      "La solución del nuevo sistema es: [1.05 0.55 1.25]\n"
     ]
    }
   ],
   "source": [
    "'''\n",
    "Propiedad 1: En este caso intercambiamos la primera fila con \n",
    "la tercera tanto en la matriz \"A\" y vector \"b\".\n",
    "'''\n",
    "A[[0,2]] = A[[2,0]] # Cambio de las filas en la matriz \"A\".\n",
    "b[[0,2]] = b[[2,0]] # Cambio de las filas en el vector \"b\".\n",
    "# Resolviendo el nuevo sistema de ecuaciones usando nuevamente la función \"solve()\"\n",
    "solucion1 = np.linalg.solve(A,b)\n",
    "print(f\"La solución del nuevo sistema es: {solucion1}\") # La solcuión no cambió."
   ]
  },
  {
   "cell_type": "code",
   "execution_count": null,
   "id": "1460aee6-1e5b-4903-9e65-2e35a2c374d3",
   "metadata": {},
   "outputs": [],
   "source": [
    "#---------- 2. Multiplica ambos lados de una ecuación por una constante distinta de cero ---------------------#"
   ]
  },
  {
   "cell_type": "code",
   "execution_count": 45,
   "id": "f39fc08a-370d-4849-abc2-34f0280172dc",
   "metadata": {},
   "outputs": [
    {
     "name": "stdout",
     "output_type": "stream",
     "text": [
      "La solución del nuevo sistema es: [1.05 0.55 1.25]\n"
     ]
    }
   ],
   "source": [
    "'''\n",
    "Propiedad 2: En este caso como nos pide multiplicar cualquier ecuación por una \n",
    "constante distinta de cero, se multiplicará a la segunda ecuación por 5. \n",
    "'''\n",
    "A[1] = A[1]*5\n",
    "b[1] = b[1]*5\n",
    "# Resolviendo el nuevo sistema de ecuaciones usando nuevamente la función \"solve()\"\n",
    "solucion2 = np.linalg.solve(A,b)\n",
    "print(f\"La solución del nuevo sistema es: {solucion2}\") # La solución no cambió."
   ]
  },
  {
   "cell_type": "code",
   "execution_count": null,
   "id": "eb1eb590-692c-4b05-8956-37adf58db8a4",
   "metadata": {},
   "outputs": [],
   "source": [
    "#---------- 3. Suma un múltiplo distinto de cero de una ecuación a otra ecuación ---------------------#"
   ]
  },
  {
   "cell_type": "code",
   "execution_count": 46,
   "id": "28f4a145-4303-4dfe-9052-d2b8258b7965",
   "metadata": {},
   "outputs": [
    {
     "name": "stdout",
     "output_type": "stream",
     "text": [
      "La solución del nuevo sistema es: [1.05 0.55 1.25]\n"
     ]
    }
   ],
   "source": [
    "'''\n",
    "Propiedad 3: En este caso vamos a sumar cuatro veces a la fila 2 en la matriz \"A\"\n",
    "y el valor correspondiente en el vector \"b\" a la tercera fila.\n",
    "'''\n",
    "A[2] = A[2] + 4 * A[1]\n",
    "b[2] = b[2] + 4 * b[1]\n",
    "# Resolviendo el nuevo sistema de ecuaciones usando nuevamente la función \"solve()\"\n",
    "solucion3 = np.linalg.solve(A,b)\n",
    "print(f\"La solución del nuevo sistema es: {solucion3}\") # La solución no cambió."
   ]
  },
  {
   "cell_type": "markdown",
   "id": "1d794c89",
   "metadata": {},
   "source": [
    "## Problema 8"
   ]
  },
  {
   "cell_type": "markdown",
   "id": "b8e9a45c",
   "metadata": {},
   "source": [
    "Crear una matriz de orden 4X4 y hallar los valores propios y vectores propios, y comprobar que cumple la definición."
   ]
  },
  {
   "cell_type": "code",
   "execution_count": null,
   "id": "7b5e1e97-2938-4825-a023-92f86af56329",
   "metadata": {},
   "outputs": [],
   "source": [
    "''' \n",
    "Para crear una matriz de orden 4x4 en Python, utilizamos la biblioteca NumPy.\n",
    "Luego, utilizamos la función \"eig\" para calcular los valores propios y vectores propios\n",
    "de la matriz, y posteriormente comprobamos si cumplen con la definición. A continuación, se muestra un \n",
    "ejemplo:\n",
    "'''"
   ]
  },
  {
   "cell_type": "code",
   "execution_count": 5,
   "id": "cfe7fae9",
   "metadata": {},
   "outputs": [],
   "source": [
    "# Importar la libreria NumPy\n",
    "import numpy as np"
   ]
  },
  {
   "cell_type": "code",
   "execution_count": 6,
   "id": "89b24a8d-8f3c-4503-96f6-7253ace5316a",
   "metadata": {},
   "outputs": [],
   "source": [
    "# Creamos una matriz de orden 4x4 (4 filas y 4 columnas)\n",
    "Matriz4x4 = np.array([[2, -1, 0, 0], \n",
    "                      [-1, 2, -1, 0], \n",
    "                      [0, -1, 2, -1], \n",
    "                      [0, 0, -1, 2]])"
   ]
  },
  {
   "cell_type": "code",
   "execution_count": 7,
   "id": "649edfa7-5e4a-4192-b498-67224deedef3",
   "metadata": {},
   "outputs": [],
   "source": [
    "# Calculamos los valores propios y vectores propios de la matriz\n",
    "ValoresPropios, VectoresPropios = np.linalg.eig(Matriz4x4)"
   ]
  },
  {
   "cell_type": "code",
   "execution_count": 10,
   "id": "0a262a72-6442-4327-8fbd-c2863e6c1f39",
   "metadata": {},
   "outputs": [
    {
     "name": "stdout",
     "output_type": "stream",
     "text": [
      "Valores propios:\n",
      "[3.61803399 2.61803399 0.38196601 1.38196601]\n",
      "Vectores propios:\n",
      "[[-0.37174803 -0.60150096 -0.37174803 -0.60150096]\n",
      " [ 0.60150096  0.37174803 -0.60150096 -0.37174803]\n",
      " [-0.60150096  0.37174803 -0.60150096  0.37174803]\n",
      " [ 0.37174803 -0.60150096 -0.37174803  0.60150096]]\n"
     ]
    }
   ],
   "source": [
    "# Mostramos los valores propios y vectores propios\n",
    "print(\"Valores propios:\")\n",
    "print(ValoresPropios)\n",
    "print(\"Vectores propios:\")\n",
    "print(VectoresPropios)"
   ]
  },
  {
   "cell_type": "code",
   "execution_count": 11,
   "id": "bcb19a9f-b029-4bcd-b4bd-5492454f49ca",
   "metadata": {},
   "outputs": [
    {
     "name": "stdout",
     "output_type": "stream",
     "text": [
      "El vector propio [-0.37174803  0.60150096 -0.60150096  0.37174803] corresponde al valor propio 3.6180339887498922.\n",
      "El vector propio [-0.60150096  0.37174803  0.37174803 -0.60150096] corresponde al valor propio 2.618033988749894.\n",
      "El vector propio [-0.37174803 -0.60150096 -0.60150096 -0.37174803] corresponde al valor propio 0.3819660112501052.\n",
      "El vector propio [-0.60150096 -0.37174803  0.37174803  0.60150096] corresponde al valor propio 1.381966011250106.\n"
     ]
    }
   ],
   "source": [
    "# Comprobamos si se cumple la definición\n",
    "for i in range(len(ValoresPropios)):\n",
    "    EigVal = ValoresPropios[i]\n",
    "    EigVec = VectoresPropios[:, i]\n",
    "    # Comprobamos que A * x = lambda * x\n",
    "    if np.allclose(Matriz4x4 @ EigVec, EigVal * EigVec):\n",
    "        print(f\"El vector propio {EigVec} corresponde al valor propio {EigVal}.\")\n",
    "    else:\n",
    "        print(\"La definición no se cumple para el valor propio y vector propio dados.\")"
   ]
  },
  {
   "cell_type": "code",
   "execution_count": null,
   "id": "27a55ab6-0dde-4cd6-a8b7-d38a38ac3d23",
   "metadata": {},
   "outputs": [],
   "source": [
    "'''\n",
    "En este ejemplo, hemos creado una matriz de orden 4x4 con valores específicos\n",
    "y hemos utilizado la función \"eig\" para calcular sus valores propios y vectores propios.\n",
    "Luego, hemos comprobado si se cumple la definición para cada valor propio y vector propio,\n",
    "utilizando la función \"allclose\" de NumPy para comparar los resultados. Si se cumple la definición,\n",
    "el programa muestra el vector propio y valor propio correspondientes.\n",
    "'''"
   ]
  },
  {
   "cell_type": "code",
   "execution_count": null,
   "id": "8fea26fe-eefa-4cd7-a4a5-915160088951",
   "metadata": {},
   "outputs": [],
   "source": [
    "#-------------------------- FIN"
   ]
  }
 ],
 "metadata": {
  "kernelspec": {
   "display_name": "Python 3 (ipykernel)",
   "language": "python",
   "name": "python3"
  },
  "language_info": {
   "codemirror_mode": {
    "name": "ipython",
    "version": 3
   },
   "file_extension": ".py",
   "mimetype": "text/x-python",
   "name": "python",
   "nbconvert_exporter": "python",
   "pygments_lexer": "ipython3",
   "version": "3.9.16"
  }
 },
 "nbformat": 4,
 "nbformat_minor": 5
}
