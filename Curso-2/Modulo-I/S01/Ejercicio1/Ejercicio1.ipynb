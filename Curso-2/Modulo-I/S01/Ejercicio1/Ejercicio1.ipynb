{
 "cells": [
  {
   "cell_type": "markdown",
   "id": "d6792d7a-35b9-414f-956a-3f62aba90644",
   "metadata": {},
   "source": [
    "# CHALLENGE 1 - Ejercicios"
   ]
  },
  {
   "cell_type": "markdown",
   "id": "61684b1a-28c8-4ccd-a40f-fb496fea45c1",
   "metadata": {},
   "source": [
    "## Ejercicio 1\n",
    "\n",
    "Acabamos de ver como puedes obtener la media, mediana y moda de una variable. \n",
    "\n",
    "¿Cuál es la media, mediana y moda de la variable **UnitPrice**?"
   ]
  },
  {
   "cell_type": "code",
   "execution_count": 10,
   "id": "58e3c48e-a789-43f8-bf65-f521f2645850",
   "metadata": {},
   "outputs": [],
   "source": [
    "import warnings\n",
    "warnings.filterwarnings('ignore')"
   ]
  },
  {
   "cell_type": "code",
   "execution_count": 11,
   "id": "7e39bbbf-4c9f-4818-88db-aa946c4bf891",
   "metadata": {},
   "outputs": [
    {
     "data": {
      "text/plain": [
       "'C:\\\\Users\\\\PC\\\\DataAnalitica\\\\Análisis Exploratorio\\\\Módulo 1_Estadística Descriptiva con Python\\\\Ejercicio1'"
      ]
     },
     "execution_count": 11,
     "metadata": {},
     "output_type": "execute_result"
    }
   ],
   "source": [
    "import os\n",
    "os.getcwd()"
   ]
  },
  {
   "cell_type": "code",
   "execution_count": 22,
   "id": "f77d8b8a-3fd1-41f2-93d2-140496a96a36",
   "metadata": {},
   "outputs": [],
   "source": [
    "path = 'C:/Users/PC/DataAnalitica/Análisis Exploratorio/Módulo 1_Estadística Descriptiva con Python/Ejercicio1/'"
   ]
  },
  {
   "cell_type": "code",
   "execution_count": 23,
   "id": "def703e9-1cea-4639-a752-0c2b7eb6c864",
   "metadata": {},
   "outputs": [],
   "source": [
    "import pandas as pd\n",
    "import numpy as np"
   ]
  },
  {
   "cell_type": "code",
   "execution_count": 24,
   "id": "d7aa7769-ddd8-49a1-b316-95471730c679",
   "metadata": {},
   "outputs": [
    {
     "data": {
      "text/html": [
       "<div>\n",
       "<style scoped>\n",
       "    .dataframe tbody tr th:only-of-type {\n",
       "        vertical-align: middle;\n",
       "    }\n",
       "\n",
       "    .dataframe tbody tr th {\n",
       "        vertical-align: top;\n",
       "    }\n",
       "\n",
       "    .dataframe thead th {\n",
       "        text-align: right;\n",
       "    }\n",
       "</style>\n",
       "<table border=\"1\" class=\"dataframe\">\n",
       "  <thead>\n",
       "    <tr style=\"text-align: right;\">\n",
       "      <th></th>\n",
       "      <th>InvoiceNo</th>\n",
       "      <th>StockCode</th>\n",
       "      <th>Description</th>\n",
       "      <th>Quantity</th>\n",
       "      <th>InvoiceDate</th>\n",
       "      <th>UnitPrice</th>\n",
       "      <th>CustomerID</th>\n",
       "      <th>Country</th>\n",
       "    </tr>\n",
       "  </thead>\n",
       "  <tbody>\n",
       "    <tr>\n",
       "      <th>0</th>\n",
       "      <td>536365</td>\n",
       "      <td>85123A</td>\n",
       "      <td>WHITE HANGING HEART T-LIGHT HOLDER</td>\n",
       "      <td>6</td>\n",
       "      <td>2010-12-01 08:26:00</td>\n",
       "      <td>2.55</td>\n",
       "      <td>17850</td>\n",
       "      <td>United Kingdom</td>\n",
       "    </tr>\n",
       "    <tr>\n",
       "      <th>1</th>\n",
       "      <td>536365</td>\n",
       "      <td>71053</td>\n",
       "      <td>WHITE METAL LANTERN</td>\n",
       "      <td>6</td>\n",
       "      <td>2010-12-01 08:26:00</td>\n",
       "      <td>3.39</td>\n",
       "      <td>17850</td>\n",
       "      <td>United Kingdom</td>\n",
       "    </tr>\n",
       "    <tr>\n",
       "      <th>2</th>\n",
       "      <td>536365</td>\n",
       "      <td>84406B</td>\n",
       "      <td>CREAM CUPID HEARTS COAT HANGER</td>\n",
       "      <td>8</td>\n",
       "      <td>2010-12-01 08:26:00</td>\n",
       "      <td>2.75</td>\n",
       "      <td>17850</td>\n",
       "      <td>United Kingdom</td>\n",
       "    </tr>\n",
       "    <tr>\n",
       "      <th>3</th>\n",
       "      <td>536365</td>\n",
       "      <td>84029G</td>\n",
       "      <td>KNITTED UNION FLAG HOT WATER BOTTLE</td>\n",
       "      <td>6</td>\n",
       "      <td>2010-12-01 08:26:00</td>\n",
       "      <td>3.39</td>\n",
       "      <td>17850</td>\n",
       "      <td>United Kingdom</td>\n",
       "    </tr>\n",
       "    <tr>\n",
       "      <th>4</th>\n",
       "      <td>536365</td>\n",
       "      <td>84029E</td>\n",
       "      <td>RED WOOLLY HOTTIE WHITE HEART.</td>\n",
       "      <td>6</td>\n",
       "      <td>2010-12-01 08:26:00</td>\n",
       "      <td>3.39</td>\n",
       "      <td>17850</td>\n",
       "      <td>United Kingdom</td>\n",
       "    </tr>\n",
       "  </tbody>\n",
       "</table>\n",
       "</div>"
      ],
      "text/plain": [
       "  InvoiceNo StockCode                          Description  Quantity  \\\n",
       "0    536365    85123A   WHITE HANGING HEART T-LIGHT HOLDER         6   \n",
       "1    536365     71053                  WHITE METAL LANTERN         6   \n",
       "2    536365    84406B       CREAM CUPID HEARTS COAT HANGER         8   \n",
       "3    536365    84029G  KNITTED UNION FLAG HOT WATER BOTTLE         6   \n",
       "4    536365    84029E       RED WOOLLY HOTTIE WHITE HEART.         6   \n",
       "\n",
       "          InvoiceDate  UnitPrice CustomerID         Country  \n",
       "0 2010-12-01 08:26:00       2.55      17850  United Kingdom  \n",
       "1 2010-12-01 08:26:00       3.39      17850  United Kingdom  \n",
       "2 2010-12-01 08:26:00       2.75      17850  United Kingdom  \n",
       "3 2010-12-01 08:26:00       3.39      17850  United Kingdom  \n",
       "4 2010-12-01 08:26:00       3.39      17850  United Kingdom  "
      ]
     },
     "execution_count": 24,
     "metadata": {},
     "output_type": "execute_result"
    }
   ],
   "source": [
    "ecommerce_path = path + 'data/data.csv'\n",
    "df = pd.read_csv(ecommerce_path,\n",
    "                 dtype = {'CustomerID': str,\n",
    "                          'InvoiceNo': str},\n",
    "                 parse_dates = ['InvoiceDate'], \n",
    "                 infer_datetime_format = True,\n",
    "                 encoding = 'unicode_escape')\n",
    "df.head()"
   ]
  },
  {
   "cell_type": "code",
   "execution_count": 25,
   "id": "2ff5aebf-b165-41bf-a7b8-157d12795249",
   "metadata": {},
   "outputs": [],
   "source": [
    "# Calculando las medidas de tendencia central\n",
    "import statistics as st"
   ]
  },
  {
   "cell_type": "markdown",
   "id": "51647752-3182-4e1e-924f-ced4910007db",
   "metadata": {},
   "source": [
    "## Media \n",
    "La media, también conocida como promedio, se calcula sumando todos los valores en un conjunto de datos y \n",
    "luego dividiendo la suma por el número total de valores. La fórmula para calcular la media es:\n",
    "\n",
    "$$\n",
    "    \\overline{x} = \\dfrac{1}{n}\\sum_{i = 1}^{n}x_{i}\n",
    "$$\n",
    "\n",
    "\n",
    "donde $x_{1}, x_{2}, ..., x_{n}$ son los valores en el conjunto de datos y $n$ es el número total de valores.\n"
   ]
  },
  {
   "cell_type": "code",
   "execution_count": 33,
   "id": "14d463e5-a1ab-47fe-8b7f-ad493298799f",
   "metadata": {},
   "outputs": [
    {
     "name": "stdout",
     "output_type": "stream",
     "text": [
      "La media de la variable UnitPrice es: 4.611113626088513\n"
     ]
    }
   ],
   "source": [
    "# Media, media aritmética o promedio aritmético\n",
    "Media = st.mean(df['UnitPrice'])\n",
    "print(f\"La media de la variable UnitPrice es: {Media}\")"
   ]
  },
  {
   "cell_type": "markdown",
   "id": "f8e330cc-244d-4042-bf98-148ee7ac6c34",
   "metadata": {},
   "source": [
    "## Mediana\n",
    "La mediana es el valor medio en un conjunto de datos cuando los valores están ordenados en orden ascendente o descendente. Si el conjunto de datos tiene un número par de valores, la mediana es el promedio de los dos valores medios. La fórmula para calcular la mediana es:\n",
    "### Si \"n\" es par\n",
    "\n",
    "$$\n",
    "    \\text{Mediana} = \\dfrac{x_{\\frac{n}{2}} + x_{\\left(\\frac{n}{2} + 1\\right)}}{2}\n",
    "$$\n",
    "\n",
    "### Si \"n\" es impar\n",
    "\n",
    "$$\n",
    "    \\text{Mediana} = x_{\\frac{n+1}{2}}\n",
    "$$\n",
    "donde $x_{\\frac{n}{2}}$ y $x_{\\left(\\frac{n}{2} + 1\\right)}$ son los dos valores medios si $n$ es par, o $x_{\\frac{n+1}{2}}$ es el valor medio si n es impar.\n"
   ]
  },
  {
   "cell_type": "code",
   "execution_count": 30,
   "id": "74ec0ab5-07a1-4398-8674-0ccd916487a0",
   "metadata": {},
   "outputs": [
    {
     "name": "stdout",
     "output_type": "stream",
     "text": [
      "La mediana de la variable UnitPrice es: 2.08\n"
     ]
    }
   ],
   "source": [
    "# Mediana\n",
    "Mediana = st.median(df['UnitPrice'])\n",
    "print(f\"La mediana de la variable UnitPrice es: {Mediana}\")"
   ]
  },
  {
   "cell_type": "markdown",
   "id": "6827eec4-dc3c-4f1f-be57-5c1905b3d428",
   "metadata": {},
   "source": [
    "## Moda\n",
    "La moda es el valor más común en un conjunto de datos. Es posible que un conjunto de datos tenga una moda (un valor que aparece con más frecuencia), varias modas (varios valores que aparecen con la misma frecuencia) o ninguna moda (si todos los valores aparecen con la misma frecuencia). La fórmula para calcular la moda es: \n",
    "\n",
    "$$\n",
    "    \\text{Moda = valor que aparece con más frecuencia en el conjunto de datos}\n",
    "$$\n"
   ]
  },
  {
   "cell_type": "code",
   "execution_count": 31,
   "id": "5841921c-c002-4d5a-b841-23c37138ce00",
   "metadata": {},
   "outputs": [
    {
     "name": "stdout",
     "output_type": "stream",
     "text": [
      "La moda de la variable UnitPrice: 1.25\n"
     ]
    }
   ],
   "source": [
    "# Moda\n",
    "Moda = st.mode(df['UnitPrice'])\n",
    "print(f\"La moda de la variable UnitPrice: {Moda}\")"
   ]
  },
  {
   "cell_type": "markdown",
   "id": "4c8e5a46-3d1b-4277-a3e7-1d8b3ce42047",
   "metadata": {},
   "source": [
    "## Ejercicio 2\n",
    "¿Cuántas veces se repite el valor de la moda de la variable **UnitPrice**?"
   ]
  },
  {
   "cell_type": "code",
   "execution_count": 34,
   "id": "b780509c-9397-4974-8cba-3c0b08b15b8c",
   "metadata": {},
   "outputs": [
    {
     "data": {
      "text/plain": [
       "0         False\n",
       "1         False\n",
       "2         False\n",
       "3         False\n",
       "4         False\n",
       "          ...  \n",
       "541904    False\n",
       "541905    False\n",
       "541906    False\n",
       "541907    False\n",
       "541908    False\n",
       "Name: UnitPrice, Length: 541909, dtype: bool"
      ]
     },
     "execution_count": 34,
     "metadata": {},
     "output_type": "execute_result"
    }
   ],
   "source": [
    "# La moda es 1.25, ¿Cuantos registros tienen el valor de 1.25?\n",
    "df['UnitPrice'] == 1.25"
   ]
  },
  {
   "cell_type": "code",
   "execution_count": 37,
   "id": "e13210ae-c8e3-4b69-8969-0c3d89c774de",
   "metadata": {},
   "outputs": [
    {
     "data": {
      "text/html": [
       "<div>\n",
       "<style scoped>\n",
       "    .dataframe tbody tr th:only-of-type {\n",
       "        vertical-align: middle;\n",
       "    }\n",
       "\n",
       "    .dataframe tbody tr th {\n",
       "        vertical-align: top;\n",
       "    }\n",
       "\n",
       "    .dataframe thead th {\n",
       "        text-align: right;\n",
       "    }\n",
       "</style>\n",
       "<table border=\"1\" class=\"dataframe\">\n",
       "  <thead>\n",
       "    <tr style=\"text-align: right;\">\n",
       "      <th></th>\n",
       "      <th>InvoiceNo</th>\n",
       "      <th>StockCode</th>\n",
       "      <th>Description</th>\n",
       "      <th>Quantity</th>\n",
       "      <th>InvoiceDate</th>\n",
       "      <th>UnitPrice</th>\n",
       "      <th>CustomerID</th>\n",
       "      <th>Country</th>\n",
       "    </tr>\n",
       "  </thead>\n",
       "  <tbody>\n",
       "    <tr>\n",
       "      <th>32</th>\n",
       "      <td>536370</td>\n",
       "      <td>21791</td>\n",
       "      <td>VINTAGE HEADS AND TAILS CARD GAME</td>\n",
       "      <td>24</td>\n",
       "      <td>2010-12-01 08:45:00</td>\n",
       "      <td>1.25</td>\n",
       "      <td>12583</td>\n",
       "      <td>France</td>\n",
       "    </tr>\n",
       "    <tr>\n",
       "      <th>101</th>\n",
       "      <td>536378</td>\n",
       "      <td>85183B</td>\n",
       "      <td>CHARLIE &amp; LOLA WASTEPAPER BIN FLORA</td>\n",
       "      <td>48</td>\n",
       "      <td>2010-12-01 09:37:00</td>\n",
       "      <td>1.25</td>\n",
       "      <td>14688</td>\n",
       "      <td>United Kingdom</td>\n",
       "    </tr>\n",
       "    <tr>\n",
       "      <th>110</th>\n",
       "      <td>536381</td>\n",
       "      <td>21672</td>\n",
       "      <td>WHITE SPOT RED CERAMIC DRAWER KNOB</td>\n",
       "      <td>6</td>\n",
       "      <td>2010-12-01 09:41:00</td>\n",
       "      <td>1.25</td>\n",
       "      <td>15311</td>\n",
       "      <td>United Kingdom</td>\n",
       "    </tr>\n",
       "    <tr>\n",
       "      <th>111</th>\n",
       "      <td>536381</td>\n",
       "      <td>22774</td>\n",
       "      <td>RED DRAWER KNOB ACRYLIC EDWARDIAN</td>\n",
       "      <td>24</td>\n",
       "      <td>2010-12-01 09:41:00</td>\n",
       "      <td>1.25</td>\n",
       "      <td>15311</td>\n",
       "      <td>United Kingdom</td>\n",
       "    </tr>\n",
       "    <tr>\n",
       "      <th>112</th>\n",
       "      <td>536381</td>\n",
       "      <td>22771</td>\n",
       "      <td>CLEAR DRAWER KNOB ACRYLIC EDWARDIAN</td>\n",
       "      <td>24</td>\n",
       "      <td>2010-12-01 09:41:00</td>\n",
       "      <td>1.25</td>\n",
       "      <td>15311</td>\n",
       "      <td>United Kingdom</td>\n",
       "    </tr>\n",
       "    <tr>\n",
       "      <th>...</th>\n",
       "      <td>...</td>\n",
       "      <td>...</td>\n",
       "      <td>...</td>\n",
       "      <td>...</td>\n",
       "      <td>...</td>\n",
       "      <td>...</td>\n",
       "      <td>...</td>\n",
       "      <td>...</td>\n",
       "    </tr>\n",
       "    <tr>\n",
       "      <th>541844</th>\n",
       "      <td>581580</td>\n",
       "      <td>85049A</td>\n",
       "      <td>TRADITIONAL CHRISTMAS RIBBONS</td>\n",
       "      <td>1</td>\n",
       "      <td>2011-12-09 12:20:00</td>\n",
       "      <td>1.25</td>\n",
       "      <td>12748</td>\n",
       "      <td>United Kingdom</td>\n",
       "    </tr>\n",
       "    <tr>\n",
       "      <th>541853</th>\n",
       "      <td>581580</td>\n",
       "      <td>85049E</td>\n",
       "      <td>SCANDINAVIAN REDS RIBBONS</td>\n",
       "      <td>2</td>\n",
       "      <td>2011-12-09 12:20:00</td>\n",
       "      <td>1.25</td>\n",
       "      <td>12748</td>\n",
       "      <td>United Kingdom</td>\n",
       "    </tr>\n",
       "    <tr>\n",
       "      <th>541872</th>\n",
       "      <td>581585</td>\n",
       "      <td>22460</td>\n",
       "      <td>EMBOSSED GLASS TEALIGHT HOLDER</td>\n",
       "      <td>12</td>\n",
       "      <td>2011-12-09 12:31:00</td>\n",
       "      <td>1.25</td>\n",
       "      <td>15804</td>\n",
       "      <td>United Kingdom</td>\n",
       "    </tr>\n",
       "    <tr>\n",
       "      <th>541884</th>\n",
       "      <td>581585</td>\n",
       "      <td>84946</td>\n",
       "      <td>ANTIQUE SILVER T-LIGHT GLASS</td>\n",
       "      <td>12</td>\n",
       "      <td>2011-12-09 12:31:00</td>\n",
       "      <td>1.25</td>\n",
       "      <td>15804</td>\n",
       "      <td>United Kingdom</td>\n",
       "    </tr>\n",
       "    <tr>\n",
       "      <th>541891</th>\n",
       "      <td>581586</td>\n",
       "      <td>23275</td>\n",
       "      <td>SET OF 3 HANGING OWLS OLLIE BEAK</td>\n",
       "      <td>24</td>\n",
       "      <td>2011-12-09 12:49:00</td>\n",
       "      <td>1.25</td>\n",
       "      <td>13113</td>\n",
       "      <td>United Kingdom</td>\n",
       "    </tr>\n",
       "  </tbody>\n",
       "</table>\n",
       "<p>50496 rows × 8 columns</p>\n",
       "</div>"
      ],
      "text/plain": [
       "       InvoiceNo StockCode                          Description  Quantity  \\\n",
       "32        536370     21791   VINTAGE HEADS AND TAILS CARD GAME         24   \n",
       "101       536378    85183B  CHARLIE & LOLA WASTEPAPER BIN FLORA        48   \n",
       "110       536381     21672   WHITE SPOT RED CERAMIC DRAWER KNOB         6   \n",
       "111       536381     22774    RED DRAWER KNOB ACRYLIC EDWARDIAN        24   \n",
       "112       536381     22771  CLEAR DRAWER KNOB ACRYLIC EDWARDIAN        24   \n",
       "...          ...       ...                                  ...       ...   \n",
       "541844    581580    85049A        TRADITIONAL CHRISTMAS RIBBONS         1   \n",
       "541853    581580    85049E            SCANDINAVIAN REDS RIBBONS         2   \n",
       "541872    581585     22460       EMBOSSED GLASS TEALIGHT HOLDER        12   \n",
       "541884    581585     84946         ANTIQUE SILVER T-LIGHT GLASS        12   \n",
       "541891    581586     23275     SET OF 3 HANGING OWLS OLLIE BEAK        24   \n",
       "\n",
       "               InvoiceDate  UnitPrice CustomerID         Country  \n",
       "32     2010-12-01 08:45:00       1.25      12583          France  \n",
       "101    2010-12-01 09:37:00       1.25      14688  United Kingdom  \n",
       "110    2010-12-01 09:41:00       1.25      15311  United Kingdom  \n",
       "111    2010-12-01 09:41:00       1.25      15311  United Kingdom  \n",
       "112    2010-12-01 09:41:00       1.25      15311  United Kingdom  \n",
       "...                    ...        ...        ...             ...  \n",
       "541844 2011-12-09 12:20:00       1.25      12748  United Kingdom  \n",
       "541853 2011-12-09 12:20:00       1.25      12748  United Kingdom  \n",
       "541872 2011-12-09 12:31:00       1.25      15804  United Kingdom  \n",
       "541884 2011-12-09 12:31:00       1.25      15804  United Kingdom  \n",
       "541891 2011-12-09 12:49:00       1.25      13113  United Kingdom  \n",
       "\n",
       "[50496 rows x 8 columns]"
      ]
     },
     "execution_count": 37,
     "metadata": {},
     "output_type": "execute_result"
    }
   ],
   "source": [
    "# Seleccionamos los casos en los cuales UnitPrice es igual a 1.25\n",
    "df[df['UnitPrice'] == 1.25]"
   ]
  },
  {
   "cell_type": "code",
   "execution_count": 39,
   "id": "f5f12da3-1067-4390-9b4b-a5d690ec6ca9",
   "metadata": {},
   "outputs": [
    {
     "data": {
      "text/plain": [
       "50496"
      ]
     },
     "execution_count": 39,
     "metadata": {},
     "output_type": "execute_result"
    }
   ],
   "source": [
    "#  Cantidad de registros que tienen el valor de 1.25 en la variable UnitPrice\n",
    "df[df['UnitPrice']==1.25].shape[0]"
   ]
  },
  {
   "cell_type": "markdown",
   "id": "5f55f8b6-13ce-4a19-b046-9aa00d2cd7f0",
   "metadata": {},
   "source": [
    "## Ejercicio 3 \n",
    "¿Cúal es el cuartil 1 de UnitPrice? "
   ]
  },
  {
   "cell_type": "code",
   "execution_count": 40,
   "id": "51428aab-02d9-4c59-99f7-a85ac65158ff",
   "metadata": {},
   "outputs": [
    {
     "data": {
      "text/plain": [
       "0.25    1.25\n",
       "0.50    2.08\n",
       "0.75    4.13\n",
       "Name: UnitPrice, dtype: float64"
      ]
     },
     "execution_count": 40,
     "metadata": {},
     "output_type": "execute_result"
    }
   ],
   "source": [
    "# Cuartiles\n",
    "df['UnitPrice'].quantile([0.25,0.5,0.75])"
   ]
  },
  {
   "cell_type": "code",
   "execution_count": 42,
   "id": "d54e4924-ae67-43ab-b2d8-6bd7ec8641dd",
   "metadata": {},
   "outputs": [
    {
     "data": {
      "text/plain": [
       "0.25    1.25\n",
       "Name: UnitPrice, dtype: float64"
      ]
     },
     "execution_count": 42,
     "metadata": {},
     "output_type": "execute_result"
    }
   ],
   "source": [
    "# Cuartil 1\n",
    "df['UnitPrice'].quantile([0.25])"
   ]
  },
  {
   "cell_type": "markdown",
   "id": "3459911b-f289-4ff0-b606-6530bf71782a",
   "metadata": {},
   "source": [
    "## Ejercicio 4 \n",
    "¿Cúal es el decil 6 de UnitPrice?"
   ]
  },
  {
   "cell_type": "code",
   "execution_count": 43,
   "id": "7304492f-de1e-49ae-87a7-886c9b9f1005",
   "metadata": {},
   "outputs": [
    {
     "data": {
      "text/plain": [
       "0.1    0.63\n",
       "0.2    0.85\n",
       "0.3    1.25\n",
       "0.4    1.65\n",
       "0.5    2.08\n",
       "0.6    2.55\n",
       "0.7    3.75\n",
       "0.8    4.95\n",
       "0.9    7.95\n",
       "Name: UnitPrice, dtype: float64"
      ]
     },
     "execution_count": 43,
     "metadata": {},
     "output_type": "execute_result"
    }
   ],
   "source": [
    "# Deciles\n",
    "df['UnitPrice'].quantile([0.1,0.2,0.3,0.4,0.5,0.6,0.7,0.8,0.9])"
   ]
  },
  {
   "cell_type": "code",
   "execution_count": 44,
   "id": "c98fd4a6-0b4d-4382-9f15-3eac874365cf",
   "metadata": {},
   "outputs": [
    {
     "data": {
      "text/plain": [
       "0.6    2.55\n",
       "Name: UnitPrice, dtype: float64"
      ]
     },
     "execution_count": 44,
     "metadata": {},
     "output_type": "execute_result"
    }
   ],
   "source": [
    "# Decil 6\n",
    "df['UnitPrice'].quantile([0.6])"
   ]
  },
  {
   "cell_type": "markdown",
   "id": "39540f90-27d6-4dd0-95a0-fe06b6b82c8b",
   "metadata": {},
   "source": [
    "## Ejercicio 5 \n",
    "¿Cuál es el percentil 95 de UnitPrice?"
   ]
  },
  {
   "cell_type": "code",
   "execution_count": 48,
   "id": "8cb13bda-3d29-4994-8612-fa63c9f91ce5",
   "metadata": {},
   "outputs": [],
   "source": [
    "# Percentiles"
   ]
  },
  {
   "cell_type": "code",
   "execution_count": 45,
   "id": "f53cdedb-b199-4171-98a9-4693f92c941a",
   "metadata": {},
   "outputs": [
    {
     "name": "stdout",
     "output_type": "stream",
     "text": [
      "Percentil 5: 0.42\n"
     ]
    }
   ],
   "source": [
    "# Percentil 5\n",
    "print(\"Percentil 5:\",np.percentile(df['UnitPrice'], 5))"
   ]
  },
  {
   "cell_type": "code",
   "execution_count": 46,
   "id": "dc1c9024-7c74-43aa-a204-328ffa35e4cb",
   "metadata": {},
   "outputs": [
    {
     "name": "stdout",
     "output_type": "stream",
     "text": [
      "Percentil 50: 2.08\n"
     ]
    }
   ],
   "source": [
    "# Percentil 50 \n",
    "print(\"Percentil 50:\",np.percentile(df['UnitPrice'], 50))"
   ]
  },
  {
   "cell_type": "code",
   "execution_count": 47,
   "id": "9c9450ad-b5ff-42ae-9fef-8944df6fb9f2",
   "metadata": {},
   "outputs": [
    {
     "name": "stdout",
     "output_type": "stream",
     "text": [
      "Percentil 95: 9.95\n"
     ]
    }
   ],
   "source": [
    "# Percentil 95\n",
    "print(\"Percentil 95:\",np.percentile(df['UnitPrice'], 95))"
   ]
  },
  {
   "cell_type": "markdown",
   "id": "bbdc8982-89ed-4aee-8d62-0692b343b0b2",
   "metadata": {},
   "source": [
    "## Ejercicio 6: \n",
    "¿Cuál es el varianza de UnitPrice? "
   ]
  },
  {
   "cell_type": "code",
   "execution_count": 49,
   "id": "bbcfad5b-b419-4640-9bd3-f41ff44bb465",
   "metadata": {},
   "outputs": [],
   "source": [
    "# Varianza\n",
    "# Calculando la varianza usando numpy \n",
    "import numpy as np"
   ]
  },
  {
   "cell_type": "code",
   "execution_count": 52,
   "id": "e090484d-0da4-47af-a5af-7ec2fcbf0a31",
   "metadata": {},
   "outputs": [
    {
     "name": "stdout",
     "output_type": "stream",
     "text": [
      "La varianza de UnitPrice es:9362.451887591955\n"
     ]
    }
   ],
   "source": [
    "Varianza = np.var(df['UnitPrice'])\n",
    "print(f\"La varianza de UnitPrice es:{Varianza}\")"
   ]
  },
  {
   "cell_type": "markdown",
   "id": "ee9a651d-cfb6-4de0-a173-e5b08489d073",
   "metadata": {},
   "source": [
    "## Ejercicio 7: \n",
    "¿Cuál es el rango de UnitPrice?"
   ]
  },
  {
   "cell_type": "code",
   "execution_count": 53,
   "id": "efd87ee6-1011-4bf6-bbe9-f234a74d3ef5",
   "metadata": {},
   "outputs": [
    {
     "name": "stdout",
     "output_type": "stream",
     "text": [
      "Max: 38970.0\n"
     ]
    }
   ],
   "source": [
    "# Max\n",
    "print(\"Max:\",max(df['UnitPrice']))"
   ]
  },
  {
   "cell_type": "code",
   "execution_count": 54,
   "id": "7ca58b23-c5fc-4ac6-80e6-3a52c48d9a2a",
   "metadata": {},
   "outputs": [
    {
     "name": "stdout",
     "output_type": "stream",
     "text": [
      "Min: -11062.06\n"
     ]
    }
   ],
   "source": [
    "# Min\n",
    "print(\"Min:\",min(df['UnitPrice']))"
   ]
  },
  {
   "cell_type": "code",
   "execution_count": 55,
   "id": "80badb01-af18-45c6-aa63-e7d71ab3bd1e",
   "metadata": {},
   "outputs": [
    {
     "name": "stdout",
     "output_type": "stream",
     "text": [
      "Rango: 50032.06\n"
     ]
    }
   ],
   "source": [
    "# Rango \n",
    "print(\"Rango:\",max(df['UnitPrice'])-min(df['UnitPrice']))"
   ]
  },
  {
   "cell_type": "markdown",
   "id": "d98a777a-f3f0-43c7-a0f2-80021fdeab91",
   "metadata": {},
   "source": [
    "## Ejercicio 8: \n",
    "¿Cuál es el rango intercuartílico de UnitPrice?"
   ]
  },
  {
   "cell_type": "code",
   "execution_count": 56,
   "id": "85ccf8b6-7192-4688-934f-46de79c77797",
   "metadata": {},
   "outputs": [
    {
     "data": {
      "text/plain": [
       "2.88"
      ]
     },
     "execution_count": 56,
     "metadata": {},
     "output_type": "execute_result"
    }
   ],
   "source": [
    "# calcular el rango intercuartílico\n",
    "Q3, Q1 = np.percentile(df['UnitPrice'], [75, 25])\n",
    "IQR = Q3 - Q1\n",
    "IQR"
   ]
  },
  {
   "cell_type": "code",
   "execution_count": 57,
   "id": "9c226edc-15ec-438f-883b-c03b8b1d0db9",
   "metadata": {},
   "outputs": [
    {
     "name": "stdout",
     "output_type": "stream",
     "text": [
      "El rango intercuartílico es: 2.88\n"
     ]
    }
   ],
   "source": [
    "print(f\"El rango intercuartílico es: {IQR}\")"
   ]
  },
  {
   "cell_type": "markdown",
   "id": "e3366648-4a22-4fb1-82a9-ea6af113f7bd",
   "metadata": {},
   "source": [
    "## Ejercicio 9\n",
    "¿Cuál es la asimetría de UnitPrice?"
   ]
  },
  {
   "cell_type": "code",
   "execution_count": null,
   "id": "5c245022-9cce-4bab-adc2-eb7e604d7124",
   "metadata": {},
   "outputs": [],
   "source": [
    "# Asimetría"
   ]
  },
  {
   "cell_type": "code",
   "execution_count": 58,
   "id": "f3c30a34-1906-4ed4-be02-cb8d7b937d1f",
   "metadata": {},
   "outputs": [
    {
     "name": "stdout",
     "output_type": "stream",
     "text": [
      "Requirement already satisfied: scipy in c:\\users\\pc\\.conda\\envs\\especializationdatasciencepytho\\lib\\site-packages (1.10.0)\n",
      "Requirement already satisfied: numpy<1.27.0,>=1.19.5 in c:\\users\\pc\\.conda\\envs\\especializationdatasciencepytho\\lib\\site-packages (from scipy) (1.24.1)\n"
     ]
    }
   ],
   "source": [
    "!pip install scipy"
   ]
  },
  {
   "cell_type": "code",
   "execution_count": 59,
   "id": "a1918dea-b276-40d2-b001-fac0ea2af59d",
   "metadata": {},
   "outputs": [],
   "source": [
    "from scipy.stats import skew"
   ]
  },
  {
   "cell_type": "code",
   "execution_count": 60,
   "id": "7eba074d-dbf9-44c7-b4a3-1a8df35eb3f3",
   "metadata": {},
   "outputs": [],
   "source": [
    "x=df['UnitPrice']"
   ]
  },
  {
   "cell_type": "code",
   "execution_count": 61,
   "id": "12104c75-6f61-49a5-9d57-64bd63c59706",
   "metadata": {},
   "outputs": [
    {
     "name": "stdout",
     "output_type": "stream",
     "text": [
      "186.50697172054137\n"
     ]
    }
   ],
   "source": [
    "print(skew(x, bias=False)) # Si es bias=False los cálculos se corrigen por sesgo estadístico.\n",
    "\n",
    "# Interpretación:\n",
    "# Para datos distribuidos normalmente, la asimetría debe ser aproximadamente cero. \n",
    "# Para distribuciones continuas unimodales, un valor de asimetría mayor que cero significa\n",
    "# que hay más peso en la cola derecha de la distribución (Asimetria positiva).\n",
    "# Un valor de asimetría menor a cero significa Asimetria negativa, por lo que hay outliers en la cola izquierda.  "
   ]
  },
  {
   "cell_type": "markdown",
   "id": "a290718a-9a56-45e3-b566-fec048bc0391",
   "metadata": {},
   "source": [
    "## Ejercicio 10\n",
    "¿Cuál es la kurtosis según definición de Pearson de UnitPrice?"
   ]
  },
  {
   "cell_type": "code",
   "execution_count": 62,
   "id": "3fe83f2b-986c-41da-9738-609b9b09c9ac",
   "metadata": {},
   "outputs": [],
   "source": [
    "# Kurtosis \n",
    "from scipy.stats import kurtosis"
   ]
  },
  {
   "cell_type": "code",
   "execution_count": 65,
   "id": "a4eee950-7973-498f-8eb3-4fb344355032",
   "metadata": {},
   "outputs": [
    {
     "name": "stdout",
     "output_type": "stream",
     "text": [
      "59008.1746626736\n"
     ]
    }
   ],
   "source": [
    "# Kurtosis según definición de Pearson (La Kurtosis de la distribución normal es igual a 3)\n",
    "print(kurtosis(x, fisher=False)) \n",
    "\n",
    "# Interpretación: \n",
    "# Si Kurtosis>3 -> Leptokurtica\n",
    "# Si Kurtosis=3 -> Mesokurtica\n",
    "# Si Kurtosis<3 -> Platikurtica\n"
   ]
  },
  {
   "cell_type": "code",
   "execution_count": 70,
   "id": "039725b8-2800-455d-802f-683d77ebc8d7",
   "metadata": {},
   "outputs": [],
   "source": [
    "#--------------- FIN"
   ]
  },
  {
   "cell_type": "code",
   "execution_count": 69,
   "id": "e0016eb9-f535-4031-b3be-6c5602f46f44",
   "metadata": {},
   "outputs": [],
   "source": [
    "# ADICIONAL\n",
    "# ¿Y cual es la distribución de UnitPrice gráficamente? "
   ]
  },
  {
   "cell_type": "code",
   "execution_count": 66,
   "id": "fcba8013-1d88-446f-ab9b-097864be0b61",
   "metadata": {},
   "outputs": [
    {
     "name": "stdout",
     "output_type": "stream",
     "text": [
      "Requirement already satisfied: matplotlib in c:\\users\\pc\\.conda\\envs\\especializationdatasciencepytho\\lib\\site-packages (3.6.3)\n",
      "Requirement already satisfied: contourpy>=1.0.1 in c:\\users\\pc\\.conda\\envs\\especializationdatasciencepytho\\lib\\site-packages (from matplotlib) (1.0.7)\n",
      "Requirement already satisfied: packaging>=20.0 in c:\\users\\pc\\.conda\\envs\\especializationdatasciencepytho\\lib\\site-packages (from matplotlib) (22.0)\n",
      "Requirement already satisfied: python-dateutil>=2.7 in c:\\users\\pc\\.conda\\envs\\especializationdatasciencepytho\\lib\\site-packages (from matplotlib) (2.8.2)\n",
      "Requirement already satisfied: fonttools>=4.22.0 in c:\\users\\pc\\.conda\\envs\\especializationdatasciencepytho\\lib\\site-packages (from matplotlib) (4.38.0)\n",
      "Requirement already satisfied: pyparsing>=2.2.1 in c:\\users\\pc\\.conda\\envs\\especializationdatasciencepytho\\lib\\site-packages (from matplotlib) (3.0.9)\n",
      "Requirement already satisfied: kiwisolver>=1.0.1 in c:\\users\\pc\\.conda\\envs\\especializationdatasciencepytho\\lib\\site-packages (from matplotlib) (1.4.4)\n",
      "Requirement already satisfied: pillow>=6.2.0 in c:\\users\\pc\\.conda\\envs\\especializationdatasciencepytho\\lib\\site-packages (from matplotlib) (9.4.0)\n",
      "Requirement already satisfied: cycler>=0.10 in c:\\users\\pc\\.conda\\envs\\especializationdatasciencepytho\\lib\\site-packages (from matplotlib) (0.11.0)\n",
      "Requirement already satisfied: numpy>=1.19 in c:\\users\\pc\\.conda\\envs\\especializationdatasciencepytho\\lib\\site-packages (from matplotlib) (1.24.1)\n",
      "Requirement already satisfied: six>=1.5 in c:\\users\\pc\\.conda\\envs\\especializationdatasciencepytho\\lib\\site-packages (from python-dateutil>=2.7->matplotlib) (1.16.0)\n"
     ]
    }
   ],
   "source": [
    "!pip install matplotlib"
   ]
  },
  {
   "cell_type": "code",
   "execution_count": 67,
   "id": "545621ea-6824-4b02-b1ed-720204e54dfd",
   "metadata": {},
   "outputs": [],
   "source": [
    "import matplotlib.pyplot as plt"
   ]
  },
  {
   "cell_type": "code",
   "execution_count": 74,
   "id": "de41d2a6-edce-439e-88c6-db4d755d0bb9",
   "metadata": {},
   "outputs": [
    {
     "data": {
      "image/png": "[encoded data removed]",
      "text/plain": [
       "<Figure size 640x480 with 1 Axes>"
      ]
     },
     "metadata": {},
     "output_type": "display_data"
    }
   ],
   "source": [
    "plt.hist(df['UnitPrice'], color = 'red', edgecolor = 'black')\n",
    "plt.show()"
   ]
  }
 ],
 "metadata": {
  "kernelspec": {
   "display_name": "Python 3 (ipykernel)",
   "language": "python",
   "name": "python3"
  },
  "language_info": {
   "codemirror_mode": {
    "name": "ipython",
    "version": 3
   },
   "file_extension": ".py",
   "mimetype": "text/x-python",
   "name": "python",
   "nbconvert_exporter": "python",
   "pygments_lexer": "ipython3",
   "version": "3.9.16"
  }
 },
 "nbformat": 4,
 "nbformat_minor": 5
}
