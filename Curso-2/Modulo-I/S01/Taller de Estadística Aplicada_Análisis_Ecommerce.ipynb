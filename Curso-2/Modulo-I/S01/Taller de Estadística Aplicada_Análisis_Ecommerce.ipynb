{
 "cells": [
  {
   "cell_type": "markdown",
   "id": "5231e142-7c68-4831-8fd2-4970f0a547e8",
   "metadata": {},
   "source": [
    "# Taller de Estadística Aplicada y Análisis de Ecommerce"
   ]
  },
  {
   "cell_type": "code",
   "execution_count": 1,
   "id": "4da5cf80-070d-44a0-a743-b5184b25b25e",
   "metadata": {},
   "outputs": [],
   "source": [
    "import warnings\n",
    "warnings.filterwarnings('ignore')"
   ]
  },
  {
   "cell_type": "markdown",
   "id": "41a88859-d18b-44d3-b7f5-ce5f89092fa6",
   "metadata": {},
   "source": [
    "Contexto\n",
    "    \n",
    "Normalmente, los conjuntos de datos de comercio electrónico son propiedad de la empresa y, por lo tanto, son difíciles de encontrar entre los datos disponibles al público. Sin embargo, el Repositorio de Aprendizaje Automático de la UCI ha elaborado este conjunto de datos que contiene transacciones reales de 2010 y 2011."
   ]
  },
  {
   "cell_type": "markdown",
   "id": "ff0dfeab-0daf-4bde-8592-fda8b391effc",
   "metadata": {},
   "source": [
    "# 1. Identificación\n",
    "¿Qué problema está tratando de resolver la empresa? ¿Qué necesita medir y cómo lo medirá?\n",
    "\n",
    "Imaginemos que la empresa saber la cantidad promedio de productos vendidos y promedio de precio total por transacción. \n",
    "Además quiere saber cuál es la cantidad de ventas por país y en qué país genera la mayor cantidad de ventas. \n",
    "\n",
    "\n",
    "Para ello cuenta con data de transacciones de su ecommerce de un periodo de tiempo determinado. "
   ]
  },
  {
   "cell_type": "code",
   "execution_count": 2,
   "id": "2c6b7fc0-b32e-4726-88a3-5c55b862f12d",
   "metadata": {},
   "outputs": [
    {
     "data": {
      "text/plain": [
       "'C:\\\\Users\\\\PC\\\\DataAnalitica\\\\Análisis Exploratorio\\\\Módulo 1_Estadística Descriptiva con Python'"
      ]
     },
     "execution_count": 2,
     "metadata": {},
     "output_type": "execute_result"
    }
   ],
   "source": [
    "import os\n",
    "os.getcwd()"
   ]
  },
  {
   "cell_type": "code",
   "execution_count": null,
   "id": "b7059548-cb6b-4377-a527-2d32bda2f815",
   "metadata": {},
   "outputs": [],
   "source": [
    "path= 'C:/Users/Gary/DATA_ANALITICA/especializacion_ds1/analisis_exploratorio/sesion 1/' "
   ]
  },
  {
   "cell_type": "markdown",
   "id": "qMl7tNVqWKu8",
   "metadata": {
    "id": "qMl7tNVqWKu8"
   },
   "source": [
    "# 2. Recopilación de datos\n",
    "\n",
    "**Cargando y revisando Data**\n",
    "\n",
    "Documentación read_csv: https://pandas.pydata.org/docs/reference/api/pandas.read_csv.html"
   ]
  },
  {
   "cell_type": "code",
   "execution_count": null,
   "id": "00f73397-c38c-407d-a1ca-1bf046bda735",
   "metadata": {},
   "outputs": [],
   "source": [
    "import pandas as pd \n",
    "import numpy as np"
   ]
  },
  {
   "cell_type": "code",
   "execution_count": null,
   "id": "continuous-consensus",
   "metadata": {
    "colab": {
     "base_uri": "https://localhost:8080/",
     "height": 206
    },
    "id": "continuous-consensus",
    "outputId": "b3a73cf2-18e8-485f-95a9-dd65a091aa17",
    "papermill": {
     "duration": 1.85334,
     "end_time": "2022-10-29T16:13:10.044240",
     "exception": false,
     "start_time": "2022-10-29T16:13:08.190900",
     "status": "completed"
    },
    "tags": []
   },
   "outputs": [],
   "source": [
    "ecommerce_path = path+'data/data.csv'\n",
    "\n",
    "df = pd.read_csv(ecommerce_path,\n",
    "                 dtype = {'CustomerID': str,\n",
    "                          'InvoiceNo': str},\n",
    "                 parse_dates = ['InvoiceDate'], \n",
    "                 infer_datetime_format = True,\n",
    "                 encoding = 'unicode_escape')\n",
    "df.head()"
   ]
  },
  {
   "cell_type": "markdown",
   "id": "keqrFJ9dX5pR",
   "metadata": {
    "id": "keqrFJ9dX5pR",
    "tags": []
   },
   "source": [
    "### Descripción de las variables\n",
    "\n",
    "- **InvoiceNo:** Número de factura que consta de 6 dígitos. Si este código comienza con la letra \"c\", indica una cancelación.\n",
    "- **StockCode:** Código del producto que consta de 5 dígitos.\n",
    "- **Description:** Nombre del producto.\n",
    "- **Quantity:** Las cantidades de cada producto por transacción.\n",
    "- **InvoiceDate:** Día y la hora en que se generó cada transacción.\n",
    "- **UnitPrice:** Precio del producto por unidad.\n",
    "- **CustomerID:** Número de cliente que consta de 5 dígitos. Cada cliente tiene un único ID de cliente.\n",
    "- **Country:** Nombre del país donde reside cada cliente."
   ]
  },
  {
   "cell_type": "markdown",
   "id": "3231fc89-1806-499b-8f6e-432c4d836610",
   "metadata": {},
   "source": [
    "### ***Antes de continuar con la siguiente etapa aprendamos a como calcular ...***"
   ]
  },
  {
   "cell_type": "markdown",
   "id": "77b11813-274b-4bd0-9506-149752d13f18",
   "metadata": {},
   "source": [
    "### Medidas de tendencia central\n",
    "\n",
    "Veamos como podemos calcular estas medidas de tendencia central usando Python.\n"
   ]
  },
  {
   "cell_type": "code",
   "execution_count": null,
   "id": "196abb6a-19c7-4a2c-b5d7-fdf79d1c5549",
   "metadata": {},
   "outputs": [],
   "source": [
    "# Calculando dichos valores para una variable en específico \n",
    "import statistics as st"
   ]
  },
  {
   "cell_type": "code",
   "execution_count": null,
   "id": "f2652593-e692-4f90-ad82-2f1fc3e184aa",
   "metadata": {},
   "outputs": [],
   "source": [
    "# Media\n",
    "media= st.mean(df['Quantity'])\n",
    "print('Media:', media)\n",
    "\n",
    "# Mediana\n",
    "mediana= st.median(df['Quantity'])\n",
    "print('Mediana:', mediana)\n",
    "\n",
    "# Moda\n",
    "moda= st.mode(df['Quantity'])\n",
    "print('Moda:', moda)"
   ]
  },
  {
   "cell_type": "code",
   "execution_count": null,
   "id": "26d82e1c-1ac0-41fe-b5de-f57e40f0bc20",
   "metadata": {},
   "outputs": [],
   "source": [
    "# La moda es 1, ¿Cuantos registros tienen el valor de 1?\n",
    "df['Quantity']==1"
   ]
  },
  {
   "cell_type": "code",
   "execution_count": null,
   "id": "b65e35fa-054b-46d1-8718-4a1c61fa5bbc",
   "metadata": {},
   "outputs": [],
   "source": [
    "# Selecionamos los casos en los cuales Quantity es igual a 1\n",
    "df[df['Quantity']==1]"
   ]
  },
  {
   "cell_type": "code",
   "execution_count": null,
   "id": "061274e6-f937-4063-9151-325933a35441",
   "metadata": {},
   "outputs": [],
   "source": [
    "#  Cantidad de registros que tienen el valor de 1 en la variable Quantity\n",
    "df[df['Quantity']==1].shape[0]"
   ]
  },
  {
   "cell_type": "markdown",
   "id": "94d9efce-f778-4a7d-a63f-98bb6df9f9c6",
   "metadata": {},
   "source": [
    "#### **¡A PRACTICAR!**\n",
    "\n",
    "##### Ejercicio 1\n",
    "\n",
    "Acabamos de ver como puedes obtener la media, mediana y moda de una variable. \n",
    "\n",
    "¿Cuál es la media, mediana y moda de la variable **UnitPrice**?"
   ]
  },
  {
   "cell_type": "code",
   "execution_count": null,
   "id": "ea6ccaeb-e5bf-4d47-b648-034910cd8937",
   "metadata": {},
   "outputs": [],
   "source": [
    "##### SOLUCIÓN #####\n"
   ]
  },
  {
   "cell_type": "markdown",
   "id": "44c2de34-5af1-4538-825d-3a01a3f50ebd",
   "metadata": {},
   "source": [
    "##### Ejercicio 2\n",
    "¿Cuántas veces se repite el valor de la moda de la variable **UnitPrice**?"
   ]
  },
  {
   "cell_type": "code",
   "execution_count": null,
   "id": "44ebb5d1-75dd-46c8-9f6d-02c95fc914da",
   "metadata": {},
   "outputs": [],
   "source": [
    "##### SOLUCIÓN #####\n"
   ]
  },
  {
   "cell_type": "markdown",
   "id": "41c6b5a8-fb37-4c14-ad9e-fad77e10228b",
   "metadata": {},
   "source": [
    "### ¿Cómo podemos sacar algunas de las tendencias centrales y otros indicadores de una forma más rápida? "
   ]
  },
  {
   "cell_type": "markdown",
   "id": "5e7d4326-2d96-486a-86ee-b35367d08aff",
   "metadata": {},
   "source": [
    "**Forma 1:** Usando bucle **For**"
   ]
  },
  {
   "cell_type": "code",
   "execution_count": null,
   "id": "41c41401-d2ef-4919-a77d-241c925818db",
   "metadata": {},
   "outputs": [],
   "source": [
    "# Recordemos los bucles (For)\n",
    "for i in range(1,10):\n",
    "  print(i)"
   ]
  },
  {
   "cell_type": "code",
   "execution_count": null,
   "id": "8f58c246-f540-43b2-9775-ee3ee51bb312",
   "metadata": {},
   "outputs": [],
   "source": [
    "# ¿De que tipo es dataframe?\n",
    "type(df)"
   ]
  },
  {
   "cell_type": "code",
   "execution_count": null,
   "id": "003a8666-cd17-4abc-862c-ce1fc7daafae",
   "metadata": {},
   "outputs": [],
   "source": [
    "# Nombres de las columnas del DataFrame dataset \n",
    "df.columns"
   ]
  },
  {
   "cell_type": "code",
   "execution_count": null,
   "id": "cd4c0718-e1a5-4986-9f3e-b662c597d23f",
   "metadata": {},
   "outputs": [],
   "source": [
    "for i in df.columns:\n",
    "  print(i)"
   ]
  },
  {
   "cell_type": "code",
   "execution_count": null,
   "id": "3675eb53-d722-4bd2-9837-05fd4883961e",
   "metadata": {},
   "outputs": [],
   "source": [
    "# ¿Todas las variables son cuantitativas?\n",
    "# Selecionemos solo las cuantitativas\n",
    "columnas=list(['Quantity','UnitPrice'])"
   ]
  },
  {
   "cell_type": "code",
   "execution_count": null,
   "id": "57182aa5-b3f8-4f48-9c44-a63805e945d6",
   "metadata": {},
   "outputs": [],
   "source": [
    "for i in columnas:\n",
    "  print('Variable: '+i)\n",
    "  # Media\n",
    "  media= st.mean(df[i])\n",
    "  print('Media:', media)\n",
    "\n",
    "  # Mediana\n",
    "  mediana= st.median(df[i])\n",
    "  print('Mediana:', mediana)\n",
    "\n",
    "  # Moda\n",
    "  moda= st.mode(df[i])\n",
    "  print('Moda:', moda)\n",
    "  print('')"
   ]
  },
  {
   "cell_type": "markdown",
   "id": "f039a108-ed7c-434b-b241-1cfcbc45dc65",
   "metadata": {},
   "source": [
    "### Medidas de Posición"
   ]
  },
  {
   "cell_type": "markdown",
   "id": "394deffb-dd6e-442b-b75e-c7e4305db9ec",
   "metadata": {},
   "source": [
    "Calculemos las medidas de posición para la variable Quantity"
   ]
  },
  {
   "cell_type": "code",
   "execution_count": null,
   "id": "42d3ed92-272c-408c-9360-5a069805832c",
   "metadata": {},
   "outputs": [],
   "source": [
    "# Cuartiles\n",
    "df['Quantity'].quantile([0.25,0.5,0.75])"
   ]
  },
  {
   "cell_type": "code",
   "execution_count": null,
   "id": "864f6aef-760e-486d-882f-8744544b9648",
   "metadata": {},
   "outputs": [],
   "source": [
    "# Deciles\n",
    "df['Quantity'].quantile([0.1,0.2,0.3,0.4,0.5,0.6,0.7,0.8,0.9])"
   ]
  },
  {
   "cell_type": "code",
   "execution_count": null,
   "id": "7006ccb5-5efd-4042-8f74-1aad95bd072c",
   "metadata": {},
   "outputs": [],
   "source": [
    "# Percentiles\n",
    "\n",
    "# Percentil 5\n",
    "print(\"Percentil 5:\",np.percentile(df['Quantity'], 5))\n",
    "\n",
    "# Percentil 50 \n",
    "print(\"Percentil 50:\",np.percentile(df['Quantity'], 50))\n",
    "\n",
    "# Percentil 95\n",
    "print(\"Percentil 95:\",np.percentile(df['Quantity'], 95))"
   ]
  },
  {
   "cell_type": "markdown",
   "id": "5c1aead8-57c9-44c9-90bd-dd8ce675d68a",
   "metadata": {},
   "source": [
    "#### **¡A PRACTICAR!**\n",
    "\n",
    "##### Ejercicio 3 \n",
    "¿Cúal es el cuartil 1 de UnitPrice? "
   ]
  },
  {
   "cell_type": "code",
   "execution_count": null,
   "id": "2676a5a7-3e58-4323-b34d-4d99d202eee4",
   "metadata": {},
   "outputs": [],
   "source": [
    "##### SOLUCIÓN #####\n"
   ]
  },
  {
   "cell_type": "markdown",
   "id": "5138b493-cf3d-40dd-a1f9-d33174041887",
   "metadata": {},
   "source": [
    "##### Ejercicio 4 \n",
    "¿Cúal es el decil 6 de UnitPrice? "
   ]
  },
  {
   "cell_type": "code",
   "execution_count": null,
   "id": "a9784b5a-105e-43b2-bb76-9ec32e69e88e",
   "metadata": {},
   "outputs": [],
   "source": [
    "##### SOLUCIÓN #####\n"
   ]
  },
  {
   "cell_type": "markdown",
   "id": "ad7ceeca-408d-4044-b662-a3af14fc1530",
   "metadata": {},
   "source": [
    "##### Ejercicio 5 \n",
    "¿Cúal es el percentil 95 de UnitPrice? "
   ]
  },
  {
   "cell_type": "code",
   "execution_count": null,
   "id": "cec14140-6bbd-4cd2-8136-8d1d1f7e2cf2",
   "metadata": {},
   "outputs": [],
   "source": [
    "##### SOLUCIÓN #####\n"
   ]
  },
  {
   "cell_type": "markdown",
   "id": "6cbc65e4-25ac-4348-b220-fa0612c506ca",
   "metadata": {},
   "source": [
    "### Medidas de Dispersión "
   ]
  },
  {
   "cell_type": "markdown",
   "id": "84b93f22-d676-458b-b384-b8388d490974",
   "metadata": {},
   "source": [
    "Calculemos las medidas de dispersión para la variable Quantity"
   ]
  },
  {
   "cell_type": "code",
   "execution_count": null,
   "id": "dac23c48-ce9e-42b8-80eb-0db6f7fc672e",
   "metadata": {},
   "outputs": [],
   "source": [
    "# Varianza\n",
    "# Calculando la varianza usando numpy \n",
    "np.var(df['Quantity'])"
   ]
  },
  {
   "cell_type": "code",
   "execution_count": null,
   "id": "65f6b376-e761-412f-95e3-2b0b83797f1e",
   "metadata": {},
   "outputs": [],
   "source": [
    "# Calculando la varianza usando la formula \n",
    "media= st.mean(df['Quantity'])\n",
    "var = np.sum((df['Quantity'] - media)**2)/len(df['Quantity'])\n",
    "var"
   ]
  },
  {
   "cell_type": "code",
   "execution_count": null,
   "id": "7a4c2b3d-cb03-4034-a8ea-07d2d34b2668",
   "metadata": {},
   "outputs": [],
   "source": [
    "# Desviación estandar\n",
    "# Calculando la varianza usando numpy \n",
    "np.std(df['Quantity'])"
   ]
  },
  {
   "cell_type": "code",
   "execution_count": null,
   "id": "a13fde14-1ff6-4dfc-903f-62b59d32d0f7",
   "metadata": {},
   "outputs": [],
   "source": [
    "# Calculando la desviación estandar usando la formula \n",
    "import math\n",
    "\n",
    "media= st.mean(df['Quantity'])\n",
    "var = np.sum((df['Quantity'] - media)**2)/len(df['Quantity'])\n",
    "sd=math.sqrt(var)\n",
    "sd"
   ]
  },
  {
   "cell_type": "code",
   "execution_count": null,
   "id": "c4f6d57c-230a-45de-9326-f610c25f1033",
   "metadata": {},
   "outputs": [],
   "source": [
    "# Rango \n",
    "\n",
    "# Max\n",
    "print(\"Max:\",max(df['Quantity']))\n",
    "\n",
    "# Min\n",
    "print(\"Min:\",min(df['Quantity']))\n",
    "\n",
    "print(\"Rango:\",max(df['Quantity'])-min(df['Quantity']))"
   ]
  },
  {
   "cell_type": "code",
   "execution_count": null,
   "id": "4e7a7469-b1bf-4227-9e6f-8dd229d5dfd0",
   "metadata": {},
   "outputs": [],
   "source": [
    "# calcular el rango intercuartílico  \n",
    "\n",
    "Q3, Q1 = np.percentile(df['Quantity'], [75, 25])\n",
    "IQR = Q3 - Q1\n",
    "IQR"
   ]
  },
  {
   "cell_type": "markdown",
   "id": "3424ac95-e0a7-447c-8947-ae9d8365b927",
   "metadata": {},
   "source": [
    "#### **¡A PRACTICAR!**\n",
    "\n",
    "##### Ejercicio 6: \n",
    "¿Cúal es el varianza de UnitPrice? "
   ]
  },
  {
   "cell_type": "code",
   "execution_count": null,
   "id": "2100f7db-65b5-4dc2-beb2-a666dc4c7bf5",
   "metadata": {},
   "outputs": [],
   "source": [
    "##### SOLUCIÓN #####\n"
   ]
  },
  {
   "cell_type": "markdown",
   "id": "f230cdb1-8aa5-4186-b230-49527f47c397",
   "metadata": {},
   "source": [
    "##### Ejercicio 7: \n",
    "¿Cúal es el rango de UnitPrice? "
   ]
  },
  {
   "cell_type": "code",
   "execution_count": null,
   "id": "96adc41a-c93a-4512-bbdd-6ed977575abe",
   "metadata": {},
   "outputs": [],
   "source": [
    "##### SOLUCIÓN #####\n"
   ]
  },
  {
   "cell_type": "markdown",
   "id": "96303d04-605f-42ec-850d-c45120497a14",
   "metadata": {},
   "source": [
    "##### Ejercicio 8: \n",
    "¿Cúal es el rango intercuartílico de UnitPrice?"
   ]
  },
  {
   "cell_type": "code",
   "execution_count": null,
   "id": "9402ab26-1aa6-4cbc-aaba-a95dae811444",
   "metadata": {},
   "outputs": [],
   "source": [
    "##### SOLUCIÓN #####\n"
   ]
  },
  {
   "cell_type": "markdown",
   "id": "3243d685-649f-4c80-b105-7044bd2fb898",
   "metadata": {},
   "source": [
    "### Medidas de Forma"
   ]
  },
  {
   "cell_type": "markdown",
   "id": "0018ccd8-585d-41d6-b242-28237a42b7a4",
   "metadata": {},
   "source": [
    "Calculemos las medidas de forma para la variable Quantity"
   ]
  },
  {
   "cell_type": "code",
   "execution_count": null,
   "id": "cd7bdd8f-2b90-4cb3-b861-6b299234ab9b",
   "metadata": {},
   "outputs": [],
   "source": [
    "# Asimetría"
   ]
  },
  {
   "cell_type": "code",
   "execution_count": null,
   "id": "28457262-ec3b-4106-a55e-77f24452bbb4",
   "metadata": {},
   "outputs": [],
   "source": [
    "!pip install scipy"
   ]
  },
  {
   "cell_type": "code",
   "execution_count": null,
   "id": "249b4522-b780-4db9-ba23-485a3a4b2951",
   "metadata": {},
   "outputs": [],
   "source": [
    "from scipy.stats import skew"
   ]
  },
  {
   "cell_type": "code",
   "execution_count": null,
   "id": "1842b429-0e12-4a7a-9039-b19ee23f8d72",
   "metadata": {},
   "outputs": [],
   "source": [
    "x=df['Quantity']"
   ]
  },
  {
   "cell_type": "code",
   "execution_count": null,
   "id": "188f4f1a-31b3-44ca-80bd-25abe3fcc185",
   "metadata": {},
   "outputs": [],
   "source": [
    "print(skew(x, bias=False)) # Si es bias=False los cálculos se corrigen por sesgo estadístico.\n",
    "\n",
    "# Interpretación:\n",
    "# Para datos distribuidos normalmente, la asimetría debe ser aproximadamente cero. \n",
    "# Para distribuciones continuas unimodales, un valor de asimetría mayor que cero significa\n",
    "# que hay más peso en la cola derecha de la distribución (Asimetria positiva).\n",
    "# Un valor de asimetría menor a cero significa Asimetria negativa, por lo que hay outliers en la cola izquierda.  "
   ]
  },
  {
   "cell_type": "code",
   "execution_count": null,
   "id": "8541baff-0668-4c02-a591-70b54670793f",
   "metadata": {},
   "outputs": [],
   "source": [
    "# Kurtosis \n",
    "from scipy.stats import kurtosis"
   ]
  },
  {
   "cell_type": "code",
   "execution_count": null,
   "id": "7848499d-e4a8-4861-8518-e19b522bb370",
   "metadata": {},
   "outputs": [],
   "source": [
    "# La Kurtosis puede ser calculado por la definición de Pearson o Fisher\n",
    "\n",
    "# Kurtosis según definición de Pearson (La Kurtosis de la distribución normal es igual a 3)\n",
    "print(kurtosis(x, fisher=False)) \n",
    "\n",
    "# Interpretación: \n",
    "# Si Kurtosis>3 -> Leptokurtica\n",
    "# Si Kurtosis=3 -> Mesokurtica\n",
    "# Si Kurtosis<3 -> Platikurtica\n",
    "\n",
    "# Kurtosis según definición de Fisher (La Kurtosis de la distribución normal es igual a 0)\n",
    "print(kurtosis(x, fisher=True)) \n",
    "\n",
    "# Interpretación: \n",
    "# Si Kurtosis>0 -> Leptokurtica\n",
    "# Si Kurtosis=0 -> Mesokurtica\n",
    "# Si Kurtosis<0 -> Platikurtica"
   ]
  },
  {
   "cell_type": "code",
   "execution_count": null,
   "id": "ac50ab08-f845-453e-b941-ea999b0e34c5",
   "metadata": {},
   "outputs": [],
   "source": [
    "# ¿Y cual es la distribución de quantity gráficamente? "
   ]
  },
  {
   "cell_type": "code",
   "execution_count": null,
   "id": "a3e9426b-62ca-4310-957c-ae40a2dbca12",
   "metadata": {},
   "outputs": [],
   "source": [
    "!pip install matplotlib"
   ]
  },
  {
   "cell_type": "code",
   "execution_count": null,
   "id": "1b0edaaa-3929-4016-8801-330739ed4c80",
   "metadata": {},
   "outputs": [],
   "source": [
    "import matplotlib.pyplot as plt"
   ]
  },
  {
   "cell_type": "code",
   "execution_count": null,
   "id": "337ed7cd-112e-4df7-9f94-17bcace5b1d7",
   "metadata": {},
   "outputs": [],
   "source": [
    "plt.hist(df['Quantity'], color = 'blue', edgecolor = 'black')\n",
    "\n",
    "plt.show()"
   ]
  },
  {
   "cell_type": "markdown",
   "id": "914d5110-3add-4500-9267-c63fdae3f3c0",
   "metadata": {},
   "source": [
    "#### **¡A PRACTICAR!**\n",
    "\n",
    "##### Ejercicio 9\n",
    "¿Cúal es la asimetría de UnitPrice? "
   ]
  },
  {
   "cell_type": "code",
   "execution_count": null,
   "id": "6ee6a253-62a3-4b70-8d09-60f4fbdca167",
   "metadata": {},
   "outputs": [],
   "source": [
    "##### SOLUCIÓN #####\n"
   ]
  },
  {
   "cell_type": "markdown",
   "id": "ac71a976-483b-4177-acbf-96b94b202dc0",
   "metadata": {},
   "source": [
    "##### Ejercicio 10\n",
    "¿Cúal es la kurtosis según definición de Pearson de UnitPrice? "
   ]
  },
  {
   "cell_type": "code",
   "execution_count": null,
   "id": "57b0802f-759e-4399-a7af-40a7b664f76f",
   "metadata": {},
   "outputs": [],
   "source": [
    "##### SOLUCIÓN #####\n"
   ]
  },
  {
   "cell_type": "markdown",
   "id": "d32f1a8d-2b98-46f5-bc17-39ed3967826f",
   "metadata": {},
   "source": [
    "### Covarianza y correlación "
   ]
  },
  {
   "cell_type": "markdown",
   "id": "46e001ed-9a8d-4a6b-8440-309c03179696",
   "metadata": {},
   "source": [
    "Calcular la covarianza entre Quantity y UnitPrice"
   ]
  },
  {
   "cell_type": "code",
   "execution_count": null,
   "id": "939f2df4-b9ae-4b7e-98b2-5cb31a53c651",
   "metadata": {},
   "outputs": [],
   "source": [
    "covariance = np.cov(df['Quantity'], df['UnitPrice'])[0][1]\n",
    "print(covariance)"
   ]
  },
  {
   "cell_type": "markdown",
   "id": "f54536d8-9b61-4052-8d4f-05fed3f40309",
   "metadata": {},
   "source": [
    "Calcular la correlación entre Quantity y UnitPrice"
   ]
  },
  {
   "cell_type": "code",
   "execution_count": null,
   "id": "f74f28b9-deee-40bf-bd10-72457c9fe949",
   "metadata": {},
   "outputs": [],
   "source": [
    "# Forma 1\n",
    "correlacion = (np.cov(df['Quantity'], df['UnitPrice'])[0][1])/(np.std(df['Quantity'])*np.std(df['UnitPrice']))\n",
    "print(correlacion)"
   ]
  },
  {
   "cell_type": "code",
   "execution_count": null,
   "id": "305e26eb-bee0-42e8-a8c8-3bdc582cc633",
   "metadata": {},
   "outputs": [],
   "source": [
    "# Forma 2\n",
    "np.corrcoef(df['Quantity'], df['UnitPrice'])[0][1]"
   ]
  },
  {
   "cell_type": "markdown",
   "id": "b95a382b-7238-48f5-87b3-b8971b194707",
   "metadata": {},
   "source": [
    "# 3. Limpieza de datos"
   ]
  },
  {
   "cell_type": "code",
   "execution_count": null,
   "id": "broke-batman",
   "metadata": {
    "colab": {
     "base_uri": "https://localhost:8080/"
    },
    "id": "broke-batman",
    "outputId": "c2d1d2c3-eaf3-41d1-e85a-ce4586e38369",
    "papermill": {
     "duration": 0.644686,
     "end_time": "2022-10-29T16:13:11.018626",
     "exception": false,
     "start_time": "2022-10-29T16:13:10.373940",
     "status": "completed"
    },
    "tags": []
   },
   "outputs": [],
   "source": [
    "def check_data(dataframe, head=5):\n",
    "    print(\" CANTIDAD DE FILAS Y COLUMNAS \".center(70,'-'))\n",
    "    print('Filas: {}'.format(dataframe.shape[0]))\n",
    "    print('Columnas: {}'.format(dataframe.shape[1]))\n",
    "    print(\" TIPOS DE DATOS \".center(70,'-'))\n",
    "    print(dataframe.dtypes)\n",
    "    print(\" HEAD \".center(70,'-'))\n",
    "    print(dataframe.head(head))\n",
    "    print(\" TAIL \".center(70,'-'))\n",
    "    print(dataframe.tail(head))\n",
    "    print(\" VALORES PERDIDOS \".center(70,'-'))\n",
    "    print(dataframe.isnull().sum())\n",
    "    print(\" DUPLICADOS \".center(70,'-'))\n",
    "    # Busca duplicados de todas las columnas y marca a partir del 2do registro.\n",
    "    print(dataframe.duplicated().sum())\n",
    "    print(\" CUANTILES \".center(70,'-'))\n",
    "    print(dataframe.quantile([0, 0.05, 0.50, 0.95, 0.99, 1]).T)\n",
    "    \n",
    "check_data(df)"
   ]
  },
  {
   "cell_type": "markdown",
   "id": "automotive-poster",
   "metadata": {
    "id": "automotive-poster",
    "papermill": {
     "duration": 0.049034,
     "end_time": "2022-10-29T16:13:12.444155",
     "exception": false,
     "start_time": "2022-10-29T16:13:12.395121",
     "status": "completed"
    },
    "tags": []
   },
   "source": [
    "### Estadística Descriptiva"
   ]
  },
  {
   "cell_type": "code",
   "execution_count": null,
   "id": "oatac_fWJkRJ",
   "metadata": {
    "colab": {
     "base_uri": "https://localhost:8080/",
     "height": 424
    },
    "id": "oatac_fWJkRJ",
    "outputId": "bc6be4af-3f31-439e-a4d0-236ea14f999a"
   },
   "outputs": [],
   "source": [
    "df.select_dtypes(include = [float, int])"
   ]
  },
  {
   "cell_type": "code",
   "execution_count": null,
   "id": "sim5TfpnKQPD",
   "metadata": {
    "colab": {
     "base_uri": "https://localhost:8080/",
     "height": 300
    },
    "id": "sim5TfpnKQPD",
    "outputId": "0ce645ea-a74a-4ae9-f0a3-dcb650420296"
   },
   "outputs": [],
   "source": [
    "dataframe=df.select_dtypes(include = [float, int])\n",
    "dataframe.describe()"
   ]
  },
  {
   "cell_type": "code",
   "execution_count": null,
   "id": "mg5AcVC0MCqJ",
   "metadata": {
    "colab": {
     "base_uri": "https://localhost:8080/",
     "height": 112
    },
    "id": "mg5AcVC0MCqJ",
    "outputId": "6337f1df-2696-473e-bb6d-cbccf6406b47"
   },
   "outputs": [],
   "source": [
    "dataframe.describe().T"
   ]
  },
  {
   "cell_type": "code",
   "execution_count": null,
   "id": "0eaa911d-f55c-4a89-95be-1b9b0d7414d3",
   "metadata": {},
   "outputs": [],
   "source": [
    "!pip install matplotlib"
   ]
  },
  {
   "cell_type": "code",
   "execution_count": null,
   "id": "uTZHH7EqpNLi",
   "metadata": {
    "colab": {
     "base_uri": "https://localhost:8080/",
     "height": 458
    },
    "id": "uTZHH7EqpNLi",
    "outputId": "a2865274-8c83-49ef-a73c-06760fbb1ec7"
   },
   "outputs": [],
   "source": [
    "# Usando Seaboarn y Mapplotlib\n",
    "import seaborn as sns\n",
    "import matplotlib.pyplot as plot\n",
    "\n",
    "fig = plot.figure(figsize =(10, 7))  # plot.figure: una figura vacía sin ejes, figsize: Ancho, altura en pulgadas.\n",
    "sns.boxplot(x=df['Quantity'])\n",
    "plot.title('Quantity')\n",
    "plot.show()"
   ]
  },
  {
   "cell_type": "code",
   "execution_count": null,
   "id": "qVE7zsQ2q0J9",
   "metadata": {
    "colab": {
     "base_uri": "https://localhost:8080/",
     "height": 444
    },
    "id": "qVE7zsQ2q0J9",
    "outputId": "29722c29-025c-4f0e-8e23-8b9a1f71acae"
   },
   "outputs": [],
   "source": [
    "# Usando matplotlib\n",
    "import matplotlib.pyplot as plot\n",
    "\n",
    "fig = plot.figure(figsize =(10, 7)) \n",
    "plot.boxplot(x=df['Quantity'])\n",
    "plot.title('Quantity')\n",
    "plot.show()"
   ]
  },
  {
   "cell_type": "code",
   "execution_count": null,
   "id": "06cb0645-1318-4b12-abb5-77b81699d501",
   "metadata": {},
   "outputs": [],
   "source": [
    "!pip install plotly"
   ]
  },
  {
   "cell_type": "code",
   "execution_count": null,
   "id": "Mk-Dzw6ur1cq",
   "metadata": {
    "colab": {
     "base_uri": "https://localhost:8080/",
     "height": 542
    },
    "id": "Mk-Dzw6ur1cq",
    "outputId": "da51da48-dbb2-4e25-f69c-47f6933ae634"
   },
   "outputs": [],
   "source": [
    "# Usando Plotly \n",
    "import plotly.express as px \n",
    "  \n",
    "fig = px.box(df, x='Quantity') \n",
    "fig.show()"
   ]
  },
  {
   "cell_type": "markdown",
   "id": "LSePWjFscPhQ",
   "metadata": {
    "id": "LSePWjFscPhQ"
   },
   "source": [
    "**Hasta el momento hemos visto que ...**\n",
    "*   Existen valores negativos en UnitPrice y Quantity \n",
    "*   Hay valores atípicos en UnitPrice y Quantity\n",
    "*   Existen valores perdidos tanto en Customer ID y Description\n",
    "*   Existen 5268 registros duplicados de un total de 541909 registros\n",
    "\n"
   ]
  },
  {
   "cell_type": "code",
   "execution_count": null,
   "id": "qJrdb7ADfoxp",
   "metadata": {
    "colab": {
     "base_uri": "https://localhost:8080/",
     "height": 424
    },
    "id": "qJrdb7ADfoxp",
    "outputId": "0f72be3c-faa3-4394-819e-8cefa4f7a92a"
   },
   "outputs": [],
   "source": [
    "# ¿Las cantidades negativas son solo de transacciones canceladas? \n",
    "df[df['Quantity']<0]"
   ]
  },
  {
   "cell_type": "code",
   "execution_count": null,
   "id": "FYhH3MrPd6T0",
   "metadata": {
    "colab": {
     "base_uri": "https://localhost:8080/",
     "height": 424
    },
    "id": "FYhH3MrPd6T0",
    "outputId": "52f9cccf-7819-4799-9f48-6e53ed249e00"
   },
   "outputs": [],
   "source": [
    "df[(df['Quantity']<0) & (df['InvoiceNo'].str.contains('C', na = False))]"
   ]
  },
  {
   "cell_type": "code",
   "execution_count": null,
   "id": "ajR6iKj6eamB",
   "metadata": {
    "colab": {
     "base_uri": "https://localhost:8080/",
     "height": 424
    },
    "id": "ajR6iKj6eamB",
    "outputId": "68fdf809-41a1-43f5-a435-d74b93a6ae68"
   },
   "outputs": [],
   "source": [
    "df[(df['Quantity']<0) & ~(df['InvoiceNo'].str.contains('C', na = False))]"
   ]
  },
  {
   "cell_type": "markdown",
   "id": "sorted-republic",
   "metadata": {
    "id": "sorted-republic",
    "papermill": {
     "duration": 0.050742,
     "end_time": "2022-10-29T16:13:13.190551",
     "exception": false,
     "start_time": "2022-10-29T16:13:13.139809",
     "status": "completed"
    },
    "tags": []
   },
   "source": [
    "### Prepocesamiento de Data"
   ]
  },
  {
   "cell_type": "code",
   "execution_count": null,
   "id": "I4xW-GeZSEO8",
   "metadata": {
    "colab": {
     "base_uri": "https://localhost:8080/",
     "height": 424
    },
    "id": "I4xW-GeZSEO8",
    "outputId": "e2ea87c5-9956-40ca-fc43-9fefadf87c5b"
   },
   "outputs": [],
   "source": [
    "df_ = df.copy()\n",
    "\n",
    "# Eliminando registros duplicados \n",
    "# Solo nos quedaremos con 1 de ellos si esta duplicado\n",
    "df_ = df_[df_.duplicated()==False]\n",
    "\n",
    "# Eliminando valores perdidos\n",
    "df_ = df_.dropna()\n",
    "\n",
    "# Eliminando las ordenes canceladas y Quantity menor igual a 0\n",
    "df_ = df_[~df_['InvoiceNo'].str.contains('C', na = False)]\n",
    "df_ = df_[df_['Quantity'] > 0]\n",
    "\n",
    "df_"
   ]
  },
  {
   "cell_type": "markdown",
   "id": "c1db0863-7324-46bb-a0cb-126fc081db22",
   "metadata": {},
   "source": [
    "# 4. Análisis de datos"
   ]
  },
  {
   "cell_type": "markdown",
   "id": "2UAnQ2Zyzo7Z",
   "metadata": {
    "id": "2UAnQ2Zyzo7Z"
   },
   "source": [
    "# **Caso 1: Cantidad promedio de productos vendidos y  promedio de precio total por transacción**"
   ]
  },
  {
   "cell_type": "code",
   "execution_count": null,
   "id": "It31jO-uT-5L",
   "metadata": {
    "colab": {
     "base_uri": "https://localhost:8080/",
     "height": 112
    },
    "id": "It31jO-uT-5L",
    "outputId": "62d8c7ba-4b53-4acf-ca71-23ef755bb015"
   },
   "outputs": [],
   "source": [
    "dataframe=df_.select_dtypes(include = [float, int])\n",
    "dataframe.describe().T"
   ]
  },
  {
   "cell_type": "code",
   "execution_count": null,
   "id": "eYDdynu7UQWC",
   "metadata": {
    "colab": {
     "base_uri": "https://localhost:8080/",
     "height": 542
    },
    "id": "eYDdynu7UQWC",
    "outputId": "2204d2c5-6889-436a-c4de-03d57580b502"
   },
   "outputs": [],
   "source": [
    "# Gráfica de cajas para la variable Quantity\n",
    "# Usando Plotly \n",
    "import plotly.express as px \n",
    "  \n",
    "fig = px.box(df_, x='Quantity') \n",
    "fig.show()"
   ]
  },
  {
   "cell_type": "code",
   "execution_count": null,
   "id": "0QKlQ6Zvxo80",
   "metadata": {
    "id": "0QKlQ6Zvxo80"
   },
   "outputs": [],
   "source": [
    "#Precio Total\n",
    "df_[\"TotalPrice\"] = df_[\"Quantity\"] * df_[\"UnitPrice\"]"
   ]
  },
  {
   "cell_type": "code",
   "execution_count": null,
   "id": "RBQ0jl8ntO_U",
   "metadata": {
    "colab": {
     "base_uri": "https://localhost:8080/",
     "height": 424
    },
    "id": "RBQ0jl8ntO_U",
    "outputId": "1fb20858-4f03-4964-b976-23ea171bdbf9"
   },
   "outputs": [],
   "source": [
    "df_[df_['Quantity']>27]"
   ]
  },
  {
   "cell_type": "code",
   "execution_count": null,
   "id": "cqTmVDWmtYnE",
   "metadata": {
    "colab": {
     "base_uri": "https://localhost:8080/",
     "height": 424
    },
    "id": "cqTmVDWmtYnE",
    "outputId": "4e5d6ad5-f392-460d-854c-fa90242d485b"
   },
   "outputs": [],
   "source": [
    "df_[df_['Quantity']>1000]"
   ]
  },
  {
   "cell_type": "code",
   "execution_count": null,
   "id": "TRMM9cVZx-3F",
   "metadata": {
    "colab": {
     "base_uri": "https://localhost:8080/",
     "height": 143
    },
    "id": "TRMM9cVZx-3F",
    "outputId": "3efb56cb-3e48-4dcf-b897-1bb569faaf85"
   },
   "outputs": [],
   "source": [
    "dataframe=df_.select_dtypes(include = [float, int])\n",
    "dataframe.describe().T"
   ]
  },
  {
   "cell_type": "code",
   "execution_count": null,
   "id": "OjJV0M931CtZ",
   "metadata": {
    "colab": {
     "base_uri": "https://localhost:8080/"
    },
    "id": "OjJV0M931CtZ",
    "outputId": "1499d034-63b9-4dd6-ca7d-ec570f6359d9"
   },
   "outputs": [],
   "source": [
    "# Calculando el percentil 99 \n",
    "perc99=np.percentile(df_['Quantity'],99)\n",
    "perc99"
   ]
  },
  {
   "cell_type": "code",
   "execution_count": null,
   "id": "yb7KUQeU1gxg",
   "metadata": {
    "id": "yb7KUQeU1gxg"
   },
   "outputs": [],
   "source": [
    "df_filtrado=df_[df_['Quantity']<=perc99]"
   ]
  },
  {
   "cell_type": "code",
   "execution_count": null,
   "id": "LQmDZJLL1vj-",
   "metadata": {
    "colab": {
     "base_uri": "https://localhost:8080/",
     "height": 143
    },
    "id": "LQmDZJLL1vj-",
    "outputId": "fb2638c5-5ede-48b3-845b-4f22886eb3a8"
   },
   "outputs": [],
   "source": [
    "dataframe=df_filtrado.select_dtypes(include = [float, int])\n",
    "dataframe.describe().T"
   ]
  },
  {
   "cell_type": "markdown",
   "id": "aPvR1szfyZ5F",
   "metadata": {
    "id": "aPvR1szfyZ5F"
   },
   "source": [
    "Luego de haber hecho el procesamiento de datos y posteriormente selecionando los datos menores al percentil 99:\n",
    "\n",
    "***¿Cuál es la cantidad promedio de productos vendidos por transacción?*** <br/>\n",
    "\n",
    " La cantidad promedio de productos vendidos por transacción 10\n",
    "\n",
    "***¿Cuál es el promedio de precio total por transacción?*** <br/>\n",
    "\n",
    "El promedio de precio total por transacción es 18.5"
   ]
  },
  {
   "cell_type": "markdown",
   "id": "2bQNAasY5G48",
   "metadata": {
    "id": "2bQNAasY5G48"
   },
   "source": [
    "# **Caso 2: ¿Cuál es la cantidad de ventas por país? ¿En qué país genera la mayor cantidad de ventas?**"
   ]
  },
  {
   "cell_type": "code",
   "execution_count": null,
   "id": "erE1o3uf5h2-",
   "metadata": {
    "colab": {
     "base_uri": "https://localhost:8080/",
     "height": 424
    },
    "id": "erE1o3uf5h2-",
    "outputId": "81e180bc-41b5-4f49-a2a8-570d3150ce9b"
   },
   "outputs": [],
   "source": [
    "# Sacando el listado de todos los cliente, número de factura y país distintos\n",
    "world_map = df_filtrado[['CustomerID', 'InvoiceNo', 'Country']\n",
    "              ].groupby(['CustomerID', 'InvoiceNo', 'Country']\n",
    "                       ).count().reset_index(drop = False)\n",
    "world_map"
   ]
  },
  {
   "cell_type": "code",
   "execution_count": null,
   "id": "8NqYUxNi7Fb1",
   "metadata": {
    "colab": {
     "base_uri": "https://localhost:8080/"
    },
    "id": "8NqYUxNi7Fb1",
    "outputId": "6e92346b-3328-442f-b0d5-b0e634e59f29"
   },
   "outputs": [],
   "source": [
    "countries = world_map['Country'].value_counts()\n",
    "countries"
   ]
  },
  {
   "cell_type": "markdown",
   "id": "61C7YQu7_G3_",
   "metadata": {
    "id": "61C7YQu7_G3_"
   },
   "source": [
    "***¿En qué país genera la mayor cantidad de ventas?*** <br/>\n",
    "\n",
    "El país que genera una mayor cantidad de pedidos es United Kingdom "
   ]
  },
  {
   "cell_type": "markdown",
   "id": "gW3Q5uu5_ilv",
   "metadata": {
    "id": "gW3Q5uu5_ilv"
   },
   "source": [
    "# BONUS: Graficando la cantidad de pedidos en un mapa\n",
    "\n",
    "Documentación: \n",
    "\n",
    "https://plotly.com/python/v3/mapbox-county-choropleth/  <br/>\n",
    "https://plotly.com/python-api-reference/generated/plotly.graph_objects.Figure.html"
   ]
  },
  {
   "cell_type": "code",
   "execution_count": null,
   "id": "c8643a92-54cd-4eaf-8ce9-b62f2027dd5c",
   "metadata": {},
   "outputs": [],
   "source": [
    "import plotly.graph_objs as go\n",
    "import plotly.offline as pyo\n",
    "from plotly.offline import iplot\n",
    "pyo.init_notebook_mode()"
   ]
  },
  {
   "cell_type": "code",
   "execution_count": null,
   "id": "novel-favorite",
   "metadata": {
    "colab": {
     "base_uri": "https://localhost:8080/",
     "height": 617
    },
    "id": "novel-favorite",
    "outputId": "69d6ab4d-6dd1-45f3-8c25-f01911dc58e2",
    "papermill": {
     "duration": 1.277168,
     "end_time": "2022-10-29T16:13:12.345039",
     "exception": false,
     "start_time": "2022-10-29T16:13:11.067871",
     "status": "completed"
    },
    "tags": []
   },
   "outputs": [],
   "source": [
    "data = dict(type='choropleth',\n",
    "            locations = countries.index,\n",
    "            locationmode = 'country names',\n",
    "            z = countries,\n",
    "            text = countries.index,\n",
    "            colorbar = {'title':'Num. Pedidos'},\n",
    "            colorscale='haline',\n",
    "            reversescale = True)\n",
    "\n",
    "layout = dict(title={'text': \"Número de Pedidos por País\",\n",
    "                     'y':0.9,\n",
    "                     'x':0.5,\n",
    "                     'xanchor': 'center',\n",
    "                     'yanchor': 'top'},\n",
    "              geo = dict(resolution = 50,\n",
    "                         showocean = True,\n",
    "                         oceancolor = \"LightBlue\",\n",
    "                         showland = True,\n",
    "                         landcolor = \"whitesmoke\",\n",
    "                         showframe = True),\n",
    "             template = 'plotly_white',\n",
    "             height = 600,\n",
    "             width = 1000)\n",
    "\n",
    "choromap = go.Figure(data = [data], layout = layout)\n",
    "iplot(choromap, validate = False)"
   ]
  },
  {
   "cell_type": "markdown",
   "id": "31bd9a9a-961f-4a35-8fad-bf279cf271aa",
   "metadata": {},
   "source": [
    "# Créditos y recursos importantes: \n",
    "\n",
    "Data Original: \n",
    "https://www.kaggle.com/carrie1/ecommerce-data\n",
    "<br>\n",
    "\n",
    "Notebooks revisados: \n",
    "<br>\n",
    "https://www.kaggle.com/code/sercanyesiloz/crm-analytics/notebook\n",
    "\n",
    "https://www.kaggle.com/code/pierrelouisdanieau/recommender-system-associations-rules/notebook \n"
   ]
  }
 ],
 "metadata": {
  "colab": {
   "provenance": []
  },
  "kernelspec": {
   "display_name": "Python 3 (ipykernel)",
   "language": "python",
   "name": "python3"
  },
  "language_info": {
   "codemirror_mode": {
    "name": "ipython",
    "version": 3
   },
   "file_extension": ".py",
   "mimetype": "text/x-python",
   "name": "python",
   "nbconvert_exporter": "python",
   "pygments_lexer": "ipython3",
   "version": "3.9.16"
  },
  "papermill": {
   "default_parameters": {},
   "duration": 68.981711,
   "end_time": "2022-10-29T16:13:43.005545",
   "environment_variables": {},
   "exception": null,
   "input_path": "__notebook__.ipynb",
   "output_path": "__notebook__.ipynb",
   "parameters": {},
   "start_time": "2022-10-29T16:12:34.023834",
   "version": "2.3.3"
  }
 },
 "nbformat": 4,
 "nbformat_minor": 5
}
