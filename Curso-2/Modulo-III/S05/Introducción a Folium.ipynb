{
 "cells": [
  {
   "cell_type": "markdown",
   "id": "d6b5370e-567c-4d48-a6f9-98258f778da4",
   "metadata": {},
   "source": [
    "# Introducción a Folium "
   ]
  },
  {
   "cell_type": "code",
   "execution_count": null,
   "id": "c9c78140-3ad1-439d-8208-105953d130fd",
   "metadata": {},
   "outputs": [],
   "source": [
    "!pip install folium"
   ]
  },
  {
   "cell_type": "markdown",
   "id": "90ada926-1c09-4e89-8993-75f8a62900f1",
   "metadata": {},
   "source": [
    "#### Ejemplo \n",
    "Cree un mapa con las coordinadas -12.057682488392295, -77.03595301780895 (Estación central de Metropolitano)"
   ]
  },
  {
   "cell_type": "code",
   "execution_count": null,
   "id": "88f4bab3-42b9-4597-b995-496c71457acf",
   "metadata": {},
   "outputs": [],
   "source": [
    "import folium\n",
    "\n",
    "# Para crear un mapa base, simplemente pase sus coordenadas iniciales a Folium. \n",
    "m = folium.Map(location=[-12.057682488392295, -77.03595301780895])"
   ]
  },
  {
   "cell_type": "code",
   "execution_count": null,
   "id": "36663cbe-c619-4843-9252-53837d77d83c",
   "metadata": {},
   "outputs": [],
   "source": [
    "# Mostrando el mapa que acabamos de generar\n",
    "m"
   ]
  },
  {
   "cell_type": "markdown",
   "id": "b3f50e67-ce3f-4547-a03a-a436fffc3148",
   "metadata": {},
   "source": [
    "#### Ejemplo \n",
    "Guade en un archivo .html  el mapa generado"
   ]
  },
  {
   "cell_type": "code",
   "execution_count": null,
   "id": "15ff5ad9-fde4-46b6-9066-55bb2b2fc6b3",
   "metadata": {},
   "outputs": [],
   "source": [
    "m.save(\"index.html\")"
   ]
  },
  {
   "cell_type": "markdown",
   "id": "18f2be0c-b461-450e-8045-6a4bd54e562d",
   "metadata": {},
   "source": [
    "Los mosaicos predeterminados son los de OpenStreetMap, pero los de Stamen Toner, Stamen Terrain, entre muchos otros, están incorporados."
   ]
  },
  {
   "cell_type": "markdown",
   "id": "4cb33930-5589-4f29-8f19-ad761b05fb7c",
   "metadata": {},
   "source": [
    "#### Ejemplo \n",
    "Muestre el mapa de una manera más cercana (Use el parametro zoom_start=20)"
   ]
  },
  {
   "cell_type": "code",
   "execution_count": null,
   "id": "60f95a69-ef13-47a5-a5f7-6548dd122946",
   "metadata": {},
   "outputs": [],
   "source": [
    "folium.Map(location=[-12.057682488392295, -77.03595301780895], \n",
    "           zoom_start=20 # Nivel de zoom inicial para el mapa \n",
    "          )"
   ]
  },
  {
   "cell_type": "markdown",
   "id": "f323b315-92d6-43e3-8654-36c5edcc8519",
   "metadata": {},
   "source": [
    "#### Ejemplo \n",
    "Muestre el mapa anterior con el tipo de mosaico ***Stamen Toner*** y un acercamiento inicial (zoom_start) igual a 14"
   ]
  },
  {
   "cell_type": "code",
   "execution_count": null,
   "id": "3a9997fa-63c3-4831-866e-e887b0ea48e8",
   "metadata": {
    "tags": []
   },
   "outputs": [],
   "source": [
    "m = folium.Map(location=[-12.057682488392295, -77.03595301780895], \n",
    "               zoom_start=14, \n",
    "               tiles=\"Stamen Toner\")\n",
    "m"
   ]
  },
  {
   "cell_type": "markdown",
   "id": "870204fd-e05d-4c4d-b3f2-295900d94209",
   "metadata": {},
   "source": [
    "#### Ejemplo \n",
    "Muestre el mapa anterior con el tipo de mosaico ***Stamen Terrain*** y un acercamiento inicial (zoom_start) igual a 14"
   ]
  },
  {
   "cell_type": "code",
   "execution_count": null,
   "id": "e67e1be9-6f82-4387-b1d0-c08e8c126586",
   "metadata": {},
   "outputs": [],
   "source": [
    "m = folium.Map(location=[-12.057682488392295, -77.03595301780895], \n",
    "               zoom_start=14, \n",
    "               tiles=\"Stamen Terrain\")\n",
    "m"
   ]
  },
  {
   "cell_type": "markdown",
   "id": "e96ed38a-b102-43e8-8777-8138f3dbd558",
   "metadata": {},
   "source": [
    "## Markers\n",
    "\n",
    "Existen numerosos tipos de marcadores, comenzando con un marcador de ubicación con una ventana emergente y HTML de información sobre herramientas."
   ]
  },
  {
   "cell_type": "markdown",
   "id": "d653bbdb-906d-4292-82c9-d774b3b9e835",
   "metadata": {},
   "source": [
    "#### Ejemplo \n",
    "Al ejemplo anterior, agrege los siguientes marcadores de tal manera que al hacer click sobre ello aparezca el nombre del lugar: \n",
    "    \n",
    "**Lugar:** Estación central del Metropolitano   \n",
    "**Coordenadas:** -12.057682488392295, -77.03595301780895 \n",
    "<br>\n",
    "**Formato de letra:** Cursiva\n",
    "<br>\n",
    "\n",
    "**Lugar:** Estadio Nacional del Perú\n",
    "<br>\n",
    "**Coordenadas:** -12.066217942194749, -77.03384686622906\n",
    "<br>\n",
    "**Formato de letra:** Negrita"
   ]
  },
  {
   "cell_type": "code",
   "execution_count": null,
   "id": "fcb1ae3e-dae3-4413-832c-577feefdd8ec",
   "metadata": {},
   "outputs": [],
   "source": [
    "m = folium.Map(location=[-12.057682488392295, -77.03595301780895], \n",
    "               zoom_start=14, \n",
    "               tiles=\"Stamen Terrain\")\n",
    "\n",
    "tooltip = \"¡Haz clic!\"\n",
    "\n",
    "folium.Marker(\n",
    "    [-12.057682488392295, -77.03595301780895], \n",
    "    popup=\"<i>Estación central del Metropolitano</i>\", \n",
    "    tooltip=tooltip # El parametro tooltip, muestra un texto al pasar el cursor sobre el objeto.\n",
    ").add_to(m)\n",
    "\n",
    "\n",
    "folium.Marker(\n",
    "    [-12.066217942194749, -77.03384686622906], \n",
    "    popup=\"<b>Estadio Nacional del Perú</b>\", \n",
    "    tooltip=tooltip # El parametro tooltip, muestra un texto al pasar el cursor sobre el objeto.\n",
    ").add_to(m)\n",
    "\n",
    "m"
   ]
  },
  {
   "cell_type": "markdown",
   "id": "6eafbca9-d034-4a25-9e70-c2c50669e6f3",
   "metadata": {},
   "source": [
    "Hay soporte integrado para colores y tipos de iconos de marcadores de bootstrap.\n",
    "\n",
    "<i>Bootstrap es el framework HTML, CSS y JS más popular para desarrollar proyectos responsive y mobile first en la web.</i>\n",
    "\n",
    "Iconos de glyphicon de Bootstrap : https://getbootstrap.com/docs/3.3/components/ (para usarlos solo es necesario el nombre final, no es necesario que se incluya la palabra glyphicon )"
   ]
  },
  {
   "cell_type": "markdown",
   "id": "e2cbdf38-5cfc-418d-831a-6356f6740775",
   "metadata": {},
   "source": [
    "#### Ejemplo \n",
    "Genere el mapa anterior usando los siguientes iconos: \n",
    "\n",
    "**Lugar:** Estación central del Metropolitano   \n",
    "**Icono:** \"cloud\"\n",
    "<br>\n",
    "\n",
    "**Lugar:** Estadio Nacional del Perú\n",
    "<br>\n",
    "**Icono:** \"info-sign\"\n",
    "<br>\n",
    "**Color:** rojo\n",
    "    "
   ]
  },
  {
   "cell_type": "code",
   "execution_count": null,
   "id": "2481cf79-89c7-4ca2-9690-146fd8f41a45",
   "metadata": {},
   "outputs": [],
   "source": [
    "m = folium.Map(location=[-12.057682488392295, -77.03595301780895], zoom_start=14, tiles=\"Stamen Terrain\")\n",
    "\n",
    "folium.Marker(\n",
    "    [-12.057682488392295, -77.03595301780895],\n",
    "    popup=\"<i>Estación central del Metropolitano</i>\",\n",
    "    icon=folium.Icon(icon=\"cloud\")\n",
    ").add_to(m)\n",
    "\n",
    "folium.Marker(\n",
    "    [-12.066217942194749, -77.03384686622906], \n",
    "    popup=\"<b>Estadio Nacional del Perú</b>\", \n",
    "    icon=folium.Icon(color=\"red\", icon=\"info-sign\")\n",
    ").add_to(m)\n",
    "\n",
    "m"
   ]
  },
  {
   "cell_type": "markdown",
   "id": "f2e0523b-ce55-47e8-bb97-dc1d29c95a8f",
   "metadata": {},
   "source": [
    "#### Ejemplo \n",
    "Agrege un marcador considerando las siguientes indicaciones: \n",
    "\n",
    "**Lugar:** Plaza Mayor de Lima\n",
    "<br>\n",
    "**Coordenadas:** -12.045122784968568, -77.03049145624178\n",
    "<br>\n",
    "**Color:** verde"
   ]
  },
  {
   "cell_type": "code",
   "execution_count": null,
   "id": "619cb495-26ef-43f8-ba1e-8928d8510c82",
   "metadata": {},
   "outputs": [],
   "source": [
    "m = folium.Map(location=[-12.057682488392295, -77.03595301780895], \n",
    "               zoom_start=14, \n",
    "               tiles=\"Stamen Terrain\")\n",
    "\n",
    "folium.Marker(\n",
    "    [-12.057682488392295, -77.03595301780895],\n",
    "    popup=\"<i>Estación central del Metropolitano</i>\",\n",
    "    icon=folium.Icon(icon=\"cloud\")\n",
    ").add_to(m)\n",
    "\n",
    "folium.Marker(\n",
    "    [-12.066217942194749, -77.03384686622906], \n",
    "    popup=\"<b>Estadio Nacional del Perú</b>\", \n",
    "    icon=folium.Icon(color=\"red\", icon=\"info-sign\")\n",
    ").add_to(m)\n",
    "\n",
    "folium.Marker(\n",
    "    [-12.045122784968568, -77.03049145624178], \n",
    "    popup=\"<b>Plaza Mayor de Lima</b>\", \n",
    "    icon=folium.Icon(color=\"green\")\n",
    ").add_to(m)\n",
    "\n",
    "m"
   ]
  },
  {
   "cell_type": "markdown",
   "id": "4facb1ad-a425-4c6c-84a3-4859ca484564",
   "metadata": {},
   "source": [
    "Circle y CircleMarker de Leaflet, implementados para reflejar radios en unidades de metros y píxeles respectivamente."
   ]
  },
  {
   "cell_type": "markdown",
   "id": "fdc47fff-80a1-4860-a77e-692cc07f68a8",
   "metadata": {},
   "source": [
    "#### Ejemplo \n",
    "Usando otras opciones de marcadores:\n",
    "    \n",
    "**Lugar:** Estación central del Metropolitano\n",
    "<br>\n",
    "**Tipo:**  Circle\n",
    "<br>\n",
    "**Radio:** 100 metros\n",
    "<br>\n",
    "**Color:** Rojo\n",
    "<br>\n",
    "**Nota:** Sin relleno \n",
    "\n",
    "**Lugar:** Estadio Nacional del Perú \n",
    "<br>\n",
    "**Tipo:**  CircleMarker\n",
    "<br>\n",
    "**Radio:** 50 pixeles\n",
    "<br>\n",
    "**Color:** #3186cc\n",
    "<br>\n",
    "**Nota:** Con relleno de color #3186cc"
   ]
  },
  {
   "cell_type": "code",
   "execution_count": null,
   "id": "a0a3e09a-c8e3-46f1-a331-81a03ff2e24e",
   "metadata": {},
   "outputs": [],
   "source": [
    "m = folium.Map(location=[-12.057682488392295, -77.03595301780895],\n",
    "               zoom_start=14, \n",
    "               tiles=\"Stamen Terrain\")\n",
    "\n",
    "folium.Circle(\n",
    "    radius=100, # En metros\n",
    "    location=[-12.057682488392295, -77.03595301780895],\n",
    "    popup=\"Estación central del Metropolitano\",\n",
    "    color=\"red\",\n",
    "    fill=False\n",
    ").add_to(m)\n",
    "\n",
    "folium.CircleMarker(\n",
    "    location=[-12.066217942194749, -77.03384686622906],\n",
    "    radius=50, # En pixeles\n",
    "    popup=\"Estadio Nacional del Perú\",\n",
    "    color=\"#3186cc\",\n",
    "    fill=True,\n",
    "    fill_color=\"#3186cc\"\n",
    ").add_to(m)\n",
    "\n",
    "\n",
    "m"
   ]
  },
  {
   "cell_type": "markdown",
   "id": "75f3133f-5566-460e-8a17-a1230c441294",
   "metadata": {},
   "source": [
    "#### Ejemplo \n",
    "Muestre longitud/latitud en el mapa. \n",
    "Esto puede ayudar a los usuarios a encontrar una ubicación navegando interactivamente por el mapa."
   ]
  },
  {
   "cell_type": "code",
   "execution_count": null,
   "id": "df29f178-2e92-436e-962f-3757eacf5017",
   "metadata": {},
   "outputs": [],
   "source": [
    "m = folium.Map(location=[-12.057682488392295, -77.03595301780895], \n",
    "               zoom_start=14,\n",
    "               tiles=\"Stamen Terrain\"\n",
    "               )\n",
    "\n",
    "m.add_child(folium.LatLngPopup())\n",
    "\n",
    "m"
   ]
  },
  {
   "cell_type": "markdown",
   "id": "cb05ee05-1396-42ae-9d0d-d4d7a9989d99",
   "metadata": {},
   "source": [
    "#### Ejemplo \n",
    "Permita que cada vez que se haga clic se agrege un marcador que tenga el popup \"Importante Visitar\"\n",
    "\n",
    "Es decir, habilite la funcionalidad de hacer clic para marcar para la colocación de marcadores sobre la marcha. "
   ]
  },
  {
   "cell_type": "code",
   "execution_count": null,
   "id": "42a63c2a-e639-482d-b595-6d64eee36a9a",
   "metadata": {},
   "outputs": [],
   "source": [
    "m = folium.Map(location=[-12.057682488392295, -77.03595301780895], \n",
    "               zoom_start=14,\n",
    "               tiles=\"Stamen Terrain\"\n",
    "               )\n",
    "\n",
    "folium.Marker([-12.066217942194749, -77.03384686622906], popup=\"Estadio Nacional del Perú\").add_to(m)\n",
    "\n",
    "m.add_child(folium.ClickForMarker(popup=\"Importante Visitar\"))\n",
    "\n",
    "\n",
    "m"
   ]
  },
  {
   "cell_type": "markdown",
   "id": "8b24d12c-f606-4a7a-835e-683d60e4e074",
   "metadata": {},
   "source": [
    "## Mapas Choropleth\n",
    "\n",
    "Choropleth se puede crear fácilmente vinculando los datos entre las geometrías Pandas DataFrames/Series y Geo/TopoJSON. Los esquemas de color secuenciales de Color Brewer están integrados en la biblioteca y se pueden pasar para visualizar rápidamente diferentes combinaciones.\n",
    "\n",
    "\n",
    "Un mapa de Choropleth muestra áreas o regiones geográficas divididas que están coloreadas en relación con una variable numérica.\n",
    "\n",
    "Para construir un mapa de Choropleth, necesita 2 entradas de datos: \n",
    "\n",
    "- un conjunto de regiones geográficas y sus coordenadas limítrofes \n",
    "- un valor numérico para cada región, utilizado para el color"
   ]
  },
  {
   "cell_type": "markdown",
   "id": "f240cb70-908d-4164-9574-d3192b8b62ec",
   "metadata": {},
   "source": [
    "#### Ejemplo \n",
    "Mapa usando Folium  "
   ]
  },
  {
   "cell_type": "code",
   "execution_count": null,
   "id": "f24d8263-f956-4a56-a63f-c3a50871f3b4",
   "metadata": {},
   "outputs": [],
   "source": [
    "import pandas as pd\n",
    "\n",
    "url = (\n",
    "    \"https://raw.githubusercontent.com/python-visualization/folium/master/examples/data\"\n",
    ")\n",
    "state_geo = f\"{url}/us-states.json\"\n",
    "state_unemployment = f\"{url}/US_Unemployment_Oct2012.csv\"\n",
    "state_data = pd.read_csv(state_unemployment)\n",
    "\n",
    "m = folium.Map(location=[48, -102], zoom_start=3)\n",
    "\n",
    "\n",
    "folium.Choropleth(\n",
    "    geo_data=state_geo,\n",
    "    name=\"choropleth\",\n",
    "    data=state_data,\n",
    "    columns=[\"State\", \"Unemployment\"],\n",
    "    key_on=\"feature.id\",\n",
    "    fill_color=\"YlGn\", # Yellow to Green \n",
    "    fill_opacity=0.7,\n",
    "    line_opacity=0.2,\n",
    "    legend_name=\"Ratio de Desempleo (%)\"\n",
    ").add_to(m)\n",
    "\n",
    "folium.LayerControl().add_to(m)\n",
    "\n",
    "m\n",
    "\n",
    "# La leyenda en la parte superior derecha se genera automáticamente \n",
    "# para sus valores utilizando 6 contenedores del mismo tamaño."
   ]
  },
  {
   "cell_type": "code",
   "execution_count": null,
   "id": "b961206e-10f6-4eea-a3ad-e65c017c5c5e",
   "metadata": {},
   "outputs": [],
   "source": [
    "state_data"
   ]
  },
  {
   "cell_type": "code",
   "execution_count": null,
   "id": "6bdf1d98-6f52-4200-bb44-56d5ff6589b3",
   "metadata": {},
   "outputs": [],
   "source": [
    "state_geo"
   ]
  },
  {
   "cell_type": "code",
   "execution_count": null,
   "id": "3f6f9ff3-71c5-4d93-b4ea-a741f7e2f530",
   "metadata": {},
   "outputs": [],
   "source": [
    "help(folium.Choropleth)"
   ]
  },
  {
   "cell_type": "markdown",
   "id": "65fd63b2-ce07-4ae6-ae60-379cece67d4e",
   "metadata": {},
   "source": [
    "#### Ejemplo \n",
    "Defina el tamaño de los contenedores (bins).\n",
    "Se puede definir como lista o número"
   ]
  },
  {
   "cell_type": "code",
   "execution_count": null,
   "id": "89971815-0fa0-45a0-a1d6-814f9e604345",
   "metadata": {},
   "outputs": [],
   "source": [
    "state_geo"
   ]
  },
  {
   "cell_type": "code",
   "execution_count": null,
   "id": "9fcaf79d-75ef-48e7-b1d3-ada737ccc82c",
   "metadata": {},
   "outputs": [],
   "source": [
    "state_data"
   ]
  },
  {
   "cell_type": "code",
   "execution_count": null,
   "id": "bc853979-0d68-4960-9bd7-84b63a682980",
   "metadata": {},
   "outputs": [],
   "source": [
    "# Definiendo bins como una lista \n",
    "bins = list(state_data[\"Unemployment\"].quantile([0, 0.25, 0.5, 0.75, 1]))\n",
    "\n",
    "m = folium.Map(location=[48, -102], zoom_start=3)\n",
    "\n",
    "folium.Choropleth(\n",
    "    geo_data=state_geo,\n",
    "    data=state_data,\n",
    "    columns=[\"State\", \"Unemployment\"],\n",
    "    key_on=\"feature.id\",\n",
    "    fill_color=\"BuPu\",\n",
    "    fill_opacity=0.7,\n",
    "    line_opacity=0.5,\n",
    "    legend_name=\"Ratio de Desempleo (%)\",\n",
    "    bins=bins,\n",
    "    reset=True,\n",
    ").add_to(m)\n",
    "\n",
    "m"
   ]
  },
  {
   "cell_type": "code",
   "execution_count": null,
   "id": "537a7857-172b-4452-bb3a-4fd2496a8b55",
   "metadata": {},
   "outputs": [],
   "source": [
    "# Definiendo bins como un número \n",
    "bins = 5\n",
    "\n",
    "m = folium.Map(location=[48, -102], zoom_start=3)\n",
    "\n",
    "folium.Choropleth(\n",
    "    geo_data=state_geo,\n",
    "    data=state_data,\n",
    "    columns=[\"State\", \"Unemployment\"],\n",
    "    key_on=\"feature.id\",\n",
    "    fill_color=\"BuPu\",\n",
    "    fill_opacity=0.7,\n",
    "    line_opacity=0.5,\n",
    "    legend_name=\"Ratio de Desempleo (%)\",\n",
    "    bins=bins,\n",
    "    reset=True\n",
    ").add_to(m)\n",
    "\n",
    "m"
   ]
  },
  {
   "cell_type": "markdown",
   "id": "4b60f830-5812-4164-8c0c-2ae86f52e5d7",
   "metadata": {},
   "source": [
    "Al vincular datos a través de Pandas DataFrame, se pueden visualizar rápidamente diferentes conjuntos de datos."
   ]
  },
  {
   "cell_type": "markdown",
   "id": "8691dfe2-26fe-4266-a284-2f31a603e0b9",
   "metadata": {},
   "source": [
    "## BONUS: Plotly para mapas de Choropleth interactivos"
   ]
  },
  {
   "cell_type": "code",
   "execution_count": null,
   "id": "3970f191-22ee-4bf4-8582-2213d7f85fba",
   "metadata": {},
   "outputs": [],
   "source": [
    "# Importando librerias \n",
    "import pandas as pd\n",
    "import matplotlib.pyplot as plt\n",
    "\n",
    "# Importando datos\n",
    "df = pd.read_csv(\"data/fips-unemp-16.csv\",\n",
    "                   dtype={\"fips\": str})\n",
    "df.head()"
   ]
  },
  {
   "cell_type": "code",
   "execution_count": null,
   "id": "3ffed808-5c1f-4ccb-87a1-bb2c092bfc6a",
   "metadata": {},
   "outputs": [],
   "source": [
    "# Comprueba la distribución de la variable con seaborn\n",
    "import seaborn as sns\n",
    "sns.set(style=\"darkgrid\")\n",
    "sns.histplot(data=df, x=\"unemp\")\n",
    "plt.show()"
   ]
  },
  {
   "cell_type": "markdown",
   "id": "aaaa1e5b-4c50-4c2c-a9bb-f1d5f44bc521",
   "metadata": {},
   "source": [
    "#### Ejemplo \n",
    "Genere un mapa usando Plotly usando unemp (ratio de desempleo) para cada fips (código para identificar una región)"
   ]
  },
  {
   "cell_type": "code",
   "execution_count": null,
   "id": "afcb6b45-e46a-44cf-a7db-aafc7d4302c0",
   "metadata": {},
   "outputs": [],
   "source": [
    "# Cargue las coordenadas del límite\n",
    "from urllib.request import urlopen\n",
    "import json\n",
    "with urlopen('https://raw.githubusercontent.com/plotly/datasets/master/geojson-counties-fips.json') as response:\n",
    "    counties = json.load(response)\n",
    "\n",
    "# Construyendo el choropleth\n",
    "import plotly.express as px\n",
    "fig = px.choropleth(df, \n",
    "    geojson=counties, \n",
    "    locations='fips', \n",
    "    color='unemp',\n",
    "    color_continuous_scale=\"Viridis\",\n",
    "    range_color=(0, 12),\n",
    "    scope=\"usa\",\n",
    "    labels={'unemp':'Ratio de Desempleo (%)'}\n",
    ")\n",
    "\n",
    "fig.show()"
   ]
  },
  {
   "cell_type": "code",
   "execution_count": null,
   "id": "5f1f7afd-c9ec-4b25-96a7-dd525cb7bc57",
   "metadata": {},
   "outputs": [],
   "source": [
    "fig.update_layout(margin={\"r\":0,\"t\":0,\"l\":0,\"b\":0}) # right, top, left, bottom \n",
    "\n",
    "fig.show()"
   ]
  },
  {
   "cell_type": "markdown",
   "id": "1395c53a-d749-4256-a307-35fd0928124a",
   "metadata": {},
   "source": [
    "## Documentación y referencias:\n",
    "    \n",
    "https://python-visualization.github.io/folium/quickstart.html#Getting-Started\n",
    "\n",
    "https://www.python-graph-gallery.com/choropleth-map-plotly-python"
   ]
  }
 ],
 "metadata": {
  "kernelspec": {
   "display_name": "Python 3 (ipykernel)",
   "language": "python",
   "name": "python3"
  },
  "language_info": {
   "codemirror_mode": {
    "name": "ipython",
    "version": 3
   },
   "file_extension": ".py",
   "mimetype": "text/x-python",
   "name": "python",
   "nbconvert_exporter": "python",
   "pygments_lexer": "ipython3",
   "version": "3.10.4"
  }
 },
 "nbformat": 4,
 "nbformat_minor": 5
}
